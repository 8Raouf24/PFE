{
  "nbformat": 4,
  "nbformat_minor": 0,
  "metadata": {
    "colab": {
      "name": "benchmarkRS",
      "provenance": [],
      "collapsed_sections": [],
      "include_colab_link": true
    },
    "kernelspec": {
      "name": "python3",
      "display_name": "Python 3"
    }
  },
  "cells": [
    {
      "cell_type": "markdown",
      "metadata": {
        "id": "view-in-github",
        "colab_type": "text"
      },
      "source": [
        "<a href=\"https://colab.research.google.com/github/8Raouf24/PFE/blob/master/benchmarkRS.ipynb\" target=\"_parent\"><img src=\"https://colab.research.google.com/assets/colab-badge.svg\" alt=\"Open In Colab\"/></a>"
      ]
    },
    {
      "cell_type": "code",
      "metadata": {
        "id": "7FCCmNq3mQYW",
        "colab_type": "code",
        "colab": {
          "base_uri": "https://localhost:8080/",
          "height": 289
        },
        "outputId": "9908eeab-7579-4c02-9ba9-00474f40c2ba"
      },
      "source": [
        "!pip install surprise"
      ],
      "execution_count": 2,
      "outputs": [
        {
          "output_type": "stream",
          "text": [
            "Collecting surprise\n",
            "  Downloading https://files.pythonhosted.org/packages/61/de/e5cba8682201fcf9c3719a6fdda95693468ed061945493dea2dd37c5618b/surprise-0.1-py2.py3-none-any.whl\n",
            "Collecting scikit-surprise\n",
            "\u001b[?25l  Downloading https://files.pythonhosted.org/packages/97/37/5d334adaf5ddd65da99fc65f6507e0e4599d092ba048f4302fe8775619e8/scikit-surprise-1.1.1.tar.gz (11.8MB)\n",
            "\u001b[K     |████████████████████████████████| 11.8MB 346kB/s \n",
            "\u001b[?25hRequirement already satisfied: joblib>=0.11 in /usr/local/lib/python3.6/dist-packages (from scikit-surprise->surprise) (0.16.0)\n",
            "Requirement already satisfied: numpy>=1.11.2 in /usr/local/lib/python3.6/dist-packages (from scikit-surprise->surprise) (1.18.5)\n",
            "Requirement already satisfied: scipy>=1.0.0 in /usr/local/lib/python3.6/dist-packages (from scikit-surprise->surprise) (1.4.1)\n",
            "Requirement already satisfied: six>=1.10.0 in /usr/local/lib/python3.6/dist-packages (from scikit-surprise->surprise) (1.15.0)\n",
            "Building wheels for collected packages: scikit-surprise\n",
            "  Building wheel for scikit-surprise (setup.py) ... \u001b[?25l\u001b[?25hdone\n",
            "  Created wheel for scikit-surprise: filename=scikit_surprise-1.1.1-cp36-cp36m-linux_x86_64.whl size=1670932 sha256=791b7c8e7583bf5a375228682729c27e32a30455b8957e27a9bfdb71b99ca72a\n",
            "  Stored in directory: /root/.cache/pip/wheels/78/9c/3d/41b419c9d2aff5b6e2b4c0fc8d25c538202834058f9ed110d0\n",
            "Successfully built scikit-surprise\n",
            "Installing collected packages: scikit-surprise, surprise\n",
            "Successfully installed scikit-surprise-1.1.1 surprise-0.1\n"
          ],
          "name": "stdout"
        }
      ]
    },
    {
      "cell_type": "code",
      "metadata": {
        "id": "f5NDXrN2CtH7",
        "colab_type": "code",
        "colab": {}
      },
      "source": [
        "import os\n",
        "import json\n",
        "import gzip\n",
        "import pandas as pd\n",
        "from urllib.request import urlopen\n",
        "from surprise import BaselineOnly\n",
        "from surprise import Dataset\n",
        "from surprise import Reader\n",
        "from surprise import NormalPredictor,SVD\n",
        "\n",
        "from surprise.model_selection import cross_validate"
      ],
      "execution_count": 18,
      "outputs": []
    },
    {
      "cell_type": "markdown",
      "metadata": {
        "id": "fhO3jGbfpujQ",
        "colab_type": "text"
      },
      "source": [
        "D'abord , nous récupérons notre dataset grace a la commande wget"
      ]
    },
    {
      "cell_type": "code",
      "metadata": {
        "id": "feWoOrmt4Tja",
        "colab_type": "code",
        "colab": {
          "base_uri": "https://localhost:8080/",
          "height": 204
        },
        "outputId": "c2b0b4ea-76c3-4c7f-d05e-cda919645273"
      },
      "source": [
        "!wget http://deepyeti.ucsd.edu/jianmo/amazon/categoryFilesSmall/Musical_Instruments_5.json.gz"
      ],
      "execution_count": 7,
      "outputs": [
        {
          "output_type": "stream",
          "text": [
            "--2020-07-25 17:26:50--  http://deepyeti.ucsd.edu/jianmo/amazon/categoryFilesSmall/Musical_Instruments_5.json.gz\n",
            "Resolving deepyeti.ucsd.edu (deepyeti.ucsd.edu)... 169.228.63.50\n",
            "Connecting to deepyeti.ucsd.edu (deepyeti.ucsd.edu)|169.228.63.50|:80... connected.\n",
            "HTTP request sent, awaiting response... 200 OK\n",
            "Length: 39356138 (38M) [application/octet-stream]\n",
            "Saving to: ‘Musical_Instruments_5.json.gz’\n",
            "\n",
            "Musical_Instruments 100%[===================>]  37.53M  28.1MB/s    in 1.3s    \n",
            "\n",
            "2020-07-25 17:26:52 (28.1 MB/s) - ‘Musical_Instruments_5.json.gz’ saved [39356138/39356138]\n",
            "\n"
          ],
          "name": "stdout"
        }
      ]
    },
    {
      "cell_type": "markdown",
      "metadata": {
        "id": "Kf5wRUpEpsbB",
        "colab_type": "text"
      },
      "source": [
        "Nous pouvons manipuler les données sous forme de générateur , que nous utiliserons pour remplir un dictionnaire ( les données sont sous format .json)\n"
      ]
    },
    {
      "cell_type": "code",
      "metadata": {
        "id": "7igYuRaV4bF7",
        "colab_type": "code",
        "colab": {
          "base_uri": "https://localhost:8080/",
          "height": 71
        },
        "outputId": "1ec55623-62c0-44a3-9fa5-68316f502a8f"
      },
      "source": [
        "### load the meta data\n",
        "\n",
        "data = []\n",
        "with gzip.open('Musical_Instruments_5.json.gz') as f:\n",
        "    for l in f:\n",
        "        data.append(json.loads(l.strip()))\n",
        "    \n",
        "# total length of list, this number equals total number of products\n",
        "print(len(data))\n",
        "\n",
        "# first row of the list\n",
        "print(data[0])"
      ],
      "execution_count": 8,
      "outputs": [
        {
          "output_type": "stream",
          "text": [
            "231392\n",
            "{'overall': 5.0, 'verified': True, 'reviewTime': '10 30, 2016', 'reviewerID': 'A3FO5AKVTFRCRJ', 'asin': '0739079891', 'reviewerName': 'francisco', 'reviewText': \"It's good for beginners\", 'summary': 'Five Stars', 'unixReviewTime': 1477785600}\n"
          ],
          "name": "stdout"
        }
      ]
    },
    {
      "cell_type": "markdown",
      "metadata": {
        "id": "0XgP9V-7qOrQ",
        "colab_type": "text"
      },
      "source": [
        "Notre pré-traitement consiste a récolter seulement les colonnes de notre DataFrame qui nous serviront a la recommandation , c-à-d les items , les users , et les ratings"
      ]
    },
    {
      "cell_type": "code",
      "metadata": {
        "id": "knpHP22w4scK",
        "colab_type": "code",
        "colab": {
          "base_uri": "https://localhost:8080/",
          "height": 255
        },
        "outputId": "972492cc-e9d7-4be4-e220-b3554c01d5cb"
      },
      "source": [
        "# we create a new data frame containing the required informations for our benchmark\n",
        "\n",
        "df = pd.DataFrame.from_dict(data)\n",
        "min_rating = 1.0\n",
        "max_rating = 5.0\n",
        "data_dict = {'userID':df['reviewerID'],'itemID':df['asin'],'rating':df['overall'].apply(lambda x: (x - min_rating) / (max_rating - min_rating))}\n",
        "df_rs = pd.DataFrame.from_dict(data_dict)\n",
        "\n",
        "\n",
        "\n",
        "print(df_rs.info)"
      ],
      "execution_count": 13,
      "outputs": [
        {
          "output_type": "stream",
          "text": [
            "<bound method DataFrame.info of                 userID      itemID  rating\n",
            "0       A3FO5AKVTFRCRJ  0739079891    1.00\n",
            "1       A3UCGC1DHFMBCE  0739079891    1.00\n",
            "2       A2S9SLRYLPGYZB  0739079891    1.00\n",
            "3       A15RTJWPG8OKOE  0739079891    0.75\n",
            "4       A12ET1WO3OAVU7  0739079891    0.00\n",
            "...                ...         ...     ...\n",
            "231387  A2GLR2Q3M1PC7P  B01HIDOPP2    1.00\n",
            "231388  A3S1LSTRW57BP9  B01HIDOPP2    1.00\n",
            "231389  A2BNWRRADDBSVO  B01HIDOPP2    0.75\n",
            "231390  A1KRL5ZRON6DPT  B01HIDOPP2    0.00\n",
            "231391  A3QN3W0PJ1DXIT  B01HIDOPP2    1.00\n",
            "\n",
            "[231392 rows x 3 columns]>\n"
          ],
          "name": "stdout"
        }
      ]
    },
    {
      "cell_type": "code",
      "metadata": {
        "id": "LgWrDtZ94w89",
        "colab_type": "code",
        "colab": {}
      },
      "source": [
        "reader = Reader(rating_scale=(0, 1))\n",
        "data = Dataset.load_from_df(df_rs, reader)\n"
      ],
      "execution_count": 14,
      "outputs": []
    },
    {
      "cell_type": "markdown",
      "metadata": {
        "id": "Sz5vbqjdqo_Z",
        "colab_type": "text"
      },
      "source": [
        "Nous effectuons notre cross-validation"
      ]
    },
    {
      "cell_type": "code",
      "metadata": {
        "id": "7Vq32rQd5D9W",
        "colab_type": "code",
        "colab": {
          "base_uri": "https://localhost:8080/",
          "height": 54
        },
        "outputId": "6ba5a98b-3863-4a00-af82-46e6af4ac56c"
      },
      "source": [
        "dic_results = cross_validate(SVD(), data, cv=5)\n",
        "print(dic_results)"
      ],
      "execution_count": 20,
      "outputs": [
        {
          "output_type": "stream",
          "text": [
            "{'test_rmse': array([0.23916506, 0.23614123, 0.23593652, 0.23845521, 0.2376587 ]), 'test_mae': array([0.16501468, 0.16344699, 0.16328885, 0.16419601, 0.16355954]), 'fit_time': (12.309168100357056, 12.350298881530762, 12.432934045791626, 12.397401809692383, 12.321861267089844), 'test_time': (0.41034364700317383, 0.5963470935821533, 0.580794095993042, 0.4003767967224121, 0.5956194400787354)}\n"
          ],
          "name": "stdout"
        }
      ]
    },
    {
      "cell_type": "code",
      "metadata": {
        "id": "6LBLzsFU5LJ_",
        "colab_type": "code",
        "colab": {
          "base_uri": "https://localhost:8080/",
          "height": 34
        },
        "outputId": "78cb8933-b1f2-43c2-9523-3b5908190507"
      },
      "source": [
        "dic_results['test_rmse'].mean()"
      ],
      "execution_count": 21,
      "outputs": [
        {
          "output_type": "execute_result",
          "data": {
            "text/plain": [
              "0.23747134256158828"
            ]
          },
          "metadata": {
            "tags": []
          },
          "execution_count": 21
        }
      ]
    },
    {
      "cell_type": "code",
      "metadata": {
        "id": "pV8BLK43AoPt",
        "colab_type": "code",
        "colab": {}
      },
      "source": [
        ""
      ],
      "execution_count": null,
      "outputs": []
    }
  ]
}