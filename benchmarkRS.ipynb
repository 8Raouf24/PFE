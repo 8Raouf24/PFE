{
  "nbformat": 4,
  "nbformat_minor": 0,
  "metadata": {
    "colab": {
      "name": "benchmarkRS",
      "provenance": [],
      "collapsed_sections": [],
      "include_colab_link": true
    },
    "kernelspec": {
      "name": "python3",
      "display_name": "Python 3"
    }
  },
  "cells": [
    {
      "cell_type": "markdown",
      "metadata": {
        "id": "view-in-github",
        "colab_type": "text"
      },
      "source": [
        "<a href=\"https://colab.research.google.com/github/8Raouf24/PFE/blob/master/benchmarkRS.ipynb\" target=\"_parent\"><img src=\"https://colab.research.google.com/assets/colab-badge.svg\" alt=\"Open In Colab\"/></a>"
      ]
    },
    {
      "cell_type": "code",
      "metadata": {
        "id": "7FCCmNq3mQYW",
        "colab_type": "code",
        "colab": {
          "base_uri": "https://localhost:8080/",
          "height": 118
        },
        "outputId": "4a4716d5-c19c-4c00-921b-9e170e3672db"
      },
      "source": [
        "!pip install surprise"
      ],
      "execution_count": 11,
      "outputs": [
        {
          "output_type": "stream",
          "text": [
            "Requirement already satisfied: surprise in /usr/local/lib/python3.6/dist-packages (0.1)\n",
            "Requirement already satisfied: scikit-surprise in /usr/local/lib/python3.6/dist-packages (from surprise) (1.1.1)\n",
            "Requirement already satisfied: six>=1.10.0 in /usr/local/lib/python3.6/dist-packages (from scikit-surprise->surprise) (1.15.0)\n",
            "Requirement already satisfied: joblib>=0.11 in /usr/local/lib/python3.6/dist-packages (from scikit-surprise->surprise) (0.16.0)\n",
            "Requirement already satisfied: scipy>=1.0.0 in /usr/local/lib/python3.6/dist-packages (from scikit-surprise->surprise) (1.4.1)\n",
            "Requirement already satisfied: numpy>=1.11.2 in /usr/local/lib/python3.6/dist-packages (from scikit-surprise->surprise) (1.18.5)\n"
          ],
          "name": "stdout"
        }
      ]
    },
    {
      "cell_type": "code",
      "metadata": {
        "id": "f5NDXrN2CtH7",
        "colab_type": "code",
        "colab": {}
      },
      "source": [
        "import os\n",
        "import json\n",
        "import gzip\n",
        "import pandas as pd\n",
        "from urllib.request import urlopen\n",
        "from surprise import BaselineOnly\n",
        "from surprise import Dataset\n",
        "from surprise import Reader\n",
        "from surprise import SVD,SVDpp,NMF\n",
        "\n",
        "from surprise.model_selection import cross_validate"
      ],
      "execution_count": 75,
      "outputs": []
    },
    {
      "cell_type": "markdown",
      "metadata": {
        "id": "fhO3jGbfpujQ",
        "colab_type": "text"
      },
      "source": [
        "D'abord , nous récupérons notre dataset grace a la commande wget"
      ]
    },
    {
      "cell_type": "code",
      "metadata": {
        "id": "feWoOrmt4Tja",
        "colab_type": "code",
        "colab": {
          "base_uri": "https://localhost:8080/",
          "height": 202
        },
        "outputId": "dcdd2161-0ea6-42d1-dfc6-0e2922ecb76a"
      },
      "source": [
        "!wget http://deepyeti.ucsd.edu/jianmo/amazon/categoryFilesSmall/Musical_Instruments_5.json.gz"
      ],
      "execution_count": 13,
      "outputs": [
        {
          "output_type": "stream",
          "text": [
            "--2020-08-12 19:19:18--  http://deepyeti.ucsd.edu/jianmo/amazon/categoryFilesSmall/Musical_Instruments_5.json.gz\n",
            "Resolving deepyeti.ucsd.edu (deepyeti.ucsd.edu)... 169.228.63.50\n",
            "Connecting to deepyeti.ucsd.edu (deepyeti.ucsd.edu)|169.228.63.50|:80... connected.\n",
            "HTTP request sent, awaiting response... 200 OK\n",
            "Length: 39356138 (38M) [application/octet-stream]\n",
            "Saving to: ‘Musical_Instruments_5.json.gz.1’\n",
            "\n",
            "Musical_Instruments 100%[===================>]  37.53M  13.6MB/s    in 2.8s    \n",
            "\n",
            "2020-08-12 19:19:21 (13.6 MB/s) - ‘Musical_Instruments_5.json.gz.1’ saved [39356138/39356138]\n",
            "\n"
          ],
          "name": "stdout"
        }
      ]
    },
    {
      "cell_type": "markdown",
      "metadata": {
        "id": "Kf5wRUpEpsbB",
        "colab_type": "text"
      },
      "source": [
        "Nous pouvons manipuler les données sous forme de générateur , que nous utiliserons pour remplir un dictionnaire ( les données sont sous format .json)\n"
      ]
    },
    {
      "cell_type": "code",
      "metadata": {
        "id": "7igYuRaV4bF7",
        "colab_type": "code",
        "colab": {
          "base_uri": "https://localhost:8080/",
          "height": 70
        },
        "outputId": "84c7d3af-c25e-4b73-a9a1-8c131f0d3a35"
      },
      "source": [
        "### load the meta data\n",
        "\n",
        "data = []\n",
        "with gzip.open('Musical_Instruments_5.json.gz') as f:\n",
        "    for l in f:\n",
        "        data.append(json.loads(l.strip()))\n",
        "    \n",
        "# total length of list, this number equals total number of products\n",
        "print(len(data))\n",
        "\n",
        "# first row of the list\n",
        "print(data[0])"
      ],
      "execution_count": 25,
      "outputs": [
        {
          "output_type": "stream",
          "text": [
            "231392\n",
            "{'overall': 5.0, 'verified': True, 'reviewTime': '10 30, 2016', 'reviewerID': 'A3FO5AKVTFRCRJ', 'asin': '0739079891', 'reviewerName': 'francisco', 'reviewText': \"It's good for beginners\", 'summary': 'Five Stars', 'unixReviewTime': 1477785600}\n"
          ],
          "name": "stdout"
        }
      ]
    },
    {
      "cell_type": "markdown",
      "metadata": {
        "id": "0XgP9V-7qOrQ",
        "colab_type": "text"
      },
      "source": [
        "Notre pré-traitement consiste a récolter seulement les colonnes de notre DataFrame qui nous serviront a la recommandation , c-à-d les items , les users , et les ratings"
      ]
    },
    {
      "cell_type": "code",
      "metadata": {
        "id": "knpHP22w4scK",
        "colab_type": "code",
        "colab": {
          "base_uri": "https://localhost:8080/",
          "height": 252
        },
        "outputId": "21873437-96ef-4cd9-c54e-6cceeadd41ce"
      },
      "source": [
        "# we create a new data frame containing the required informations for our benchmark\n",
        "\n",
        "df = pd.DataFrame.from_dict(data)\n",
        "min_rating = 1.0\n",
        "max_rating = 5.0\n",
        "data_dict = {'userID':df['reviewerID'],'itemID':df['asin'],'rating':df['overall']}\n",
        "df_rs = pd.DataFrame.from_dict(data_dict)\n",
        "\n",
        "\n",
        "\n",
        "print(df_rs.info)"
      ],
      "execution_count": 26,
      "outputs": [
        {
          "output_type": "stream",
          "text": [
            "<bound method DataFrame.info of                 userID      itemID  rating\n",
            "0       A3FO5AKVTFRCRJ  0739079891     5.0\n",
            "1       A3UCGC1DHFMBCE  0739079891     5.0\n",
            "2       A2S9SLRYLPGYZB  0739079891     5.0\n",
            "3       A15RTJWPG8OKOE  0739079891     4.0\n",
            "4       A12ET1WO3OAVU7  0739079891     1.0\n",
            "...                ...         ...     ...\n",
            "231387  A2GLR2Q3M1PC7P  B01HIDOPP2     5.0\n",
            "231388  A3S1LSTRW57BP9  B01HIDOPP2     5.0\n",
            "231389  A2BNWRRADDBSVO  B01HIDOPP2     4.0\n",
            "231390  A1KRL5ZRON6DPT  B01HIDOPP2     1.0\n",
            "231391  A3QN3W0PJ1DXIT  B01HIDOPP2     5.0\n",
            "\n",
            "[231392 rows x 3 columns]>\n"
          ],
          "name": "stdout"
        }
      ]
    },
    {
      "cell_type": "markdown",
      "metadata": {
        "id": "-SlFbKJjpgM_",
        "colab_type": "text"
      },
      "source": [
        "Nous préparons notre reader et nous chargeons notre data frame sous un format \"Dataset\" pour l'utilisation de surprise"
      ]
    },
    {
      "cell_type": "code",
      "metadata": {
        "id": "LgWrDtZ94w89",
        "colab_type": "code",
        "colab": {}
      },
      "source": [
        "reader = Reader(rating_scale=(0, 5))\n",
        "data = Dataset.load_from_df(df_rs, reader)"
      ],
      "execution_count": 20,
      "outputs": []
    },
    {
      "cell_type": "markdown",
      "metadata": {
        "id": "yGsTmkDVpqBH",
        "colab_type": "text"
      },
      "source": [
        "Préparation du training set"
      ]
    },
    {
      "cell_type": "code",
      "metadata": {
        "id": "5f56wgVfdqK3",
        "colab_type": "code",
        "colab": {}
      },
      "source": [
        "train=df_rs.sample(frac=0.8,random_state=200) #random state is a seed value\n",
        "data = Dataset.load_from_df(train, reader)\n",
        "trainset = data.build_full_trainset()"
      ],
      "execution_count": 66,
      "outputs": []
    },
    {
      "cell_type": "code",
      "metadata": {
        "id": "q3cshJkGjDjj",
        "colab_type": "code",
        "colab": {}
      },
      "source": [
        "import numpy as np\n",
        "from sklearn.metrics import mean_squared_error "
      ],
      "execution_count": 56,
      "outputs": []
    },
    {
      "cell_type": "markdown",
      "metadata": {
        "id": "1bQXGpgoqARo",
        "colab_type": "text"
      },
      "source": [
        "\n",
        "\n",
        "1.   Algorithme SVD\n",
        "\n",
        "\n"
      ]
    },
    {
      "cell_type": "code",
      "metadata": {
        "id": "pV8BLK43AoPt",
        "colab_type": "code",
        "colab": {
          "base_uri": "https://localhost:8080/",
          "height": 34
        },
        "outputId": "7b60b0eb-e943-44aa-e9d8-6acdd9e9c392"
      },
      "source": [
        "S = SVD()\n",
        "S.fit(trainset)"
      ],
      "execution_count": 42,
      "outputs": [
        {
          "output_type": "execute_result",
          "data": {
            "text/plain": [
              "<surprise.prediction_algorithms.matrix_factorization.SVD at 0x7f404727e860>"
            ]
          },
          "metadata": {
            "tags": []
          },
          "execution_count": 42
        }
      ]
    },
    {
      "cell_type": "markdown",
      "metadata": {
        "id": "PH8ZSIILkF9n",
        "colab_type": "text"
      },
      "source": [
        "**Train**"
      ]
    },
    {
      "cell_type": "code",
      "metadata": {
        "id": "Qq9OlTf-PARk",
        "colab_type": "code",
        "colab": {
          "base_uri": "https://localhost:8080/",
          "height": 34
        },
        "outputId": "566d0de6-439c-432b-c4a7-713b480586e5"
      },
      "source": [
        "list_result=[]\n",
        "for i,u in zip(train['userID'],train['itemID']):\n",
        "  result = S.predict(u,i)\n",
        "  list_result.append(result[3])\n",
        "list_result = np.array(list_result)\n",
        "tr_result = np.array(train['rating'])\n",
        "mean_squared_error(tr_result,list_result)\n",
        "\n"
      ],
      "execution_count": 74,
      "outputs": [
        {
          "output_type": "execute_result",
          "data": {
            "text/plain": [
              "0.9642320880165741"
            ]
          },
          "metadata": {
            "tags": []
          },
          "execution_count": 74
        }
      ]
    },
    {
      "cell_type": "markdown",
      "metadata": {
        "id": "BKtl8B16kI0x",
        "colab_type": "text"
      },
      "source": [
        "Test"
      ]
    },
    {
      "cell_type": "code",
      "metadata": {
        "id": "MJNYI0ZNj_CR",
        "colab_type": "code",
        "colab": {
          "base_uri": "https://localhost:8080/",
          "height": 34
        },
        "outputId": "ceef3bf6-0e6a-4163-c42c-057bbe280fed"
      },
      "source": [
        "import math\n",
        "list_result=[]\n",
        "for i,u in zip(test['userID'],test['itemID']):\n",
        "  result = S.predict(u,i)\n",
        "  list_result.append(result[3])\n",
        "list_result = np.array(list_result)\n",
        "tr_result = np.array(test['rating'])\n",
        "mean_squared_error(tr_result,list_result)\n",
        "\n"
      ],
      "execution_count": 73,
      "outputs": [
        {
          "output_type": "execute_result",
          "data": {
            "text/plain": [
              "0.9606097742874777"
            ]
          },
          "metadata": {
            "tags": []
          },
          "execution_count": 73
        }
      ]
    },
    {
      "cell_type": "markdown",
      "metadata": {
        "id": "rj3MtMIGq54Q",
        "colab_type": "text"
      },
      "source": [
        "\n",
        "\n",
        "2.   Algorithme SVD ++\n",
        "\n",
        "\n"
      ]
    },
    {
      "cell_type": "code",
      "metadata": {
        "id": "nZYrOsnTomPp",
        "colab_type": "code",
        "colab": {
          "base_uri": "https://localhost:8080/",
          "height": 34
        },
        "outputId": "e26d78b0-e990-4ffa-eba2-8334876b1647"
      },
      "source": [
        "Spp = SVDpp()\n",
        "Spp.fit(trainset)"
      ],
      "execution_count": 82,
      "outputs": [
        {
          "output_type": "execute_result",
          "data": {
            "text/plain": [
              "<surprise.prediction_algorithms.matrix_factorization.SVDpp at 0x7f40456ffc18>"
            ]
          },
          "metadata": {
            "tags": []
          },
          "execution_count": 82
        }
      ]
    },
    {
      "cell_type": "code",
      "metadata": {
        "id": "JinWKn2UqaHQ",
        "colab_type": "code",
        "colab": {
          "base_uri": "https://localhost:8080/",
          "height": 34
        },
        "outputId": "93e1338e-f25a-43e6-ea5e-8d3ae53d5775"
      },
      "source": [
        "list_result=[]\n",
        "for i,u in zip(train['userID'],train['itemID']):\n",
        "  result = Spp.predict(u,i)\n",
        "  list_result.append(result[3])\n",
        "list_result = np.array(list_result)\n",
        "tr_result = np.array(train['rating'])\n",
        "mean_squared_error(tr_result,list_result)\n"
      ],
      "execution_count": 87,
      "outputs": [
        {
          "output_type": "execute_result",
          "data": {
            "text/plain": [
              "0.9642320880165741"
            ]
          },
          "metadata": {
            "tags": []
          },
          "execution_count": 87
        }
      ]
    },
    {
      "cell_type": "code",
      "metadata": {
        "id": "aEW3HDppqbUN",
        "colab_type": "code",
        "colab": {
          "base_uri": "https://localhost:8080/",
          "height": 50
        },
        "outputId": "8e750917-37cc-416a-a8cd-f7130d7063e6"
      },
      "source": [
        "import math\n",
        "list_result=[]\n",
        "for i,u in zip(test['userID'],test['itemID']):\n",
        "  result = Spp.predict(u,i)\n",
        "  list_result.append(result[3])\n",
        "list_result = np.array(list_result)\n",
        "\n",
        "tr_result = np.array(test['rating'])\n",
        "mean_squared_error(tr_result,list_result)\n"
      ],
      "execution_count": 86,
      "outputs": [
        {
          "output_type": "stream",
          "text": [
            "[4.47081798 4.47081798 4.47081798 4.47081798 4.47081798]\n"
          ],
          "name": "stdout"
        },
        {
          "output_type": "execute_result",
          "data": {
            "text/plain": [
              "0.9606097742874777"
            ]
          },
          "metadata": {
            "tags": []
          },
          "execution_count": 86
        }
      ]
    },
    {
      "cell_type": "markdown",
      "metadata": {
        "id": "pCW3RES1rdrY",
        "colab_type": "text"
      },
      "source": [
        "\n",
        "\n",
        "3.   Algorithme NMF\n",
        "\n",
        "\n"
      ]
    },
    {
      "cell_type": "code",
      "metadata": {
        "id": "Id8FULAxqdFH",
        "colab_type": "code",
        "colab": {
          "base_uri": "https://localhost:8080/",
          "height": 34
        },
        "outputId": "c05ef87e-0305-441e-c777-9be6ffb36090"
      },
      "source": [
        "N = NMF()\n",
        "N.fit(trainset)"
      ],
      "execution_count": 79,
      "outputs": [
        {
          "output_type": "execute_result",
          "data": {
            "text/plain": [
              "<surprise.prediction_algorithms.matrix_factorization.NMF at 0x7f4045fce710>"
            ]
          },
          "metadata": {
            "tags": []
          },
          "execution_count": 79
        }
      ]
    },
    {
      "cell_type": "code",
      "metadata": {
        "id": "NPJmC57NrCI3",
        "colab_type": "code",
        "colab": {
          "base_uri": "https://localhost:8080/",
          "height": 34
        },
        "outputId": "99148348-4a21-493b-bbec-80b3f0d0fe09"
      },
      "source": [
        "list_result=[]\n",
        "for i,u in zip(train['userID'],train['itemID']):\n",
        "  result = N.predict(u,i)\n",
        "  list_result.append(result[3])\n",
        "list_result = np.array(list_result)\n",
        "tr_result = np.array(train['rating'])\n",
        "mean_squared_error(tr_result,list_result)"
      ],
      "execution_count": 80,
      "outputs": [
        {
          "output_type": "execute_result",
          "data": {
            "text/plain": [
              "0.9642320880165741"
            ]
          },
          "metadata": {
            "tags": []
          },
          "execution_count": 80
        }
      ]
    },
    {
      "cell_type": "code",
      "metadata": {
        "id": "6pGcQVMZrCc0",
        "colab_type": "code",
        "colab": {
          "base_uri": "https://localhost:8080/",
          "height": 34
        },
        "outputId": "bd9eb41c-57c7-44f3-e8f3-912d5485f1ed"
      },
      "source": [
        "import math\n",
        "list_result=[]\n",
        "for i,u in zip(test['userID'],test['itemID']):\n",
        "  result = N.predict(u,i)\n",
        "  list_result.append(result[3])\n",
        "list_result = np.array(list_result)\n",
        "tr_result = np.array(test['rating'])\n",
        "mean_squared_error(tr_result,list_result)\n"
      ],
      "execution_count": 81,
      "outputs": [
        {
          "output_type": "execute_result",
          "data": {
            "text/plain": [
              "0.9606097742874777"
            ]
          },
          "metadata": {
            "tags": []
          },
          "execution_count": 81
        }
      ]
    },
    {
      "cell_type": "code",
      "metadata": {
        "id": "u5OgpRKmrI9M",
        "colab_type": "code",
        "colab": {}
      },
      "source": [
        ""
      ],
      "execution_count": null,
      "outputs": []
    }
  ]
}