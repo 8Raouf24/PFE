{
  "nbformat": 4,
  "nbformat_minor": 0,
  "metadata": {
    "colab": {
      "name": "create_ontol.ipynb",
      "provenance": [],
      "collapsed_sections": [],
      "authorship_tag": "ABX9TyNGQPCNRlhpp9gvaAV+GZiM",
      "include_colab_link": true
    },
    "kernelspec": {
      "name": "python3",
      "display_name": "Python 3"
    }
  },
  "cells": [
    {
      "cell_type": "markdown",
      "metadata": {
        "id": "view-in-github",
        "colab_type": "text"
      },
      "source": [
        "<a href=\"https://colab.research.google.com/github/8Raouf24/PFE/blob/master/create_ontol.ipynb\" target=\"_parent\"><img src=\"https://colab.research.google.com/assets/colab-badge.svg\" alt=\"Open In Colab\"/></a>"
      ]
    },
    {
      "cell_type": "code",
      "metadata": {
        "id": "XCBjBGprOHhc",
        "colab_type": "code",
        "colab": {
          "base_uri": "https://localhost:8080/",
          "height": 187
        },
        "outputId": "ba88f620-9df4-41e2-9bfb-e1df20604a8f"
      },
      "source": [
        "!pip install owlready2"
      ],
      "execution_count": 1,
      "outputs": [
        {
          "output_type": "stream",
          "text": [
            "Collecting owlready2\n",
            "\u001b[?25l  Downloading https://files.pythonhosted.org/packages/af/1c/7e4c25d5539ac8979d633afe03d16ddb01716c6cde97ebea33a6659ea9c6/Owlready2-0.24.tar.gz (20.8MB)\n",
            "\u001b[K     |████████████████████████████████| 20.8MB 1.2MB/s \n",
            "\u001b[?25hBuilding wheels for collected packages: owlready2\n",
            "  Building wheel for owlready2 (setup.py) ... \u001b[?25l\u001b[?25hdone\n",
            "  Created wheel for owlready2: filename=Owlready2-0.24-cp36-cp36m-linux_x86_64.whl size=20263007 sha256=f821d4afa80e9038d30fd56186bf432494d89075768c2eb5845e5d0b5a2a6592\n",
            "  Stored in directory: /root/.cache/pip/wheels/66/87/0b/7a97bd19c9dc817b279aadb5dd920ce3a77050e2ab5a413f43\n",
            "Successfully built owlready2\n",
            "Installing collected packages: owlready2\n",
            "Successfully installed owlready2-0.24\n"
          ],
          "name": "stdout"
        }
      ]
    },
    {
      "cell_type": "code",
      "metadata": {
        "id": "aJmCsX4nOrPl",
        "colab_type": "code",
        "colab": {
          "base_uri": "https://localhost:8080/",
          "height": 187
        },
        "outputId": "54495883-d858-4b61-9cf7-b96c898ccc01"
      },
      "source": [
        "!pip install rdflib"
      ],
      "execution_count": 2,
      "outputs": [
        {
          "output_type": "stream",
          "text": [
            "Collecting rdflib\n",
            "\u001b[?25l  Downloading https://files.pythonhosted.org/packages/d0/6b/6454aa1db753c0f8bc265a5bd5c10b5721a4bb24160fb4faf758cf6be8a1/rdflib-5.0.0-py3-none-any.whl (231kB)\n",
            "\u001b[K     |████████████████████████████████| 235kB 2.8MB/s \n",
            "\u001b[?25hCollecting isodate\n",
            "\u001b[?25l  Downloading https://files.pythonhosted.org/packages/9b/9f/b36f7774ff5ea8e428fdcfc4bb332c39ee5b9362ddd3d40d9516a55221b2/isodate-0.6.0-py2.py3-none-any.whl (45kB)\n",
            "\u001b[K     |████████████████████████████████| 51kB 5.7MB/s \n",
            "\u001b[?25hRequirement already satisfied: six in /usr/local/lib/python3.6/dist-packages (from rdflib) (1.15.0)\n",
            "Requirement already satisfied: pyparsing in /usr/local/lib/python3.6/dist-packages (from rdflib) (2.4.7)\n",
            "Installing collected packages: isodate, rdflib\n",
            "Successfully installed isodate-0.6.0 rdflib-5.0.0\n"
          ],
          "name": "stdout"
        }
      ]
    },
    {
      "cell_type": "code",
      "metadata": {
        "id": "j-CO9XpvNuN2",
        "colab_type": "code",
        "colab": {}
      },
      "source": [
        "from owlready2 import *\n",
        "import gzip\n",
        "import json\n"
      ],
      "execution_count": 3,
      "outputs": []
    },
    {
      "cell_type": "code",
      "metadata": {
        "id": "g_toqSuYOGnR",
        "colab_type": "code",
        "colab": {}
      },
      "source": [
        "#default_world.set_backend(filename=\"file_back4.sqlite3\", exclusive=False)\n",
        "\n",
        "onto = get_ontology(\"http://www.semanticweb.org//Amazon_Ontol#\")\n",
        "with onto:\n",
        "  class Article(Thing):\n",
        "    pass\n",
        "\n",
        "  class User(Thing):\n",
        "    pass\n",
        "\n",
        "  class Category(Thing):\n",
        "    pass\n",
        "  \n",
        "  class Review(Thing):\n",
        "    pass\n",
        "\n",
        "  class Brand(Thing):\n",
        "    pass\n",
        "\n",
        "  class Main_Category(Category):\n",
        "    pass\n",
        "\n",
        "  class Other_Category(Category):\n",
        "    pass\n",
        "\n",
        "  AllDisjoint([Main_Category,Other_Category])\n",
        "\n",
        "  class asin(DataProperty,FunctionalProperty):\n",
        "    domain = [Article]\n",
        "    range = [str]\n",
        "\n",
        "  class title(DataProperty,FunctionalProperty):\n",
        "    domain = [Article]\n",
        "    range = [str]\n",
        "\n",
        "  class feature(Article >> str):\n",
        "    pass\n",
        "  \n",
        "  class description(DataProperty,FunctionalProperty):\n",
        "    domain = [Article]\n",
        "    range = [str]\n",
        "\n",
        "  class price(DataProperty,FunctionalProperty):\n",
        "    domain = [Article]\n",
        "    range = [float]\n",
        "\n",
        "  class fromCategory(Article >> Category):\n",
        "    pass\n",
        "\n",
        "  class fromBrand(Article >> Brand):\n",
        "    pass\n",
        "\n",
        "  class alsoViewed(Article >> Article):\n",
        "    pass\n",
        "\n",
        "  class alsoBought(Article >> Article):\n",
        "    pass\n",
        "\n",
        "  class reviewerID(DataProperty, FunctionalProperty):\n",
        "    domain = [User]\n",
        "    range = [str]\n",
        "\n",
        "  class vote(DataProperty,FunctionalProperty):\n",
        "    domain = [Review]\n",
        "    range = [int]\n",
        "\n",
        "  class reviewText(DataProperty,FunctionalProperty):\n",
        "    domain = [Review]\n",
        "    range = [str]\n",
        "\n",
        "\n",
        "\n",
        "  \n",
        "  "
      ],
      "execution_count": 12,
      "outputs": []
    },
    {
      "cell_type": "code",
      "metadata": {
        "id": "Y8Sie1HFAX0F",
        "colab_type": "code",
        "colab": {}
      },
      "source": [
        "onto.save(\"sortie.owl\", format=\"ntriples\")"
      ],
      "execution_count": 13,
      "outputs": []
    },
    {
      "cell_type": "code",
      "metadata": {
        "id": "sLgO8cejA0Ie",
        "colab_type": "code",
        "colab": {}
      },
      "source": [
        ""
      ],
      "execution_count": null,
      "outputs": []
    }
  ]
}