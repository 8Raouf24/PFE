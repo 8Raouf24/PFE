{
  "nbformat": 4,
  "nbformat_minor": 0,
  "metadata": {
    "colab": {
      "name": "WE.ipynb",
      "provenance": [],
      "authorship_tag": "ABX9TyM25YEOb89DLT9YlW02QCUj",
      "include_colab_link": true
    },
    "kernelspec": {
      "name": "python3",
      "display_name": "Python 3"
    }
  },
  "cells": [
    {
      "cell_type": "markdown",
      "metadata": {
        "id": "view-in-github",
        "colab_type": "text"
      },
      "source": [
        "<a href=\"https://colab.research.google.com/github/8Raouf24/PFE/blob/master/WE.ipynb\" target=\"_parent\"><img src=\"https://colab.research.google.com/assets/colab-badge.svg\" alt=\"Open In Colab\"/></a>"
      ]
    },
    {
      "cell_type": "code",
      "metadata": {
        "id": "OtZcL9Lft-kk",
        "colab_type": "code",
        "colab": {
          "base_uri": "https://localhost:8080/",
          "height": 204
        },
        "outputId": "0e6a7b20-cc6f-48df-950b-ade2cf196563"
      },
      "source": [
        "!wget http://deepyeti.ucsd.edu/jianmo/amazon/categoryFilesSmall/Musical_Instruments_5.json.gz"
      ],
      "execution_count": 26,
      "outputs": [
        {
          "output_type": "stream",
          "text": [
            "--2020-08-08 00:33:07--  http://deepyeti.ucsd.edu/jianmo/amazon/categoryFilesSmall/Musical_Instruments_5.json.gz\n",
            "Resolving deepyeti.ucsd.edu (deepyeti.ucsd.edu)... 169.228.63.50\n",
            "Connecting to deepyeti.ucsd.edu (deepyeti.ucsd.edu)|169.228.63.50|:80... connected.\n",
            "HTTP request sent, awaiting response... 200 OK\n",
            "Length: 39356138 (38M) [application/octet-stream]\n",
            "Saving to: ‘Musical_Instruments_5.json.gz.1’\n",
            "\n",
            "Musical_Instruments 100%[===================>]  37.53M  56.8MB/s    in 0.7s    \n",
            "\n",
            "2020-08-08 00:33:07 (56.8 MB/s) - ‘Musical_Instruments_5.json.gz.1’ saved [39356138/39356138]\n",
            "\n"
          ],
          "name": "stdout"
        }
      ]
    },
    {
      "cell_type": "code",
      "metadata": {
        "id": "4oN5FwML05Tf",
        "colab_type": "code",
        "colab": {}
      },
      "source": [
        "import gzip\n",
        "import json"
      ],
      "execution_count": 27,
      "outputs": []
    },
    {
      "cell_type": "code",
      "metadata": {
        "id": "YmqCfmiUzjGL",
        "colab_type": "code",
        "colab": {}
      },
      "source": [
        "def parse(path):\n",
        "    g = gzip.open(path, 'r')\n",
        "    for l in g:\n",
        "        d = json.loads(l)\n",
        "\n",
        "        yield d\n"
      ],
      "execution_count": 28,
      "outputs": []
    },
    {
      "cell_type": "code",
      "metadata": {
        "id": "XpGEgw4Q1ApG",
        "colab_type": "code",
        "colab": {}
      },
      "source": [
        "data = parse(\"Musical_Instruments_5.json.gz\")\n",
        "\n",
        "\n",
        "\n",
        "labels = []\n",
        "reviews = []\n"
      ],
      "execution_count": 45,
      "outputs": []
    },
    {
      "cell_type": "code",
      "metadata": {
        "id": "gm5Vj-86eFiu",
        "colab_type": "code",
        "colab": {}
      },
      "source": [
        "for i in range(10000):\n",
        "  L = next(data)\n",
        "  if \"reviewText\" in L :\n",
        "    if \"overall\" in L :\n",
        "      if L[\"overall\"] > 2.0:\n",
        "        labels.append(1)\n",
        "        \n",
        "      else:\n",
        "        labels.append(0)\n",
        "      reviews.append(L[\"reviewText\"])\n",
        "      "
      ],
      "execution_count": 48,
      "outputs": []
    },
    {
      "cell_type": "code",
      "metadata": {
        "id": "VYn9pWl2fjus",
        "colab_type": "code",
        "colab": {
          "base_uri": "https://localhost:8080/",
          "height": 34
        },
        "outputId": "a2142f73-8af9-4530-db4e-ae54bf40be3c"
      },
      "source": [
        "import numpy as np\n",
        "np.mean(labels)"
      ],
      "execution_count": 50,
      "outputs": [
        {
          "output_type": "execute_result",
          "data": {
            "text/plain": [
              "0.9578421578421579"
            ]
          },
          "metadata": {
            "tags": []
          },
          "execution_count": 50
        }
      ]
    },
    {
      "cell_type": "code",
      "metadata": {
        "id": "M_PlKc8AfzLr",
        "colab_type": "code",
        "colab": {}
      },
      "source": [
        "from keras.preprocessing.text import Tokenizer\n",
        "import numpy as np\n",
        "\n",
        "max_words = 10000 # We will only consider the 10K most used words in this dataset\n",
        "\n",
        "tokenizer = Tokenizer(num_words=max_words) # Setup\n",
        "tokenizer.fit_on_texts(reviews) # Generate tokens by counting frequency\n",
        "sequences = tokenizer.texts_to_sequences(reviews) # Turn text into sequence of numbers"
      ],
      "execution_count": 52,
      "outputs": []
    },
    {
      "cell_type": "code",
      "metadata": {
        "id": "fRSlEjD-gbdD",
        "colab_type": "code",
        "colab": {
          "base_uri": "https://localhost:8080/",
          "height": 34
        },
        "outputId": "7606e4b5-0006-4f81-f835-9d8d5b6e2a55"
      },
      "source": [
        "from keras.preprocessing.sequence import pad_sequences\n",
        "maxlen = 100 # Make all sequences 100 words long\n",
        "data = pad_sequences(sequences, maxlen=maxlen)\n",
        "print(data.shape) # We have 25K, 100 word sequences now"
      ],
      "execution_count": 53,
      "outputs": [
        {
          "output_type": "stream",
          "text": [
            "(10010, 100)\n"
          ],
          "name": "stdout"
        }
      ]
    },
    {
      "cell_type": "code",
      "metadata": {
        "id": "rFuDnvXmgqOa",
        "colab_type": "code",
        "colab": {}
      },
      "source": [
        "labels = np.asarray(labels)\n",
        "\n",
        "# Shuffle data\n",
        "indices = np.arange(data.shape[0])\n",
        "np.random.shuffle(indices)\n",
        "data = data[indices]\n",
        "labels = labels[indices]\n",
        "\n",
        "training_samples = 20000  # We will be training on 10K samples\n",
        "validation_samples = 5000  # We will be validating on 10000 samples\n",
        "\n",
        "# Split data\n",
        "x_train = data[:training_samples]\n",
        "y_train = labels[:training_samples]\n",
        "x_val = data[training_samples: training_samples + validation_samples]\n",
        "y_val = labels[training_samples: training_samples + validation_samples]"
      ],
      "execution_count": 55,
      "outputs": []
    },
    {
      "cell_type": "code",
      "metadata": {
        "id": "Uh4Aq7-Cgu_i",
        "colab_type": "code",
        "colab": {
          "base_uri": "https://localhost:8080/",
          "height": 289
        },
        "outputId": "ee99d782-4899-4692-e733-1953a05b4759"
      },
      "source": [
        "from keras.models import Sequential\n",
        "from keras.layers import Embedding, Flatten, Dense\n",
        "\n",
        "embedding_dim = 50\n",
        "\n",
        "model = Sequential()\n",
        "model.add(Embedding(max_words, embedding_dim, input_length=maxlen))\n",
        "model.add(Flatten())\n",
        "model.add(Dense(32, activation='relu'))\n",
        "model.add(Dense(1, activation='sigmoid'))\n",
        "model.summary()"
      ],
      "execution_count": 56,
      "outputs": [
        {
          "output_type": "stream",
          "text": [
            "Model: \"sequential\"\n",
            "_________________________________________________________________\n",
            "Layer (type)                 Output Shape              Param #   \n",
            "=================================================================\n",
            "embedding (Embedding)        (None, 100, 50)           500000    \n",
            "_________________________________________________________________\n",
            "flatten (Flatten)            (None, 5000)              0         \n",
            "_________________________________________________________________\n",
            "dense (Dense)                (None, 32)                160032    \n",
            "_________________________________________________________________\n",
            "dense_1 (Dense)              (None, 1)                 33        \n",
            "=================================================================\n",
            "Total params: 660,065\n",
            "Trainable params: 660,065\n",
            "Non-trainable params: 0\n",
            "_________________________________________________________________\n"
          ],
          "name": "stdout"
        }
      ]
    },
    {
      "cell_type": "code",
      "metadata": {
        "id": "RIU-0UyPh8At",
        "colab_type": "code",
        "colab": {}
      },
      "source": [
        ""
      ],
      "execution_count": null,
      "outputs": []
    },
    {
      "cell_type": "code",
      "metadata": {
        "id": "oiDkOVfHhGg_",
        "colab_type": "code",
        "colab": {}
      },
      "source": [
        " import tensorflow as tf\n",
        "model.compile(optimizer='adam',\n",
        "              loss='binary_crossentropy',\n",
        "              metrics=[tf.keras.metrics.RootMeanSquaredError(),\"acc\"])"
      ],
      "execution_count": 67,
      "outputs": []
    },
    {
      "cell_type": "code",
      "metadata": {
        "id": "7KmgO_jgg9Cq",
        "colab_type": "code",
        "colab": {
          "base_uri": "https://localhost:8080/",
          "height": 1000
        },
        "outputId": "9de4a8d9-2808-4572-b7d6-4eb06d0c092d"
      },
      "source": [
        "history = model.fit(x_train, y_train,\n",
        "                    epochs=50,\n",
        "                    batch_size=32,\n",
        "                    validation_data=(x_val, y_val))"
      ],
      "execution_count": 68,
      "outputs": [
        {
          "output_type": "stream",
          "text": [
            "Epoch 1/50\n",
            "313/313 [==============================] - 3s 8ms/step - loss: 0.0016 - root_mean_squared_error: 0.0183 - acc: 0.9996\n",
            "Epoch 2/50\n",
            "313/313 [==============================] - 3s 8ms/step - loss: 0.0014 - root_mean_squared_error: 0.0173 - acc: 0.9996\n",
            "Epoch 3/50\n",
            "313/313 [==============================] - 3s 8ms/step - loss: 0.0014 - root_mean_squared_error: 0.0183 - acc: 0.9996\n",
            "Epoch 4/50\n",
            "313/313 [==============================] - 3s 8ms/step - loss: 0.0013 - root_mean_squared_error: 0.0173 - acc: 0.9996\n",
            "Epoch 5/50\n",
            "313/313 [==============================] - 2s 8ms/step - loss: 0.0015 - root_mean_squared_error: 0.0186 - acc: 0.9995\n",
            "Epoch 6/50\n",
            "313/313 [==============================] - 3s 8ms/step - loss: 0.0012 - root_mean_squared_error: 0.0190 - acc: 0.9994\n",
            "Epoch 7/50\n",
            "313/313 [==============================] - 3s 8ms/step - loss: 0.0017 - root_mean_squared_error: 0.0184 - acc: 0.9995\n",
            "Epoch 8/50\n",
            "313/313 [==============================] - 3s 8ms/step - loss: 0.0015 - root_mean_squared_error: 0.0181 - acc: 0.9996\n",
            "Epoch 9/50\n",
            "313/313 [==============================] - 3s 8ms/step - loss: 0.0013 - root_mean_squared_error: 0.0185 - acc: 0.9996\n",
            "Epoch 10/50\n",
            "313/313 [==============================] - 2s 8ms/step - loss: 0.0014 - root_mean_squared_error: 0.0192 - acc: 0.9996\n",
            "Epoch 11/50\n",
            "313/313 [==============================] - 2s 8ms/step - loss: 0.0013 - root_mean_squared_error: 0.0177 - acc: 0.9996\n",
            "Epoch 12/50\n",
            "313/313 [==============================] - 3s 8ms/step - loss: 0.0013 - root_mean_squared_error: 0.0184 - acc: 0.9996\n",
            "Epoch 13/50\n",
            "313/313 [==============================] - 3s 8ms/step - loss: 0.0015 - root_mean_squared_error: 0.0184 - acc: 0.9996\n",
            "Epoch 14/50\n",
            "313/313 [==============================] - 3s 8ms/step - loss: 0.0012 - root_mean_squared_error: 0.0177 - acc: 0.9996\n",
            "Epoch 15/50\n",
            "313/313 [==============================] - 3s 8ms/step - loss: 0.0017 - root_mean_squared_error: 0.0198 - acc: 0.9996\n",
            "Epoch 16/50\n",
            "313/313 [==============================] - 2s 8ms/step - loss: 0.0013 - root_mean_squared_error: 0.0182 - acc: 0.9996\n",
            "Epoch 17/50\n",
            "313/313 [==============================] - 3s 8ms/step - loss: 0.0013 - root_mean_squared_error: 0.0185 - acc: 0.9996\n",
            "Epoch 18/50\n",
            "313/313 [==============================] - 2s 8ms/step - loss: 0.0013 - root_mean_squared_error: 0.0180 - acc: 0.9996\n",
            "Epoch 19/50\n",
            "313/313 [==============================] - 2s 8ms/step - loss: 0.0012 - root_mean_squared_error: 0.0177 - acc: 0.9996\n",
            "Epoch 20/50\n",
            "313/313 [==============================] - 2s 8ms/step - loss: 0.0016 - root_mean_squared_error: 0.0188 - acc: 0.9995\n",
            "Epoch 21/50\n",
            "313/313 [==============================] - 3s 8ms/step - loss: 0.0014 - root_mean_squared_error: 0.0183 - acc: 0.9996\n",
            "Epoch 22/50\n",
            "313/313 [==============================] - 3s 8ms/step - loss: 0.0014 - root_mean_squared_error: 0.0178 - acc: 0.9995\n",
            "Epoch 23/50\n",
            "313/313 [==============================] - 3s 8ms/step - loss: 0.0012 - root_mean_squared_error: 0.0179 - acc: 0.9995\n",
            "Epoch 24/50\n",
            "313/313 [==============================] - 3s 9ms/step - loss: 0.0013 - root_mean_squared_error: 0.0190 - acc: 0.9996\n",
            "Epoch 25/50\n",
            "313/313 [==============================] - 3s 8ms/step - loss: 0.0019 - root_mean_squared_error: 0.0202 - acc: 0.9995\n",
            "Epoch 26/50\n",
            "313/313 [==============================] - 3s 8ms/step - loss: 0.0013 - root_mean_squared_error: 0.0184 - acc: 0.9996\n",
            "Epoch 27/50\n",
            "313/313 [==============================] - 2s 8ms/step - loss: 0.0013 - root_mean_squared_error: 0.0179 - acc: 0.9996\n",
            "Epoch 28/50\n",
            "313/313 [==============================] - 2s 8ms/step - loss: 0.0013 - root_mean_squared_error: 0.0180 - acc: 0.9996\n",
            "Epoch 29/50\n",
            "313/313 [==============================] - 3s 8ms/step - loss: 0.0012 - root_mean_squared_error: 0.0178 - acc: 0.9996\n",
            "Epoch 30/50\n",
            "313/313 [==============================] - 3s 8ms/step - loss: 0.0015 - root_mean_squared_error: 0.0171 - acc: 0.9996\n",
            "Epoch 31/50\n",
            "313/313 [==============================] - 2s 8ms/step - loss: 0.0015 - root_mean_squared_error: 0.0186 - acc: 0.9996\n",
            "Epoch 32/50\n",
            "313/313 [==============================] - 2s 8ms/step - loss: 0.0013 - root_mean_squared_error: 0.0175 - acc: 0.9996\n",
            "Epoch 33/50\n",
            "313/313 [==============================] - 2s 8ms/step - loss: 0.0015 - root_mean_squared_error: 0.0191 - acc: 0.9996\n",
            "Epoch 34/50\n",
            "313/313 [==============================] - 2s 8ms/step - loss: 0.0013 - root_mean_squared_error: 0.0178 - acc: 0.9996\n",
            "Epoch 35/50\n",
            "313/313 [==============================] - 2s 8ms/step - loss: 0.0013 - root_mean_squared_error: 0.0180 - acc: 0.9996\n",
            "Epoch 36/50\n",
            "313/313 [==============================] - 2s 8ms/step - loss: 0.0013 - root_mean_squared_error: 0.0182 - acc: 0.9996\n",
            "Epoch 37/50\n",
            "313/313 [==============================] - 2s 8ms/step - loss: 0.0012 - root_mean_squared_error: 0.0173 - acc: 0.9996\n",
            "Epoch 38/50\n",
            "313/313 [==============================] - 3s 8ms/step - loss: 0.0015 - root_mean_squared_error: 0.0177 - acc: 0.9996\n",
            "Epoch 39/50\n",
            "313/313 [==============================] - 2s 8ms/step - loss: 0.0011 - root_mean_squared_error: 0.0173 - acc: 0.9996\n",
            "Epoch 40/50\n",
            "313/313 [==============================] - 2s 8ms/step - loss: 0.0018 - root_mean_squared_error: 0.0184 - acc: 0.9995\n",
            "Epoch 41/50\n",
            "313/313 [==============================] - 2s 8ms/step - loss: 0.0014 - root_mean_squared_error: 0.0186 - acc: 0.9996\n",
            "Epoch 42/50\n",
            "313/313 [==============================] - 2s 8ms/step - loss: 0.0013 - root_mean_squared_error: 0.0187 - acc: 0.9996\n",
            "Epoch 43/50\n",
            "313/313 [==============================] - 2s 8ms/step - loss: 0.0013 - root_mean_squared_error: 0.0183 - acc: 0.9996\n",
            "Epoch 44/50\n",
            "313/313 [==============================] - 2s 8ms/step - loss: 0.0015 - root_mean_squared_error: 0.0182 - acc: 0.9996\n",
            "Epoch 45/50\n",
            "313/313 [==============================] - 3s 8ms/step - loss: 0.0013 - root_mean_squared_error: 0.0178 - acc: 0.9996\n",
            "Epoch 46/50\n",
            "313/313 [==============================] - 2s 8ms/step - loss: 0.0013 - root_mean_squared_error: 0.0184 - acc: 0.9996\n",
            "Epoch 47/50\n",
            "313/313 [==============================] - 3s 8ms/step - loss: 0.0013 - root_mean_squared_error: 0.0185 - acc: 0.9996\n",
            "Epoch 48/50\n",
            "313/313 [==============================] - 3s 8ms/step - loss: 0.0012 - root_mean_squared_error: 0.0176 - acc: 0.9996\n",
            "Epoch 49/50\n",
            "313/313 [==============================] - 3s 8ms/step - loss: 0.0017 - root_mean_squared_error: 0.0183 - acc: 0.9997\n",
            "Epoch 50/50\n",
            "313/313 [==============================] - 3s 9ms/step - loss: 0.0014 - root_mean_squared_error: 0.0188 - acc: 0.9996\n"
          ],
          "name": "stdout"
        }
      ]
    },
    {
      "cell_type": "code",
      "metadata": {
        "id": "dkpdJFnPiysL",
        "colab_type": "code",
        "colab": {
          "base_uri": "https://localhost:8080/",
          "height": 357
        },
        "outputId": "43ac0ab2-6082-4455-f908-6c34dadc2c17"
      },
      "source": [
        "!wget http://nlp.stanford.edu/data/glove.6B.zip"
      ],
      "execution_count": 70,
      "outputs": [
        {
          "output_type": "stream",
          "text": [
            "--2020-08-08 00:49:25--  http://nlp.stanford.edu/data/glove.6B.zip\n",
            "Resolving nlp.stanford.edu (nlp.stanford.edu)... 171.64.67.140\n",
            "Connecting to nlp.stanford.edu (nlp.stanford.edu)|171.64.67.140|:80... connected.\n",
            "HTTP request sent, awaiting response... 302 Found\n",
            "Location: https://nlp.stanford.edu/data/glove.6B.zip [following]\n",
            "--2020-08-08 00:49:25--  https://nlp.stanford.edu/data/glove.6B.zip\n",
            "Connecting to nlp.stanford.edu (nlp.stanford.edu)|171.64.67.140|:443... connected.\n",
            "HTTP request sent, awaiting response... 301 Moved Permanently\n",
            "Location: http://downloads.cs.stanford.edu/nlp/data/glove.6B.zip [following]\n",
            "--2020-08-08 00:49:25--  http://downloads.cs.stanford.edu/nlp/data/glove.6B.zip\n",
            "Resolving downloads.cs.stanford.edu (downloads.cs.stanford.edu)... 171.64.64.22\n",
            "Connecting to downloads.cs.stanford.edu (downloads.cs.stanford.edu)|171.64.64.22|:80... connected.\n",
            "HTTP request sent, awaiting response... 200 OK\n",
            "Length: 862182613 (822M) [application/zip]\n",
            "Saving to: ‘glove.6B.zip’\n",
            "\n",
            "glove.6B.zip        100%[===================>] 822.24M  2.10MB/s    in 6m 27s  \n",
            "\n",
            "2020-08-08 00:55:52 (2.13 MB/s) - ‘glove.6B.zip’ saved [862182613/862182613]\n",
            "\n"
          ],
          "name": "stdout"
        }
      ]
    },
    {
      "cell_type": "code",
      "metadata": {
        "id": "oSyyLHdYlPSi",
        "colab_type": "code",
        "colab": {}
      },
      "source": [
        "import zipfile\n",
        "with zipfile.ZipFile(\"/content/glove.6B.zip\", 'r') as zip_ref:\n",
        "    zip_ref.extractall(\"./content\")"
      ],
      "execution_count": 73,
      "outputs": []
    },
    {
      "cell_type": "code",
      "metadata": {
        "id": "GAkFmcFCmcbe",
        "colab_type": "code",
        "colab": {}
      },
      "source": [
        "from tqdm import tqdm"
      ],
      "execution_count": 76,
      "outputs": []
    },
    {
      "cell_type": "code",
      "metadata": {
        "id": "BFx_zJclhEFC",
        "colab_type": "code",
        "colab": {
          "base_uri": "https://localhost:8080/",
          "height": 68
        },
        "outputId": "1f22bc01-dda7-4811-c710-69b36b275019"
      },
      "source": [
        "import os\n",
        "\n",
        "\n",
        "print('Loading word vectors')\n",
        "embeddings_index = {} # We create a dictionary of word -> embedding\n",
        "f = open( 'glove.6B.100d.txt') # Open file\n",
        "\n",
        "# In the dataset, each line represents a new word embedding\n",
        "# The line starts with the word and the embedding values follow\n",
        "for line in tqdm(f):\n",
        "    values = line.split()\n",
        "    word = values[0] # The first value is the word, the rest are the values of the embedding\n",
        "    embedding = np.asarray(values[1:], dtype='float32') # Load embedding\n",
        "    embeddings_index[word] = embedding # Add embedding to our embedding dictionary\n",
        "f.close()\n",
        "\n",
        "print('Found %s word vectors.' % len(embeddings_index))"
      ],
      "execution_count": 77,
      "outputs": [
        {
          "output_type": "stream",
          "text": [
            "2704it [00:00, 27038.09it/s]"
          ],
          "name": "stderr"
        },
        {
          "output_type": "stream",
          "text": [
            "Loading word vectors\n"
          ],
          "name": "stdout"
        },
        {
          "output_type": "stream",
          "text": [
            "400000it [00:13, 30628.70it/s]"
          ],
          "name": "stderr"
        },
        {
          "output_type": "stream",
          "text": [
            "Found 400000 word vectors.\n"
          ],
          "name": "stdout"
        },
        {
          "output_type": "stream",
          "text": [
            "\n"
          ],
          "name": "stderr"
        }
      ]
    },
    {
      "cell_type": "code",
      "metadata": {
        "id": "4KbuBmjDigjz",
        "colab_type": "code",
        "colab": {
          "base_uri": "https://localhost:8080/",
          "height": 88
        },
        "outputId": "0ccea8d0-0585-44a9-9868-256c293042f7"
      },
      "source": [
        "# Create a matrix of all embeddings\n",
        "all_embs = np.stack(embeddings_index.values())\n",
        "emb_mean = all_embs.mean() # Calculate mean\n",
        "emb_std = all_embs.std() # Calculate standard deviation\n",
        "emb_mean,emb_std"
      ],
      "execution_count": 78,
      "outputs": [
        {
          "output_type": "stream",
          "text": [
            "/usr/local/lib/python3.6/dist-packages/IPython/core/interactiveshell.py:2822: FutureWarning: arrays to stack must be passed as a \"sequence\" type such as list or tuple. Support for non-sequence iterables such as generators is deprecated as of NumPy 1.16 and will raise an error in the future.\n",
            "  if self.run_code(code, result):\n"
          ],
          "name": "stderr"
        },
        {
          "output_type": "execute_result",
          "data": {
            "text/plain": [
              "(0.004451992, 0.4081574)"
            ]
          },
          "metadata": {
            "tags": []
          },
          "execution_count": 78
        }
      ]
    },
    {
      "cell_type": "code",
      "metadata": {
        "id": "UVaoztmrnJTR",
        "colab_type": "code",
        "colab": {}
      },
      "source": [
        "embedding_dim = 100 # We now use larger embeddings\n",
        "\n",
        "word_index = tokenizer.word_index\n",
        "nb_words = min(max_words, len(word_index)) # How many words are there actually\n",
        "\n",
        "# Create a random matrix with the same mean and std as the embeddings\n",
        "embedding_matrix = np.random.normal(emb_mean, emb_std, (nb_words, embedding_dim))\n",
        "\n",
        "# The vectors need to be in the same position as their index. \n",
        "# Meaning a word with token 1 needs to be in the second row (rows start with zero) and so on\n",
        "\n",
        "# Loop over all words in the word index\n",
        "for word, i in word_index.items():\n",
        "    # If we are above the amount of words we want to use we do nothing\n",
        "    if i >= max_words: \n",
        "        continue\n",
        "    # Get the embedding vector for the word\n",
        "    embedding_vector = embeddings_index.get(word)\n",
        "    # If there is an embedding vector, put it in the embedding matrix\n",
        "    if embedding_vector is not None: \n",
        "        embedding_matrix[i] = embedding_vector"
      ],
      "execution_count": 79,
      "outputs": []
    },
    {
      "cell_type": "code",
      "metadata": {
        "id": "bvCqjNHKnNPE",
        "colab_type": "code",
        "colab": {
          "base_uri": "https://localhost:8080/",
          "height": 289
        },
        "outputId": "126cc0fe-1365-4506-e862-0ce2e2866b55"
      },
      "source": [
        "model = Sequential()\n",
        "model.add(Embedding(max_words, embedding_dim, input_length=maxlen, weights = [embedding_matrix], trainable = False))\n",
        "model.add(Flatten())\n",
        "model.add(Dense(32, activation='relu'))\n",
        "model.add(Dense(1, activation='sigmoid'))\n",
        "model.summary()"
      ],
      "execution_count": 80,
      "outputs": [
        {
          "output_type": "stream",
          "text": [
            "Model: \"sequential_1\"\n",
            "_________________________________________________________________\n",
            "Layer (type)                 Output Shape              Param #   \n",
            "=================================================================\n",
            "embedding_1 (Embedding)      (None, 100, 100)          1000000   \n",
            "_________________________________________________________________\n",
            "flatten_1 (Flatten)          (None, 10000)             0         \n",
            "_________________________________________________________________\n",
            "dense_2 (Dense)              (None, 32)                320032    \n",
            "_________________________________________________________________\n",
            "dense_3 (Dense)              (None, 1)                 33        \n",
            "=================================================================\n",
            "Total params: 1,320,065\n",
            "Trainable params: 320,065\n",
            "Non-trainable params: 1,000,000\n",
            "_________________________________________________________________\n"
          ],
          "name": "stdout"
        }
      ]
    },
    {
      "cell_type": "code",
      "metadata": {
        "id": "R7l0e43vnQCy",
        "colab_type": "code",
        "colab": {}
      },
      "source": [
        "model.compile(optimizer='adam',\n",
        "              loss='binary_crossentropy',\n",
        "              metrics=['acc'])\n",
        "\n"
      ],
      "execution_count": 84,
      "outputs": []
    },
    {
      "cell_type": "code",
      "metadata": {
        "id": "ON7crPUUnR2x",
        "colab_type": "code",
        "colab": {
          "base_uri": "https://localhost:8080/",
          "height": 1000
        },
        "outputId": "dcab217e-306e-4b55-c8dc-2a780f4afd78"
      },
      "source": [
        "history = model.fit(\n",
        "    x=x_train,\n",
        "    y=y_train,\n",
        "    batch_size=32,\n",
        "    epochs=100,\n",
        "    verbose=1,\n",
        "    validation_data=(x_val, y_val),\n",
        "    \n",
        ")\n"
      ],
      "execution_count": 86,
      "outputs": [
        {
          "output_type": "stream",
          "text": [
            "Epoch 1/100\n",
            "313/313 [==============================] - 1s 4ms/step - loss: 0.0063 - acc: 0.9983\n",
            "Epoch 2/100\n",
            "313/313 [==============================] - 1s 4ms/step - loss: 0.0073 - acc: 0.9977\n",
            "Epoch 3/100\n",
            "313/313 [==============================] - 1s 4ms/step - loss: 0.0088 - acc: 0.9971\n",
            "Epoch 4/100\n",
            "313/313 [==============================] - 1s 4ms/step - loss: 0.0053 - acc: 0.9985\n",
            "Epoch 5/100\n",
            "313/313 [==============================] - 1s 4ms/step - loss: 0.0145 - acc: 0.9961\n",
            "Epoch 6/100\n",
            "313/313 [==============================] - 1s 4ms/step - loss: 0.0052 - acc: 0.9981\n",
            "Epoch 7/100\n",
            "313/313 [==============================] - 1s 4ms/step - loss: 0.0056 - acc: 0.9987\n",
            "Epoch 8/100\n",
            "313/313 [==============================] - 1s 4ms/step - loss: 0.0052 - acc: 0.9981\n",
            "Epoch 9/100\n",
            "313/313 [==============================] - 2s 5ms/step - loss: 0.0049 - acc: 0.9985\n",
            "Epoch 10/100\n",
            "313/313 [==============================] - 2s 5ms/step - loss: 0.0045 - acc: 0.9987\n",
            "Epoch 11/100\n",
            "313/313 [==============================] - 2s 5ms/step - loss: 0.0047 - acc: 0.9986\n",
            "Epoch 12/100\n",
            "313/313 [==============================] - 2s 5ms/step - loss: 0.0057 - acc: 0.9981\n",
            "Epoch 13/100\n",
            "313/313 [==============================] - 2s 5ms/step - loss: 0.0120 - acc: 0.9972\n",
            "Epoch 14/100\n",
            "313/313 [==============================] - 2s 5ms/step - loss: 0.0054 - acc: 0.9987\n",
            "Epoch 15/100\n",
            "313/313 [==============================] - 1s 4ms/step - loss: 0.0070 - acc: 0.9982\n",
            "Epoch 16/100\n",
            "313/313 [==============================] - 1s 4ms/step - loss: 0.0059 - acc: 0.9982\n",
            "Epoch 17/100\n",
            "313/313 [==============================] - 1s 4ms/step - loss: 0.0063 - acc: 0.9979\n",
            "Epoch 18/100\n",
            "313/313 [==============================] - 1s 4ms/step - loss: 0.0175 - acc: 0.9959\n",
            "Epoch 19/100\n",
            "313/313 [==============================] - 1s 4ms/step - loss: 0.0046 - acc: 0.9984\n",
            "Epoch 20/100\n",
            "313/313 [==============================] - 1s 4ms/step - loss: 0.0048 - acc: 0.9986\n",
            "Epoch 21/100\n",
            "313/313 [==============================] - 1s 4ms/step - loss: 0.0054 - acc: 0.9983\n",
            "Epoch 22/100\n",
            "313/313 [==============================] - 1s 4ms/step - loss: 0.0120 - acc: 0.9963\n",
            "Epoch 23/100\n",
            "313/313 [==============================] - 1s 4ms/step - loss: 0.0227 - acc: 0.9944\n",
            "Epoch 24/100\n",
            "313/313 [==============================] - 1s 4ms/step - loss: 0.0043 - acc: 0.9989\n",
            "Epoch 25/100\n",
            "313/313 [==============================] - 1s 4ms/step - loss: 0.0066 - acc: 0.9980\n",
            "Epoch 26/100\n",
            "313/313 [==============================] - 1s 4ms/step - loss: 0.0040 - acc: 0.9989\n",
            "Epoch 27/100\n",
            "313/313 [==============================] - 1s 4ms/step - loss: 0.0044 - acc: 0.9988\n",
            "Epoch 28/100\n",
            "313/313 [==============================] - 1s 4ms/step - loss: 0.0069 - acc: 0.9978\n",
            "Epoch 29/100\n",
            "313/313 [==============================] - 1s 4ms/step - loss: 0.0473 - acc: 0.9860\n",
            "Epoch 30/100\n",
            "313/313 [==============================] - 1s 4ms/step - loss: 0.0157 - acc: 0.9954\n",
            "Epoch 31/100\n",
            "313/313 [==============================] - 1s 4ms/step - loss: 0.0061 - acc: 0.9982\n",
            "Epoch 32/100\n",
            "313/313 [==============================] - 1s 4ms/step - loss: 0.0064 - acc: 0.9982\n",
            "Epoch 33/100\n",
            "313/313 [==============================] - 1s 4ms/step - loss: 0.0072 - acc: 0.9980\n",
            "Epoch 34/100\n",
            "313/313 [==============================] - 1s 4ms/step - loss: 0.0047 - acc: 0.9987\n",
            "Epoch 35/100\n",
            "313/313 [==============================] - 1s 4ms/step - loss: 0.0125 - acc: 0.9965\n",
            "Epoch 36/100\n",
            "313/313 [==============================] - 1s 4ms/step - loss: 0.0202 - acc: 0.9957\n",
            "Epoch 37/100\n",
            "313/313 [==============================] - 1s 4ms/step - loss: 0.0059 - acc: 0.9980\n",
            "Epoch 38/100\n",
            "313/313 [==============================] - 1s 4ms/step - loss: 0.0062 - acc: 0.9982\n",
            "Epoch 39/100\n",
            "313/313 [==============================] - 1s 4ms/step - loss: 0.0064 - acc: 0.9982\n",
            "Epoch 40/100\n",
            "313/313 [==============================] - 1s 4ms/step - loss: 0.0041 - acc: 0.9989\n",
            "Epoch 41/100\n",
            "313/313 [==============================] - 1s 4ms/step - loss: 0.0048 - acc: 0.9987\n",
            "Epoch 42/100\n",
            "313/313 [==============================] - 1s 5ms/step - loss: 0.0047 - acc: 0.9984\n",
            "Epoch 43/100\n",
            "313/313 [==============================] - 1s 4ms/step - loss: 0.0060 - acc: 0.9984\n",
            "Epoch 44/100\n",
            "313/313 [==============================] - 1s 4ms/step - loss: 0.0079 - acc: 0.9981\n",
            "Epoch 45/100\n",
            "313/313 [==============================] - 1s 4ms/step - loss: 0.0060 - acc: 0.9987\n",
            "Epoch 46/100\n",
            "313/313 [==============================] - 1s 4ms/step - loss: 0.0070 - acc: 0.9977\n",
            "Epoch 47/100\n",
            "313/313 [==============================] - 1s 4ms/step - loss: 0.0040 - acc: 0.9990\n",
            "Epoch 48/100\n",
            "313/313 [==============================] - 1s 4ms/step - loss: 0.0065 - acc: 0.9981\n",
            "Epoch 49/100\n",
            "313/313 [==============================] - 1s 4ms/step - loss: 0.0093 - acc: 0.9977\n",
            "Epoch 50/100\n",
            "313/313 [==============================] - 1s 4ms/step - loss: 0.0053 - acc: 0.9983\n",
            "Epoch 51/100\n",
            "313/313 [==============================] - 1s 4ms/step - loss: 0.0047 - acc: 0.9989\n",
            "Epoch 52/100\n",
            "313/313 [==============================] - 1s 4ms/step - loss: 0.0092 - acc: 0.9977\n",
            "Epoch 53/100\n",
            "313/313 [==============================] - 1s 4ms/step - loss: 0.0302 - acc: 0.9935\n",
            "Epoch 54/100\n",
            "313/313 [==============================] - 1s 5ms/step - loss: 0.0049 - acc: 0.9985\n",
            "Epoch 55/100\n",
            "313/313 [==============================] - 1s 4ms/step - loss: 0.0049 - acc: 0.9987\n",
            "Epoch 56/100\n",
            "313/313 [==============================] - 1s 4ms/step - loss: 0.0056 - acc: 0.9982\n",
            "Epoch 57/100\n",
            "313/313 [==============================] - 1s 4ms/step - loss: 0.0046 - acc: 0.9989\n",
            "Epoch 58/100\n",
            "313/313 [==============================] - 1s 4ms/step - loss: 0.0053 - acc: 0.9985\n",
            "Epoch 59/100\n",
            "313/313 [==============================] - 1s 4ms/step - loss: 0.0058 - acc: 0.9981\n",
            "Epoch 60/100\n",
            "313/313 [==============================] - 1s 4ms/step - loss: 0.0049 - acc: 0.9988\n",
            "Epoch 61/100\n",
            "313/313 [==============================] - 1s 4ms/step - loss: 0.0081 - acc: 0.9977\n",
            "Epoch 62/100\n",
            "313/313 [==============================] - 1s 4ms/step - loss: 0.0067 - acc: 0.9977\n",
            "Epoch 63/100\n",
            "313/313 [==============================] - 1s 4ms/step - loss: 0.0060 - acc: 0.9979\n",
            "Epoch 64/100\n",
            "313/313 [==============================] - 1s 4ms/step - loss: 0.0043 - acc: 0.9989\n",
            "Epoch 65/100\n",
            "313/313 [==============================] - 1s 4ms/step - loss: 0.0068 - acc: 0.9983\n",
            "Epoch 66/100\n",
            "313/313 [==============================] - 1s 4ms/step - loss: 0.0161 - acc: 0.9949\n",
            "Epoch 67/100\n",
            "313/313 [==============================] - 1s 4ms/step - loss: 0.0054 - acc: 0.9985\n",
            "Epoch 68/100\n",
            "313/313 [==============================] - 1s 4ms/step - loss: 0.0225 - acc: 0.9951\n",
            "Epoch 69/100\n",
            "313/313 [==============================] - 1s 4ms/step - loss: 0.0052 - acc: 0.9985\n",
            "Epoch 70/100\n",
            "313/313 [==============================] - 1s 4ms/step - loss: 0.0045 - acc: 0.9986\n",
            "Epoch 71/100\n",
            "313/313 [==============================] - 1s 4ms/step - loss: 0.0052 - acc: 0.9985\n",
            "Epoch 72/100\n",
            "313/313 [==============================] - 1s 4ms/step - loss: 0.0057 - acc: 0.9982\n",
            "Epoch 73/100\n",
            "313/313 [==============================] - 1s 4ms/step - loss: 0.0057 - acc: 0.9983\n",
            "Epoch 74/100\n",
            "313/313 [==============================] - 1s 4ms/step - loss: 0.0110 - acc: 0.9970\n",
            "Epoch 75/100\n",
            "313/313 [==============================] - 1s 4ms/step - loss: 0.0047 - acc: 0.9985\n",
            "Epoch 76/100\n",
            "313/313 [==============================] - 1s 4ms/step - loss: 0.0052 - acc: 0.9983\n",
            "Epoch 77/100\n",
            "313/313 [==============================] - 1s 4ms/step - loss: 0.0050 - acc: 0.9984\n",
            "Epoch 78/100\n",
            "313/313 [==============================] - 1s 4ms/step - loss: 0.0044 - acc: 0.9988\n",
            "Epoch 79/100\n",
            "313/313 [==============================] - 1s 4ms/step - loss: 0.0043 - acc: 0.9988\n",
            "Epoch 80/100\n",
            "313/313 [==============================] - 1s 4ms/step - loss: 0.0041 - acc: 0.9989\n",
            "Epoch 81/100\n",
            "313/313 [==============================] - 1s 4ms/step - loss: 0.0066 - acc: 0.9982\n",
            "Epoch 82/100\n",
            "313/313 [==============================] - 1s 4ms/step - loss: 0.0067 - acc: 0.9982\n",
            "Epoch 83/100\n",
            "313/313 [==============================] - 1s 4ms/step - loss: 0.0055 - acc: 0.9984\n",
            "Epoch 84/100\n",
            "313/313 [==============================] - 1s 4ms/step - loss: 0.0045 - acc: 0.9987\n",
            "Epoch 85/100\n",
            "313/313 [==============================] - 1s 4ms/step - loss: 0.0177 - acc: 0.9966\n",
            "Epoch 86/100\n",
            "313/313 [==============================] - 1s 4ms/step - loss: 0.0045 - acc: 0.9988\n",
            "Epoch 87/100\n",
            "313/313 [==============================] - 1s 4ms/step - loss: 0.0048 - acc: 0.9986\n",
            "Epoch 88/100\n",
            "313/313 [==============================] - 1s 4ms/step - loss: 0.0101 - acc: 0.9965\n",
            "Epoch 89/100\n",
            "313/313 [==============================] - 1s 4ms/step - loss: 0.0039 - acc: 0.9988\n",
            "Epoch 90/100\n",
            "313/313 [==============================] - 1s 4ms/step - loss: 0.0045 - acc: 0.9988\n",
            "Epoch 91/100\n",
            "313/313 [==============================] - 1s 4ms/step - loss: 0.0041 - acc: 0.9987\n",
            "Epoch 92/100\n",
            "313/313 [==============================] - 1s 4ms/step - loss: 0.0101 - acc: 0.9972\n",
            "Epoch 93/100\n",
            "313/313 [==============================] - 1s 4ms/step - loss: 0.0047 - acc: 0.9984\n",
            "Epoch 94/100\n",
            "313/313 [==============================] - 1s 4ms/step - loss: 0.0037 - acc: 0.9990\n",
            "Epoch 95/100\n",
            "313/313 [==============================] - 1s 4ms/step - loss: 0.0055 - acc: 0.9984\n",
            "Epoch 96/100\n",
            "313/313 [==============================] - 1s 4ms/step - loss: 0.0051 - acc: 0.9985\n",
            "Epoch 97/100\n",
            "313/313 [==============================] - 1s 4ms/step - loss: 0.0064 - acc: 0.9982\n",
            "Epoch 98/100\n",
            "313/313 [==============================] - 1s 4ms/step - loss: 0.0042 - acc: 0.9987\n",
            "Epoch 99/100\n",
            "313/313 [==============================] - 1s 4ms/step - loss: 0.0116 - acc: 0.9971\n",
            "Epoch 100/100\n",
            "313/313 [==============================] - 1s 4ms/step - loss: 0.0065 - acc: 0.9985\n"
          ],
          "name": "stdout"
        }
      ]
    },
    {
      "cell_type": "code",
      "metadata": {
        "id": "BNNH_B-QnTf8",
        "colab_type": "code",
        "colab": {
          "base_uri": "https://localhost:8080/",
          "height": 187
        },
        "outputId": "9fc92a58-61f9-405a-d496-605e250e39b8"
      },
      "source": [
        "# Demo on a negative text\n",
        "my_text = 'The bleak economic outlook will force many small businesses into bankruptcy.'\n",
        "\n",
        "seq = tokenizer.texts_to_sequences([my_text])\n",
        "print('raw seq:',seq)\n",
        "seq = pad_sequences(seq, maxlen=maxlen)\n",
        "print('padded seq:',seq)\n",
        "prediction = model.predict(seq)\n",
        "print('positivity:',prediction)"
      ],
      "execution_count": 88,
      "outputs": [
        {
          "output_type": "stream",
          "text": [
            "raw seq: [[1, 48, 1078, 171, 205, 7975, 137]]\n",
            "padded seq: [[   0    0    0    0    0    0    0    0    0    0    0    0    0    0\n",
            "     0    0    0    0    0    0    0    0    0    0    0    0    0    0\n",
            "     0    0    0    0    0    0    0    0    0    0    0    0    0    0\n",
            "     0    0    0    0    0    0    0    0    0    0    0    0    0    0\n",
            "     0    0    0    0    0    0    0    0    0    0    0    0    0    0\n",
            "     0    0    0    0    0    0    0    0    0    0    0    0    0    0\n",
            "     0    0    0    0    0    0    0    0    0    1   48 1078  171  205\n",
            "  7975  137]]\n",
            "positivity: [[0.99954164]]\n"
          ],
          "name": "stdout"
        }
      ]
    },
    {
      "cell_type": "code",
      "metadata": {
        "id": "4ojMtqhhwEcj",
        "colab_type": "code",
        "colab": {}
      },
      "source": [
        ""
      ],
      "execution_count": null,
      "outputs": []
    }
  ]
}