{
  "nbformat": 4,
  "nbformat_minor": 0,
  "metadata": {
    "colab": {
      "name": "RS.ipynb",
      "provenance": [],
      "collapsed_sections": [],
      "authorship_tag": "ABX9TyPtBXfJFG4NIu/f44oZDD4a",
      "include_colab_link": true
    },
    "kernelspec": {
      "name": "python3",
      "display_name": "Python 3"
    }
  },
  "cells": [
    {
      "cell_type": "markdown",
      "metadata": {
        "id": "view-in-github",
        "colab_type": "text"
      },
      "source": [
        "<a href=\"https://colab.research.google.com/github/8Raouf24/PFE/blob/master/RS.ipynb\" target=\"_parent\"><img src=\"https://colab.research.google.com/assets/colab-badge.svg\" alt=\"Open In Colab\"/></a>"
      ]
    },
    {
      "cell_type": "markdown",
      "metadata": {
        "id": "EYxZxCGxfR0a",
        "colab_type": "text"
      },
      "source": [
        "Voici le notebook contenant le code du Filtrage collaboratif . On essaye de deviner la note donné par des utilisateurs aux articles d'Amazon qu'ils n'ont pas notés . Voici les étapes qui seront suivis :\n",
        "\n",
        "\n",
        "1.   Charger les données et les transformer en DataFrame\n",
        "2.   Pré-traitement des données pour faciliter le training\n",
        "3.   Création du réseaux de neuronnes \n",
        "4.   Training du réseaux de neuronnes\n",
        "5.   Recommandation\n",
        "\n",
        "\n",
        "\n",
        "\n",
        "\n",
        "\n"
      ]
    },
    {
      "cell_type": "code",
      "metadata": {
        "id": "BHKmM3Gqhid0",
        "colab_type": "code",
        "colab": {}
      },
      "source": [
        "import pandas as pd\n",
        "import numpy as np\n",
        "from zipfile import ZipFile\n",
        "import tensorflow as tf\n",
        "from tensorflow import keras\n",
        "from tensorflow.keras import layers,callbacks\n",
        "from pathlib import Path\n",
        "from sklearn.metrics import r2_score\n",
        "import gzip\n",
        "import matplotlib.pyplot as plt\n",
        "import json"
      ],
      "execution_count": 17,
      "outputs": []
    },
    {
      "cell_type": "markdown",
      "metadata": {
        "id": "VSs-4_UVMPmM",
        "colab_type": "text"
      },
      "source": [
        "Tout d'abord , nous téléchargons la base de données sur laquelle nous effectuerons nos travaux. Dans le cas échant nous utiliserons \" Musical_Instruments_5\" qui contient des articles d'Amazon appartenant a la catégorie \" Instrument musical \" ayant été noté par au moins 5  utilisateurs."
      ]
    },
    {
      "cell_type": "code",
      "metadata": {
        "id": "KVWzbaVQiNbP",
        "colab_type": "code",
        "colab": {
          "base_uri": "https://localhost:8080/",
          "height": 202
        },
        "outputId": "0d730aff-102d-4ddc-ef68-e13ccbf2ad4d"
      },
      "source": [
        "!wget http://deepyeti.ucsd.edu/jianmo/amazon/categoryFilesSmall/Musical_Instruments_5.json.gz"
      ],
      "execution_count": 18,
      "outputs": [
        {
          "output_type": "stream",
          "text": [
            "--2020-08-12 19:18:55--  http://deepyeti.ucsd.edu/jianmo/amazon/categoryFilesSmall/Musical_Instruments_5.json.gz\n",
            "Resolving deepyeti.ucsd.edu (deepyeti.ucsd.edu)... 169.228.63.50\n",
            "Connecting to deepyeti.ucsd.edu (deepyeti.ucsd.edu)|169.228.63.50|:80... connected.\n",
            "HTTP request sent, awaiting response... 200 OK\n",
            "Length: 39356138 (38M) [application/octet-stream]\n",
            "Saving to: ‘Musical_Instruments_5.json.gz.1’\n",
            "\n",
            "Musical_Instruments 100%[===================>]  37.53M  13.1MB/s    in 2.9s    \n",
            "\n",
            "2020-08-12 19:18:58 (13.1 MB/s) - ‘Musical_Instruments_5.json.gz.1’ saved [39356138/39356138]\n",
            "\n"
          ],
          "name": "stdout"
        }
      ]
    },
    {
      "cell_type": "markdown",
      "metadata": {
        "id": "WhlgTOzmg4CN",
        "colab_type": "text"
      },
      "source": [
        "Nous chargeons nos données depuis notre fichier json sous le format d'une liste afin de pouvoir faire la conversion vers un DataFrame."
      ]
    },
    {
      "cell_type": "code",
      "metadata": {
        "id": "34jSgxH-iib-",
        "colab_type": "code",
        "colab": {
          "base_uri": "https://localhost:8080/",
          "height": 70
        },
        "outputId": "d8584098-937f-404c-85b8-4fe9c152de69"
      },
      "source": [
        "#Chargement des données sous le format liste\n",
        "data = []\n",
        "with gzip.open('Musical_Instruments_5.json.gz') as f:\n",
        "    for l in f:\n",
        "        data.append(json.loads(l.strip()))\n",
        "    \n",
        "# Nombre total de produit\n",
        "print(len(data))\n",
        "\n",
        "# Un exemple de produit\n",
        "print(data[0])"
      ],
      "execution_count": 19,
      "outputs": [
        {
          "output_type": "stream",
          "text": [
            "231392\n",
            "{'overall': 5.0, 'verified': True, 'reviewTime': '10 30, 2016', 'reviewerID': 'A3FO5AKVTFRCRJ', 'asin': '0739079891', 'reviewerName': 'francisco', 'reviewText': \"It's good for beginners\", 'summary': 'Five Stars', 'unixReviewTime': 1477785600}\n"
          ],
          "name": "stdout"
        }
      ]
    },
    {
      "cell_type": "markdown",
      "metadata": {
        "id": "EXvcBV1AhT0x",
        "colab_type": "text"
      },
      "source": [
        "Une fois notre Dataframe crée , nous le filtrerons afin de récolter les données pertinantes pour notre systéme de recommandation , c'est à dire les utilisateurs , les articles , et les ratings."
      ]
    },
    {
      "cell_type": "code",
      "metadata": {
        "id": "3vn6W1cxir8F",
        "colab_type": "code",
        "colab": {
          "base_uri": "https://localhost:8080/",
          "height": 84
        },
        "outputId": "839883ac-f875-4f6b-dedd-a51ed97064ee"
      },
      "source": [
        "#Transformation de nos données depuis le format liste vers le format dataframe\n",
        "df = pd.DataFrame.from_dict(data)\n",
        "\n",
        "data_dict = {'userID':df['reviewerID'],'itemID':df['asin'],'rating':df['overall']}\n",
        "df_rs = pd.DataFrame.from_dict(data_dict)\n",
        "df = df_rs\n",
        "\n",
        "#Un exemple de ligne de notre dataframe\n",
        "print(df_rs.iloc[0])"
      ],
      "execution_count": 20,
      "outputs": [
        {
          "output_type": "stream",
          "text": [
            "userID    A3FO5AKVTFRCRJ\n",
            "itemID        0739079891\n",
            "rating                 5\n",
            "Name: 0, dtype: object\n"
          ],
          "name": "stdout"
        }
      ]
    },
    {
      "cell_type": "markdown",
      "metadata": {
        "id": "gXwl2ZgVMnoD",
        "colab_type": "text"
      },
      "source": [
        "Ici , les prétraitements consisteront a transformer nos utilisateurs et nos articles en des indices d'entiers naturels."
      ]
    },
    {
      "cell_type": "code",
      "metadata": {
        "id": "gDk_GD3fi2Kl",
        "colab_type": "code",
        "colab": {
          "base_uri": "https://localhost:8080/",
          "height": 34
        },
        "outputId": "cedc196d-bda3-48ef-9f80-26508aaa5d8c"
      },
      "source": [
        "#Tout d'abord , nous recuillons les users de facon unique dans une liste\n",
        "user_ids = df_rs[\"userID\"].unique().tolist()\n",
        "#Nous représentons chaque utilisateur de notre liste en un nombre entier et vice versa\n",
        "user2user_encoded = {x: i for i, x in enumerate(user_ids)}\n",
        "userencoded2user = {i: x for i, x in enumerate(user_ids)}\n",
        "\n",
        "#Meme travail pour les articles\n",
        "item_ids = df_rs[\"itemID\"].unique().tolist()\n",
        "item2item_encoded = {x: i for i, x in enumerate(item_ids)}\n",
        "item_encoded2item = {i: x for i, x in enumerate(item_ids)}\n",
        "\n",
        "#Nous remplacons les colonnes de notre DF contenant les ID des utilisateurs et des articles sous format caractères par le format encodé en  nombre entier\n",
        "df_rs[\"user\"] = df_rs[\"userID\"].map(user2user_encoded)\n",
        "df_rs[\"item\"] = df_rs[\"itemID\"].map(item2item_encoded)\n",
        "\n",
        "#Nous récupérons la taille des vecteurs des utilisateurs et articles\n",
        "num_users = len(user2user_encoded)\n",
        "num_items = len(item_encoded2item)\n",
        "\n",
        "#Nous covnertissions les notes du format int au format float\n",
        "df_rs[\"rating\"] = df_rs[\"rating\"].values.astype(np.float32)\n",
        "\n",
        "#Le min et le max seront utilisés pour la normalisation un peu plus tard\n",
        "min_rating = min(df_rs[\"rating\"])\n",
        "max_rating = max(df_rs[\"rating\"])\n",
        "\n",
        "print(\n",
        "    \"Number of users: {}, Number of Items: {}, Min rating: {}, Max rating: {}\".format(\n",
        "        num_users, num_items, min_rating, max_rating\n",
        "    )\n",
        ")\n"
      ],
      "execution_count": 21,
      "outputs": [
        {
          "output_type": "stream",
          "text": [
            "Number of users: 27530, Number of Items: 10620, Min rating: 1.0, Max rating: 5.0\n"
          ],
          "name": "stdout"
        }
      ]
    },
    {
      "cell_type": "markdown",
      "metadata": {
        "id": "pZM1InZxM-Lp",
        "colab_type": "text"
      },
      "source": [
        "Nous préparons notre training et validation set"
      ]
    },
    {
      "cell_type": "code",
      "metadata": {
        "id": "kHc3EeHaj-vz",
        "colab_type": "code",
        "colab": {}
      },
      "source": [
        "#La fonction ci-dessous nous retourne une fraction de notre datafarme sous un ordre aléatoire\n",
        "df_rs = df_rs.sample(frac=1, random_state=42)\n",
        "\n",
        "#Nous définissons notre input ( liste de tuple user item)\n",
        "x = df_rs[[\"user\", \"item\"]].values\n",
        "\n",
        "\n",
        "# On normalise notre target (le rating) pour faciliter le training\n",
        "y = df_rs[\"rating\"].apply(lambda x: (x - min_rating) / (max_rating - min_rating)).values\n",
        "\n",
        "# 70% du dataset sera utilisé pour le training et 30% pour la validation\n",
        "train_indices = int(0.7 * df_rs.shape[0])\n",
        "x_train, x_val, y_train, y_val = (\n",
        "    x[:train_indices],\n",
        "    x[train_indices:],\n",
        "    y[:train_indices],\n",
        "    y[train_indices:],\n",
        ")\n"
      ],
      "execution_count": 22,
      "outputs": []
    },
    {
      "cell_type": "markdown",
      "metadata": {
        "id": "7V1NlQraNOyH",
        "colab_type": "text"
      },
      "source": [
        "\n",
        "\n",
        "Nous créeons notre modèle en vectorisant le vecteur d'un user et le vecteur d'un article en un seul vecteur de dimension 50.\n",
        "Notre modèle calculera alors un score de correspondance  entre le vecteur de l'utilisateur et celui de l'article via un produit scalaire en ajoutant un biais par item et un biais par article . Le résultat sera entre un intervall de 0 et 1 via un sigmoid ( vu que nos ratings sont normalisés sur cette intervall)"
      ]
    },
    {
      "cell_type": "code",
      "metadata": {
        "id": "iVi6KW0PmHnk",
        "colab_type": "code",
        "colab": {}
      },
      "source": [
        "EMBEDDING_SIZE = 50\n",
        "\n",
        "\n",
        "class RecommenderNet(keras.Model):\n",
        "    def __init__(self, num_users, num_items, embedding_size, **kwargs):\n",
        "        super(RecommenderNet, self).__init__(**kwargs)\n",
        "        #Voici les inputs de notre modèle\n",
        "        self.num_users = num_users\n",
        "        self.num_items = num_items\n",
        "        self.embedding_size = embedding_size\n",
        "\n",
        "        \"\"\"Nous utilisons l'API layers de keras pour invoquer la fonction Embedding \n",
        "        permettant de transformer des indices positifs en un vecteur dense de taille fixe (ce sera la premiere couche de notre réseau qui nous servira d'encoder )\"\"\"\n",
        "\n",
        "        #On vectorise les user , Shape (None,27530,50)\n",
        "        # (Numéro du user : int) ---> (vecteur[50])\n",
        "        self.user_embedding = layers.Embedding(\n",
        "            num_users,\n",
        "            embedding_size,\n",
        "            embeddings_initializer=\"he_normal\",\n",
        "            embeddings_regularizer=keras.regularizers.l2(1e-6),\n",
        "        )\n",
        "\n",
        "        #On vectorise les items , Shape (None,10620,50)\n",
        "        self.item_embedding = layers.Embedding(\n",
        "            num_items,\n",
        "            embedding_size,\n",
        "            embeddings_initializer=\"he_normal\",\n",
        "            embeddings_regularizer=keras.regularizers.l2(1e-6),\n",
        "        )\n",
        "\n",
        "\n",
        "        #Etant donné que le modèle est un modéle linéaire de forme item_embedding * user_embedding + items_bias + item_bias , nous devons définir les biais\n",
        "        #Shape (None,10620,1)\n",
        "        self.item_bias = layers.Embedding(num_items, 1)\n",
        "\n",
        "        #Shape (None,10620,1)\n",
        "        self.user_bias = layers.Embedding(num_users, 1)\n",
        "\n",
        "    def call(self, inputs):\n",
        "        user_vector = self.user_embedding(inputs[:, 0])\n",
        "        user_bias = self.user_bias(inputs[:, 0])\n",
        "        item_vector = self.item_embedding(inputs[:, 1])\n",
        "        item_bias = self.item_bias(inputs[:, 1])\n",
        "\n",
        "        #Nous effectuons le produit scalaire entre les vecteurs encodés des articles et des utilisateurs pour fusionner les deux layers\n",
        "        dot_user_item = tf.tensordot(user_vector, item_vector, 2)\n",
        "\n",
        "        # nous ajoutons tout les composantes (y compris le biais)\n",
        "        x = dot_user_item + user_bias + item_bias\n",
        "\n",
        "        # La fonction d'activation sigmoid force le résultat a étre une valeur entre 0 et 1 (pour respecter notre normalisation)\n",
        "        return x\n",
        "\n",
        "\n",
        "\n"
      ],
      "execution_count": 23,
      "outputs": []
    },
    {
      "cell_type": "code",
      "metadata": {
        "id": "1mQzikz1DHVW",
        "colab_type": "code",
        "colab": {}
      },
      "source": [
        "model = RecommenderNet(num_users, num_items, EMBEDDING_SIZE)\n",
        "#Ici nous utilisons l'optimiseur Adam (va variant on Stochastic Gradient Descent) qui altère l'embedding lors du training pour minimiser la perte qui est representé par Binary crossentropy\n",
        "model.compile(\n",
        "    loss=tf.keras.losses.MeanSquaredError(), optimizer=keras.optimizers.Adam(lr=1e-4),\n",
        "     metrics=[tf.keras.metrics.RootMeanSquaredError(),\"mae\"])\n",
        "es = tf.keras.callbacks.EarlyStopping(monitor='val_root_mean_squared_error', mode='min', verbose=1, patience=10)"
      ],
      "execution_count": 24,
      "outputs": []
    },
    {
      "cell_type": "code",
      "metadata": {
        "id": "0uwmiTvrKI4l",
        "colab_type": "code",
        "colab": {}
      },
      "source": [
        "# Load the TensorBoard notebook extension.\n",
        "%load_ext tensorboard"
      ],
      "execution_count": 27,
      "outputs": []
    },
    {
      "cell_type": "markdown",
      "metadata": {
        "id": "OoQurs5yNlrd",
        "colab_type": "text"
      },
      "source": [
        "We train our model on the data split "
      ]
    },
    {
      "cell_type": "code",
      "metadata": {
        "id": "U3Glu3ZOmmyl",
        "colab_type": "code",
        "colab": {
          "base_uri": "https://localhost:8080/",
          "height": 1000
        },
        "outputId": "2296c43e-0622-413a-a30b-3f98ce0e8158"
      },
      "source": [
        "history = model.fit(\n",
        "    x=x_train,\n",
        "    y=y_train,\n",
        "    batch_size=200,\n",
        "    epochs=30,\n",
        "    verbose=1,\n",
        "    validation_data=(x_val, y_val),\n",
        "    #callbacks=[es],\n",
        ")\n"
      ],
      "execution_count": 25,
      "outputs": [
        {
          "output_type": "stream",
          "text": [
            "Epoch 1/30\n",
            "2531/2531 [==============================] - 19s 8ms/step - loss: 0.7653 - root_mean_squared_error: 0.8747 - mae: 0.8407 - val_loss: 0.6984 - val_root_mean_squared_error: 0.8356 - val_mae: 0.8018\n",
            "Epoch 2/30\n",
            "2531/2531 [==============================] - 19s 8ms/step - loss: 0.4161 - root_mean_squared_error: 0.6449 - mae: 0.6066 - val_loss: 0.3712 - val_root_mean_squared_error: 0.6090 - val_mae: 0.5711\n",
            "Epoch 3/30\n",
            "2531/2531 [==============================] - 19s 8ms/step - loss: 0.1006 - root_mean_squared_error: 0.3166 - mae: 0.2640 - val_loss: 0.2374 - val_root_mean_squared_error: 0.4867 - val_mae: 0.4449\n",
            "Epoch 4/30\n",
            "2531/2531 [==============================] - 19s 8ms/step - loss: 0.0764 - root_mean_squared_error: 0.2756 - mae: 0.2096 - val_loss: 0.2682 - val_root_mean_squared_error: 0.5174 - val_mae: 0.4824\n",
            "Epoch 5/30\n",
            "2531/2531 [==============================] - 19s 8ms/step - loss: 0.0683 - root_mean_squared_error: 0.2604 - mae: 0.1961 - val_loss: 0.2759 - val_root_mean_squared_error: 0.5248 - val_mae: 0.4927\n",
            "Epoch 6/30\n",
            "2531/2531 [==============================] - 19s 8ms/step - loss: 0.0627 - root_mean_squared_error: 0.2492 - mae: 0.1842 - val_loss: 0.2903 - val_root_mean_squared_error: 0.5383 - val_mae: 0.5077\n",
            "Epoch 7/30\n",
            "2531/2531 [==============================] - 19s 8ms/step - loss: 0.0593 - root_mean_squared_error: 0.2422 - mae: 0.1776 - val_loss: 0.2978 - val_root_mean_squared_error: 0.5452 - val_mae: 0.5154\n",
            "Epoch 8/30\n",
            "2531/2531 [==============================] - 19s 8ms/step - loss: 0.0564 - root_mean_squared_error: 0.2362 - mae: 0.1718 - val_loss: 0.2991 - val_root_mean_squared_error: 0.5463 - val_mae: 0.5170\n",
            "Epoch 9/30\n",
            "2531/2531 [==============================] - 19s 8ms/step - loss: 0.0547 - root_mean_squared_error: 0.2324 - mae: 0.1676 - val_loss: 0.3069 - val_root_mean_squared_error: 0.5533 - val_mae: 0.5242\n",
            "Epoch 10/30\n",
            "2531/2531 [==============================] - 19s 8ms/step - loss: 0.0535 - root_mean_squared_error: 0.2297 - mae: 0.1653 - val_loss: 0.3048 - val_root_mean_squared_error: 0.5515 - val_mae: 0.5224\n",
            "Epoch 11/30\n",
            "2531/2531 [==============================] - 19s 8ms/step - loss: 0.0525 - root_mean_squared_error: 0.2275 - mae: 0.1631 - val_loss: 0.3071 - val_root_mean_squared_error: 0.5535 - val_mae: 0.5245\n",
            "Epoch 12/30\n",
            "2531/2531 [==============================] - 19s 8ms/step - loss: 0.0510 - root_mean_squared_error: 0.2243 - mae: 0.1604 - val_loss: 0.3006 - val_root_mean_squared_error: 0.5476 - val_mae: 0.5186\n",
            "Epoch 13/30\n",
            "2531/2531 [==============================] - 20s 8ms/step - loss: 0.0507 - root_mean_squared_error: 0.2234 - mae: 0.1593 - val_loss: 0.3033 - val_root_mean_squared_error: 0.5500 - val_mae: 0.5211\n",
            "Epoch 14/30\n",
            "2531/2531 [==============================] - 21s 8ms/step - loss: 0.0496 - root_mean_squared_error: 0.2211 - mae: 0.1577 - val_loss: 0.2986 - val_root_mean_squared_error: 0.5457 - val_mae: 0.5168\n",
            "Epoch 15/30\n",
            "2531/2531 [==============================] - 21s 8ms/step - loss: 0.0489 - root_mean_squared_error: 0.2194 - mae: 0.1559 - val_loss: 0.2938 - val_root_mean_squared_error: 0.5414 - val_mae: 0.5125\n",
            "Epoch 16/30\n",
            "2531/2531 [==============================] - 21s 8ms/step - loss: 0.0482 - root_mean_squared_error: 0.2178 - mae: 0.1547 - val_loss: 0.2915 - val_root_mean_squared_error: 0.5391 - val_mae: 0.5103\n",
            "Epoch 17/30\n",
            "2531/2531 [==============================] - 21s 8ms/step - loss: 0.0479 - root_mean_squared_error: 0.2171 - mae: 0.1539 - val_loss: 0.2902 - val_root_mean_squared_error: 0.5380 - val_mae: 0.5090\n",
            "Epoch 18/30\n",
            "2531/2531 [==============================] - 21s 8ms/step - loss: 0.0473 - root_mean_squared_error: 0.2156 - mae: 0.1533 - val_loss: 0.2802 - val_root_mean_squared_error: 0.5286 - val_mae: 0.4996\n",
            "Epoch 19/30\n",
            "2531/2531 [==============================] - 19s 8ms/step - loss: 0.0466 - root_mean_squared_error: 0.2139 - mae: 0.1515 - val_loss: 0.2795 - val_root_mean_squared_error: 0.5279 - val_mae: 0.4988\n",
            "Epoch 20/30\n",
            "2531/2531 [==============================] - 19s 8ms/step - loss: 0.0461 - root_mean_squared_error: 0.2128 - mae: 0.1506 - val_loss: 0.2763 - val_root_mean_squared_error: 0.5249 - val_mae: 0.4956\n",
            "Epoch 21/30\n",
            "2531/2531 [==============================] - 19s 8ms/step - loss: 0.0460 - root_mean_squared_error: 0.2125 - mae: 0.1507 - val_loss: 0.2723 - val_root_mean_squared_error: 0.5210 - val_mae: 0.4917\n",
            "Epoch 22/30\n",
            "2531/2531 [==============================] - 19s 8ms/step - loss: 0.0454 - root_mean_squared_error: 0.2112 - mae: 0.1496 - val_loss: 0.2702 - val_root_mean_squared_error: 0.5190 - val_mae: 0.4896\n",
            "Epoch 23/30\n",
            "2531/2531 [==============================] - 19s 8ms/step - loss: 0.0449 - root_mean_squared_error: 0.2099 - mae: 0.1486 - val_loss: 0.2636 - val_root_mean_squared_error: 0.5126 - val_mae: 0.4832\n",
            "Epoch 24/30\n",
            "2531/2531 [==============================] - 19s 8ms/step - loss: 0.0447 - root_mean_squared_error: 0.2094 - mae: 0.1483 - val_loss: 0.2595 - val_root_mean_squared_error: 0.5086 - val_mae: 0.4791\n",
            "Epoch 25/30\n",
            "2531/2531 [==============================] - 19s 8ms/step - loss: 0.0440 - root_mean_squared_error: 0.2079 - mae: 0.1469 - val_loss: 0.2578 - val_root_mean_squared_error: 0.5069 - val_mae: 0.4772\n",
            "Epoch 26/30\n",
            "2531/2531 [==============================] - 19s 8ms/step - loss: 0.0440 - root_mean_squared_error: 0.2078 - mae: 0.1470 - val_loss: 0.2528 - val_root_mean_squared_error: 0.5019 - val_mae: 0.4722\n",
            "Epoch 27/30\n",
            "2531/2531 [==============================] - 19s 8ms/step - loss: 0.0442 - root_mean_squared_error: 0.2082 - mae: 0.1477 - val_loss: 0.2474 - val_root_mean_squared_error: 0.4966 - val_mae: 0.4666\n",
            "Epoch 28/30\n",
            "2531/2531 [==============================] - 19s 8ms/step - loss: 0.0436 - root_mean_squared_error: 0.2068 - mae: 0.1465 - val_loss: 0.2455 - val_root_mean_squared_error: 0.4946 - val_mae: 0.4646\n",
            "Epoch 29/30\n",
            "2531/2531 [==============================] - 19s 8ms/step - loss: 0.0434 - root_mean_squared_error: 0.2062 - mae: 0.1460 - val_loss: 0.2444 - val_root_mean_squared_error: 0.4935 - val_mae: 0.4634\n",
            "Epoch 30/30\n",
            "2531/2531 [==============================] - 19s 8ms/step - loss: 0.0428 - root_mean_squared_error: 0.2049 - mae: 0.1449 - val_loss: 0.2421 - val_root_mean_squared_error: 0.4911 - val_mae: 0.4608\n"
          ],
          "name": "stdout"
        }
      ]
    },
    {
      "cell_type": "markdown",
      "metadata": {
        "id": "uC2QssXGNs2U",
        "colab_type": "text"
      },
      "source": [
        "PLot training , and validation rmse"
      ]
    },
    {
      "cell_type": "code",
      "metadata": {
        "id": "2hDdqItemyFC",
        "colab_type": "code",
        "colab": {
          "base_uri": "https://localhost:8080/",
          "height": 295
        },
        "outputId": "e89025b1-b3a8-4ddf-abde-864f28eed3e7"
      },
      "source": [
        "plt.plot(history.history[\"root_mean_squared_error\"])\n",
        "plt.plot(history.history[\"val_root_mean_squared_error\"])\n",
        "plt.title(\"model root_mean_squared_error\")\n",
        "plt.ylabel(\"root_mean_squared_error\")\n",
        "plt.xlabel(\"epoch\")\n",
        "plt.legend([\"train\", \"test\"], loc=\"upper left\")\n",
        "plt.show()"
      ],
      "execution_count": 26,
      "outputs": [
        {
          "output_type": "display_data",
          "data": {
            "image/png": "[encoded data removed]",
            "text/plain": [
              "<Figure size 432x288 with 1 Axes>"
            ]
          },
          "metadata": {
            "tags": [],
            "needs_background": "light"
          }
        }
      ]
    },
    {
      "cell_type": "markdown",
      "metadata": {
        "id": "GPFt0eM8ziEt",
        "colab_type": "text"
      },
      "source": [
        "source = \"Building a Recommendation System Using Neural Network Embeddings\" Will Kohersen"
      ]
    },
    {
      "cell_type": "code",
      "metadata": {
        "id": "LE0CTVQ6q0mz",
        "colab_type": "code",
        "colab": {}
      },
      "source": [
        ""
      ],
      "execution_count": null,
      "outputs": []
    }
  ]
}