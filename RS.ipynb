{
  "nbformat": 4,
  "nbformat_minor": 0,
  "metadata": {
    "colab": {
      "name": " RS.ipynb",
      "provenance": [],
      "collapsed_sections": [],
      "authorship_tag": "ABX9TyMlbQ0qotl5Yx8UGq2QVDIP",
      "include_colab_link": true
    },
    "kernelspec": {
      "name": "python3",
      "display_name": "Python 3"
    },
    "accelerator": "GPU"
  },
  "cells": [
    {
      "cell_type": "markdown",
      "metadata": {
        "id": "view-in-github",
        "colab_type": "text"
      },
      "source": [
        "<a href=\"https://colab.research.google.com/github/8Raouf24/PFE/blob/master/RS.ipynb\" target=\"_parent\"><img src=\"https://colab.research.google.com/assets/colab-badge.svg\" alt=\"Open In Colab\"/></a>"
      ]
    },
    {
      "cell_type": "markdown",
      "metadata": {
        "id": "EYxZxCGxfR0a"
      },
      "source": [
        "Voici le notebook contenant le code du Filtrage collaboratif . On essaye de deviner la note donné par des utilisateurs aux articles d'Amazon qu'ils n'ont pas notés . Voici les étapes qui seront suivis :\n",
        "\n",
        "\n",
        "1.   Charger les données et les transformer en DataFrame\n",
        "2.   Pré-traitement des données pour faciliter le training\n",
        "3.   Création du réseaux de neuronnes \n",
        "4.   Training du réseaux de neuronnes\n",
        "5.   Recommandation\n",
        "\n",
        "\n",
        "\n",
        "\n",
        "\n",
        "\n"
      ]
    },
    {
      "cell_type": "markdown",
      "metadata": {
        "id": "jVzObeCzKyDN"
      },
      "source": [
        ""
      ]
    },
    {
      "cell_type": "code",
      "metadata": {
        "id": "BHKmM3Gqhid0"
      },
      "source": [
        "import pandas as pd\n",
        "import numpy as np\n",
        "from zipfile import ZipFile\n",
        "import tensorflow as tf\n",
        "from tensorflow import keras\n",
        "from tensorflow.keras import layers,callbacks\n",
        "from keras.models import Sequential\n",
        "from pathlib import Path\n",
        "from sklearn.metrics import r2_score\n",
        "import gzip\n",
        "import matplotlib.pyplot as plt\n",
        "import json\n",
        "import math"
      ],
      "execution_count": 1,
      "outputs": []
    },
    {
      "cell_type": "markdown",
      "metadata": {
        "id": "VSs-4_UVMPmM"
      },
      "source": [
        "Tout d'abord , nous téléchargons la base de données sur laquelle nous effectuerons nos travaux. Dans le cas échant nous utiliserons \" Musical_Instruments_5\" qui contient des articles d'Amazon appartenant a la catégorie \" Instrument musical \" ayant été noté par au moins 5  utilisateurs."
      ]
    },
    {
      "cell_type": "code",
      "metadata": {
        "id": "KVWzbaVQiNbP",
        "outputId": "60f73e8f-9763-496e-ad01-d5adac000cc1",
        "colab": {
          "base_uri": "https://localhost:8080/",
          "height": 204
        }
      },
      "source": [
        "!wget http://deepyeti.ucsd.edu/jianmo/amazon/categoryFilesSmall/Digital_Music_5.json.gz"
      ],
      "execution_count": 10,
      "outputs": [
        {
          "output_type": "stream",
          "text": [
            "--2020-10-26 20:10:16--  http://deepyeti.ucsd.edu/jianmo/amazon/categoryFilesSmall/Digital_Music_5.json.gz\n",
            "Resolving deepyeti.ucsd.edu (deepyeti.ucsd.edu)... 169.228.63.50\n",
            "Connecting to deepyeti.ucsd.edu (deepyeti.ucsd.edu)|169.228.63.50|:80... connected.\n",
            "HTTP request sent, awaiting response... 200 OK\n",
            "Length: 19408584 (19M) [application/octet-stream]\n",
            "Saving to: ‘Digital_Music_5.json.gz’\n",
            "\n",
            "Digital_Music_5.jso 100%[===================>]  18.51M  19.7MB/s    in 0.9s    \n",
            "\n",
            "2020-10-26 20:10:18 (19.7 MB/s) - ‘Digital_Music_5.json.gz’ saved [19408584/19408584]\n",
            "\n"
          ],
          "name": "stdout"
        }
      ]
    },
    {
      "cell_type": "code",
      "metadata": {
        "id": "PhaO-gitK2CC",
        "outputId": "7baf8b42-d38b-432f-8ab1-9251f6f0d12e",
        "colab": {
          "base_uri": "https://localhost:8080/",
          "height": 204
        }
      },
      "source": [
        "!wget http://deepyeti.ucsd.edu/jianmo/amazon/metaFiles/meta_Digital_Music.json.gz\n"
      ],
      "execution_count": 11,
      "outputs": [
        {
          "output_type": "stream",
          "text": [
            "--2020-10-26 20:10:27--  http://deepyeti.ucsd.edu/jianmo/amazon/metaFiles/meta_Digital_Music.json.gz\n",
            "Resolving deepyeti.ucsd.edu (deepyeti.ucsd.edu)... 169.228.63.50\n",
            "Connecting to deepyeti.ucsd.edu (deepyeti.ucsd.edu)|169.228.63.50|:80... connected.\n",
            "HTTP request sent, awaiting response... 200 OK\n",
            "Length: 12164395 (12M) [application/octet-stream]\n",
            "Saving to: ‘meta_Digital_Music.json.gz’\n",
            "\n",
            "meta_Digital_Music. 100%[===================>]  11.60M  15.6MB/s    in 0.7s    \n",
            "\n",
            "2020-10-26 20:10:28 (15.6 MB/s) - ‘meta_Digital_Music.json.gz’ saved [12164395/12164395]\n",
            "\n"
          ],
          "name": "stdout"
        }
      ]
    },
    {
      "cell_type": "markdown",
      "metadata": {
        "id": "WhlgTOzmg4CN"
      },
      "source": [
        "Nous chargeons nos données depuis notre fichier json sous le format d'une liste afin de pouvoir faire la conversion vers un DataFrame."
      ]
    },
    {
      "cell_type": "code",
      "metadata": {
        "id": "34jSgxH-iib-",
        "outputId": "a354dd77-e497-4e43-9a43-378ee61d707a",
        "colab": {
          "base_uri": "https://localhost:8080/",
          "height": 71
        }
      },
      "source": [
        "#Chargement des données sous le format liste\n",
        "def vectorise(path):\n",
        "  liste = []\n",
        "  with gzip.open(path) as f:\n",
        "      for l in f:\n",
        "          liste.append(json.loads(l.strip()))\n",
        "  return liste\n",
        "    \n",
        "data = vectorise('Musical_Instruments_5.json.gz')\n",
        "# Nombre total de produit\n",
        "print(len(data))\n",
        "\n",
        "# Un exemple de produit\n",
        "print(data[0])"
      ],
      "execution_count": 12,
      "outputs": [
        {
          "output_type": "stream",
          "text": [
            "231392\n",
            "{'overall': 5.0, 'verified': True, 'reviewTime': '10 30, 2016', 'reviewerID': 'A3FO5AKVTFRCRJ', 'asin': '0739079891', 'reviewerName': 'francisco', 'reviewText': \"It's good for beginners\", 'summary': 'Five Stars', 'unixReviewTime': 1477785600}\n"
          ],
          "name": "stdout"
        }
      ]
    },
    {
      "cell_type": "markdown",
      "metadata": {
        "id": "EXvcBV1AhT0x"
      },
      "source": [
        "Une fois notre Dataframe crée , nous le filtrerons afin de récolter les données pertinantes pour notre systéme de recommandation , c'est à dire les utilisateurs , les articles , et les ratings."
      ]
    },
    {
      "cell_type": "code",
      "metadata": {
        "id": "3vn6W1cxir8F",
        "outputId": "57e4de98-d6aa-4c34-a06b-5a6214abb4d4",
        "colab": {
          "base_uri": "https://localhost:8080/",
          "height": 85
        }
      },
      "source": [
        "#Transformation de nos données depuis le format liste vers le format dataframe\n",
        "df = pd.DataFrame.from_dict(data)\n",
        "\n",
        "data_dict = {'userID':df['reviewerID'],'itemID':df['asin'],'rating':df['overall']}\n",
        "df_rs = pd.DataFrame.from_dict(data_dict)\n",
        "df = df_rs\n",
        "\n",
        "#Un exemple de ligne de notre dataframe\n",
        "print(df_rs.iloc[0])"
      ],
      "execution_count": 13,
      "outputs": [
        {
          "output_type": "stream",
          "text": [
            "userID    A3FO5AKVTFRCRJ\n",
            "itemID        0739079891\n",
            "rating                 5\n",
            "Name: 0, dtype: object\n"
          ],
          "name": "stdout"
        }
      ]
    },
    {
      "cell_type": "markdown",
      "metadata": {
        "id": "gXwl2ZgVMnoD"
      },
      "source": [
        "Ici , les prétraitements consisteront a transformer nos utilisateurs et nos articles en des indices d'entiers naturels."
      ]
    },
    {
      "cell_type": "code",
      "metadata": {
        "id": "gDk_GD3fi2Kl",
        "outputId": "ffb59ded-55f3-481f-a8eb-48b8614fd79f",
        "colab": {
          "base_uri": "https://localhost:8080/",
          "height": 34
        }
      },
      "source": [
        "#Tout d'abord , nous recuillons les users de facon unique dans une liste\n",
        "user_ids = df_rs[\"userID\"].unique().tolist()\n",
        "#Nous représentons chaque utilisateur de notre liste en un nombre entier et vice versa\n",
        "user2user_encoded = {x: i for i, x in enumerate(user_ids)}\n",
        "userencoded2user = {i: x for i, x in enumerate(user_ids)}\n",
        "\n",
        "#Meme travail pour les articles\n",
        "item_ids = df_rs[\"itemID\"].unique().tolist()\n",
        "item2item_encoded = {x: i for i, x in enumerate(item_ids)}\n",
        "item_encoded2item = {i: x for i, x in enumerate(item_ids)}\n",
        "\n",
        "#Nous remplacons les colonnes de notre DF contenant les ID des utilisateurs et des articles sous format caractères par le format encodé en  nombre entier\n",
        "df_rs[\"user\"] = df_rs[\"userID\"].map(user2user_encoded)\n",
        "df_rs[\"item\"] = df_rs[\"itemID\"].map(item2item_encoded)\n",
        "\n",
        "#Nous récupérons la taille des vecteurs des utilisateurs et articles\n",
        "num_users = len(user2user_encoded)\n",
        "num_items = len(item_encoded2item)\n",
        "\n",
        "#Nous covnertissions les notes du format int au format float\n",
        "df_rs[\"rating\"] = df_rs[\"rating\"].values.astype(np.float32)\n",
        "\n",
        "#Le min et le max seront utilisés pour la normalisation un peu plus tard\n",
        "min_rating = min(df_rs[\"rating\"])\n",
        "max_rating = max(df_rs[\"rating\"])\n",
        "\n",
        "print(\n",
        "    \"Number of users: {}, Number of Items: {}, Min rating: {}, Max rating: {}\".format(\n",
        "        num_users, num_items, min_rating, max_rating\n",
        "    )\n",
        ")\n"
      ],
      "execution_count": 14,
      "outputs": [
        {
          "output_type": "stream",
          "text": [
            "Number of users: 27530, Number of Items: 10620, Min rating: 1.0, Max rating: 5.0\n"
          ],
          "name": "stdout"
        }
      ]
    },
    {
      "cell_type": "markdown",
      "metadata": {
        "id": "pZM1InZxM-Lp"
      },
      "source": [
        "Nous préparons notre training et validation set"
      ]
    },
    {
      "cell_type": "code",
      "metadata": {
        "id": "kHc3EeHaj-vz",
        "outputId": "69245e57-69ff-40f3-c2d7-67ed0c185391",
        "colab": {
          "base_uri": "https://localhost:8080/",
          "height": 136
        }
      },
      "source": [
        "#La fonction ci-dessous nous retourne une fraction de notre datafarme sous un ordre aléatoire\n",
        "df_rs = df_rs.sample(frac=1, random_state=42)\n",
        "\n",
        "#Nous définissons notre input ( liste de tuple user item)\n",
        "x = df_rs[[\"user\", \"item\"]].values\n",
        "print(x)\n",
        "\n",
        "# On normalise notre target (le rating) pour faciliter le training\n",
        "y = df_rs[\"rating\"].values#.apply(lambda x: (x - min_rating) / (max_rating - min_rating)).values\n",
        "\n",
        "# 70% du dataset sera utilisé pour le training et 30% pour la validation\n",
        "train_indices = int(0.7 * df_rs.shape[0])\n",
        "x_train, x_val, y_train, y_val = (\n",
        "    x[:train_indices],\n",
        "    x[train_indices:],\n",
        "    y[:train_indices],\n",
        "    y[train_indices:],\n",
        ")\n"
      ],
      "execution_count": 15,
      "outputs": [
        {
          "output_type": "stream",
          "text": [
            "[[ 6178  4621]\n",
            " [ 3115  4673]\n",
            " [ 6455  3462]\n",
            " ...\n",
            " [18817  5460]\n",
            " [  369  6410]\n",
            " [ 2291  4979]]\n"
          ],
          "name": "stdout"
        }
      ]
    },
    {
      "cell_type": "markdown",
      "metadata": {
        "id": "7V1NlQraNOyH"
      },
      "source": [
        "\n",
        "\n",
        "Nous créeons notre modèle en vectorisant le vecteur d'un user et le vecteur d'un article en un seul vecteur de dimension 50.\n",
        "Notre modèle calculera alors un score de correspondance  entre le vecteur de l'utilisateur et celui de l'article via un produit scalaire en ajoutant un biais par item et un biais par article . Le résultat sera entre un intervall de 0 et 1 via un sigmoid ( vu que nos ratings sont normalisés sur cette intervall)"
      ]
    },
    {
      "cell_type": "code",
      "metadata": {
        "id": "25NH_yd9k5dS"
      },
      "source": [
        "from keras.layers import Input, Embedding, Dot, Reshape, Dense\n",
        "from keras.models import Model\n",
        "\n",
        "def recommandation_embedding_model(embedding_size = 50, classification = False):\n",
        "    \"\"\"Model to embed books and wikilinks using the Keras functional API.\n",
        "       Trained to discern if a link is present in on a book's page\"\"\"\n",
        "    \n",
        "    # Both inputs are 1-dimensional\n",
        "    user = Input(name = 'user', shape = [1])\n",
        "    item = Input(name = 'item', shape = [1])\n",
        "    \n",
        "    # Embedding the book (shape will be (None, 1, 50))\n",
        "    user_embedding = Embedding(name = 'User_Embedding',\n",
        "                               input_dim = num_users,\n",
        "                               output_dim = embedding_size,\n",
        "                               embeddings_initializer=\"he_normal\",\n",
        "            embeddings_regularizer=keras.regularizers.l2(1e-6))(user)\n",
        "    \n",
        "    # Embedding the link (shape will be (None, 1, 50))\n",
        "    item_embedding = Embedding(name = 'Item_Embedding',\n",
        "                               input_dim = num_items,\n",
        "                               output_dim = embedding_size,\n",
        "                               embeddings_initializer=\"he_normal\",\n",
        "            embeddings_regularizer=keras.regularizers.l2(1e-6))(item)\n",
        "\n",
        "    item_bias = layers.Embedding(name = 'Item_Bias',input_dim =num_items, output_dim =1)\n",
        "\n",
        "    \n",
        "    user_bias = layers.Embedding(name = 'User_Bias',input_dim = num_users,output_dim = 1)\n",
        "    \n",
        "    # Merge the layers with a dot product along the second axis \n",
        "    # (shape will be (None, 1, 1))\n",
        "    merged = Dot(name = 'dot_product', normalize = True, \n",
        "                 axes = 2)([user_embedding, item_embedding])\n",
        "    \n",
        "    # Reshape to be a single number (shape will be (None, 1))\n",
        "    merged = Reshape(target_shape = [1])(merged) \n",
        "    \n",
        "    # Squash outputs for classification\n",
        "    out = Dense(1, activation = 'sigmoid')(merged)\n",
        "    out = out + item_bias + user_bias\n",
        "    model = Model(inputs = [book, link], outputs = out)\n",
        "    \n",
        "    # Compile using specified optimizer and loss \n",
        "    model.compile(optimizer = 'Adam', loss = 'binary_crossentropy', \n",
        "                  metrics = ['accuracy'])\n",
        "    \n",
        "    return model\n"
      ],
      "execution_count": null,
      "outputs": []
    },
    {
      "cell_type": "code",
      "metadata": {
        "id": "cEVNffAdniHk",
        "outputId": "c4a53b61-e494-40e5-d8dc-b5e986f00e66",
        "colab": {
          "base_uri": "https://localhost:8080/",
          "height": 346
        }
      },
      "source": [
        "model = recommandation_embedding_model()\n",
        "model.summary()"
      ],
      "execution_count": null,
      "outputs": [
        {
          "output_type": "error",
          "ename": "ValueError",
          "evalue": "ignored",
          "traceback": [
            "\u001b[0;31m---------------------------------------------------------------------------\u001b[0m",
            "\u001b[0;31mValueError\u001b[0m                                Traceback (most recent call last)",
            "\u001b[0;32m<ipython-input-16-6cea625b4246>\u001b[0m in \u001b[0;36m<module>\u001b[0;34m()\u001b[0m\n\u001b[0;32m----> 1\u001b[0;31m \u001b[0mmodel\u001b[0m \u001b[0;34m=\u001b[0m \u001b[0mrecommandation_embedding_model\u001b[0m\u001b[0;34m(\u001b[0m\u001b[0;34m)\u001b[0m\u001b[0;34m\u001b[0m\u001b[0;34m\u001b[0m\u001b[0m\n\u001b[0m\u001b[1;32m      2\u001b[0m \u001b[0mmodel\u001b[0m\u001b[0;34m.\u001b[0m\u001b[0msummary\u001b[0m\u001b[0;34m(\u001b[0m\u001b[0;34m)\u001b[0m\u001b[0;34m\u001b[0m\u001b[0;34m\u001b[0m\u001b[0m\n",
            "\u001b[0;32m<ipython-input-15-c1a69898a2c9>\u001b[0m in \u001b[0;36mrecommandation_embedding_model\u001b[0;34m(embedding_size, classification)\u001b[0m\n\u001b[1;32m     39\u001b[0m     \u001b[0;31m# Squash outputs for classification\u001b[0m\u001b[0;34m\u001b[0m\u001b[0;34m\u001b[0m\u001b[0;34m\u001b[0m\u001b[0m\n\u001b[1;32m     40\u001b[0m     \u001b[0mout\u001b[0m \u001b[0;34m=\u001b[0m \u001b[0mDense\u001b[0m\u001b[0;34m(\u001b[0m\u001b[0;36m1\u001b[0m\u001b[0;34m,\u001b[0m \u001b[0mactivation\u001b[0m \u001b[0;34m=\u001b[0m \u001b[0;34m'sigmoid'\u001b[0m\u001b[0;34m)\u001b[0m\u001b[0;34m(\u001b[0m\u001b[0mmerged\u001b[0m\u001b[0;34m)\u001b[0m\u001b[0;34m\u001b[0m\u001b[0;34m\u001b[0m\u001b[0m\n\u001b[0;32m---> 41\u001b[0;31m     \u001b[0mout\u001b[0m \u001b[0;34m=\u001b[0m \u001b[0mout\u001b[0m \u001b[0;34m+\u001b[0m \u001b[0mitem_bias\u001b[0m \u001b[0;34m+\u001b[0m \u001b[0muser_bias\u001b[0m\u001b[0;34m\u001b[0m\u001b[0;34m\u001b[0m\u001b[0m\n\u001b[0m\u001b[1;32m     42\u001b[0m     \u001b[0mmodel\u001b[0m \u001b[0;34m=\u001b[0m \u001b[0mModel\u001b[0m\u001b[0;34m(\u001b[0m\u001b[0minputs\u001b[0m \u001b[0;34m=\u001b[0m \u001b[0;34m[\u001b[0m\u001b[0mbook\u001b[0m\u001b[0;34m,\u001b[0m \u001b[0mlink\u001b[0m\u001b[0;34m]\u001b[0m\u001b[0;34m,\u001b[0m \u001b[0moutputs\u001b[0m \u001b[0;34m=\u001b[0m \u001b[0mout\u001b[0m\u001b[0;34m)\u001b[0m\u001b[0;34m\u001b[0m\u001b[0;34m\u001b[0m\u001b[0m\n\u001b[1;32m     43\u001b[0m \u001b[0;34m\u001b[0m\u001b[0m\n",
            "\u001b[0;32m/usr/local/lib/python3.6/dist-packages/tensorflow/python/ops/math_ops.py\u001b[0m in \u001b[0;36mbinary_op_wrapper\u001b[0;34m(x, y)\u001b[0m\n\u001b[1;32m   1123\u001b[0m     \u001b[0;32mwith\u001b[0m \u001b[0mops\u001b[0m\u001b[0;34m.\u001b[0m\u001b[0mname_scope\u001b[0m\u001b[0;34m(\u001b[0m\u001b[0;32mNone\u001b[0m\u001b[0;34m,\u001b[0m \u001b[0mop_name\u001b[0m\u001b[0;34m,\u001b[0m \u001b[0;34m[\u001b[0m\u001b[0mx\u001b[0m\u001b[0;34m,\u001b[0m \u001b[0my\u001b[0m\u001b[0;34m]\u001b[0m\u001b[0;34m)\u001b[0m \u001b[0;32mas\u001b[0m \u001b[0mname\u001b[0m\u001b[0;34m:\u001b[0m\u001b[0;34m\u001b[0m\u001b[0;34m\u001b[0m\u001b[0m\n\u001b[1;32m   1124\u001b[0m       \u001b[0;32mtry\u001b[0m\u001b[0;34m:\u001b[0m\u001b[0;34m\u001b[0m\u001b[0;34m\u001b[0m\u001b[0m\n\u001b[0;32m-> 1125\u001b[0;31m         \u001b[0;32mreturn\u001b[0m \u001b[0mfunc\u001b[0m\u001b[0;34m(\u001b[0m\u001b[0mx\u001b[0m\u001b[0;34m,\u001b[0m \u001b[0my\u001b[0m\u001b[0;34m,\u001b[0m \u001b[0mname\u001b[0m\u001b[0;34m=\u001b[0m\u001b[0mname\u001b[0m\u001b[0;34m)\u001b[0m\u001b[0;34m\u001b[0m\u001b[0;34m\u001b[0m\u001b[0m\n\u001b[0m\u001b[1;32m   1126\u001b[0m       \u001b[0;32mexcept\u001b[0m \u001b[0;34m(\u001b[0m\u001b[0mTypeError\u001b[0m\u001b[0;34m,\u001b[0m \u001b[0mValueError\u001b[0m\u001b[0;34m)\u001b[0m \u001b[0;32mas\u001b[0m \u001b[0me\u001b[0m\u001b[0;34m:\u001b[0m\u001b[0;34m\u001b[0m\u001b[0;34m\u001b[0m\u001b[0m\n\u001b[1;32m   1127\u001b[0m         \u001b[0;31m# Even if dispatching the op failed, the RHS may be a tensor aware\u001b[0m\u001b[0;34m\u001b[0m\u001b[0;34m\u001b[0m\u001b[0;34m\u001b[0m\u001b[0m\n",
            "\u001b[0;32m/usr/local/lib/python3.6/dist-packages/tensorflow/python/util/dispatch.py\u001b[0m in \u001b[0;36mwrapper\u001b[0;34m(*args, **kwargs)\u001b[0m\n\u001b[1;32m    199\u001b[0m     \u001b[0;34m\"\"\"Call target, and fall back on dispatchers if there is a TypeError.\"\"\"\u001b[0m\u001b[0;34m\u001b[0m\u001b[0;34m\u001b[0m\u001b[0m\n\u001b[1;32m    200\u001b[0m     \u001b[0;32mtry\u001b[0m\u001b[0;34m:\u001b[0m\u001b[0;34m\u001b[0m\u001b[0;34m\u001b[0m\u001b[0m\n\u001b[0;32m--> 201\u001b[0;31m       \u001b[0;32mreturn\u001b[0m \u001b[0mtarget\u001b[0m\u001b[0;34m(\u001b[0m\u001b[0;34m*\u001b[0m\u001b[0margs\u001b[0m\u001b[0;34m,\u001b[0m \u001b[0;34m**\u001b[0m\u001b[0mkwargs\u001b[0m\u001b[0;34m)\u001b[0m\u001b[0;34m\u001b[0m\u001b[0;34m\u001b[0m\u001b[0m\n\u001b[0m\u001b[1;32m    202\u001b[0m     \u001b[0;32mexcept\u001b[0m \u001b[0;34m(\u001b[0m\u001b[0mTypeError\u001b[0m\u001b[0;34m,\u001b[0m \u001b[0mValueError\u001b[0m\u001b[0;34m)\u001b[0m\u001b[0;34m:\u001b[0m\u001b[0;34m\u001b[0m\u001b[0;34m\u001b[0m\u001b[0m\n\u001b[1;32m    203\u001b[0m       \u001b[0;31m# Note: convert_to_eager_tensor currently raises a ValueError, not a\u001b[0m\u001b[0;34m\u001b[0m\u001b[0;34m\u001b[0m\u001b[0;34m\u001b[0m\u001b[0m\n",
            "\u001b[0;32m/usr/local/lib/python3.6/dist-packages/tensorflow/python/ops/math_ops.py\u001b[0m in \u001b[0;36m_add_dispatch\u001b[0;34m(x, y, name)\u001b[0m\n\u001b[1;32m   1441\u001b[0m   if not isinstance(y, ops.Tensor) and not isinstance(\n\u001b[1;32m   1442\u001b[0m       y, sparse_tensor.SparseTensor):\n\u001b[0;32m-> 1443\u001b[0;31m     \u001b[0my\u001b[0m \u001b[0;34m=\u001b[0m \u001b[0mops\u001b[0m\u001b[0;34m.\u001b[0m\u001b[0mconvert_to_tensor\u001b[0m\u001b[0;34m(\u001b[0m\u001b[0my\u001b[0m\u001b[0;34m,\u001b[0m \u001b[0mdtype_hint\u001b[0m\u001b[0;34m=\u001b[0m\u001b[0mx\u001b[0m\u001b[0;34m.\u001b[0m\u001b[0mdtype\u001b[0m\u001b[0;34m.\u001b[0m\u001b[0mbase_dtype\u001b[0m\u001b[0;34m,\u001b[0m \u001b[0mname\u001b[0m\u001b[0;34m=\u001b[0m\u001b[0;34m\"y\"\u001b[0m\u001b[0;34m)\u001b[0m\u001b[0;34m\u001b[0m\u001b[0;34m\u001b[0m\u001b[0m\n\u001b[0m\u001b[1;32m   1444\u001b[0m   \u001b[0;32mif\u001b[0m \u001b[0mx\u001b[0m\u001b[0;34m.\u001b[0m\u001b[0mdtype\u001b[0m \u001b[0;34m==\u001b[0m \u001b[0mdtypes\u001b[0m\u001b[0;34m.\u001b[0m\u001b[0mstring\u001b[0m\u001b[0;34m:\u001b[0m\u001b[0;34m\u001b[0m\u001b[0;34m\u001b[0m\u001b[0m\n\u001b[1;32m   1445\u001b[0m     \u001b[0;32mreturn\u001b[0m \u001b[0mgen_math_ops\u001b[0m\u001b[0;34m.\u001b[0m\u001b[0madd\u001b[0m\u001b[0;34m(\u001b[0m\u001b[0mx\u001b[0m\u001b[0;34m,\u001b[0m \u001b[0my\u001b[0m\u001b[0;34m,\u001b[0m \u001b[0mname\u001b[0m\u001b[0;34m=\u001b[0m\u001b[0mname\u001b[0m\u001b[0;34m)\u001b[0m\u001b[0;34m\u001b[0m\u001b[0;34m\u001b[0m\u001b[0m\n",
            "\u001b[0;32m/usr/local/lib/python3.6/dist-packages/tensorflow/python/framework/ops.py\u001b[0m in \u001b[0;36mconvert_to_tensor\u001b[0;34m(value, dtype, name, as_ref, preferred_dtype, dtype_hint, ctx, accepted_result_types)\u001b[0m\n\u001b[1;32m   1497\u001b[0m \u001b[0;34m\u001b[0m\u001b[0m\n\u001b[1;32m   1498\u001b[0m     \u001b[0;32mif\u001b[0m \u001b[0mret\u001b[0m \u001b[0;32mis\u001b[0m \u001b[0;32mNone\u001b[0m\u001b[0;34m:\u001b[0m\u001b[0;34m\u001b[0m\u001b[0;34m\u001b[0m\u001b[0m\n\u001b[0;32m-> 1499\u001b[0;31m       \u001b[0mret\u001b[0m \u001b[0;34m=\u001b[0m \u001b[0mconversion_func\u001b[0m\u001b[0;34m(\u001b[0m\u001b[0mvalue\u001b[0m\u001b[0;34m,\u001b[0m \u001b[0mdtype\u001b[0m\u001b[0;34m=\u001b[0m\u001b[0mdtype\u001b[0m\u001b[0;34m,\u001b[0m \u001b[0mname\u001b[0m\u001b[0;34m=\u001b[0m\u001b[0mname\u001b[0m\u001b[0;34m,\u001b[0m \u001b[0mas_ref\u001b[0m\u001b[0;34m=\u001b[0m\u001b[0mas_ref\u001b[0m\u001b[0;34m)\u001b[0m\u001b[0;34m\u001b[0m\u001b[0;34m\u001b[0m\u001b[0m\n\u001b[0m\u001b[1;32m   1500\u001b[0m \u001b[0;34m\u001b[0m\u001b[0m\n\u001b[1;32m   1501\u001b[0m     \u001b[0;32mif\u001b[0m \u001b[0mret\u001b[0m \u001b[0;32mis\u001b[0m \u001b[0mNotImplemented\u001b[0m\u001b[0;34m:\u001b[0m\u001b[0;34m\u001b[0m\u001b[0;34m\u001b[0m\u001b[0m\n",
            "\u001b[0;32m/usr/local/lib/python3.6/dist-packages/tensorflow/python/framework/constant_op.py\u001b[0m in \u001b[0;36m_constant_tensor_conversion_function\u001b[0;34m(v, dtype, name, as_ref)\u001b[0m\n\u001b[1;32m    336\u001b[0m                                          as_ref=False):\n\u001b[1;32m    337\u001b[0m   \u001b[0m_\u001b[0m \u001b[0;34m=\u001b[0m \u001b[0mas_ref\u001b[0m\u001b[0;34m\u001b[0m\u001b[0;34m\u001b[0m\u001b[0m\n\u001b[0;32m--> 338\u001b[0;31m   \u001b[0;32mreturn\u001b[0m \u001b[0mconstant\u001b[0m\u001b[0;34m(\u001b[0m\u001b[0mv\u001b[0m\u001b[0;34m,\u001b[0m \u001b[0mdtype\u001b[0m\u001b[0;34m=\u001b[0m\u001b[0mdtype\u001b[0m\u001b[0;34m,\u001b[0m \u001b[0mname\u001b[0m\u001b[0;34m=\u001b[0m\u001b[0mname\u001b[0m\u001b[0;34m)\u001b[0m\u001b[0;34m\u001b[0m\u001b[0;34m\u001b[0m\u001b[0m\n\u001b[0m\u001b[1;32m    339\u001b[0m \u001b[0;34m\u001b[0m\u001b[0m\n\u001b[1;32m    340\u001b[0m \u001b[0;34m\u001b[0m\u001b[0m\n",
            "\u001b[0;32m/usr/local/lib/python3.6/dist-packages/tensorflow/python/framework/constant_op.py\u001b[0m in \u001b[0;36mconstant\u001b[0;34m(value, dtype, shape, name)\u001b[0m\n\u001b[1;32m    262\u001b[0m   \"\"\"\n\u001b[1;32m    263\u001b[0m   return _constant_impl(value, dtype, shape, name, verify_shape=False,\n\u001b[0;32m--> 264\u001b[0;31m                         allow_broadcast=True)\n\u001b[0m\u001b[1;32m    265\u001b[0m \u001b[0;34m\u001b[0m\u001b[0m\n\u001b[1;32m    266\u001b[0m \u001b[0;34m\u001b[0m\u001b[0m\n",
            "\u001b[0;32m/usr/local/lib/python3.6/dist-packages/tensorflow/python/framework/constant_op.py\u001b[0m in \u001b[0;36m_constant_impl\u001b[0;34m(value, dtype, shape, name, verify_shape, allow_broadcast)\u001b[0m\n\u001b[1;32m    273\u001b[0m       \u001b[0;32mwith\u001b[0m \u001b[0mtrace\u001b[0m\u001b[0;34m.\u001b[0m\u001b[0mTrace\u001b[0m\u001b[0;34m(\u001b[0m\u001b[0;34m\"tf.constant\"\u001b[0m\u001b[0;34m)\u001b[0m\u001b[0;34m:\u001b[0m\u001b[0;34m\u001b[0m\u001b[0;34m\u001b[0m\u001b[0m\n\u001b[1;32m    274\u001b[0m         \u001b[0;32mreturn\u001b[0m \u001b[0m_constant_eager_impl\u001b[0m\u001b[0;34m(\u001b[0m\u001b[0mctx\u001b[0m\u001b[0;34m,\u001b[0m \u001b[0mvalue\u001b[0m\u001b[0;34m,\u001b[0m \u001b[0mdtype\u001b[0m\u001b[0;34m,\u001b[0m \u001b[0mshape\u001b[0m\u001b[0;34m,\u001b[0m \u001b[0mverify_shape\u001b[0m\u001b[0;34m)\u001b[0m\u001b[0;34m\u001b[0m\u001b[0;34m\u001b[0m\u001b[0m\n\u001b[0;32m--> 275\u001b[0;31m     \u001b[0;32mreturn\u001b[0m \u001b[0m_constant_eager_impl\u001b[0m\u001b[0;34m(\u001b[0m\u001b[0mctx\u001b[0m\u001b[0;34m,\u001b[0m \u001b[0mvalue\u001b[0m\u001b[0;34m,\u001b[0m \u001b[0mdtype\u001b[0m\u001b[0;34m,\u001b[0m \u001b[0mshape\u001b[0m\u001b[0;34m,\u001b[0m \u001b[0mverify_shape\u001b[0m\u001b[0;34m)\u001b[0m\u001b[0;34m\u001b[0m\u001b[0;34m\u001b[0m\u001b[0m\n\u001b[0m\u001b[1;32m    276\u001b[0m \u001b[0;34m\u001b[0m\u001b[0m\n\u001b[1;32m    277\u001b[0m   \u001b[0mg\u001b[0m \u001b[0;34m=\u001b[0m \u001b[0mops\u001b[0m\u001b[0;34m.\u001b[0m\u001b[0mget_default_graph\u001b[0m\u001b[0;34m(\u001b[0m\u001b[0;34m)\u001b[0m\u001b[0;34m\u001b[0m\u001b[0;34m\u001b[0m\u001b[0m\n",
            "\u001b[0;32m/usr/local/lib/python3.6/dist-packages/tensorflow/python/framework/constant_op.py\u001b[0m in \u001b[0;36m_constant_eager_impl\u001b[0;34m(ctx, value, dtype, shape, verify_shape)\u001b[0m\n\u001b[1;32m    298\u001b[0m \u001b[0;32mdef\u001b[0m \u001b[0m_constant_eager_impl\u001b[0m\u001b[0;34m(\u001b[0m\u001b[0mctx\u001b[0m\u001b[0;34m,\u001b[0m \u001b[0mvalue\u001b[0m\u001b[0;34m,\u001b[0m \u001b[0mdtype\u001b[0m\u001b[0;34m,\u001b[0m \u001b[0mshape\u001b[0m\u001b[0;34m,\u001b[0m \u001b[0mverify_shape\u001b[0m\u001b[0;34m)\u001b[0m\u001b[0;34m:\u001b[0m\u001b[0;34m\u001b[0m\u001b[0;34m\u001b[0m\u001b[0m\n\u001b[1;32m    299\u001b[0m   \u001b[0;34m\"\"\"Implementation of eager constant.\"\"\"\u001b[0m\u001b[0;34m\u001b[0m\u001b[0;34m\u001b[0m\u001b[0m\n\u001b[0;32m--> 300\u001b[0;31m   \u001b[0mt\u001b[0m \u001b[0;34m=\u001b[0m \u001b[0mconvert_to_eager_tensor\u001b[0m\u001b[0;34m(\u001b[0m\u001b[0mvalue\u001b[0m\u001b[0;34m,\u001b[0m \u001b[0mctx\u001b[0m\u001b[0;34m,\u001b[0m \u001b[0mdtype\u001b[0m\u001b[0;34m)\u001b[0m\u001b[0;34m\u001b[0m\u001b[0;34m\u001b[0m\u001b[0m\n\u001b[0m\u001b[1;32m    301\u001b[0m   \u001b[0;32mif\u001b[0m \u001b[0mshape\u001b[0m \u001b[0;32mis\u001b[0m \u001b[0;32mNone\u001b[0m\u001b[0;34m:\u001b[0m\u001b[0;34m\u001b[0m\u001b[0;34m\u001b[0m\u001b[0m\n\u001b[1;32m    302\u001b[0m     \u001b[0;32mreturn\u001b[0m \u001b[0mt\u001b[0m\u001b[0;34m\u001b[0m\u001b[0;34m\u001b[0m\u001b[0m\n",
            "\u001b[0;32m/usr/local/lib/python3.6/dist-packages/tensorflow/python/framework/constant_op.py\u001b[0m in \u001b[0;36mconvert_to_eager_tensor\u001b[0;34m(value, ctx, dtype)\u001b[0m\n\u001b[1;32m     96\u001b[0m       \u001b[0mdtype\u001b[0m \u001b[0;34m=\u001b[0m \u001b[0mdtypes\u001b[0m\u001b[0;34m.\u001b[0m\u001b[0mas_dtype\u001b[0m\u001b[0;34m(\u001b[0m\u001b[0mdtype\u001b[0m\u001b[0;34m)\u001b[0m\u001b[0;34m.\u001b[0m\u001b[0mas_datatype_enum\u001b[0m\u001b[0;34m\u001b[0m\u001b[0;34m\u001b[0m\u001b[0m\n\u001b[1;32m     97\u001b[0m   \u001b[0mctx\u001b[0m\u001b[0;34m.\u001b[0m\u001b[0mensure_initialized\u001b[0m\u001b[0;34m(\u001b[0m\u001b[0;34m)\u001b[0m\u001b[0;34m\u001b[0m\u001b[0;34m\u001b[0m\u001b[0m\n\u001b[0;32m---> 98\u001b[0;31m   \u001b[0;32mreturn\u001b[0m \u001b[0mops\u001b[0m\u001b[0;34m.\u001b[0m\u001b[0mEagerTensor\u001b[0m\u001b[0;34m(\u001b[0m\u001b[0mvalue\u001b[0m\u001b[0;34m,\u001b[0m \u001b[0mctx\u001b[0m\u001b[0;34m.\u001b[0m\u001b[0mdevice_name\u001b[0m\u001b[0;34m,\u001b[0m \u001b[0mdtype\u001b[0m\u001b[0;34m)\u001b[0m\u001b[0;34m\u001b[0m\u001b[0;34m\u001b[0m\u001b[0m\n\u001b[0m\u001b[1;32m     99\u001b[0m \u001b[0;34m\u001b[0m\u001b[0m\n\u001b[1;32m    100\u001b[0m \u001b[0;34m\u001b[0m\u001b[0m\n",
            "\u001b[0;31mValueError\u001b[0m: Attempt to convert a value (<tensorflow.python.keras.layers.embeddings.Embedding object at 0x7f48e9bfbef0>) with an unsupported type (<class 'tensorflow.python.keras.layers.embeddings.Embedding'>) to a Tensor."
          ]
        }
      ]
    },
    {
      "cell_type": "code",
      "metadata": {
        "id": "iVi6KW0PmHnk"
      },
      "source": [
        "EMBEDDING_SIZE = 50\n",
        "\n",
        "\n",
        "class RecommenderNet(keras.Model):\n",
        "    def __init__(self, num_users, num_items, embedding_size, **kwargs):\n",
        "        super(RecommenderNet, self).__init__(**kwargs)\n",
        "        #Voici les inputs de notre modèle\n",
        "        self.num_users = num_users\n",
        "        self.num_items = num_items\n",
        "        self.embedding_size = embedding_size\n",
        "\n",
        "        \"\"\"Nous utilisons l'API layers de keras pour invoquer la fonction Embedding \n",
        "        permettant de transformer des indices positifs en un vecteur dense de taille fixe (ce sera la premiere couche de notre réseau qui nous servira d'encoder )\"\"\"\n",
        "\n",
        "        #On vectorise les user , Shape (None,27530,50)\n",
        "        # (Numéro du user : int) ---> (vecteur[50])\n",
        "        self.user_embedding = layers.Embedding(\n",
        "            num_users,\n",
        "            embedding_size,\n",
        "            embeddings_initializer=\"he_normal\",\n",
        "            embeddings_regularizer=keras.regularizers.l2(1e-6),\n",
        "        )\n",
        "\n",
        "        #On vectorise les items , Shape (None,10620,50)\n",
        "        self.item_embedding = layers.Embedding(\n",
        "            num_items,\n",
        "            embedding_size,\n",
        "            embeddings_initializer=\"he_normal\",\n",
        "            embeddings_regularizer=keras.regularizers.l2(1e-6),\n",
        "        )\n",
        "\n",
        "\n",
        "        #Etant donné que le modèle est un modéle linéaire de forme item_embedding * user_embedding + items_bias + item_bias , nous devons définir les biais\n",
        "        #Shape (None,10620,1)\n",
        "        self.item_bias = layers.Embedding(num_items, 1)\n",
        "\n",
        "        #Shape (None,10620,1)\n",
        "        self.user_bias = layers.Embedding(num_users, 1)\n",
        "\n",
        "    def call(self, inputs):\n",
        "        user_vector = self.user_embedding(inputs[:, 0])\n",
        "        user_bias = self.user_bias(inputs[:, 0])\n",
        "        item_vector = self.item_embedding(inputs[:, 1])\n",
        "        item_bias = self.item_bias(inputs[:, 1])\n",
        "\n",
        "        #Nous effectuons le produit scalaire entre les vecteurs encodés des articles et des utilisateurs pour fusionner les deux layers\n",
        "        dot_user_item = tf.tensordot(user_vector, item_vector, 2)\n",
        "\n",
        "        # nous ajoutons tout les composantes (y compris le biais)\n",
        "        x = dot_user_item + user_bias + item_bias\n",
        "\n",
        "        # La fonction d'activation sigmoid force le résultat a étre une valeur entre 0 et 1 (pour respecter notre normalisation)\n",
        "        return x\n",
        "\n",
        "\n",
        "\n"
      ],
      "execution_count": null,
      "outputs": []
    },
    {
      "cell_type": "code",
      "metadata": {
        "id": "wBThuoX2ng8F"
      },
      "source": [
        ""
      ],
      "execution_count": null,
      "outputs": []
    },
    {
      "cell_type": "code",
      "metadata": {
        "id": "B8dNFzM4JfpP",
        "outputId": "e3d05bec-7d7e-4345-bcc9-3e126b378f2e",
        "colab": {
          "base_uri": "https://localhost:8080/",
          "height": 235
        }
      },
      "source": [
        "tf.keras.utils.plot_model(\n",
        "model,\n",
        "to_file=\"model.png\",\n",
        "show_shapes=True,\n",
        "show_layer_names=True,\n",
        "rankdir=\"TB\",\n",
        "expand_nested=False,\n",
        "dpi=96,\n",
        ")"
      ],
      "execution_count": null,
      "outputs": [
        {
          "output_type": "error",
          "ename": "NameError",
          "evalue": "ignored",
          "traceback": [
            "\u001b[0;31m---------------------------------------------------------------------------\u001b[0m",
            "\u001b[0;31mNameError\u001b[0m                                 Traceback (most recent call last)",
            "\u001b[0;32m<ipython-input-10-2f6db7075c73>\u001b[0m in \u001b[0;36m<module>\u001b[0;34m()\u001b[0m\n\u001b[1;32m      1\u001b[0m tf.keras.utils.plot_model(\n\u001b[0;32m----> 2\u001b[0;31m \u001b[0mmodel\u001b[0m\u001b[0;34m,\u001b[0m\u001b[0;34m\u001b[0m\u001b[0;34m\u001b[0m\u001b[0m\n\u001b[0m\u001b[1;32m      3\u001b[0m \u001b[0mto_file\u001b[0m\u001b[0;34m=\u001b[0m\u001b[0;34m\"model.png\"\u001b[0m\u001b[0;34m,\u001b[0m\u001b[0;34m\u001b[0m\u001b[0;34m\u001b[0m\u001b[0m\n\u001b[1;32m      4\u001b[0m \u001b[0mshow_shapes\u001b[0m\u001b[0;34m=\u001b[0m\u001b[0;32mTrue\u001b[0m\u001b[0;34m,\u001b[0m\u001b[0;34m\u001b[0m\u001b[0;34m\u001b[0m\u001b[0m\n\u001b[1;32m      5\u001b[0m \u001b[0mshow_layer_names\u001b[0m\u001b[0;34m=\u001b[0m\u001b[0;32mTrue\u001b[0m\u001b[0;34m,\u001b[0m\u001b[0;34m\u001b[0m\u001b[0;34m\u001b[0m\u001b[0m\n",
            "\u001b[0;31mNameError\u001b[0m: name 'model' is not defined"
          ]
        }
      ]
    },
    {
      "cell_type": "code",
      "metadata": {
        "id": "5rgtE-1fuUTL"
      },
      "source": [
        "model = RecommenderNet(num_users, num_items, EMBEDDING_SIZE)\n"
      ],
      "execution_count": null,
      "outputs": []
    },
    {
      "cell_type": "code",
      "metadata": {
        "id": "1mQzikz1DHVW"
      },
      "source": [
        "\n",
        "#Ici nous utilisons l'optimiseur Adam (va variant on Stochastic Gradient Descent) qui altère l'embedding lors du training pour minimiser la perte qui est representé par Binary crossentropy\n",
        "model.compile(\n",
        "    loss=tf.keras.losses.MeanSquaredError(), optimizer=keras.optimizers.Adam(lr=1e-4),\n",
        "     metrics=[tf.keras.metrics.RootMeanSquaredError(),\"mae\"])\n",
        "\n",
        "es = tf.keras.callbacks.EarlyStopping(monitor='val_root_mean_squared_error', mode='min', verbose=1, patience=10)\n"
      ],
      "execution_count": null,
      "outputs": []
    },
    {
      "cell_type": "code",
      "metadata": {
        "id": "3wvKDBLidPjT",
        "outputId": "4a5cd87c-3ef3-4e0e-a9e0-7a50288316a6",
        "colab": {
          "base_uri": "https://localhost:8080/",
          "height": 77
        }
      },
      "source": [
        "#Schéma de notre RN\n",
        "tf.keras.utils.plot_model(\n",
        "model,\n",
        "to_file=\"model.png\",\n",
        "show_shapes=True,\n",
        "show_layer_names=True,\n",
        "rankdir=\"TB\",\n",
        "expand_nested=False,\n",
        "dpi=96,\n",
        ")"
      ],
      "execution_count": null,
      "outputs": [
        {
          "output_type": "execute_result",
          "data": {
            "image/png": "[encoded data removed]",
            "text/plain": [
              "<IPython.core.display.Image object>"
            ]
          },
          "metadata": {
            "tags": []
          },
          "execution_count": 11
        }
      ]
    },
    {
      "cell_type": "markdown",
      "metadata": {
        "id": "OoQurs5yNlrd"
      },
      "source": [
        "We train our model on the data split "
      ]
    },
    {
      "cell_type": "code",
      "metadata": {
        "id": "U3Glu3ZOmmyl",
        "outputId": "32166f11-6fb4-45a3-e08f-de93924e49b5",
        "colab": {
          "base_uri": "https://localhost:8080/",
          "height": 609
        }
      },
      "source": [
        "history = model.fit(\n",
        "    x=x_train,\n",
        "    y=y_train,\n",
        "    batch_size=200,\n",
        "    epochs=30,\n",
        "    verbose=1,\n",
        "    validation_data=(x_val, y_val),\n",
        "    callbacks=[es],\n",
        ")\n"
      ],
      "execution_count": null,
      "outputs": [
        {
          "output_type": "stream",
          "text": [
            "Epoch 1/30\n",
            "810/810 [==============================] - 12s 15ms/step - loss: 20.7948 - root_mean_squared_error: 4.5601 - mae: 4.4531 - val_loss: 20.5571 - val_root_mean_squared_error: 4.5340 - val_mae: 4.4266\n",
            "Epoch 2/30\n",
            "810/810 [==============================] - 12s 14ms/step - loss: 18.4996 - root_mean_squared_error: 4.3011 - mae: 4.1874 - val_loss: 19.2361 - val_root_mean_squared_error: 4.3859 - val_mae: 4.2748\n",
            "Epoch 3/30\n",
            "810/810 [==============================] - 12s 15ms/step - loss: 13.6861 - root_mean_squared_error: 3.6994 - mae: 3.5647 - val_loss: 15.4716 - val_root_mean_squared_error: 3.9333 - val_mae: 3.8069\n",
            "Epoch 4/30\n",
            "810/810 [==============================] - 12s 15ms/step - loss: 6.6852 - root_mean_squared_error: 2.5855 - mae: 2.4437 - val_loss: 10.1580 - val_root_mean_squared_error: 3.1871 - val_mae: 3.0456\n",
            "Epoch 5/30\n",
            "810/810 [==============================] - 12s 14ms/step - loss: 2.1684 - root_mean_squared_error: 1.4723 - mae: 1.3155 - val_loss: 6.8582 - val_root_mean_squared_error: 2.6187 - val_mae: 2.4698\n",
            "Epoch 6/30\n",
            "810/810 [==============================] - 12s 15ms/step - loss: 1.2767 - root_mean_squared_error: 1.1296 - mae: 0.8866 - val_loss: 6.2832 - val_root_mean_squared_error: 2.5065 - val_mae: 2.3574\n",
            "Epoch 7/30\n",
            "810/810 [==============================] - 12s 14ms/step - loss: 1.2234 - root_mean_squared_error: 1.1058 - mae: 0.8328 - val_loss: 6.4387 - val_root_mean_squared_error: 2.5373 - val_mae: 2.3916\n",
            "Epoch 8/30\n",
            "810/810 [==============================] - 12s 14ms/step - loss: 1.1943 - root_mean_squared_error: 1.0925 - mae: 0.8237 - val_loss: 6.4343 - val_root_mean_squared_error: 2.5365 - val_mae: 2.3936\n",
            "Epoch 9/30\n",
            "810/810 [==============================] - 12s 14ms/step - loss: 1.1584 - root_mean_squared_error: 1.0759 - mae: 0.8091 - val_loss: 6.4826 - val_root_mean_squared_error: 2.5460 - val_mae: 2.4058\n",
            "Epoch 10/30\n",
            "810/810 [==============================] - 12s 14ms/step - loss: 1.1427 - root_mean_squared_error: 1.0686 - mae: 0.7997 - val_loss: 6.7364 - val_root_mean_squared_error: 2.5953 - val_mae: 2.4572\n",
            "Epoch 11/30\n",
            "810/810 [==============================] - 12s 14ms/step - loss: 1.0976 - root_mean_squared_error: 1.0473 - mae: 0.7780 - val_loss: 6.8505 - val_root_mean_squared_error: 2.6172 - val_mae: 2.4810\n",
            "Epoch 12/30\n",
            "810/810 [==============================] - 12s 14ms/step - loss: 1.0665 - root_mean_squared_error: 1.0323 - mae: 0.7631 - val_loss: 6.9487 - val_root_mean_squared_error: 2.6359 - val_mae: 2.5015\n",
            "Epoch 13/30\n",
            "810/810 [==============================] - 12s 15ms/step - loss: 1.0415 - root_mean_squared_error: 1.0201 - mae: 0.7532 - val_loss: 7.0065 - val_root_mean_squared_error: 2.6468 - val_mae: 2.5138\n",
            "Epoch 14/30\n",
            "810/810 [==============================] - 12s 15ms/step - loss: 1.0236 - root_mean_squared_error: 1.0113 - mae: 0.7445 - val_loss: 7.2880 - val_root_mean_squared_error: 2.6995 - val_mae: 2.5678\n",
            "Epoch 15/30\n",
            "810/810 [==============================] - 12s 15ms/step - loss: 1.0000 - root_mean_squared_error: 0.9996 - mae: 0.7351 - val_loss: 7.3367 - val_root_mean_squared_error: 2.7085 - val_mae: 2.5779\n",
            "Epoch 16/30\n",
            "810/810 [==============================] - 12s 15ms/step - loss: 0.9855 - root_mean_squared_error: 0.9923 - mae: 0.7287 - val_loss: 7.4583 - val_root_mean_squared_error: 2.7308 - val_mae: 2.6012\n",
            "Epoch 00016: early stopping\n"
          ],
          "name": "stdout"
        }
      ]
    },
    {
      "cell_type": "markdown",
      "metadata": {
        "id": "uC2QssXGNs2U"
      },
      "source": [
        "PLot training , and validation rmse"
      ]
    },
    {
      "cell_type": "code",
      "metadata": {
        "id": "2hDdqItemyFC",
        "outputId": "8ef48916-e20f-402a-9f68-e69a879b6a8d",
        "colab": {
          "base_uri": "https://localhost:8080/",
          "height": 295
        }
      },
      "source": [
        "plt.plot(history.history[\"root_mean_squared_error\"])\n",
        "plt.plot(history.history[\"val_root_mean_squared_error\"])\n",
        "plt.title(\"model root_mean_squared_error\")\n",
        "plt.ylabel(\"root_mean_squared_error\")\n",
        "plt.xlabel(\"epoch\")\n",
        "plt.legend([\"train\", \"test\"], loc=\"upper left\")\n",
        "plt.show()"
      ],
      "execution_count": null,
      "outputs": [
        {
          "output_type": "display_data",
          "data": {
            "image/png": "[encoded data removed]",
            "text/plain": [
              "<Figure size 432x288 with 1 Axes>"
            ]
          },
          "metadata": {
            "tags": [],
            "needs_background": "light"
          }
        }
      ]
    },
    {
      "cell_type": "markdown",
      "metadata": {
        "id": "GPFt0eM8ziEt"
      },
      "source": [
        "source = \"Building a Recommendation System Using Neural Network Embeddings\" Will Kohersen"
      ]
    },
    {
      "cell_type": "code",
      "metadata": {
        "id": "LE0CTVQ6q0mz",
        "outputId": "cc2c20ce-f574-4e88-cb99-1a91e3e07bde",
        "colab": {
          "base_uri": "https://localhost:8080/",
          "height": 154
        }
      },
      "source": [
        "model.save('/content/Keras_model/')"
      ],
      "execution_count": null,
      "outputs": [
        {
          "output_type": "stream",
          "text": [
            "WARNING:tensorflow:From /usr/local/lib/python3.6/dist-packages/tensorflow/python/training/tracking/tracking.py:111: Model.state_updates (from tensorflow.python.keras.engine.training) is deprecated and will be removed in a future version.\n",
            "Instructions for updating:\n",
            "This property should not be used in TensorFlow 2.0, as updates are applied automatically.\n",
            "WARNING:tensorflow:From /usr/local/lib/python3.6/dist-packages/tensorflow/python/training/tracking/tracking.py:111: Layer.updates (from tensorflow.python.keras.engine.base_layer) is deprecated and will be removed in a future version.\n",
            "Instructions for updating:\n",
            "This property should not be used in TensorFlow 2.0, as updates are applied automatically.\n",
            "INFO:tensorflow:Assets written to: /content/Keras_model/assets\n"
          ],
          "name": "stdout"
        }
      ]
    },
    {
      "cell_type": "code",
      "metadata": {
        "id": "R7VEpYZSLlTe",
        "outputId": "aec8857b-fe00-4c80-8c8c-d7eb40480fe9",
        "colab": {
          "base_uri": "https://localhost:8080/",
          "height": 415
        }
      },
      "source": [
        "EMBEDDING_SIZE = 50\n",
        "\n",
        "#Augmentation de la regularization des embeddings\n",
        "\n",
        "class RecommenderNet(keras.Model):\n",
        "    def __init__(self, num_users, num_items, embedding_size, **kwargs):\n",
        "        super(RecommenderNet, self).__init__(**kwargs)\n",
        "        #Voici les inputs de notre modèle\n",
        "        self.num_users = num_users\n",
        "        self.num_items = num_items\n",
        "        self.embedding_size = embedding_size\n",
        "\n",
        "        \"\"\"Nous utilisons l'API layers de keras pour invoquer la fonction Embedding \n",
        "        permettant de transformer des indices positifs en un vecteur dense de taille fixe (ce sera la premiere couche de notre réseau qui nous servira d'encoder )\"\"\"\n",
        "\n",
        "        #On vectorise les user , Shape (None,27530,50)\n",
        "        # (Numéro du user : int) ---> (vecteur[50])\n",
        "        self.user_embedding = layers.Embedding(\n",
        "            num_users,\n",
        "            embedding_size,\n",
        "            embeddings_initializer=\"he_normal\",\n",
        "            embeddings_regularizer=keras.regularizers.l2(1e-4),\n",
        "        )\n",
        "\n",
        "        #On vectorise les items , Shape (None,10620,50)\n",
        "        self.item_embedding = layers.Embedding(\n",
        "            num_items,\n",
        "            embedding_size,\n",
        "            embeddings_initializer=\"he_normal\",\n",
        "            embeddings_regularizer=keras.regularizers.l2(1e-4),\n",
        "        )\n",
        "\n",
        "\n",
        "        #Etant donné que le modèle est un modéle linéaire de forme item_embedding * user_embedding + items_bias + item_bias , nous devons définir les biais\n",
        "        #Shape (None,10620,1)\n",
        "        self.item_bias = layers.Embedding(num_items, 1)\n",
        "\n",
        "        #Shape (None,10620,1)\n",
        "        self.user_bias = layers.Embedding(num_users, 1)\n",
        "\n",
        "    def call(self, inputs):\n",
        "        user_vector = self.user_embedding(inputs[:, 0])\n",
        "        user_bias = self.user_bias(inputs[:, 0])\n",
        "        item_vector = self.item_embedding(inputs[:, 1])\n",
        "        item_bias = self.item_bias(inputs[:, 1])\n",
        "\n",
        "        #Nous effectuons le produit scalaire entre les vecteurs encodés des articles et des utilisateurs pour fusionner les deux layers\n",
        "        dot_user_item = tf.tensordot(user_vector, item_vector, 2)\n",
        "\n",
        "        # nous ajoutons tout les composantes (y compris le biais)\n",
        "        x = dot_user_item + user_bias + item_bias\n",
        "\n",
        "        # La fonction d'activation sigmoid force le résultat a étre une valeur entre 0 et 1 (pour respecter notre normalisation)\n",
        "        return x\n",
        "\n",
        "\n",
        "\n",
        "model = RecommenderNet(num_users, num_items, EMBEDDING_SIZE)\n",
        "#Ici nous utilisons l'optimiseur Adam (va variant on Stochastic Gradient Descent) qui altère l'embedding lors du training pour minimiser la perte qui est representé par Binary crossentropy\n",
        "model.compile(\n",
        "    loss=tf.keras.losses.MeanSquaredError(), optimizer=keras.optimizers.Adam(lr=1e-4),\n",
        "     metrics=[tf.keras.metrics.RootMeanSquaredError(),\"mae\"])\n",
        "es = tf.keras.callbacks.EarlyStopping(monitor='val_root_mean_squared_error', mode='min', verbose=1, patience=10)\n",
        "\n",
        "\n",
        "\n",
        "history = model.fit(\n",
        "    x=x_train,\n",
        "    y=y_train,\n",
        "    batch_size=200,\n",
        "    epochs=100,\n",
        "    verbose=1,\n",
        "    validation_data=(x_val, y_val),\n",
        "    callbacks=[es],\n",
        ")\n",
        "\n",
        "\n",
        "plt.plot(history.history[\"root_mean_squared_error\"])\n",
        "plt.plot(history.history[\"val_root_mean_squared_error\"])\n",
        "plt.title(\"model root_mean_squared_error\")\n",
        "plt.ylabel(\"root_mean_squared_error\")\n",
        "plt.xlabel(\"epoch\")\n",
        "plt.legend([\"train\", \"test\"], loc=\"upper left\")\n",
        "plt.show()\n"
      ],
      "execution_count": null,
      "outputs": [
        {
          "output_type": "stream",
          "text": [
            "Epoch 1/100\n",
            "627/810 [======================>.......] - ETA: 1s - loss: 20.8164 - root_mean_squared_error: 4.5615 - mae: 4.4545"
          ],
          "name": "stdout"
        },
        {
          "output_type": "error",
          "ename": "KeyboardInterrupt",
          "evalue": "ignored",
          "traceback": [
            "\u001b[0;31m---------------------------------------------------------------------------\u001b[0m",
            "\u001b[0;31mKeyboardInterrupt\u001b[0m                         Traceback (most recent call last)",
            "\u001b[0;32m<ipython-input-9-52628cd4cced>\u001b[0m in \u001b[0;36m<module>\u001b[0;34m()\u001b[0m\n\u001b[1;32m     72\u001b[0m     \u001b[0mverbose\u001b[0m\u001b[0;34m=\u001b[0m\u001b[0;36m1\u001b[0m\u001b[0;34m,\u001b[0m\u001b[0;34m\u001b[0m\u001b[0;34m\u001b[0m\u001b[0m\n\u001b[1;32m     73\u001b[0m     \u001b[0mvalidation_data\u001b[0m\u001b[0;34m=\u001b[0m\u001b[0;34m(\u001b[0m\u001b[0mx_val\u001b[0m\u001b[0;34m,\u001b[0m \u001b[0my_val\u001b[0m\u001b[0;34m)\u001b[0m\u001b[0;34m,\u001b[0m\u001b[0;34m\u001b[0m\u001b[0;34m\u001b[0m\u001b[0m\n\u001b[0;32m---> 74\u001b[0;31m     \u001b[0mcallbacks\u001b[0m\u001b[0;34m=\u001b[0m\u001b[0;34m[\u001b[0m\u001b[0mes\u001b[0m\u001b[0;34m]\u001b[0m\u001b[0;34m,\u001b[0m\u001b[0;34m\u001b[0m\u001b[0;34m\u001b[0m\u001b[0m\n\u001b[0m\u001b[1;32m     75\u001b[0m )\n\u001b[1;32m     76\u001b[0m \u001b[0;34m\u001b[0m\u001b[0m\n",
            "\u001b[0;32m/usr/local/lib/python3.6/dist-packages/tensorflow/python/keras/engine/training.py\u001b[0m in \u001b[0;36m_method_wrapper\u001b[0;34m(self, *args, **kwargs)\u001b[0m\n\u001b[1;32m    106\u001b[0m   \u001b[0;32mdef\u001b[0m \u001b[0m_method_wrapper\u001b[0m\u001b[0;34m(\u001b[0m\u001b[0mself\u001b[0m\u001b[0;34m,\u001b[0m \u001b[0;34m*\u001b[0m\u001b[0margs\u001b[0m\u001b[0;34m,\u001b[0m \u001b[0;34m**\u001b[0m\u001b[0mkwargs\u001b[0m\u001b[0;34m)\u001b[0m\u001b[0;34m:\u001b[0m\u001b[0;34m\u001b[0m\u001b[0;34m\u001b[0m\u001b[0m\n\u001b[1;32m    107\u001b[0m     \u001b[0;32mif\u001b[0m \u001b[0;32mnot\u001b[0m \u001b[0mself\u001b[0m\u001b[0;34m.\u001b[0m\u001b[0m_in_multi_worker_mode\u001b[0m\u001b[0;34m(\u001b[0m\u001b[0;34m)\u001b[0m\u001b[0;34m:\u001b[0m  \u001b[0;31m# pylint: disable=protected-access\u001b[0m\u001b[0;34m\u001b[0m\u001b[0;34m\u001b[0m\u001b[0m\n\u001b[0;32m--> 108\u001b[0;31m       \u001b[0;32mreturn\u001b[0m \u001b[0mmethod\u001b[0m\u001b[0;34m(\u001b[0m\u001b[0mself\u001b[0m\u001b[0;34m,\u001b[0m \u001b[0;34m*\u001b[0m\u001b[0margs\u001b[0m\u001b[0;34m,\u001b[0m \u001b[0;34m**\u001b[0m\u001b[0mkwargs\u001b[0m\u001b[0;34m)\u001b[0m\u001b[0;34m\u001b[0m\u001b[0;34m\u001b[0m\u001b[0m\n\u001b[0m\u001b[1;32m    109\u001b[0m \u001b[0;34m\u001b[0m\u001b[0m\n\u001b[1;32m    110\u001b[0m     \u001b[0;31m# Running inside `run_distribute_coordinator` already.\u001b[0m\u001b[0;34m\u001b[0m\u001b[0;34m\u001b[0m\u001b[0;34m\u001b[0m\u001b[0m\n",
            "\u001b[0;32m/usr/local/lib/python3.6/dist-packages/tensorflow/python/keras/engine/training.py\u001b[0m in \u001b[0;36mfit\u001b[0;34m(self, x, y, batch_size, epochs, verbose, callbacks, validation_split, validation_data, shuffle, class_weight, sample_weight, initial_epoch, steps_per_epoch, validation_steps, validation_batch_size, validation_freq, max_queue_size, workers, use_multiprocessing)\u001b[0m\n\u001b[1;32m   1096\u001b[0m                 batch_size=batch_size):\n\u001b[1;32m   1097\u001b[0m               \u001b[0mcallbacks\u001b[0m\u001b[0;34m.\u001b[0m\u001b[0mon_train_batch_begin\u001b[0m\u001b[0;34m(\u001b[0m\u001b[0mstep\u001b[0m\u001b[0;34m)\u001b[0m\u001b[0;34m\u001b[0m\u001b[0;34m\u001b[0m\u001b[0m\n\u001b[0;32m-> 1098\u001b[0;31m               \u001b[0mtmp_logs\u001b[0m \u001b[0;34m=\u001b[0m \u001b[0mtrain_function\u001b[0m\u001b[0;34m(\u001b[0m\u001b[0miterator\u001b[0m\u001b[0;34m)\u001b[0m\u001b[0;34m\u001b[0m\u001b[0;34m\u001b[0m\u001b[0m\n\u001b[0m\u001b[1;32m   1099\u001b[0m               \u001b[0;32mif\u001b[0m \u001b[0mdata_handler\u001b[0m\u001b[0;34m.\u001b[0m\u001b[0mshould_sync\u001b[0m\u001b[0;34m:\u001b[0m\u001b[0;34m\u001b[0m\u001b[0;34m\u001b[0m\u001b[0m\n\u001b[1;32m   1100\u001b[0m                 \u001b[0mcontext\u001b[0m\u001b[0;34m.\u001b[0m\u001b[0masync_wait\u001b[0m\u001b[0;34m(\u001b[0m\u001b[0;34m)\u001b[0m\u001b[0;34m\u001b[0m\u001b[0;34m\u001b[0m\u001b[0m\n",
            "\u001b[0;32m/usr/local/lib/python3.6/dist-packages/tensorflow/python/eager/def_function.py\u001b[0m in \u001b[0;36m__call__\u001b[0;34m(self, *args, **kwds)\u001b[0m\n\u001b[1;32m    778\u001b[0m       \u001b[0;32melse\u001b[0m\u001b[0;34m:\u001b[0m\u001b[0;34m\u001b[0m\u001b[0;34m\u001b[0m\u001b[0m\n\u001b[1;32m    779\u001b[0m         \u001b[0mcompiler\u001b[0m \u001b[0;34m=\u001b[0m \u001b[0;34m\"nonXla\"\u001b[0m\u001b[0;34m\u001b[0m\u001b[0;34m\u001b[0m\u001b[0m\n\u001b[0;32m--> 780\u001b[0;31m         \u001b[0mresult\u001b[0m \u001b[0;34m=\u001b[0m \u001b[0mself\u001b[0m\u001b[0;34m.\u001b[0m\u001b[0m_call\u001b[0m\u001b[0;34m(\u001b[0m\u001b[0;34m*\u001b[0m\u001b[0margs\u001b[0m\u001b[0;34m,\u001b[0m \u001b[0;34m**\u001b[0m\u001b[0mkwds\u001b[0m\u001b[0;34m)\u001b[0m\u001b[0;34m\u001b[0m\u001b[0;34m\u001b[0m\u001b[0m\n\u001b[0m\u001b[1;32m    781\u001b[0m \u001b[0;34m\u001b[0m\u001b[0m\n\u001b[1;32m    782\u001b[0m       \u001b[0mnew_tracing_count\u001b[0m \u001b[0;34m=\u001b[0m \u001b[0mself\u001b[0m\u001b[0;34m.\u001b[0m\u001b[0m_get_tracing_count\u001b[0m\u001b[0;34m(\u001b[0m\u001b[0;34m)\u001b[0m\u001b[0;34m\u001b[0m\u001b[0;34m\u001b[0m\u001b[0m\n",
            "\u001b[0;32m/usr/local/lib/python3.6/dist-packages/tensorflow/python/eager/def_function.py\u001b[0m in \u001b[0;36m_call\u001b[0;34m(self, *args, **kwds)\u001b[0m\n\u001b[1;32m    805\u001b[0m       \u001b[0;31m# In this case we have created variables on the first call, so we run the\u001b[0m\u001b[0;34m\u001b[0m\u001b[0;34m\u001b[0m\u001b[0;34m\u001b[0m\u001b[0m\n\u001b[1;32m    806\u001b[0m       \u001b[0;31m# defunned version which is guaranteed to never create variables.\u001b[0m\u001b[0;34m\u001b[0m\u001b[0;34m\u001b[0m\u001b[0;34m\u001b[0m\u001b[0m\n\u001b[0;32m--> 807\u001b[0;31m       \u001b[0;32mreturn\u001b[0m \u001b[0mself\u001b[0m\u001b[0;34m.\u001b[0m\u001b[0m_stateless_fn\u001b[0m\u001b[0;34m(\u001b[0m\u001b[0;34m*\u001b[0m\u001b[0margs\u001b[0m\u001b[0;34m,\u001b[0m \u001b[0;34m**\u001b[0m\u001b[0mkwds\u001b[0m\u001b[0;34m)\u001b[0m  \u001b[0;31m# pylint: disable=not-callable\u001b[0m\u001b[0;34m\u001b[0m\u001b[0;34m\u001b[0m\u001b[0m\n\u001b[0m\u001b[1;32m    808\u001b[0m     \u001b[0;32melif\u001b[0m \u001b[0mself\u001b[0m\u001b[0;34m.\u001b[0m\u001b[0m_stateful_fn\u001b[0m \u001b[0;32mis\u001b[0m \u001b[0;32mnot\u001b[0m \u001b[0;32mNone\u001b[0m\u001b[0;34m:\u001b[0m\u001b[0;34m\u001b[0m\u001b[0;34m\u001b[0m\u001b[0m\n\u001b[1;32m    809\u001b[0m       \u001b[0;31m# Release the lock early so that multiple threads can perform the call\u001b[0m\u001b[0;34m\u001b[0m\u001b[0;34m\u001b[0m\u001b[0;34m\u001b[0m\u001b[0m\n",
            "\u001b[0;32m/usr/local/lib/python3.6/dist-packages/tensorflow/python/eager/function.py\u001b[0m in \u001b[0;36m__call__\u001b[0;34m(self, *args, **kwargs)\u001b[0m\n\u001b[1;32m   2827\u001b[0m     \u001b[0;32mwith\u001b[0m \u001b[0mself\u001b[0m\u001b[0;34m.\u001b[0m\u001b[0m_lock\u001b[0m\u001b[0;34m:\u001b[0m\u001b[0;34m\u001b[0m\u001b[0;34m\u001b[0m\u001b[0m\n\u001b[1;32m   2828\u001b[0m       \u001b[0mgraph_function\u001b[0m\u001b[0;34m,\u001b[0m \u001b[0margs\u001b[0m\u001b[0;34m,\u001b[0m \u001b[0mkwargs\u001b[0m \u001b[0;34m=\u001b[0m \u001b[0mself\u001b[0m\u001b[0;34m.\u001b[0m\u001b[0m_maybe_define_function\u001b[0m\u001b[0;34m(\u001b[0m\u001b[0margs\u001b[0m\u001b[0;34m,\u001b[0m \u001b[0mkwargs\u001b[0m\u001b[0;34m)\u001b[0m\u001b[0;34m\u001b[0m\u001b[0;34m\u001b[0m\u001b[0m\n\u001b[0;32m-> 2829\u001b[0;31m     \u001b[0;32mreturn\u001b[0m \u001b[0mgraph_function\u001b[0m\u001b[0;34m.\u001b[0m\u001b[0m_filtered_call\u001b[0m\u001b[0;34m(\u001b[0m\u001b[0margs\u001b[0m\u001b[0;34m,\u001b[0m \u001b[0mkwargs\u001b[0m\u001b[0;34m)\u001b[0m  \u001b[0;31m# pylint: disable=protected-access\u001b[0m\u001b[0;34m\u001b[0m\u001b[0;34m\u001b[0m\u001b[0m\n\u001b[0m\u001b[1;32m   2830\u001b[0m \u001b[0;34m\u001b[0m\u001b[0m\n\u001b[1;32m   2831\u001b[0m   \u001b[0;34m@\u001b[0m\u001b[0mproperty\u001b[0m\u001b[0;34m\u001b[0m\u001b[0;34m\u001b[0m\u001b[0m\n",
            "\u001b[0;32m/usr/local/lib/python3.6/dist-packages/tensorflow/python/eager/function.py\u001b[0m in \u001b[0;36m_filtered_call\u001b[0;34m(self, args, kwargs, cancellation_manager)\u001b[0m\n\u001b[1;32m   1846\u001b[0m                            resource_variable_ops.BaseResourceVariable))],\n\u001b[1;32m   1847\u001b[0m         \u001b[0mcaptured_inputs\u001b[0m\u001b[0;34m=\u001b[0m\u001b[0mself\u001b[0m\u001b[0;34m.\u001b[0m\u001b[0mcaptured_inputs\u001b[0m\u001b[0;34m,\u001b[0m\u001b[0;34m\u001b[0m\u001b[0;34m\u001b[0m\u001b[0m\n\u001b[0;32m-> 1848\u001b[0;31m         cancellation_manager=cancellation_manager)\n\u001b[0m\u001b[1;32m   1849\u001b[0m \u001b[0;34m\u001b[0m\u001b[0m\n\u001b[1;32m   1850\u001b[0m   \u001b[0;32mdef\u001b[0m \u001b[0m_call_flat\u001b[0m\u001b[0;34m(\u001b[0m\u001b[0mself\u001b[0m\u001b[0;34m,\u001b[0m \u001b[0margs\u001b[0m\u001b[0;34m,\u001b[0m \u001b[0mcaptured_inputs\u001b[0m\u001b[0;34m,\u001b[0m \u001b[0mcancellation_manager\u001b[0m\u001b[0;34m=\u001b[0m\u001b[0;32mNone\u001b[0m\u001b[0;34m)\u001b[0m\u001b[0;34m:\u001b[0m\u001b[0;34m\u001b[0m\u001b[0;34m\u001b[0m\u001b[0m\n",
            "\u001b[0;32m/usr/local/lib/python3.6/dist-packages/tensorflow/python/eager/function.py\u001b[0m in \u001b[0;36m_call_flat\u001b[0;34m(self, args, captured_inputs, cancellation_manager)\u001b[0m\n\u001b[1;32m   1922\u001b[0m       \u001b[0;31m# No tape is watching; skip to running the function.\u001b[0m\u001b[0;34m\u001b[0m\u001b[0;34m\u001b[0m\u001b[0;34m\u001b[0m\u001b[0m\n\u001b[1;32m   1923\u001b[0m       return self._build_call_outputs(self._inference_function.call(\n\u001b[0;32m-> 1924\u001b[0;31m           ctx, args, cancellation_manager=cancellation_manager))\n\u001b[0m\u001b[1;32m   1925\u001b[0m     forward_backward = self._select_forward_and_backward_functions(\n\u001b[1;32m   1926\u001b[0m         \u001b[0margs\u001b[0m\u001b[0;34m,\u001b[0m\u001b[0;34m\u001b[0m\u001b[0;34m\u001b[0m\u001b[0m\n",
            "\u001b[0;32m/usr/local/lib/python3.6/dist-packages/tensorflow/python/eager/function.py\u001b[0m in \u001b[0;36mcall\u001b[0;34m(self, ctx, args, cancellation_manager)\u001b[0m\n\u001b[1;32m    548\u001b[0m               \u001b[0minputs\u001b[0m\u001b[0;34m=\u001b[0m\u001b[0margs\u001b[0m\u001b[0;34m,\u001b[0m\u001b[0;34m\u001b[0m\u001b[0;34m\u001b[0m\u001b[0m\n\u001b[1;32m    549\u001b[0m               \u001b[0mattrs\u001b[0m\u001b[0;34m=\u001b[0m\u001b[0mattrs\u001b[0m\u001b[0;34m,\u001b[0m\u001b[0;34m\u001b[0m\u001b[0;34m\u001b[0m\u001b[0m\n\u001b[0;32m--> 550\u001b[0;31m               ctx=ctx)\n\u001b[0m\u001b[1;32m    551\u001b[0m         \u001b[0;32melse\u001b[0m\u001b[0;34m:\u001b[0m\u001b[0;34m\u001b[0m\u001b[0;34m\u001b[0m\u001b[0m\n\u001b[1;32m    552\u001b[0m           outputs = execute.execute_with_cancellation(\n",
            "\u001b[0;32m/usr/local/lib/python3.6/dist-packages/tensorflow/python/eager/execute.py\u001b[0m in \u001b[0;36mquick_execute\u001b[0;34m(op_name, num_outputs, inputs, attrs, ctx, name)\u001b[0m\n\u001b[1;32m     58\u001b[0m     \u001b[0mctx\u001b[0m\u001b[0;34m.\u001b[0m\u001b[0mensure_initialized\u001b[0m\u001b[0;34m(\u001b[0m\u001b[0;34m)\u001b[0m\u001b[0;34m\u001b[0m\u001b[0;34m\u001b[0m\u001b[0m\n\u001b[1;32m     59\u001b[0m     tensors = pywrap_tfe.TFE_Py_Execute(ctx._handle, device_name, op_name,\n\u001b[0;32m---> 60\u001b[0;31m                                         inputs, attrs, num_outputs)\n\u001b[0m\u001b[1;32m     61\u001b[0m   \u001b[0;32mexcept\u001b[0m \u001b[0mcore\u001b[0m\u001b[0;34m.\u001b[0m\u001b[0m_NotOkStatusException\u001b[0m \u001b[0;32mas\u001b[0m \u001b[0me\u001b[0m\u001b[0;34m:\u001b[0m\u001b[0;34m\u001b[0m\u001b[0;34m\u001b[0m\u001b[0m\n\u001b[1;32m     62\u001b[0m     \u001b[0;32mif\u001b[0m \u001b[0mname\u001b[0m \u001b[0;32mis\u001b[0m \u001b[0;32mnot\u001b[0m \u001b[0;32mNone\u001b[0m\u001b[0;34m:\u001b[0m\u001b[0;34m\u001b[0m\u001b[0;34m\u001b[0m\u001b[0m\n",
            "\u001b[0;31mKeyboardInterrupt\u001b[0m: "
          ]
        }
      ]
    },
    {
      "cell_type": "code",
      "metadata": {
        "id": "P0Pb7t1lL03W",
        "outputId": "b708616b-2e6e-48ea-cbcb-72570e0fb2ea",
        "colab": {
          "base_uri": "https://localhost:8080/",
          "height": 1000
        }
      },
      "source": [
        "EMBEDDING_SIZE = 50\n",
        "\n",
        "#Ajout d'un dense layer supplémentaire de taille 64\n",
        "\n",
        "class RecommenderNet(keras.Model):\n",
        "    def __init__(self, num_users, num_items, embedding_size, **kwargs):\n",
        "        super(RecommenderNet, self).__init__(**kwargs)\n",
        "        #Voici les inputs de notre modèle\n",
        "        self.num_users = num_users\n",
        "        self.num_items = num_items\n",
        "        self.embedding_size = embedding_size\n",
        "\n",
        "        \"\"\"Nous utilisons l'API layers de keras pour invoquer la fonction Embedding \n",
        "        permettant de transformer des indices positifs en un vecteur dense de taille fixe (ce sera la premiere couche de notre réseau qui nous servira d'encoder )\"\"\"\n",
        "\n",
        "        #On vectorise les user , Shape (None,27530,50)\n",
        "        # (Numéro du user : int) ---> (vecteur[50])\n",
        "        self.user_embedding = layers.Embedding(\n",
        "            num_users,\n",
        "            embedding_size,\n",
        "            embeddings_initializer=\"he_normal\",\n",
        "            embeddings_regularizer=keras.regularizers.l2(1e-4),\n",
        "        )\n",
        "\n",
        "        #On vectorise les items , Shape (None,10620,50)\n",
        "        self.item_embedding = layers.Embedding(\n",
        "            num_items,\n",
        "            embedding_size,\n",
        "            embeddings_initializer=\"he_normal\",\n",
        "            embeddings_regularizer=keras.regularizers.l2(1e-4),\n",
        "        )\n",
        "\n",
        "\n",
        "        #Etant donné que le modèle est un modéle linéaire de forme item_embedding * user_embedding + items_bias + item_bias , nous devons définir les biais\n",
        "        #Shape (None,10620,1)\n",
        "        self.item_bias = layers.Embedding(num_items, 1)\n",
        "\n",
        "        #Shape (None,10620,1)\n",
        "        self.user_bias = layers.Embedding(num_users, 1)\n",
        "        self.dense1 = layers.Dense(64)\n",
        "\n",
        "    def call(self, inputs):\n",
        "\n",
        "        user_vector = self.user_embedding(inputs[:, 0])\n",
        "        user_bias = self.user_bias(inputs[:, 0])\n",
        "        item_vector = self.item_embedding(inputs[:, 1])\n",
        "        item_bias = self.item_bias(inputs[:, 1])\n",
        "        x = tf.keras.layers.concatenate([user_vector,item_vector])\n",
        "        x = self.dense1(x)\n",
        "\n",
        "                              \n",
        "\n",
        "        #Nous effectuons le produit scalaire entre les vecteurs encodés des articles et des utilisateurs pour fusionner les deux layers\n",
        "        \n",
        "\n",
        "        # nous ajoutons tout les composantes (y compris le biais)\n",
        "        x = x + user_bias + item_bias\n",
        "\n",
        "        # La fonction d'activation sigmoid force le résultat a étre une valeur entre 0 et 1 (pour respecter notre normalisation)\n",
        "        return x\n",
        "\n",
        "\n",
        "\n",
        "model = RecommenderNet(num_users, num_items, EMBEDDING_SIZE)\n",
        "#Ici nous utilisons l'optimiseur Adam (va variant on Stochastic Gradient Descent) qui altère l'embedding lors du training pour minimiser la perte qui est representé par Binary crossentropy\n",
        "model.compile(\n",
        "    loss=tf.keras.losses.MeanSquaredError(), optimizer=keras.optimizers.Adam(lr=1e-4),\n",
        "     metrics=[tf.keras.metrics.RootMeanSquaredError(),\"mae\"])\n",
        "es = tf.keras.callbacks.EarlyStopping(monitor='val_root_mean_squared_error', mode='min', verbose=1, patience=10)\n",
        "\n",
        "history = model.fit(\n",
        "    x=x_train,\n",
        "    y=y_train,\n",
        "    batch_size=200,\n",
        "    epochs=100,\n",
        "    verbose=1,\n",
        "    validation_data=(x_val, y_val),\n",
        "    callbacks=[es],\n",
        ")\n",
        "\n",
        "print(model.summary())\n",
        "\n",
        "plt.plot(history.history[\"root_mean_squared_error\"])\n",
        "plt.plot(history.history[\"val_root_mean_squared_error\"])\n",
        "plt.title(\"model root_mean_squared_error\")\n",
        "plt.ylabel(\"root_mean_squared_error\")\n",
        "plt.xlabel(\"epoch\")\n",
        "plt.legend([\"train\", \"test\"], loc=\"upper left\")\n",
        "plt.show()\n"
      ],
      "execution_count": 16,
      "outputs": [
        {
          "output_type": "stream",
          "text": [
            "Epoch 1/100\n",
            "810/810 [==============================] - 9s 11ms/step - loss: 19.8237 - root_mean_squared_error: 4.4510 - mae: 4.3402 - val_loss: 18.0031 - val_root_mean_squared_error: 4.2403 - val_mae: 4.1244\n",
            "Epoch 2/100\n",
            "810/810 [==============================] - 9s 11ms/step - loss: 15.3352 - root_mean_squared_error: 3.9099 - mae: 3.7697 - val_loss: 12.7413 - val_root_mean_squared_error: 3.5587 - val_mae: 3.3964\n",
            "Epoch 3/100\n",
            "810/810 [==============================] - 9s 11ms/step - loss: 10.1341 - root_mean_squared_error: 3.1656 - mae: 2.9559 - val_loss: 8.2370 - val_root_mean_squared_error: 2.8435 - val_mae: 2.5910\n",
            "Epoch 4/100\n",
            "810/810 [==============================] - 9s 11ms/step - loss: 6.3929 - root_mean_squared_error: 2.4907 - mae: 2.2068 - val_loss: 5.4372 - val_root_mean_squared_error: 2.2827 - val_mae: 1.9766\n",
            "Epoch 5/100\n",
            "810/810 [==============================] - 9s 11ms/step - loss: 4.1755 - root_mean_squared_error: 1.9787 - mae: 1.6744 - val_loss: 3.8107 - val_root_mean_squared_error: 1.8758 - val_mae: 1.5609\n",
            "Epoch 6/100\n",
            "810/810 [==============================] - 9s 11ms/step - loss: 2.9115 - root_mean_squared_error: 1.6103 - mae: 1.3139 - val_loss: 2.8846 - val_root_mean_squared_error: 1.5943 - val_mae: 1.2879\n",
            "Epoch 7/100\n",
            "810/810 [==============================] - 9s 11ms/step - loss: 2.2008 - root_mean_squared_error: 1.3562 - mae: 1.0766 - val_loss: 2.3497 - val_root_mean_squared_error: 1.4040 - val_mae: 1.1097\n",
            "Epoch 8/100\n",
            "810/810 [==============================] - 9s 11ms/step - loss: 1.7877 - root_mean_squared_error: 1.1819 - mae: 0.9182 - val_loss: 2.0244 - val_root_mean_squared_error: 1.2738 - val_mae: 0.9892\n",
            "Epoch 9/100\n",
            "810/810 [==============================] - 9s 11ms/step - loss: 1.5333 - root_mean_squared_error: 1.0602 - mae: 0.8071 - val_loss: 1.8151 - val_root_mean_squared_error: 1.1831 - val_mae: 0.9037\n",
            "Epoch 10/100\n",
            "810/810 [==============================] - 9s 11ms/step - loss: 1.3685 - root_mean_squared_error: 0.9746 - mae: 0.7276 - val_loss: 1.6725 - val_root_mean_squared_error: 1.1185 - val_mae: 0.8399\n",
            "Epoch 11/100\n",
            "810/810 [==============================] - 9s 11ms/step - loss: 1.2570 - root_mean_squared_error: 0.9140 - mae: 0.6690 - val_loss: 1.5738 - val_root_mean_squared_error: 1.0737 - val_mae: 0.7946\n",
            "Epoch 12/100\n",
            "810/810 [==============================] - 9s 12ms/step - loss: 1.1790 - root_mean_squared_error: 0.8719 - mae: 0.6276 - val_loss: 1.5013 - val_root_mean_squared_error: 1.0418 - val_mae: 0.7595\n",
            "Epoch 13/100\n",
            "810/810 [==============================] - 9s 11ms/step - loss: 1.1217 - root_mean_squared_error: 0.8426 - mae: 0.5976 - val_loss: 1.4460 - val_root_mean_squared_error: 1.0192 - val_mae: 0.7331\n",
            "Epoch 14/100\n",
            "810/810 [==============================] - 9s 11ms/step - loss: 1.0775 - root_mean_squared_error: 0.8223 - mae: 0.5767 - val_loss: 1.4025 - val_root_mean_squared_error: 1.0035 - val_mae: 0.7142\n",
            "Epoch 15/100\n",
            "810/810 [==============================] - 9s 11ms/step - loss: 1.0421 - root_mean_squared_error: 0.8084 - mae: 0.5624 - val_loss: 1.3662 - val_root_mean_squared_error: 0.9921 - val_mae: 0.6990\n",
            "Epoch 16/100\n",
            "810/810 [==============================] - 9s 11ms/step - loss: 1.0124 - root_mean_squared_error: 0.7987 - mae: 0.5520 - val_loss: 1.3360 - val_root_mean_squared_error: 0.9844 - val_mae: 0.6903\n",
            "Epoch 17/100\n",
            "810/810 [==============================] - 9s 11ms/step - loss: 0.9868 - root_mean_squared_error: 0.7920 - mae: 0.5452 - val_loss: 1.3096 - val_root_mean_squared_error: 0.9785 - val_mae: 0.6820\n",
            "Epoch 18/100\n",
            "810/810 [==============================] - 9s 11ms/step - loss: 0.9642 - root_mean_squared_error: 0.7872 - mae: 0.5406 - val_loss: 1.2864 - val_root_mean_squared_error: 0.9742 - val_mae: 0.6752\n",
            "Epoch 19/100\n",
            "810/810 [==============================] - 10s 12ms/step - loss: 0.9442 - root_mean_squared_error: 0.7836 - mae: 0.5369 - val_loss: 1.2665 - val_root_mean_squared_error: 0.9713 - val_mae: 0.6713\n",
            "Epoch 20/100\n",
            "810/810 [==============================] - 9s 11ms/step - loss: 0.9261 - root_mean_squared_error: 0.7811 - mae: 0.5348 - val_loss: 1.2485 - val_root_mean_squared_error: 0.9692 - val_mae: 0.6685\n",
            "Epoch 21/100\n",
            "810/810 [==============================] - 9s 11ms/step - loss: 0.9097 - root_mean_squared_error: 0.7792 - mae: 0.5329 - val_loss: 1.2325 - val_root_mean_squared_error: 0.9677 - val_mae: 0.6665\n",
            "Epoch 22/100\n",
            "810/810 [==============================] - 9s 11ms/step - loss: 0.8948 - root_mean_squared_error: 0.7777 - mae: 0.5318 - val_loss: 1.2176 - val_root_mean_squared_error: 0.9663 - val_mae: 0.6639\n",
            "Epoch 23/100\n",
            "810/810 [==============================] - 9s 11ms/step - loss: 0.8811 - root_mean_squared_error: 0.7766 - mae: 0.5312 - val_loss: 1.2047 - val_root_mean_squared_error: 0.9656 - val_mae: 0.6621\n",
            "Epoch 24/100\n",
            "810/810 [==============================] - 9s 11ms/step - loss: 0.8686 - root_mean_squared_error: 0.7758 - mae: 0.5303 - val_loss: 1.1924 - val_root_mean_squared_error: 0.9648 - val_mae: 0.6615\n",
            "Epoch 25/100\n",
            "810/810 [==============================] - 9s 11ms/step - loss: 0.8570 - root_mean_squared_error: 0.7752 - mae: 0.5301 - val_loss: 1.1809 - val_root_mean_squared_error: 0.9642 - val_mae: 0.6611\n",
            "Epoch 26/100\n",
            "810/810 [==============================] - 9s 11ms/step - loss: 0.8463 - root_mean_squared_error: 0.7745 - mae: 0.5299 - val_loss: 1.1705 - val_root_mean_squared_error: 0.9637 - val_mae: 0.6597\n",
            "Epoch 27/100\n",
            "810/810 [==============================] - 9s 11ms/step - loss: 0.8364 - root_mean_squared_error: 0.7742 - mae: 0.5300 - val_loss: 1.1614 - val_root_mean_squared_error: 0.9637 - val_mae: 0.6582\n",
            "Epoch 28/100\n",
            "810/810 [==============================] - 9s 11ms/step - loss: 0.8273 - root_mean_squared_error: 0.7739 - mae: 0.5295 - val_loss: 1.1525 - val_root_mean_squared_error: 0.9636 - val_mae: 0.6596\n",
            "Epoch 29/100\n",
            "810/810 [==============================] - 9s 11ms/step - loss: 0.8189 - root_mean_squared_error: 0.7738 - mae: 0.5297 - val_loss: 1.1442 - val_root_mean_squared_error: 0.9633 - val_mae: 0.6588\n",
            "Epoch 30/100\n",
            "810/810 [==============================] - 9s 11ms/step - loss: 0.8109 - root_mean_squared_error: 0.7737 - mae: 0.5298 - val_loss: 1.1369 - val_root_mean_squared_error: 0.9635 - val_mae: 0.6592\n",
            "Epoch 31/100\n",
            "810/810 [==============================] - 9s 11ms/step - loss: 0.8035 - root_mean_squared_error: 0.7736 - mae: 0.5299 - val_loss: 1.1304 - val_root_mean_squared_error: 0.9637 - val_mae: 0.6588\n",
            "Epoch 32/100\n",
            "810/810 [==============================] - 9s 11ms/step - loss: 0.7965 - root_mean_squared_error: 0.7735 - mae: 0.5302 - val_loss: 1.1239 - val_root_mean_squared_error: 0.9638 - val_mae: 0.6587\n",
            "Epoch 33/100\n",
            "810/810 [==============================] - 9s 11ms/step - loss: 0.7900 - root_mean_squared_error: 0.7735 - mae: 0.5302 - val_loss: 1.1171 - val_root_mean_squared_error: 0.9636 - val_mae: 0.6596\n",
            "Epoch 34/100\n",
            "810/810 [==============================] - 9s 11ms/step - loss: 0.7838 - root_mean_squared_error: 0.7734 - mae: 0.5303 - val_loss: 1.1116 - val_root_mean_squared_error: 0.9638 - val_mae: 0.6591\n",
            "Epoch 35/100\n",
            "810/810 [==============================] - 9s 11ms/step - loss: 0.7781 - root_mean_squared_error: 0.7735 - mae: 0.5306 - val_loss: 1.1058 - val_root_mean_squared_error: 0.9637 - val_mae: 0.6589\n",
            "Epoch 36/100\n",
            "810/810 [==============================] - 9s 11ms/step - loss: 0.7727 - root_mean_squared_error: 0.7735 - mae: 0.5310 - val_loss: 1.1005 - val_root_mean_squared_error: 0.9637 - val_mae: 0.6580\n",
            "Epoch 37/100\n",
            "810/810 [==============================] - 8s 10ms/step - loss: 0.7677 - root_mean_squared_error: 0.7737 - mae: 0.5308 - val_loss: 1.0955 - val_root_mean_squared_error: 0.9638 - val_mae: 0.6584\n",
            "Epoch 38/100\n",
            "810/810 [==============================] - 8s 10ms/step - loss: 0.7628 - root_mean_squared_error: 0.7737 - mae: 0.5307 - val_loss: 1.0903 - val_root_mean_squared_error: 0.9635 - val_mae: 0.6585\n",
            "Epoch 39/100\n",
            "810/810 [==============================] - 8s 10ms/step - loss: 0.7583 - root_mean_squared_error: 0.7738 - mae: 0.5314 - val_loss: 1.0849 - val_root_mean_squared_error: 0.9631 - val_mae: 0.6588\n",
            "Epoch 40/100\n",
            "810/810 [==============================] - 8s 10ms/step - loss: 0.7538 - root_mean_squared_error: 0.7737 - mae: 0.5316 - val_loss: 1.0817 - val_root_mean_squared_error: 0.9637 - val_mae: 0.6592\n",
            "Epoch 41/100\n",
            "810/810 [==============================] - 8s 10ms/step - loss: 0.7499 - root_mean_squared_error: 0.7739 - mae: 0.5322 - val_loss: 1.0774 - val_root_mean_squared_error: 0.9636 - val_mae: 0.6579\n",
            "Epoch 42/100\n",
            "810/810 [==============================] - 8s 10ms/step - loss: 0.7460 - root_mean_squared_error: 0.7740 - mae: 0.5317 - val_loss: 1.0734 - val_root_mean_squared_error: 0.9636 - val_mae: 0.6589\n",
            "Epoch 43/100\n",
            "810/810 [==============================] - 8s 10ms/step - loss: 0.7425 - root_mean_squared_error: 0.7742 - mae: 0.5321 - val_loss: 1.0695 - val_root_mean_squared_error: 0.9635 - val_mae: 0.6589\n",
            "Epoch 44/100\n",
            "810/810 [==============================] - 8s 10ms/step - loss: 0.7388 - root_mean_squared_error: 0.7742 - mae: 0.5324 - val_loss: 1.0663 - val_root_mean_squared_error: 0.9636 - val_mae: 0.6590\n",
            "Epoch 45/100\n",
            "810/810 [==============================] - 8s 10ms/step - loss: 0.7356 - root_mean_squared_error: 0.7743 - mae: 0.5327 - val_loss: 1.0623 - val_root_mean_squared_error: 0.9633 - val_mae: 0.6587\n",
            "Epoch 46/100\n",
            "810/810 [==============================] - 8s 10ms/step - loss: 0.7325 - root_mean_squared_error: 0.7744 - mae: 0.5328 - val_loss: 1.0600 - val_root_mean_squared_error: 0.9637 - val_mae: 0.6575\n",
            "Epoch 47/100\n",
            "810/810 [==============================] - 8s 10ms/step - loss: 0.7294 - root_mean_squared_error: 0.7744 - mae: 0.5328 - val_loss: 1.0575 - val_root_mean_squared_error: 0.9641 - val_mae: 0.6584\n",
            "Epoch 48/100\n",
            "810/810 [==============================] - 8s 10ms/step - loss: 0.7266 - root_mean_squared_error: 0.7746 - mae: 0.5328 - val_loss: 1.0541 - val_root_mean_squared_error: 0.9638 - val_mae: 0.6586\n",
            "Epoch 49/100\n",
            "810/810 [==============================] - 8s 10ms/step - loss: 0.7238 - root_mean_squared_error: 0.7746 - mae: 0.5330 - val_loss: 1.0517 - val_root_mean_squared_error: 0.9641 - val_mae: 0.6602\n",
            "Epoch 00049: early stopping\n",
            "Model: \"recommender_net\"\n",
            "_________________________________________________________________\n",
            "Layer (type)                 Output Shape              Param #   \n",
            "=================================================================\n",
            "embedding (Embedding)        multiple                  1376500   \n",
            "_________________________________________________________________\n",
            "embedding_1 (Embedding)      multiple                  531000    \n",
            "_________________________________________________________________\n",
            "embedding_2 (Embedding)      multiple                  10620     \n",
            "_________________________________________________________________\n",
            "embedding_3 (Embedding)      multiple                  27530     \n",
            "_________________________________________________________________\n",
            "dense (Dense)                multiple                  6464      \n",
            "=================================================================\n",
            "Total params: 1,952,114\n",
            "Trainable params: 1,952,114\n",
            "Non-trainable params: 0\n",
            "_________________________________________________________________\n",
            "None\n"
          ],
          "name": "stdout"
        },
        {
          "output_type": "display_data",
          "data": {
            "image/png": "[encoded data removed]",
            "text/plain": [
              "<Figure size 432x288 with 1 Axes>"
            ]
          },
          "metadata": {
            "tags": [],
            "needs_background": "light"
          }
        }
      ]
    },
    {
      "cell_type": "code",
      "metadata": {
        "id": "nqkYrCrHOJgd",
        "outputId": "03462f73-1958-4320-a361-5dbf89f62731",
        "colab": {
          "base_uri": "https://localhost:8080/",
          "height": 280
        }
      },
      "source": [
        "model.save('.')"
      ],
      "execution_count": null,
      "outputs": [
        {
          "output_type": "stream",
          "text": [
            "WARNING:tensorflow:From /usr/local/lib/python3.6/dist-packages/tensorflow/python/training/tracking/tracking.py:111: Model.state_updates (from tensorflow.python.keras.engine.training) is deprecated and will be removed in a future version.\n",
            "Instructions for updating:\n",
            "This property should not be used in TensorFlow 2.0, as updates are applied automatically.\n"
          ],
          "name": "stdout"
        },
        {
          "output_type": "stream",
          "text": [
            "WARNING:tensorflow:From /usr/local/lib/python3.6/dist-packages/tensorflow/python/training/tracking/tracking.py:111: Model.state_updates (from tensorflow.python.keras.engine.training) is deprecated and will be removed in a future version.\n",
            "Instructions for updating:\n",
            "This property should not be used in TensorFlow 2.0, as updates are applied automatically.\n"
          ],
          "name": "stderr"
        },
        {
          "output_type": "stream",
          "text": [
            "WARNING:tensorflow:From /usr/local/lib/python3.6/dist-packages/tensorflow/python/training/tracking/tracking.py:111: Layer.updates (from tensorflow.python.keras.engine.base_layer) is deprecated and will be removed in a future version.\n",
            "Instructions for updating:\n",
            "This property should not be used in TensorFlow 2.0, as updates are applied automatically.\n"
          ],
          "name": "stdout"
        },
        {
          "output_type": "stream",
          "text": [
            "WARNING:tensorflow:From /usr/local/lib/python3.6/dist-packages/tensorflow/python/training/tracking/tracking.py:111: Layer.updates (from tensorflow.python.keras.engine.base_layer) is deprecated and will be removed in a future version.\n",
            "Instructions for updating:\n",
            "This property should not be used in TensorFlow 2.0, as updates are applied automatically.\n"
          ],
          "name": "stderr"
        },
        {
          "output_type": "stream",
          "text": [
            "INFO:tensorflow:Assets written to: ./assets\n"
          ],
          "name": "stdout"
        },
        {
          "output_type": "stream",
          "text": [
            "INFO:tensorflow:Assets written to: ./assets\n"
          ],
          "name": "stderr"
        }
      ]
    },
    {
      "cell_type": "code",
      "metadata": {
        "id": "pwlbt4_nrHE4"
      },
      "source": [
        "from sklearn.metrics import mean_squared_error\n",
        "from math import sqrt"
      ],
      "execution_count": null,
      "outputs": []
    },
    {
      "cell_type": "code",
      "metadata": {
        "id": "zq3y-rwwYrfH"
      },
      "source": [
        "EMBEDDING_SIZE = 50\n",
        "\n",
        "#AJout d'un layer de taille 64 ainsi que d'un drop out\n",
        "\n",
        "class RecommenderNet(keras.Model):\n",
        "    def __init__(self, num_users, num_items, embedding_size, **kwargs):\n",
        "        super(RecommenderNet, self).__init__(**kwargs)\n",
        "        #Voici les inputs de notre modèle\n",
        "        self.num_users = num_users\n",
        "        self.num_items = num_items\n",
        "        self.embedding_size = embedding_size\n",
        "\n",
        "        \"\"\"Nous utilisons l'API layers de keras pour invoquer la fonction Embedding \n",
        "        permettant de transformer des indices positifs en un vecteur dense de taille fixe (ce sera la premiere couche de notre réseau qui nous servira d'encoder )\"\"\"\n",
        "\n",
        "        #On vectorise les user , Shape (None,27530,50)\n",
        "        # (Numéro du user : int) ---> (vecteur[50])\n",
        "        self.user_embedding = layers.Embedding(\n",
        "            num_users,\n",
        "            embedding_size,\n",
        "            embeddings_initializer=\"he_normal\",\n",
        "            embeddings_regularizer=keras.regularizers.l2(1e-4),\n",
        "        )\n",
        "\n",
        "        #On vectorise les items , Shape (None,10620,50)\n",
        "        self.item_embedding = layers.Embedding(\n",
        "            num_items,\n",
        "            embedding_size,\n",
        "            embeddings_initializer=\"he_normal\",\n",
        "            embeddings_regularizer=keras.regularizers.l2(1e-4),\n",
        "        )\n",
        "\n",
        "\n",
        "        #Etant donné que le modèle est un modéle linéaire de forme item_embedding * user_embedding + items_bias + item_bias , nous devons définir les biais\n",
        "        #Shape (None,10620,1)\n",
        "        self.item_bias = layers.Embedding(num_items, 1)\n",
        "\n",
        "        #Shape (None,10620,1)\n",
        "        self.user_bias = layers.Embedding(num_users, 1)\n",
        "        self.dense1 = layers.Dense(64)\n",
        "        \n",
        "\n",
        "    def call(self, inputs):\n",
        "\n",
        "        user_vector = self.user_embedding(inputs[:, 0])\n",
        "        user_bias = self.user_bias(inputs[:, 0])\n",
        "        item_vector = self.item_embedding(inputs[:, 1])\n",
        "        item_bias = self.item_bias(inputs[:, 1])\n",
        "        x = tf.keras.layers.concatenate([user_vector,item_vector])\n",
        "        x = self.dense1(x)\n",
        "        x = layers.Dropout(0.1)(x)\n",
        "\n",
        "\n",
        "                              \n",
        "\n",
        "        #Nous effectuons le produit scalaire entre les vecteurs encodés des articles et des utilisateurs pour fusionner les deux layers\n",
        "        \n",
        "\n",
        "        # nous ajoutons tout les composantes (y compris le biais)\n",
        "        x = x + user_bias + item_bias\n",
        "\n",
        "        # La fonction d'activation sigmoid force le résultat a étre une valeur entre 0 et 1 (pour respecter notre normalisation)\n",
        "        return x\n",
        "\n",
        "\n",
        "\n",
        "model = RecommenderNet(num_users, num_items, EMBEDDING_SIZE)\n",
        "#Ici nous utilisons l'optimiseur Adam (va variant on Stochastic Gradient Descent) qui altère l'embedding lors du training pour minimiser la perte qui est representé par Binary crossentropy\n",
        "model.compile(\n",
        "    loss=tf.keras.losses.MeanSquaredError(), optimizer=keras.optimizers.Adam(lr=1e-4),\n",
        "     metrics=[tf.keras.metrics.RootMeanSquaredError(),\"mse\"])\n",
        "es = tf.keras.callbacks.EarlyStopping(monitor='val_root_mean_squared_error', mode='min', verbose=1, patience=10)\n",
        "\n",
        "#Schéma de notre RN\n",
        "tf.keras.utils.plot_model(\n",
        "model,\n",
        "to_file=\"model.png\",\n",
        "show_shapes=True,\n",
        "show_layer_names=True,\n",
        "rankdir=\"TB\",\n",
        "expand_nested=False,\n",
        "dpi=96,\n",
        ")\n",
        "\n",
        "\n",
        "\n",
        "\n",
        "list_result = []\n"
      ],
      "execution_count": null,
      "outputs": []
    },
    {
      "cell_type": "code",
      "metadata": {
        "id": "ZpXYpM-QXhF-"
      },
      "source": [
        "EMBEDDING_SIZE = 50\n",
        "\n",
        "#AJout d'un layer de taille 64 ainsi que d'un drop out\n",
        "\n",
        "class RecommenderNet(keras.Model):\n",
        "    def __init__(self, num_users, num_items, embedding_size, **kwargs):\n",
        "        super(RecommenderNet, self).__init__(**kwargs)\n",
        "        #Voici les inputs de notre modèle\n",
        "        self.num_users = num_users\n",
        "        self.num_items = num_items\n",
        "        self.embedding_size = embedding_size\n",
        "\n",
        "        \"\"\"Nous utilisons l'API layers de keras pour invoquer la fonction Embedding \n",
        "        permettant de transformer des indices positifs en un vecteur dense de taille fixe (ce sera la premiere couche de notre réseau qui nous servira d'encoder )\"\"\"\n",
        "\n",
        "        #On vectorise les user , Shape (None,27530,50)\n",
        "        # (Numéro du user : int) ---> (vecteur[50])\n",
        "        self.user_embedding = layers.Embedding(\n",
        "            num_users,\n",
        "            embedding_size,\n",
        "            embeddings_initializer=\"he_normal\",\n",
        "            embeddings_regularizer=keras.regularizers.l2(1e-5),\n",
        "        )\n",
        "\n",
        "        #On vectorise les items , Shape (None,10620,50)\n",
        "        self.item_embedding = layers.Embedding(\n",
        "            num_items,\n",
        "            embedding_size,\n",
        "            embeddings_initializer=\"he_normal\",\n",
        "            embeddings_regularizer=keras.regularizers.l2(1e-5),\n",
        "        )\n",
        "\n",
        "\n",
        "        #Etant donné que le modèle est un modéle linéaire de forme item_embedding * user_embedding + items_bias + item_bias , nous devons définir les biais\n",
        "        #Shape (None,10620,1)\n",
        "        self.item_bias = layers.Embedding(num_items, 1)\n",
        "\n",
        "        #Shape (None,10620,1)\n",
        "        self.user_bias = layers.Embedding(num_users, 1)\n",
        "        self.dense1 = layers.Dense(64,activation='relu')\n",
        "        \n",
        "        \n",
        "        \n",
        "\n",
        "    def call(self, inputs):\n",
        "\n",
        "        user_vector = self.user_embedding(inputs[:, 0])\n",
        "        user_bias = self.user_bias(inputs[:, 0])\n",
        "        item_vector = self.item_embedding(inputs[:, 1])\n",
        "        item_bias = self.item_bias(inputs[:, 1])\n",
        "        x = tf.keras.layers.concatenate([user_vector,item_vector])\n",
        "        x = self.dense1(x)\n",
        "       \n",
        "        x = layers.Dropout(0.4)(x)\n",
        "\n",
        "\n",
        "                              \n",
        "\n",
        "        #Nous effectuons le produit scalaire entre les vecteurs encodés des articles et des utilisateurs pour fusionner les deux layers\n",
        "        \n",
        "\n",
        "        # nous ajoutons tout les composantes (y compris le biais)\n",
        "        x = x + user_bias + item_bias\n",
        "\n",
        "        # La fonction d'activation sigmoid force le résultat a étre une valeur entre 0 et 1 (pour respecter notre normalisation)\n",
        "        return x\n",
        "\n",
        "\n",
        "\n",
        "model = RecommenderNet(num_users, num_items, EMBEDDING_SIZE)\n",
        "#Ici nous utilisons l'optimiseur Adam (va variant on Stochastic Gradient Descent) qui altère l'embedding lors du training pour minimiser la perte qui est representé par Binary crossentropy\n",
        "model.compile(\n",
        "    loss=tf.keras.losses.MeanSquaredError(), optimizer=keras.optimizers.Adam(lr=1e-3),\n",
        "     metrics=[tf.keras.metrics.RootMeanSquaredError(),\"mse\"])\n",
        "es = tf.keras.callbacks.EarlyStopping(monitor='val_root_mean_squared_error', mode='min', verbose=1, patience=10)\n",
        "\n",
        "#Schéma de notre RN\n",
        "tf.keras.utils.plot_model(\n",
        "model,\n",
        "to_file=\"model.png\",\n",
        "show_shapes=True,\n",
        "show_layer_names=True,\n",
        "rankdir=\"TB\",\n",
        "expand_nested=False,\n",
        "dpi=96,\n",
        ")\n",
        "\n",
        "\n",
        "\n",
        "\n",
        "list_result = []\n"
      ],
      "execution_count": null,
      "outputs": []
    },
    {
      "cell_type": "code",
      "metadata": {
        "id": "li1pz6napRum",
        "outputId": "469f0666-29a2-4c72-b839-13cd3713232f",
        "colab": {
          "base_uri": "https://localhost:8080/",
          "height": 1000
        }
      },
      "source": [
        "history = model.fit(\n",
        "    x=x_train[train_index],\n",
        "    y=y_train[train_index],\n",
        "    batch_size=200,\n",
        "    epochs=300,\n",
        "    verbose=1,\n",
        "    validation_data=(x_train[test_index], y_train[test_index]),\n",
        "    callbacks=[es],\n",
        "    )\n",
        "\n",
        "plt.plot(history.history[\"root_mean_squared_error\"])\n",
        "plt.plot(history.history[\"val_root_mean_squared_error\"])\n",
        "plt.title(\"model root_mean_squared_error\")\n",
        "plt.ylabel(\"root_mean_squared_error\")\n",
        "plt.xlabel(\"epoch\")\n",
        "plt.legend([\"train\", \"test\"], loc=\"upper left\")\n",
        "plt.show() "
      ],
      "execution_count": null,
      "outputs": [
        {
          "output_type": "stream",
          "text": [
            "Epoch 1/300\n",
            "648/648 [==============================] - 5s 8ms/step - loss: 12.5912 - root_mean_squared_error: 3.5303 - mse: 12.4632 - val_loss: 4.9652 - val_root_mean_squared_error: 2.1733 - val_mse: 4.7232\n",
            "Epoch 2/300\n",
            "648/648 [==============================] - 5s 7ms/step - loss: 8.4767 - root_mean_squared_error: 2.8674 - mse: 8.2221 - val_loss: 4.2893 - val_root_mean_squared_error: 2.0074 - val_mse: 4.0295\n",
            "Epoch 3/300\n",
            "648/648 [==============================] - 5s 7ms/step - loss: 7.7982 - root_mean_squared_error: 2.7479 - mse: 7.5512 - val_loss: 3.9552 - val_root_mean_squared_error: 1.9281 - val_mse: 3.7176\n",
            "Epoch 4/300\n",
            "648/648 [==============================] - 5s 7ms/step - loss: 7.2031 - root_mean_squared_error: 2.6422 - mse: 6.9811 - val_loss: 3.6690 - val_root_mean_squared_error: 1.8596 - val_mse: 3.4580\n",
            "Epoch 5/300\n",
            "648/648 [==============================] - 5s 7ms/step - loss: 6.6474 - root_mean_squared_error: 2.5398 - mse: 6.4505 - val_loss: 3.4322 - val_root_mean_squared_error: 1.8014 - val_mse: 3.2451\n",
            "Epoch 6/300\n",
            "648/648 [==============================] - 5s 7ms/step - loss: 6.1156 - root_mean_squared_error: 2.4376 - mse: 5.9418 - val_loss: 3.2225 - val_root_mean_squared_error: 1.7487 - val_mse: 3.0578\n",
            "Epoch 7/300\n",
            "648/648 [==============================] - 5s 7ms/step - loss: 5.6297 - root_mean_squared_error: 2.3401 - mse: 5.4761 - val_loss: 2.9980 - val_root_mean_squared_error: 1.6888 - val_mse: 2.8521\n",
            "Epoch 8/300\n",
            "648/648 [==============================] - 4s 7ms/step - loss: 5.1812 - root_mean_squared_error: 2.2461 - mse: 5.0449 - val_loss: 2.7849 - val_root_mean_squared_error: 1.6295 - val_mse: 2.6553\n",
            "Epoch 9/300\n",
            "648/648 [==============================] - 4s 7ms/step - loss: 4.7692 - root_mean_squared_error: 2.1560 - mse: 4.6485 - val_loss: 2.6431 - val_root_mean_squared_error: 1.5904 - val_mse: 2.5295\n",
            "Epoch 10/300\n",
            "648/648 [==============================] - 4s 7ms/step - loss: 4.3959 - root_mean_squared_error: 2.0712 - mse: 4.2897 - val_loss: 2.4925 - val_root_mean_squared_error: 1.5471 - val_mse: 2.3934\n",
            "Epoch 11/300\n",
            "648/648 [==============================] - 4s 7ms/step - loss: 4.0595 - root_mean_squared_error: 1.9918 - mse: 3.9675 - val_loss: 2.3668 - val_root_mean_squared_error: 1.5104 - val_mse: 2.2813\n",
            "Epoch 12/300\n",
            "648/648 [==============================] - 5s 7ms/step - loss: 3.7600 - root_mean_squared_error: 1.9185 - mse: 3.6807 - val_loss: 2.2029 - val_root_mean_squared_error: 1.4595 - val_mse: 2.1302\n",
            "Epoch 13/300\n",
            "648/648 [==============================] - 4s 7ms/step - loss: 3.4825 - root_mean_squared_error: 1.8480 - mse: 3.4150 - val_loss: 2.0947 - val_root_mean_squared_error: 1.4258 - val_mse: 2.0328\n",
            "Epoch 14/300\n",
            "648/648 [==============================] - 5s 7ms/step - loss: 3.2300 - root_mean_squared_error: 1.7810 - mse: 3.1719 - val_loss: 2.0081 - val_root_mean_squared_error: 1.3979 - val_mse: 1.9541\n",
            "Epoch 15/300\n",
            "648/648 [==============================] - 4s 7ms/step - loss: 3.0019 - root_mean_squared_error: 1.7176 - mse: 2.9502 - val_loss: 1.9145 - val_root_mean_squared_error: 1.3659 - val_mse: 1.8656\n",
            "Epoch 16/300\n",
            "648/648 [==============================] - 5s 7ms/step - loss: 2.7977 - root_mean_squared_error: 1.6584 - mse: 2.7503 - val_loss: 1.8419 - val_root_mean_squared_error: 1.3402 - val_mse: 1.7962\n",
            "Epoch 17/300\n",
            "648/648 [==============================] - 5s 7ms/step - loss: 2.6073 - root_mean_squared_error: 1.6008 - mse: 2.5626 - val_loss: 1.7660 - val_root_mean_squared_error: 1.3123 - val_mse: 1.7221\n",
            "Epoch 18/300\n",
            "648/648 [==============================] - 5s 7ms/step - loss: 2.4412 - root_mean_squared_error: 1.5488 - mse: 2.3988 - val_loss: 1.7098 - val_root_mean_squared_error: 1.2917 - val_mse: 1.6686\n",
            "Epoch 19/300\n",
            "648/648 [==============================] - 4s 7ms/step - loss: 2.2820 - root_mean_squared_error: 1.4972 - mse: 2.2415 - val_loss: 1.6502 - val_root_mean_squared_error: 1.2692 - val_mse: 1.6108\n",
            "Epoch 20/300\n",
            "648/648 [==============================] - 4s 7ms/step - loss: 2.1386 - root_mean_squared_error: 1.4492 - mse: 2.1002 - val_loss: 1.5986 - val_root_mean_squared_error: 1.2492 - val_mse: 1.5604\n",
            "Epoch 21/300\n",
            "648/648 [==============================] - 4s 7ms/step - loss: 2.0091 - root_mean_squared_error: 1.4044 - mse: 1.9724 - val_loss: 1.5564 - val_root_mean_squared_error: 1.2331 - val_mse: 1.5204\n",
            "Epoch 22/300\n",
            "648/648 [==============================] - 4s 7ms/step - loss: 1.8890 - root_mean_squared_error: 1.3618 - mse: 1.8546 - val_loss: 1.5132 - val_root_mean_squared_error: 1.2160 - val_mse: 1.4787\n",
            "Epoch 23/300\n",
            "648/648 [==============================] - 5s 7ms/step - loss: 1.7807 - root_mean_squared_error: 1.3219 - mse: 1.7473 - val_loss: 1.4829 - val_root_mean_squared_error: 1.2040 - val_mse: 1.4496\n",
            "Epoch 24/300\n",
            "648/648 [==============================] - 4s 7ms/step - loss: 1.6826 - root_mean_squared_error: 1.2847 - mse: 1.6503 - val_loss: 1.4399 - val_root_mean_squared_error: 1.1865 - val_mse: 1.4079\n",
            "Epoch 25/300\n",
            "648/648 [==============================] - 4s 7ms/step - loss: 1.5903 - root_mean_squared_error: 1.2486 - mse: 1.5591 - val_loss: 1.4123 - val_root_mean_squared_error: 1.1747 - val_mse: 1.3800\n",
            "Epoch 26/300\n",
            "648/648 [==============================] - 4s 7ms/step - loss: 1.5104 - root_mean_squared_error: 1.2162 - mse: 1.4791 - val_loss: 1.3803 - val_root_mean_squared_error: 1.1612 - val_mse: 1.3484\n",
            "Epoch 27/300\n",
            "648/648 [==============================] - 5s 7ms/step - loss: 1.4338 - root_mean_squared_error: 1.1845 - mse: 1.4030 - val_loss: 1.3590 - val_root_mean_squared_error: 1.1524 - val_mse: 1.3280\n",
            "Epoch 28/300\n",
            "648/648 [==============================] - 4s 7ms/step - loss: 1.3631 - root_mean_squared_error: 1.1545 - mse: 1.3329 - val_loss: 1.3363 - val_root_mean_squared_error: 1.1427 - val_mse: 1.3057\n",
            "Epoch 29/300\n",
            "648/648 [==============================] - 4s 7ms/step - loss: 1.3009 - root_mean_squared_error: 1.1272 - mse: 1.2706 - val_loss: 1.3126 - val_root_mean_squared_error: 1.1320 - val_mse: 1.2814\n",
            "Epoch 30/300\n",
            "648/648 [==============================] - 5s 7ms/step - loss: 1.2410 - root_mean_squared_error: 1.1007 - mse: 1.2116 - val_loss: 1.2926 - val_root_mean_squared_error: 1.1239 - val_mse: 1.2632\n",
            "Epoch 31/300\n",
            "648/648 [==============================] - 5s 7ms/step - loss: 1.1864 - root_mean_squared_error: 1.0762 - mse: 1.1583 - val_loss: 1.2695 - val_root_mean_squared_error: 1.1137 - val_mse: 1.2402\n",
            "Epoch 32/300\n",
            "648/648 [==============================] - 4s 7ms/step - loss: 1.1377 - root_mean_squared_error: 1.0532 - mse: 1.1092 - val_loss: 1.2548 - val_root_mean_squared_error: 1.1071 - val_mse: 1.2257\n",
            "Epoch 33/300\n",
            "648/648 [==============================] - 5s 7ms/step - loss: 1.0906 - root_mean_squared_error: 1.0309 - mse: 1.0627 - val_loss: 1.2406 - val_root_mean_squared_error: 1.1013 - val_mse: 1.2128\n",
            "Epoch 34/300\n",
            "648/648 [==============================] - 5s 7ms/step - loss: 1.0469 - root_mean_squared_error: 1.0102 - mse: 1.0205 - val_loss: 1.2292 - val_root_mean_squared_error: 1.0965 - val_mse: 1.2022\n",
            "Epoch 35/300\n",
            "648/648 [==============================] - 4s 7ms/step - loss: 1.0090 - root_mean_squared_error: 0.9911 - mse: 0.9822 - val_loss: 1.2138 - val_root_mean_squared_error: 1.0892 - val_mse: 1.1863\n",
            "Epoch 36/300\n",
            "648/648 [==============================] - 4s 7ms/step - loss: 0.9726 - root_mean_squared_error: 0.9725 - mse: 0.9458 - val_loss: 1.2099 - val_root_mean_squared_error: 1.0876 - val_mse: 1.1828\n",
            "Epoch 37/300\n",
            "648/648 [==============================] - 4s 7ms/step - loss: 0.9382 - root_mean_squared_error: 0.9551 - mse: 0.9122 - val_loss: 1.1920 - val_root_mean_squared_error: 1.0796 - val_mse: 1.1656\n",
            "Epoch 38/300\n",
            "648/648 [==============================] - 4s 7ms/step - loss: 0.9059 - root_mean_squared_error: 0.9384 - mse: 0.8807 - val_loss: 1.1811 - val_root_mean_squared_error: 1.0746 - val_mse: 1.1548\n",
            "Epoch 39/300\n",
            "648/648 [==============================] - 5s 7ms/step - loss: 0.8768 - root_mean_squared_error: 0.9230 - mse: 0.8519 - val_loss: 1.1767 - val_root_mean_squared_error: 1.0730 - val_mse: 1.1514\n",
            "Epoch 40/300\n",
            "648/648 [==============================] - 5s 7ms/step - loss: 0.8494 - root_mean_squared_error: 0.9082 - mse: 0.8248 - val_loss: 1.1672 - val_root_mean_squared_error: 1.0690 - val_mse: 1.1427\n",
            "Epoch 41/300\n",
            "648/648 [==============================] - 5s 7ms/step - loss: 0.8237 - root_mean_squared_error: 0.8945 - mse: 0.8002 - val_loss: 1.1570 - val_root_mean_squared_error: 1.0643 - val_mse: 1.1328\n",
            "Epoch 42/300\n",
            "648/648 [==============================] - 5s 7ms/step - loss: 0.8006 - root_mean_squared_error: 0.8814 - mse: 0.7768 - val_loss: 1.1451 - val_root_mean_squared_error: 1.0588 - val_mse: 1.1211\n",
            "Epoch 43/300\n",
            "648/648 [==============================] - 5s 7ms/step - loss: 0.7791 - root_mean_squared_error: 0.8692 - mse: 0.7556 - val_loss: 1.1418 - val_root_mean_squared_error: 1.0575 - val_mse: 1.1182\n",
            "Epoch 44/300\n",
            "648/648 [==============================] - 5s 7ms/step - loss: 0.7582 - root_mean_squared_error: 0.8576 - mse: 0.7355 - val_loss: 1.1348 - val_root_mean_squared_error: 1.0543 - val_mse: 1.1116\n",
            "Epoch 45/300\n",
            "648/648 [==============================] - 5s 7ms/step - loss: 0.7391 - root_mean_squared_error: 0.8470 - mse: 0.7175 - val_loss: 1.1271 - val_root_mean_squared_error: 1.0512 - val_mse: 1.1051\n",
            "Epoch 46/300\n",
            "648/648 [==============================] - 5s 7ms/step - loss: 0.7219 - root_mean_squared_error: 0.8365 - mse: 0.6998 - val_loss: 1.1270 - val_root_mean_squared_error: 1.0510 - val_mse: 1.1046\n",
            "Epoch 47/300\n",
            "648/648 [==============================] - 5s 7ms/step - loss: 0.7054 - root_mean_squared_error: 0.8269 - mse: 0.6838 - val_loss: 1.1190 - val_root_mean_squared_error: 1.0474 - val_mse: 1.0970\n",
            "Epoch 48/300\n",
            "648/648 [==============================] - 6s 10ms/step - loss: 0.6904 - root_mean_squared_error: 0.8180 - mse: 0.6691 - val_loss: 1.1163 - val_root_mean_squared_error: 1.0461 - val_mse: 1.0943\n",
            "Epoch 49/300\n",
            "648/648 [==============================] - 5s 8ms/step - loss: 0.6762 - root_mean_squared_error: 0.8092 - mse: 0.6547 - val_loss: 1.1095 - val_root_mean_squared_error: 1.0429 - val_mse: 1.0876\n",
            "Epoch 50/300\n",
            "648/648 [==============================] - 5s 7ms/step - loss: 0.6628 - root_mean_squared_error: 0.8011 - mse: 0.6417 - val_loss: 1.1092 - val_root_mean_squared_error: 1.0427 - val_mse: 1.0872\n",
            "Epoch 51/300\n",
            "648/648 [==============================] - 4s 7ms/step - loss: 0.6504 - root_mean_squared_error: 0.7935 - mse: 0.6297 - val_loss: 1.1040 - val_root_mean_squared_error: 1.0406 - val_mse: 1.0829\n",
            "Epoch 52/300\n",
            "648/648 [==============================] - 4s 7ms/step - loss: 0.6386 - root_mean_squared_error: 0.7864 - mse: 0.6185 - val_loss: 1.1034 - val_root_mean_squared_error: 1.0406 - val_mse: 1.0829\n",
            "Epoch 53/300\n",
            "648/648 [==============================] - 4s 7ms/step - loss: 0.6272 - root_mean_squared_error: 0.7793 - mse: 0.6073 - val_loss: 1.1006 - val_root_mean_squared_error: 1.0396 - val_mse: 1.0807\n",
            "Epoch 54/300\n",
            "648/648 [==============================] - 4s 7ms/step - loss: 0.6176 - root_mean_squared_error: 0.7732 - mse: 0.5978 - val_loss: 1.0969 - val_root_mean_squared_error: 1.0374 - val_mse: 1.0762\n",
            "Epoch 55/300\n",
            "648/648 [==============================] - 5s 7ms/step - loss: 0.6082 - root_mean_squared_error: 0.7671 - mse: 0.5885 - val_loss: 1.0943 - val_root_mean_squared_error: 1.0364 - val_mse: 1.0742\n",
            "Epoch 56/300\n",
            "648/648 [==============================] - 5s 7ms/step - loss: 0.5984 - root_mean_squared_error: 0.7613 - mse: 0.5796 - val_loss: 1.0922 - val_root_mean_squared_error: 1.0359 - val_mse: 1.0732\n",
            "Epoch 57/300\n",
            "648/648 [==============================] - 5s 7ms/step - loss: 0.5899 - root_mean_squared_error: 0.7556 - mse: 0.5710 - val_loss: 1.0885 - val_root_mean_squared_error: 1.0341 - val_mse: 1.0694\n",
            "Epoch 58/300\n",
            "648/648 [==============================] - 4s 7ms/step - loss: 0.5830 - root_mean_squared_error: 0.7511 - mse: 0.5641 - val_loss: 1.0872 - val_root_mean_squared_error: 1.0333 - val_mse: 1.0676\n",
            "Epoch 59/300\n",
            "648/648 [==============================] - 4s 7ms/step - loss: 0.5747 - root_mean_squared_error: 0.7460 - mse: 0.5565 - val_loss: 1.0874 - val_root_mean_squared_error: 1.0340 - val_mse: 1.0692\n",
            "Epoch 60/300\n",
            "648/648 [==============================] - 5s 7ms/step - loss: 0.5680 - root_mean_squared_error: 0.7417 - mse: 0.5501 - val_loss: 1.0831 - val_root_mean_squared_error: 1.0320 - val_mse: 1.0650\n",
            "Epoch 61/300\n",
            "648/648 [==============================] - 5s 7ms/step - loss: 0.5617 - root_mean_squared_error: 0.7374 - mse: 0.5438 - val_loss: 1.0850 - val_root_mean_squared_error: 1.0329 - val_mse: 1.0669\n",
            "Epoch 62/300\n",
            "648/648 [==============================] - 5s 7ms/step - loss: 0.5554 - root_mean_squared_error: 0.7334 - mse: 0.5378 - val_loss: 1.0829 - val_root_mean_squared_error: 1.0319 - val_mse: 1.0649\n",
            "Epoch 63/300\n",
            "648/648 [==============================] - 5s 7ms/step - loss: 0.5501 - root_mean_squared_error: 0.7299 - mse: 0.5328 - val_loss: 1.0805 - val_root_mean_squared_error: 1.0311 - val_mse: 1.0632\n",
            "Epoch 64/300\n",
            "648/648 [==============================] - 5s 8ms/step - loss: 0.5444 - root_mean_squared_error: 0.7262 - mse: 0.5274 - val_loss: 1.0818 - val_root_mean_squared_error: 1.0315 - val_mse: 1.0639\n",
            "Epoch 65/300\n",
            "648/648 [==============================] - 5s 7ms/step - loss: 0.5405 - root_mean_squared_error: 0.7233 - mse: 0.5232 - val_loss: 1.0809 - val_root_mean_squared_error: 1.0311 - val_mse: 1.0631\n",
            "Epoch 66/300\n",
            "648/648 [==============================] - 5s 7ms/step - loss: 0.5360 - root_mean_squared_error: 0.7203 - mse: 0.5188 - val_loss: 1.0801 - val_root_mean_squared_error: 1.0311 - val_mse: 1.0632\n",
            "Epoch 67/300\n",
            "648/648 [==============================] - 5s 7ms/step - loss: 0.5312 - root_mean_squared_error: 0.7175 - mse: 0.5148 - val_loss: 1.0814 - val_root_mean_squared_error: 1.0317 - val_mse: 1.0644\n",
            "Epoch 68/300\n",
            "648/648 [==============================] - 5s 7ms/step - loss: 0.5275 - root_mean_squared_error: 0.7149 - mse: 0.5111 - val_loss: 1.0797 - val_root_mean_squared_error: 1.0311 - val_mse: 1.0632\n",
            "Epoch 69/300\n",
            "648/648 [==============================] - 5s 7ms/step - loss: 0.5231 - root_mean_squared_error: 0.7120 - mse: 0.5070 - val_loss: 1.0811 - val_root_mean_squared_error: 1.0319 - val_mse: 1.0648\n",
            "Epoch 70/300\n",
            "648/648 [==============================] - 5s 7ms/step - loss: 0.5200 - root_mean_squared_error: 0.7097 - mse: 0.5037 - val_loss: 1.0832 - val_root_mean_squared_error: 1.0325 - val_mse: 1.0662\n",
            "Epoch 71/300\n",
            "648/648 [==============================] - 5s 7ms/step - loss: 0.5169 - root_mean_squared_error: 0.7077 - mse: 0.5009 - val_loss: 1.0797 - val_root_mean_squared_error: 1.0312 - val_mse: 1.0635\n",
            "Epoch 72/300\n",
            "648/648 [==============================] - 5s 7ms/step - loss: 0.5136 - root_mean_squared_error: 0.7056 - mse: 0.4979 - val_loss: 1.0809 - val_root_mean_squared_error: 1.0319 - val_mse: 1.0649\n",
            "Epoch 73/300\n",
            "648/648 [==============================] - 5s 7ms/step - loss: 0.5109 - root_mean_squared_error: 0.7038 - mse: 0.4953 - val_loss: 1.0805 - val_root_mean_squared_error: 1.0316 - val_mse: 1.0642\n",
            "Epoch 74/300\n",
            "648/648 [==============================] - 5s 7ms/step - loss: 0.5086 - root_mean_squared_error: 0.7022 - mse: 0.4931 - val_loss: 1.0811 - val_root_mean_squared_error: 1.0321 - val_mse: 1.0653\n",
            "Epoch 75/300\n",
            "648/648 [==============================] - 5s 7ms/step - loss: 0.5055 - root_mean_squared_error: 0.7002 - mse: 0.4902 - val_loss: 1.0792 - val_root_mean_squared_error: 1.0313 - val_mse: 1.0635\n",
            "Epoch 00075: early stopping\n"
          ],
          "name": "stdout"
        },
        {
          "output_type": "display_data",
          "data": {
            "image/png": "[encoded data removed]",
            "text/plain": [
              "<Figure size 432x288 with 1 Axes>"
            ]
          },
          "metadata": {
            "tags": [],
            "needs_background": "light"
          }
        }
      ]
    },
    {
      "cell_type": "code",
      "metadata": {
        "id": "8wJGFrI7a6h_"
      },
      "source": [
        "x_train = np.array(x_train)\n",
        "y_train = np.array(y_train)\n",
        "x_val = np.array(x_val)\n",
        "y_val = np.array(y_val)"
      ],
      "execution_count": null,
      "outputs": []
    },
    {
      "cell_type": "code",
      "metadata": {
        "id": "MI_No3rZZay5",
        "outputId": "5dab2b23-e498-4b10-d8aa-5fd892b1a6de",
        "colab": {
          "base_uri": "https://localhost:8080/",
          "height": 595
        }
      },
      "source": [
        "from sklearn.model_selection import KFold\n",
        "kf = KFold(n_splits=5)\n",
        "for train_index, test_index in kf.split(x_train):\n",
        "    print(\"TRAIN:\", train_index, \"TEST:\", test_index)\n",
        "    model = RecommenderNet(num_users, num_items, EMBEDDING_SIZE)\n",
        "\n",
        "    model.compile(\n",
        "        loss=tf.keras.losses.MeanSquaredError(), optimizer=keras.optimizers.Adam(lr=1e-4),\n",
        "         metrics=[tf.keras.metrics.RootMeanSquaredError(),\"mse\"])\n",
        "    es = tf.keras.callbacks.EarlyStopping(monitor='val_root_mean_squared_error', mode='min', verbose=1, patience=10)\n",
        "\n",
        "    history = model.fit(\n",
        "    x=x_train[train_index],\n",
        "    y=y_train[train_index],\n",
        "    batch_size=200,\n",
        "    epochs=300,\n",
        "    verbose=1,\n",
        "    validation_data=(x_train[test_index], y_train[test_index]),\n",
        "    callbacks=[es],\n",
        "    )\n",
        "\n",
        "    plt.plot(history.history[\"root_mean_squared_error\"])\n",
        "    plt.plot(history.history[\"val_root_mean_squared_error\"])\n",
        "    plt.title(\"model root_mean_squared_error\")\n",
        "    plt.ylabel(\"root_mean_squared_error\")\n",
        "    plt.xlabel(\"epoch\")\n",
        "    plt.legend([\"train\", \"test\"], loc=\"upper left\")\n",
        "    plt.show() \n"
      ],
      "execution_count": null,
      "outputs": [
        {
          "output_type": "stream",
          "text": [
            "TRAIN: [ 32395  32396  32397 ... 161971 161972 161973] TEST: [    0     1     2 ... 32392 32393 32394]\n",
            "Epoch 1/300\n",
            "648/648 [==============================] - 5s 7ms/step - loss: 16.2469 - root_mean_squared_error: 4.0293 - mse: 16.2350 - val_loss: 7.5753 - val_root_mean_squared_error: 2.7490 - val_mse: 7.5568\n",
            "Epoch 2/300\n",
            "648/648 [==============================] - 5s 7ms/step - loss: 4.7032 - root_mean_squared_error: 2.1626 - mse: 4.6769 - val_loss: 2.0228 - val_root_mean_squared_error: 1.4112 - val_mse: 1.9914\n",
            "Epoch 3/300\n",
            "648/648 [==============================] - 5s 7ms/step - loss: 3.0689 - root_mean_squared_error: 1.7422 - mse: 3.0351 - val_loss: 1.4698 - val_root_mean_squared_error: 1.1976 - val_mse: 1.4342\n",
            "Epoch 4/300\n",
            "648/648 [==============================] - 5s 7ms/step - loss: 2.7943 - root_mean_squared_error: 1.6605 - mse: 2.7573 - val_loss: 1.3099 - val_root_mean_squared_error: 1.1277 - val_mse: 1.2716\n",
            "Epoch 5/300\n",
            "469/648 [====================>.........] - ETA: 1s - loss: 2.6810 - root_mean_squared_error: 1.6254 - mse: 2.6420"
          ],
          "name": "stdout"
        },
        {
          "output_type": "error",
          "ename": "KeyboardInterrupt",
          "evalue": "ignored",
          "traceback": [
            "\u001b[0;31m---------------------------------------------------------------------------\u001b[0m",
            "\u001b[0;31mKeyboardInterrupt\u001b[0m                         Traceback (most recent call last)",
            "\u001b[0;32m<ipython-input-19-c9be431c2929>\u001b[0m in \u001b[0;36m<module>\u001b[0;34m()\u001b[0m\n\u001b[1;32m     17\u001b[0m     \u001b[0mverbose\u001b[0m\u001b[0;34m=\u001b[0m\u001b[0;36m1\u001b[0m\u001b[0;34m,\u001b[0m\u001b[0;34m\u001b[0m\u001b[0;34m\u001b[0m\u001b[0m\n\u001b[1;32m     18\u001b[0m     \u001b[0mvalidation_data\u001b[0m\u001b[0;34m=\u001b[0m\u001b[0;34m(\u001b[0m\u001b[0mx_train\u001b[0m\u001b[0;34m[\u001b[0m\u001b[0mtest_index\u001b[0m\u001b[0;34m]\u001b[0m\u001b[0;34m,\u001b[0m \u001b[0my_train\u001b[0m\u001b[0;34m[\u001b[0m\u001b[0mtest_index\u001b[0m\u001b[0;34m]\u001b[0m\u001b[0;34m)\u001b[0m\u001b[0;34m,\u001b[0m\u001b[0;34m\u001b[0m\u001b[0;34m\u001b[0m\u001b[0m\n\u001b[0;32m---> 19\u001b[0;31m     \u001b[0mcallbacks\u001b[0m\u001b[0;34m=\u001b[0m\u001b[0;34m[\u001b[0m\u001b[0mes\u001b[0m\u001b[0;34m]\u001b[0m\u001b[0;34m,\u001b[0m\u001b[0;34m\u001b[0m\u001b[0;34m\u001b[0m\u001b[0m\n\u001b[0m\u001b[1;32m     20\u001b[0m     )\n\u001b[1;32m     21\u001b[0m \u001b[0;34m\u001b[0m\u001b[0m\n",
            "\u001b[0;32m/usr/local/lib/python3.6/dist-packages/tensorflow/python/keras/engine/training.py\u001b[0m in \u001b[0;36m_method_wrapper\u001b[0;34m(self, *args, **kwargs)\u001b[0m\n\u001b[1;32m    106\u001b[0m   \u001b[0;32mdef\u001b[0m \u001b[0m_method_wrapper\u001b[0m\u001b[0;34m(\u001b[0m\u001b[0mself\u001b[0m\u001b[0;34m,\u001b[0m \u001b[0;34m*\u001b[0m\u001b[0margs\u001b[0m\u001b[0;34m,\u001b[0m \u001b[0;34m**\u001b[0m\u001b[0mkwargs\u001b[0m\u001b[0;34m)\u001b[0m\u001b[0;34m:\u001b[0m\u001b[0;34m\u001b[0m\u001b[0;34m\u001b[0m\u001b[0m\n\u001b[1;32m    107\u001b[0m     \u001b[0;32mif\u001b[0m \u001b[0;32mnot\u001b[0m \u001b[0mself\u001b[0m\u001b[0;34m.\u001b[0m\u001b[0m_in_multi_worker_mode\u001b[0m\u001b[0;34m(\u001b[0m\u001b[0;34m)\u001b[0m\u001b[0;34m:\u001b[0m  \u001b[0;31m# pylint: disable=protected-access\u001b[0m\u001b[0;34m\u001b[0m\u001b[0;34m\u001b[0m\u001b[0m\n\u001b[0;32m--> 108\u001b[0;31m       \u001b[0;32mreturn\u001b[0m \u001b[0mmethod\u001b[0m\u001b[0;34m(\u001b[0m\u001b[0mself\u001b[0m\u001b[0;34m,\u001b[0m \u001b[0;34m*\u001b[0m\u001b[0margs\u001b[0m\u001b[0;34m,\u001b[0m \u001b[0;34m**\u001b[0m\u001b[0mkwargs\u001b[0m\u001b[0;34m)\u001b[0m\u001b[0;34m\u001b[0m\u001b[0;34m\u001b[0m\u001b[0m\n\u001b[0m\u001b[1;32m    109\u001b[0m \u001b[0;34m\u001b[0m\u001b[0m\n\u001b[1;32m    110\u001b[0m     \u001b[0;31m# Running inside `run_distribute_coordinator` already.\u001b[0m\u001b[0;34m\u001b[0m\u001b[0;34m\u001b[0m\u001b[0;34m\u001b[0m\u001b[0m\n",
            "\u001b[0;32m/usr/local/lib/python3.6/dist-packages/tensorflow/python/keras/engine/training.py\u001b[0m in \u001b[0;36mfit\u001b[0;34m(self, x, y, batch_size, epochs, verbose, callbacks, validation_split, validation_data, shuffle, class_weight, sample_weight, initial_epoch, steps_per_epoch, validation_steps, validation_batch_size, validation_freq, max_queue_size, workers, use_multiprocessing)\u001b[0m\n\u001b[1;32m   1096\u001b[0m                 batch_size=batch_size):\n\u001b[1;32m   1097\u001b[0m               \u001b[0mcallbacks\u001b[0m\u001b[0;34m.\u001b[0m\u001b[0mon_train_batch_begin\u001b[0m\u001b[0;34m(\u001b[0m\u001b[0mstep\u001b[0m\u001b[0;34m)\u001b[0m\u001b[0;34m\u001b[0m\u001b[0;34m\u001b[0m\u001b[0m\n\u001b[0;32m-> 1098\u001b[0;31m               \u001b[0mtmp_logs\u001b[0m \u001b[0;34m=\u001b[0m \u001b[0mtrain_function\u001b[0m\u001b[0;34m(\u001b[0m\u001b[0miterator\u001b[0m\u001b[0;34m)\u001b[0m\u001b[0;34m\u001b[0m\u001b[0;34m\u001b[0m\u001b[0m\n\u001b[0m\u001b[1;32m   1099\u001b[0m               \u001b[0;32mif\u001b[0m \u001b[0mdata_handler\u001b[0m\u001b[0;34m.\u001b[0m\u001b[0mshould_sync\u001b[0m\u001b[0;34m:\u001b[0m\u001b[0;34m\u001b[0m\u001b[0;34m\u001b[0m\u001b[0m\n\u001b[1;32m   1100\u001b[0m                 \u001b[0mcontext\u001b[0m\u001b[0;34m.\u001b[0m\u001b[0masync_wait\u001b[0m\u001b[0;34m(\u001b[0m\u001b[0;34m)\u001b[0m\u001b[0;34m\u001b[0m\u001b[0;34m\u001b[0m\u001b[0m\n",
            "\u001b[0;32m/usr/local/lib/python3.6/dist-packages/tensorflow/python/eager/def_function.py\u001b[0m in \u001b[0;36m__call__\u001b[0;34m(self, *args, **kwds)\u001b[0m\n\u001b[1;32m    778\u001b[0m       \u001b[0;32melse\u001b[0m\u001b[0;34m:\u001b[0m\u001b[0;34m\u001b[0m\u001b[0;34m\u001b[0m\u001b[0m\n\u001b[1;32m    779\u001b[0m         \u001b[0mcompiler\u001b[0m \u001b[0;34m=\u001b[0m \u001b[0;34m\"nonXla\"\u001b[0m\u001b[0;34m\u001b[0m\u001b[0;34m\u001b[0m\u001b[0m\n\u001b[0;32m--> 780\u001b[0;31m         \u001b[0mresult\u001b[0m \u001b[0;34m=\u001b[0m \u001b[0mself\u001b[0m\u001b[0;34m.\u001b[0m\u001b[0m_call\u001b[0m\u001b[0;34m(\u001b[0m\u001b[0;34m*\u001b[0m\u001b[0margs\u001b[0m\u001b[0;34m,\u001b[0m \u001b[0;34m**\u001b[0m\u001b[0mkwds\u001b[0m\u001b[0;34m)\u001b[0m\u001b[0;34m\u001b[0m\u001b[0;34m\u001b[0m\u001b[0m\n\u001b[0m\u001b[1;32m    781\u001b[0m \u001b[0;34m\u001b[0m\u001b[0m\n\u001b[1;32m    782\u001b[0m       \u001b[0mnew_tracing_count\u001b[0m \u001b[0;34m=\u001b[0m \u001b[0mself\u001b[0m\u001b[0;34m.\u001b[0m\u001b[0m_get_tracing_count\u001b[0m\u001b[0;34m(\u001b[0m\u001b[0;34m)\u001b[0m\u001b[0;34m\u001b[0m\u001b[0;34m\u001b[0m\u001b[0m\n",
            "\u001b[0;32m/usr/local/lib/python3.6/dist-packages/tensorflow/python/eager/def_function.py\u001b[0m in \u001b[0;36m_call\u001b[0;34m(self, *args, **kwds)\u001b[0m\n\u001b[1;32m    805\u001b[0m       \u001b[0;31m# In this case we have created variables on the first call, so we run the\u001b[0m\u001b[0;34m\u001b[0m\u001b[0;34m\u001b[0m\u001b[0;34m\u001b[0m\u001b[0m\n\u001b[1;32m    806\u001b[0m       \u001b[0;31m# defunned version which is guaranteed to never create variables.\u001b[0m\u001b[0;34m\u001b[0m\u001b[0;34m\u001b[0m\u001b[0;34m\u001b[0m\u001b[0m\n\u001b[0;32m--> 807\u001b[0;31m       \u001b[0;32mreturn\u001b[0m \u001b[0mself\u001b[0m\u001b[0;34m.\u001b[0m\u001b[0m_stateless_fn\u001b[0m\u001b[0;34m(\u001b[0m\u001b[0;34m*\u001b[0m\u001b[0margs\u001b[0m\u001b[0;34m,\u001b[0m \u001b[0;34m**\u001b[0m\u001b[0mkwds\u001b[0m\u001b[0;34m)\u001b[0m  \u001b[0;31m# pylint: disable=not-callable\u001b[0m\u001b[0;34m\u001b[0m\u001b[0;34m\u001b[0m\u001b[0m\n\u001b[0m\u001b[1;32m    808\u001b[0m     \u001b[0;32melif\u001b[0m \u001b[0mself\u001b[0m\u001b[0;34m.\u001b[0m\u001b[0m_stateful_fn\u001b[0m \u001b[0;32mis\u001b[0m \u001b[0;32mnot\u001b[0m \u001b[0;32mNone\u001b[0m\u001b[0;34m:\u001b[0m\u001b[0;34m\u001b[0m\u001b[0;34m\u001b[0m\u001b[0m\n\u001b[1;32m    809\u001b[0m       \u001b[0;31m# Release the lock early so that multiple threads can perform the call\u001b[0m\u001b[0;34m\u001b[0m\u001b[0;34m\u001b[0m\u001b[0;34m\u001b[0m\u001b[0m\n",
            "\u001b[0;32m/usr/local/lib/python3.6/dist-packages/tensorflow/python/eager/function.py\u001b[0m in \u001b[0;36m__call__\u001b[0;34m(self, *args, **kwargs)\u001b[0m\n\u001b[1;32m   2827\u001b[0m     \u001b[0;32mwith\u001b[0m \u001b[0mself\u001b[0m\u001b[0;34m.\u001b[0m\u001b[0m_lock\u001b[0m\u001b[0;34m:\u001b[0m\u001b[0;34m\u001b[0m\u001b[0;34m\u001b[0m\u001b[0m\n\u001b[1;32m   2828\u001b[0m       \u001b[0mgraph_function\u001b[0m\u001b[0;34m,\u001b[0m \u001b[0margs\u001b[0m\u001b[0;34m,\u001b[0m \u001b[0mkwargs\u001b[0m \u001b[0;34m=\u001b[0m \u001b[0mself\u001b[0m\u001b[0;34m.\u001b[0m\u001b[0m_maybe_define_function\u001b[0m\u001b[0;34m(\u001b[0m\u001b[0margs\u001b[0m\u001b[0;34m,\u001b[0m \u001b[0mkwargs\u001b[0m\u001b[0;34m)\u001b[0m\u001b[0;34m\u001b[0m\u001b[0;34m\u001b[0m\u001b[0m\n\u001b[0;32m-> 2829\u001b[0;31m     \u001b[0;32mreturn\u001b[0m \u001b[0mgraph_function\u001b[0m\u001b[0;34m.\u001b[0m\u001b[0m_filtered_call\u001b[0m\u001b[0;34m(\u001b[0m\u001b[0margs\u001b[0m\u001b[0;34m,\u001b[0m \u001b[0mkwargs\u001b[0m\u001b[0;34m)\u001b[0m  \u001b[0;31m# pylint: disable=protected-access\u001b[0m\u001b[0;34m\u001b[0m\u001b[0;34m\u001b[0m\u001b[0m\n\u001b[0m\u001b[1;32m   2830\u001b[0m \u001b[0;34m\u001b[0m\u001b[0m\n\u001b[1;32m   2831\u001b[0m   \u001b[0;34m@\u001b[0m\u001b[0mproperty\u001b[0m\u001b[0;34m\u001b[0m\u001b[0;34m\u001b[0m\u001b[0m\n",
            "\u001b[0;32m/usr/local/lib/python3.6/dist-packages/tensorflow/python/eager/function.py\u001b[0m in \u001b[0;36m_filtered_call\u001b[0;34m(self, args, kwargs, cancellation_manager)\u001b[0m\n\u001b[1;32m   1846\u001b[0m                            resource_variable_ops.BaseResourceVariable))],\n\u001b[1;32m   1847\u001b[0m         \u001b[0mcaptured_inputs\u001b[0m\u001b[0;34m=\u001b[0m\u001b[0mself\u001b[0m\u001b[0;34m.\u001b[0m\u001b[0mcaptured_inputs\u001b[0m\u001b[0;34m,\u001b[0m\u001b[0;34m\u001b[0m\u001b[0;34m\u001b[0m\u001b[0m\n\u001b[0;32m-> 1848\u001b[0;31m         cancellation_manager=cancellation_manager)\n\u001b[0m\u001b[1;32m   1849\u001b[0m \u001b[0;34m\u001b[0m\u001b[0m\n\u001b[1;32m   1850\u001b[0m   \u001b[0;32mdef\u001b[0m \u001b[0m_call_flat\u001b[0m\u001b[0;34m(\u001b[0m\u001b[0mself\u001b[0m\u001b[0;34m,\u001b[0m \u001b[0margs\u001b[0m\u001b[0;34m,\u001b[0m \u001b[0mcaptured_inputs\u001b[0m\u001b[0;34m,\u001b[0m \u001b[0mcancellation_manager\u001b[0m\u001b[0;34m=\u001b[0m\u001b[0;32mNone\u001b[0m\u001b[0;34m)\u001b[0m\u001b[0;34m:\u001b[0m\u001b[0;34m\u001b[0m\u001b[0;34m\u001b[0m\u001b[0m\n",
            "\u001b[0;32m/usr/local/lib/python3.6/dist-packages/tensorflow/python/eager/function.py\u001b[0m in \u001b[0;36m_call_flat\u001b[0;34m(self, args, captured_inputs, cancellation_manager)\u001b[0m\n\u001b[1;32m   1922\u001b[0m       \u001b[0;31m# No tape is watching; skip to running the function.\u001b[0m\u001b[0;34m\u001b[0m\u001b[0;34m\u001b[0m\u001b[0;34m\u001b[0m\u001b[0m\n\u001b[1;32m   1923\u001b[0m       return self._build_call_outputs(self._inference_function.call(\n\u001b[0;32m-> 1924\u001b[0;31m           ctx, args, cancellation_manager=cancellation_manager))\n\u001b[0m\u001b[1;32m   1925\u001b[0m     forward_backward = self._select_forward_and_backward_functions(\n\u001b[1;32m   1926\u001b[0m         \u001b[0margs\u001b[0m\u001b[0;34m,\u001b[0m\u001b[0;34m\u001b[0m\u001b[0;34m\u001b[0m\u001b[0m\n",
            "\u001b[0;32m/usr/local/lib/python3.6/dist-packages/tensorflow/python/eager/function.py\u001b[0m in \u001b[0;36mcall\u001b[0;34m(self, ctx, args, cancellation_manager)\u001b[0m\n\u001b[1;32m    548\u001b[0m               \u001b[0minputs\u001b[0m\u001b[0;34m=\u001b[0m\u001b[0margs\u001b[0m\u001b[0;34m,\u001b[0m\u001b[0;34m\u001b[0m\u001b[0;34m\u001b[0m\u001b[0m\n\u001b[1;32m    549\u001b[0m               \u001b[0mattrs\u001b[0m\u001b[0;34m=\u001b[0m\u001b[0mattrs\u001b[0m\u001b[0;34m,\u001b[0m\u001b[0;34m\u001b[0m\u001b[0;34m\u001b[0m\u001b[0m\n\u001b[0;32m--> 550\u001b[0;31m               ctx=ctx)\n\u001b[0m\u001b[1;32m    551\u001b[0m         \u001b[0;32melse\u001b[0m\u001b[0;34m:\u001b[0m\u001b[0;34m\u001b[0m\u001b[0;34m\u001b[0m\u001b[0m\n\u001b[1;32m    552\u001b[0m           outputs = execute.execute_with_cancellation(\n",
            "\u001b[0;32m/usr/local/lib/python3.6/dist-packages/tensorflow/python/eager/execute.py\u001b[0m in \u001b[0;36mquick_execute\u001b[0;34m(op_name, num_outputs, inputs, attrs, ctx, name)\u001b[0m\n\u001b[1;32m     58\u001b[0m     \u001b[0mctx\u001b[0m\u001b[0;34m.\u001b[0m\u001b[0mensure_initialized\u001b[0m\u001b[0;34m(\u001b[0m\u001b[0;34m)\u001b[0m\u001b[0;34m\u001b[0m\u001b[0;34m\u001b[0m\u001b[0m\n\u001b[1;32m     59\u001b[0m     tensors = pywrap_tfe.TFE_Py_Execute(ctx._handle, device_name, op_name,\n\u001b[0;32m---> 60\u001b[0;31m                                         inputs, attrs, num_outputs)\n\u001b[0m\u001b[1;32m     61\u001b[0m   \u001b[0;32mexcept\u001b[0m \u001b[0mcore\u001b[0m\u001b[0;34m.\u001b[0m\u001b[0m_NotOkStatusException\u001b[0m \u001b[0;32mas\u001b[0m \u001b[0me\u001b[0m\u001b[0;34m:\u001b[0m\u001b[0;34m\u001b[0m\u001b[0;34m\u001b[0m\u001b[0m\n\u001b[1;32m     62\u001b[0m     \u001b[0;32mif\u001b[0m \u001b[0mname\u001b[0m \u001b[0;32mis\u001b[0m \u001b[0;32mnot\u001b[0m \u001b[0;32mNone\u001b[0m\u001b[0;34m:\u001b[0m\u001b[0;34m\u001b[0m\u001b[0;34m\u001b[0m\u001b[0m\n",
            "\u001b[0;31mKeyboardInterrupt\u001b[0m: "
          ]
        }
      ]
    },
    {
      "cell_type": "code",
      "metadata": {
        "id": "e4yAs11iC0Hd",
        "outputId": "dc0f4c17-3811-4300-ad61-a8d9a699bd09",
        "colab": {
          "base_uri": "https://localhost:8080/",
          "height": 1000
        }
      },
      "source": [
        "  \n",
        "history = model.fit(\n",
        "      x=x_train,\n",
        "    y=y_train,\n",
        "    batch_size=200,\n",
        "    epochs=300,\n",
        "    verbose=1,\n",
        "    validation_data=(x_val, y_val),\n",
        "    callbacks=[es],\n",
        ")\n",
        "\n",
        "\n",
        "\n",
        "\n",
        "plt.plot(history.history[\"root_mean_squared_error\"])\n",
        "plt.plot(history.history[\"val_root_mean_squared_error\"])\n",
        "plt.title(\"model root_mean_squared_error\")\n",
        "plt.ylabel(\"root_mean_squared_error\")\n",
        "plt.xlabel(\"epoch\")\n",
        "plt.legend([\"train\", \"test\"], loc=\"upper left\")\n",
        "plt.show()"
      ],
      "execution_count": null,
      "outputs": [
        {
          "output_type": "stream",
          "text": [
            "Epoch 1/300\n",
            "810/810 [==============================] - 16s 20ms/step - loss: 1.0563 - root_mean_squared_error: 1.0212 - mse: 1.0429 - val_loss: 1.0186 - val_root_mean_squared_error: 1.0028 - val_mse: 1.0055\n",
            "Epoch 2/300\n",
            "810/810 [==============================] - 13s 16ms/step - loss: 1.0385 - root_mean_squared_error: 1.0126 - mse: 1.0254 - val_loss: 1.0071 - val_root_mean_squared_error: 0.9970 - val_mse: 0.9941\n",
            "Epoch 3/300\n",
            "810/810 [==============================] - 13s 16ms/step - loss: 1.0275 - root_mean_squared_error: 1.0072 - mse: 1.0145 - val_loss: 0.9986 - val_root_mean_squared_error: 0.9928 - val_mse: 0.9857\n",
            "Epoch 4/300\n",
            "810/810 [==============================] - 13s 16ms/step - loss: 1.0210 - root_mean_squared_error: 1.0040 - mse: 1.0080 - val_loss: 0.9922 - val_root_mean_squared_error: 0.9895 - val_mse: 0.9792\n",
            "Epoch 5/300\n",
            "810/810 [==============================] - 13s 16ms/step - loss: 1.0141 - root_mean_squared_error: 1.0005 - mse: 1.0011 - val_loss: 0.9878 - val_root_mean_squared_error: 0.9873 - val_mse: 0.9748\n",
            "Epoch 6/300\n",
            "810/810 [==============================] - 13s 16ms/step - loss: 1.0092 - root_mean_squared_error: 0.9981 - mse: 0.9962 - val_loss: 0.9844 - val_root_mean_squared_error: 0.9856 - val_mse: 0.9714\n",
            "Epoch 7/300\n",
            "810/810 [==============================] - 13s 16ms/step - loss: 1.0046 - root_mean_squared_error: 0.9958 - mse: 0.9915 - val_loss: 0.9817 - val_root_mean_squared_error: 0.9842 - val_mse: 0.9687\n",
            "Epoch 8/300\n",
            "810/810 [==============================] - 13s 16ms/step - loss: 1.0026 - root_mean_squared_error: 0.9948 - mse: 0.9895 - val_loss: 0.9792 - val_root_mean_squared_error: 0.9829 - val_mse: 0.9662\n",
            "Epoch 9/300\n",
            "810/810 [==============================] - 13s 16ms/step - loss: 0.9977 - root_mean_squared_error: 0.9923 - mse: 0.9846 - val_loss: 0.9771 - val_root_mean_squared_error: 0.9819 - val_mse: 0.9640\n",
            "Epoch 10/300\n",
            "810/810 [==============================] - 13s 16ms/step - loss: 0.9939 - root_mean_squared_error: 0.9903 - mse: 0.9807 - val_loss: 0.9756 - val_root_mean_squared_error: 0.9811 - val_mse: 0.9625\n",
            "Epoch 11/300\n",
            "810/810 [==============================] - 13s 16ms/step - loss: 0.9915 - root_mean_squared_error: 0.9891 - mse: 0.9784 - val_loss: 0.9738 - val_root_mean_squared_error: 0.9801 - val_mse: 0.9606\n",
            "Epoch 12/300\n",
            "810/810 [==============================] - 13s 16ms/step - loss: 0.9883 - root_mean_squared_error: 0.9875 - mse: 0.9752 - val_loss: 0.9723 - val_root_mean_squared_error: 0.9794 - val_mse: 0.9591\n",
            "Epoch 13/300\n",
            "810/810 [==============================] - 13s 17ms/step - loss: 0.9861 - root_mean_squared_error: 0.9863 - mse: 0.9729 - val_loss: 0.9720 - val_root_mean_squared_error: 0.9792 - val_mse: 0.9588\n",
            "Epoch 14/300\n",
            "810/810 [==============================] - 13s 16ms/step - loss: 0.9834 - root_mean_squared_error: 0.9850 - mse: 0.9702 - val_loss: 0.9713 - val_root_mean_squared_error: 0.9788 - val_mse: 0.9581\n",
            "Epoch 15/300\n",
            "810/810 [==============================] - 13s 16ms/step - loss: 0.9809 - root_mean_squared_error: 0.9837 - mse: 0.9677 - val_loss: 0.9703 - val_root_mean_squared_error: 0.9784 - val_mse: 0.9572\n",
            "Epoch 16/300\n",
            "810/810 [==============================] - 13s 16ms/step - loss: 0.9780 - root_mean_squared_error: 0.9822 - mse: 0.9648 - val_loss: 0.9691 - val_root_mean_squared_error: 0.9777 - val_mse: 0.9559\n",
            "Epoch 17/300\n",
            "810/810 [==============================] - 13s 17ms/step - loss: 0.9757 - root_mean_squared_error: 0.9811 - mse: 0.9625 - val_loss: 0.9683 - val_root_mean_squared_error: 0.9773 - val_mse: 0.9552\n",
            "Epoch 18/300\n",
            "810/810 [==============================] - 14s 17ms/step - loss: 0.9721 - root_mean_squared_error: 0.9792 - mse: 0.9589 - val_loss: 0.9687 - val_root_mean_squared_error: 0.9775 - val_mse: 0.9556\n",
            "Epoch 19/300\n",
            "810/810 [==============================] - 15s 18ms/step - loss: 0.9705 - root_mean_squared_error: 0.9784 - mse: 0.9573 - val_loss: 0.9683 - val_root_mean_squared_error: 0.9773 - val_mse: 0.9552\n",
            "Epoch 20/300\n",
            "810/810 [==============================] - 13s 17ms/step - loss: 0.9683 - root_mean_squared_error: 0.9773 - mse: 0.9552 - val_loss: 0.9680 - val_root_mean_squared_error: 0.9772 - val_mse: 0.9549\n",
            "Epoch 21/300\n",
            "810/810 [==============================] - 13s 17ms/step - loss: 0.9665 - root_mean_squared_error: 0.9764 - mse: 0.9534 - val_loss: 0.9675 - val_root_mean_squared_error: 0.9769 - val_mse: 0.9544\n",
            "Epoch 22/300\n",
            "810/810 [==============================] - 13s 17ms/step - loss: 0.9641 - root_mean_squared_error: 0.9752 - mse: 0.9510 - val_loss: 0.9670 - val_root_mean_squared_error: 0.9767 - val_mse: 0.9539\n",
            "Epoch 23/300\n",
            "810/810 [==============================] - 13s 16ms/step - loss: 0.9619 - root_mean_squared_error: 0.9740 - mse: 0.9488 - val_loss: 0.9665 - val_root_mean_squared_error: 0.9765 - val_mse: 0.9535\n",
            "Epoch 24/300\n",
            "810/810 [==============================] - 13s 16ms/step - loss: 0.9586 - root_mean_squared_error: 0.9724 - mse: 0.9455 - val_loss: 0.9660 - val_root_mean_squared_error: 0.9762 - val_mse: 0.9530\n",
            "Epoch 25/300\n",
            "810/810 [==============================] - 13s 16ms/step - loss: 0.9572 - root_mean_squared_error: 0.9717 - mse: 0.9442 - val_loss: 0.9665 - val_root_mean_squared_error: 0.9765 - val_mse: 0.9535\n",
            "Epoch 26/300\n",
            "810/810 [==============================] - 13s 16ms/step - loss: 0.9559 - root_mean_squared_error: 0.9710 - mse: 0.9429 - val_loss: 0.9656 - val_root_mean_squared_error: 0.9760 - val_mse: 0.9526\n",
            "Epoch 27/300\n",
            "810/810 [==============================] - 13s 16ms/step - loss: 0.9535 - root_mean_squared_error: 0.9698 - mse: 0.9405 - val_loss: 0.9660 - val_root_mean_squared_error: 0.9762 - val_mse: 0.9530\n",
            "Epoch 28/300\n",
            "810/810 [==============================] - 13s 16ms/step - loss: 0.9517 - root_mean_squared_error: 0.9689 - mse: 0.9387 - val_loss: 0.9658 - val_root_mean_squared_error: 0.9761 - val_mse: 0.9529\n",
            "Epoch 29/300\n",
            "810/810 [==============================] - 13s 16ms/step - loss: 0.9492 - root_mean_squared_error: 0.9676 - mse: 0.9362 - val_loss: 0.9652 - val_root_mean_squared_error: 0.9758 - val_mse: 0.9522\n",
            "Epoch 30/300\n",
            "810/810 [==============================] - 13s 16ms/step - loss: 0.9463 - root_mean_squared_error: 0.9661 - mse: 0.9333 - val_loss: 0.9648 - val_root_mean_squared_error: 0.9756 - val_mse: 0.9518\n",
            "Epoch 31/300\n",
            "810/810 [==============================] - 13s 16ms/step - loss: 0.9449 - root_mean_squared_error: 0.9653 - mse: 0.9319 - val_loss: 0.9644 - val_root_mean_squared_error: 0.9755 - val_mse: 0.9515\n",
            "Epoch 32/300\n",
            "810/810 [==============================] - 13s 16ms/step - loss: 0.9429 - root_mean_squared_error: 0.9644 - mse: 0.9300 - val_loss: 0.9647 - val_root_mean_squared_error: 0.9756 - val_mse: 0.9518\n",
            "Epoch 33/300\n",
            "810/810 [==============================] - 13s 16ms/step - loss: 0.9401 - root_mean_squared_error: 0.9629 - mse: 0.9272 - val_loss: 0.9636 - val_root_mean_squared_error: 0.9751 - val_mse: 0.9508\n",
            "Epoch 34/300\n",
            "810/810 [==============================] - 13s 16ms/step - loss: 0.9377 - root_mean_squared_error: 0.9617 - mse: 0.9248 - val_loss: 0.9649 - val_root_mean_squared_error: 0.9757 - val_mse: 0.9521\n",
            "Epoch 35/300\n",
            "810/810 [==============================] - 13s 16ms/step - loss: 0.9365 - root_mean_squared_error: 0.9611 - mse: 0.9237 - val_loss: 0.9644 - val_root_mean_squared_error: 0.9755 - val_mse: 0.9516\n",
            "Epoch 36/300\n",
            "810/810 [==============================] - 13s 16ms/step - loss: 0.9346 - root_mean_squared_error: 0.9601 - mse: 0.9217 - val_loss: 0.9651 - val_root_mean_squared_error: 0.9759 - val_mse: 0.9523\n",
            "Epoch 37/300\n",
            "810/810 [==============================] - 13s 16ms/step - loss: 0.9324 - root_mean_squared_error: 0.9589 - mse: 0.9196 - val_loss: 0.9642 - val_root_mean_squared_error: 0.9754 - val_mse: 0.9515\n",
            "Epoch 38/300\n",
            "810/810 [==============================] - 13s 16ms/step - loss: 0.9310 - root_mean_squared_error: 0.9582 - mse: 0.9182 - val_loss: 0.9643 - val_root_mean_squared_error: 0.9755 - val_mse: 0.9515\n",
            "Epoch 39/300\n",
            "810/810 [==============================] - 13s 16ms/step - loss: 0.9288 - root_mean_squared_error: 0.9571 - mse: 0.9160 - val_loss: 0.9642 - val_root_mean_squared_error: 0.9755 - val_mse: 0.9515\n",
            "Epoch 40/300\n",
            "810/810 [==============================] - 13s 16ms/step - loss: 0.9268 - root_mean_squared_error: 0.9561 - mse: 0.9140 - val_loss: 0.9635 - val_root_mean_squared_error: 0.9751 - val_mse: 0.9508\n",
            "Epoch 41/300\n",
            "810/810 [==============================] - 13s 16ms/step - loss: 0.9248 - root_mean_squared_error: 0.9550 - mse: 0.9121 - val_loss: 0.9632 - val_root_mean_squared_error: 0.9750 - val_mse: 0.9505\n",
            "Epoch 42/300\n",
            "810/810 [==============================] - 14s 17ms/step - loss: 0.9232 - root_mean_squared_error: 0.9542 - mse: 0.9105 - val_loss: 0.9631 - val_root_mean_squared_error: 0.9749 - val_mse: 0.9504\n",
            "Epoch 43/300\n",
            "810/810 [==============================] - 15s 18ms/step - loss: 0.9207 - root_mean_squared_error: 0.9529 - mse: 0.9080 - val_loss: 0.9623 - val_root_mean_squared_error: 0.9745 - val_mse: 0.9496\n",
            "Epoch 44/300\n",
            "810/810 [==============================] - 13s 16ms/step - loss: 0.9189 - root_mean_squared_error: 0.9519 - mse: 0.9062 - val_loss: 0.9634 - val_root_mean_squared_error: 0.9751 - val_mse: 0.9508\n",
            "Epoch 45/300\n",
            "810/810 [==============================] - 13s 16ms/step - loss: 0.9162 - root_mean_squared_error: 0.9505 - mse: 0.9035 - val_loss: 0.9621 - val_root_mean_squared_error: 0.9744 - val_mse: 0.9495\n",
            "Epoch 46/300\n",
            "810/810 [==============================] - 14s 17ms/step - loss: 0.9155 - root_mean_squared_error: 0.9502 - mse: 0.9029 - val_loss: 0.9632 - val_root_mean_squared_error: 0.9750 - val_mse: 0.9506\n",
            "Epoch 47/300\n",
            "810/810 [==============================] - 15s 19ms/step - loss: 0.9133 - root_mean_squared_error: 0.9490 - mse: 0.9006 - val_loss: 0.9623 - val_root_mean_squared_error: 0.9746 - val_mse: 0.9498\n",
            "Epoch 48/300\n",
            "810/810 [==============================] - 13s 16ms/step - loss: 0.9123 - root_mean_squared_error: 0.9485 - mse: 0.8997 - val_loss: 0.9620 - val_root_mean_squared_error: 0.9744 - val_mse: 0.9494\n",
            "Epoch 49/300\n",
            "810/810 [==============================] - 13s 16ms/step - loss: 0.9099 - root_mean_squared_error: 0.9473 - mse: 0.8974 - val_loss: 0.9626 - val_root_mean_squared_error: 0.9747 - val_mse: 0.9501\n",
            "Epoch 50/300\n",
            "810/810 [==============================] - 13s 16ms/step - loss: 0.9077 - root_mean_squared_error: 0.9461 - mse: 0.8952 - val_loss: 0.9625 - val_root_mean_squared_error: 0.9747 - val_mse: 0.9500\n",
            "Epoch 51/300\n",
            "810/810 [==============================] - 13s 16ms/step - loss: 0.9058 - root_mean_squared_error: 0.9451 - mse: 0.8933 - val_loss: 0.9623 - val_root_mean_squared_error: 0.9746 - val_mse: 0.9498\n",
            "Epoch 52/300\n",
            "810/810 [==============================] - 13s 16ms/step - loss: 0.9049 - root_mean_squared_error: 0.9447 - mse: 0.8924 - val_loss: 0.9619 - val_root_mean_squared_error: 0.9744 - val_mse: 0.9494\n",
            "Epoch 53/300\n",
            "810/810 [==============================] - 13s 16ms/step - loss: 0.9025 - root_mean_squared_error: 0.9434 - mse: 0.8900 - val_loss: 0.9617 - val_root_mean_squared_error: 0.9743 - val_mse: 0.9492\n",
            "Epoch 54/300\n",
            "810/810 [==============================] - 13s 16ms/step - loss: 0.9003 - root_mean_squared_error: 0.9423 - mse: 0.8878 - val_loss: 0.9615 - val_root_mean_squared_error: 0.9742 - val_mse: 0.9491\n",
            "Epoch 55/300\n",
            "810/810 [==============================] - 13s 16ms/step - loss: 0.8985 - root_mean_squared_error: 0.9413 - mse: 0.8860 - val_loss: 0.9620 - val_root_mean_squared_error: 0.9745 - val_mse: 0.9496\n",
            "Epoch 56/300\n",
            "810/810 [==============================] - 13s 16ms/step - loss: 0.8967 - root_mean_squared_error: 0.9403 - mse: 0.8843 - val_loss: 0.9614 - val_root_mean_squared_error: 0.9742 - val_mse: 0.9490\n",
            "Epoch 57/300\n",
            "810/810 [==============================] - 13s 16ms/step - loss: 0.8954 - root_mean_squared_error: 0.9397 - mse: 0.8830 - val_loss: 0.9614 - val_root_mean_squared_error: 0.9742 - val_mse: 0.9491\n",
            "Epoch 58/300\n",
            "810/810 [==============================] - 13s 16ms/step - loss: 0.8933 - root_mean_squared_error: 0.9386 - mse: 0.8809 - val_loss: 0.9615 - val_root_mean_squared_error: 0.9743 - val_mse: 0.9492\n",
            "Epoch 59/300\n",
            "810/810 [==============================] - 13s 16ms/step - loss: 0.8915 - root_mean_squared_error: 0.9376 - mse: 0.8792 - val_loss: 0.9616 - val_root_mean_squared_error: 0.9743 - val_mse: 0.9492\n",
            "Epoch 60/300\n",
            "810/810 [==============================] - 13s 16ms/step - loss: 0.8907 - root_mean_squared_error: 0.9372 - mse: 0.8783 - val_loss: 0.9607 - val_root_mean_squared_error: 0.9738 - val_mse: 0.9484\n",
            "Epoch 61/300\n",
            "810/810 [==============================] - 13s 16ms/step - loss: 0.8890 - root_mean_squared_error: 0.9363 - mse: 0.8766 - val_loss: 0.9608 - val_root_mean_squared_error: 0.9739 - val_mse: 0.9485\n",
            "Epoch 62/300\n",
            "810/810 [==============================] - 13s 16ms/step - loss: 0.8870 - root_mean_squared_error: 0.9352 - mse: 0.8747 - val_loss: 0.9619 - val_root_mean_squared_error: 0.9745 - val_mse: 0.9496\n",
            "Epoch 63/300\n",
            "810/810 [==============================] - 13s 16ms/step - loss: 0.8852 - root_mean_squared_error: 0.9343 - mse: 0.8729 - val_loss: 0.9617 - val_root_mean_squared_error: 0.9744 - val_mse: 0.9494\n",
            "Epoch 64/300\n",
            "810/810 [==============================] - 13s 16ms/step - loss: 0.8833 - root_mean_squared_error: 0.9333 - mse: 0.8710 - val_loss: 0.9611 - val_root_mean_squared_error: 0.9741 - val_mse: 0.9489\n",
            "Epoch 65/300\n",
            "810/810 [==============================] - 14s 17ms/step - loss: 0.8822 - root_mean_squared_error: 0.9327 - mse: 0.8699 - val_loss: 0.9615 - val_root_mean_squared_error: 0.9743 - val_mse: 0.9492\n",
            "Epoch 66/300\n",
            "810/810 [==============================] - 14s 17ms/step - loss: 0.8798 - root_mean_squared_error: 0.9314 - mse: 0.8675 - val_loss: 0.9613 - val_root_mean_squared_error: 0.9742 - val_mse: 0.9491\n",
            "Epoch 67/300\n",
            "810/810 [==============================] - 15s 18ms/step - loss: 0.8789 - root_mean_squared_error: 0.9309 - mse: 0.8666 - val_loss: 0.9610 - val_root_mean_squared_error: 0.9741 - val_mse: 0.9488\n",
            "Epoch 68/300\n",
            "810/810 [==============================] - 13s 16ms/step - loss: 0.8776 - root_mean_squared_error: 0.9303 - mse: 0.8654 - val_loss: 0.9611 - val_root_mean_squared_error: 0.9741 - val_mse: 0.9488\n",
            "Epoch 69/300\n",
            "810/810 [==============================] - 13s 16ms/step - loss: 0.8755 - root_mean_squared_error: 0.9291 - mse: 0.8633 - val_loss: 0.9605 - val_root_mean_squared_error: 0.9738 - val_mse: 0.9483\n",
            "Epoch 70/300\n",
            "810/810 [==============================] - 13s 16ms/step - loss: 0.8741 - root_mean_squared_error: 0.9283 - mse: 0.8618 - val_loss: 0.9613 - val_root_mean_squared_error: 0.9742 - val_mse: 0.9491\n",
            "Epoch 71/300\n",
            "810/810 [==============================] - 13s 16ms/step - loss: 0.8720 - root_mean_squared_error: 0.9272 - mse: 0.8598 - val_loss: 0.9618 - val_root_mean_squared_error: 0.9745 - val_mse: 0.9496\n",
            "Epoch 72/300\n",
            "810/810 [==============================] - 13s 16ms/step - loss: 0.8716 - root_mean_squared_error: 0.9270 - mse: 0.8593 - val_loss: 0.9614 - val_root_mean_squared_error: 0.9742 - val_mse: 0.9492\n",
            "Epoch 73/300\n",
            "810/810 [==============================] - 13s 16ms/step - loss: 0.8693 - root_mean_squared_error: 0.9258 - mse: 0.8571 - val_loss: 0.9606 - val_root_mean_squared_error: 0.9739 - val_mse: 0.9484\n",
            "Epoch 74/300\n",
            "810/810 [==============================] - 13s 16ms/step - loss: 0.8678 - root_mean_squared_error: 0.9250 - mse: 0.8556 - val_loss: 0.9603 - val_root_mean_squared_error: 0.9737 - val_mse: 0.9481\n",
            "Epoch 75/300\n",
            "810/810 [==============================] - 13s 16ms/step - loss: 0.8667 - root_mean_squared_error: 0.9244 - mse: 0.8545 - val_loss: 0.9601 - val_root_mean_squared_error: 0.9736 - val_mse: 0.9480\n",
            "Epoch 76/300\n",
            "810/810 [==============================] - 13s 16ms/step - loss: 0.8648 - root_mean_squared_error: 0.9234 - mse: 0.8526 - val_loss: 0.9606 - val_root_mean_squared_error: 0.9739 - val_mse: 0.9485\n",
            "Epoch 77/300\n",
            "810/810 [==============================] - 13s 16ms/step - loss: 0.8630 - root_mean_squared_error: 0.9224 - mse: 0.8509 - val_loss: 0.9603 - val_root_mean_squared_error: 0.9737 - val_mse: 0.9481\n",
            "Epoch 78/300\n",
            "810/810 [==============================] - 13s 16ms/step - loss: 0.8617 - root_mean_squared_error: 0.9217 - mse: 0.8495 - val_loss: 0.9603 - val_root_mean_squared_error: 0.9737 - val_mse: 0.9482\n",
            "Epoch 79/300\n",
            "810/810 [==============================] - 13s 16ms/step - loss: 0.8599 - root_mean_squared_error: 0.9207 - mse: 0.8477 - val_loss: 0.9605 - val_root_mean_squared_error: 0.9739 - val_mse: 0.9484\n",
            "Epoch 80/300\n",
            "810/810 [==============================] - 13s 16ms/step - loss: 0.8586 - root_mean_squared_error: 0.9200 - mse: 0.8465 - val_loss: 0.9602 - val_root_mean_squared_error: 0.9737 - val_mse: 0.9481\n",
            "Epoch 81/300\n",
            "810/810 [==============================] - 13s 16ms/step - loss: 0.8574 - root_mean_squared_error: 0.9194 - mse: 0.8453 - val_loss: 0.9607 - val_root_mean_squared_error: 0.9740 - val_mse: 0.9486\n",
            "Epoch 82/300\n",
            "810/810 [==============================] - 13s 16ms/step - loss: 0.8558 - root_mean_squared_error: 0.9185 - mse: 0.8437 - val_loss: 0.9609 - val_root_mean_squared_error: 0.9741 - val_mse: 0.9488\n",
            "Epoch 83/300\n",
            "810/810 [==============================] - 13s 16ms/step - loss: 0.8547 - root_mean_squared_error: 0.9179 - mse: 0.8426 - val_loss: 0.9608 - val_root_mean_squared_error: 0.9740 - val_mse: 0.9487\n",
            "Epoch 84/300\n",
            "810/810 [==============================] - 13s 16ms/step - loss: 0.8526 - root_mean_squared_error: 0.9168 - mse: 0.8405 - val_loss: 0.9607 - val_root_mean_squared_error: 0.9740 - val_mse: 0.9486\n",
            "Epoch 85/300\n",
            "810/810 [==============================] - 13s 16ms/step - loss: 0.8517 - root_mean_squared_error: 0.9163 - mse: 0.8396 - val_loss: 0.9599 - val_root_mean_squared_error: 0.9736 - val_mse: 0.9478\n",
            "Epoch 86/300\n",
            "810/810 [==============================] - 13s 16ms/step - loss: 0.8494 - root_mean_squared_error: 0.9150 - mse: 0.8373 - val_loss: 0.9599 - val_root_mean_squared_error: 0.9736 - val_mse: 0.9479\n",
            "Epoch 87/300\n",
            "810/810 [==============================] - 13s 16ms/step - loss: 0.8485 - root_mean_squared_error: 0.9146 - mse: 0.8364 - val_loss: 0.9600 - val_root_mean_squared_error: 0.9736 - val_mse: 0.9480\n",
            "Epoch 88/300\n",
            "810/810 [==============================] - 14s 17ms/step - loss: 0.8473 - root_mean_squared_error: 0.9139 - mse: 0.8352 - val_loss: 0.9604 - val_root_mean_squared_error: 0.9738 - val_mse: 0.9483\n",
            "Epoch 89/300\n",
            "810/810 [==============================] - 13s 16ms/step - loss: 0.8459 - root_mean_squared_error: 0.9131 - mse: 0.8338 - val_loss: 0.9599 - val_root_mean_squared_error: 0.9736 - val_mse: 0.9478\n",
            "Epoch 90/300\n",
            "810/810 [==============================] - 13s 16ms/step - loss: 0.8445 - root_mean_squared_error: 0.9124 - mse: 0.8325 - val_loss: 0.9597 - val_root_mean_squared_error: 0.9735 - val_mse: 0.9477\n",
            "Epoch 91/300\n",
            "810/810 [==============================] - 15s 18ms/step - loss: 0.8427 - root_mean_squared_error: 0.9114 - mse: 0.8306 - val_loss: 0.9597 - val_root_mean_squared_error: 0.9735 - val_mse: 0.9476\n",
            "Epoch 92/300\n",
            "810/810 [==============================] - 16s 19ms/step - loss: 0.8420 - root_mean_squared_error: 0.9110 - mse: 0.8299 - val_loss: 0.9606 - val_root_mean_squared_error: 0.9740 - val_mse: 0.9486\n",
            "Epoch 93/300\n",
            "810/810 [==============================] - 15s 18ms/step - loss: 0.8406 - root_mean_squared_error: 0.9103 - mse: 0.8286 - val_loss: 0.9595 - val_root_mean_squared_error: 0.9734 - val_mse: 0.9474\n",
            "Epoch 94/300\n",
            "810/810 [==============================] - 13s 16ms/step - loss: 0.8387 - root_mean_squared_error: 0.9092 - mse: 0.8266 - val_loss: 0.9595 - val_root_mean_squared_error: 0.9734 - val_mse: 0.9475\n",
            "Epoch 95/300\n",
            "810/810 [==============================] - 13s 16ms/step - loss: 0.8370 - root_mean_squared_error: 0.9083 - mse: 0.8249 - val_loss: 0.9599 - val_root_mean_squared_error: 0.9736 - val_mse: 0.9479\n",
            "Epoch 96/300\n",
            "810/810 [==============================] - 13s 16ms/step - loss: 0.8369 - root_mean_squared_error: 0.9082 - mse: 0.8248 - val_loss: 0.9590 - val_root_mean_squared_error: 0.9731 - val_mse: 0.9470\n",
            "Epoch 97/300\n",
            "810/810 [==============================] - 13s 16ms/step - loss: 0.8353 - root_mean_squared_error: 0.9074 - mse: 0.8233 - val_loss: 0.9592 - val_root_mean_squared_error: 0.9732 - val_mse: 0.9472\n",
            "Epoch 98/300\n",
            "810/810 [==============================] - 13s 16ms/step - loss: 0.8330 - root_mean_squared_error: 0.9061 - mse: 0.8210 - val_loss: 0.9590 - val_root_mean_squared_error: 0.9731 - val_mse: 0.9470\n",
            "Epoch 99/300\n",
            "810/810 [==============================] - 13s 16ms/step - loss: 0.8324 - root_mean_squared_error: 0.9058 - mse: 0.8204 - val_loss: 0.9598 - val_root_mean_squared_error: 0.9736 - val_mse: 0.9478\n",
            "Epoch 100/300\n",
            "810/810 [==============================] - 13s 16ms/step - loss: 0.8305 - root_mean_squared_error: 0.9047 - mse: 0.8186 - val_loss: 0.9596 - val_root_mean_squared_error: 0.9735 - val_mse: 0.9477\n",
            "Epoch 101/300\n",
            "810/810 [==============================] - 13s 16ms/step - loss: 0.8293 - root_mean_squared_error: 0.9041 - mse: 0.8173 - val_loss: 0.9596 - val_root_mean_squared_error: 0.9735 - val_mse: 0.9477\n",
            "Epoch 102/300\n",
            "810/810 [==============================] - 13s 16ms/step - loss: 0.8277 - root_mean_squared_error: 0.9032 - mse: 0.8158 - val_loss: 0.9589 - val_root_mean_squared_error: 0.9731 - val_mse: 0.9470\n",
            "Epoch 103/300\n",
            "810/810 [==============================] - 13s 17ms/step - loss: 0.8269 - root_mean_squared_error: 0.9027 - mse: 0.8150 - val_loss: 0.9593 - val_root_mean_squared_error: 0.9733 - val_mse: 0.9474\n",
            "Epoch 104/300\n",
            "810/810 [==============================] - 13s 16ms/step - loss: 0.8242 - root_mean_squared_error: 0.9012 - mse: 0.8122 - val_loss: 0.9591 - val_root_mean_squared_error: 0.9732 - val_mse: 0.9472\n",
            "Epoch 105/300\n",
            "810/810 [==============================] - 13s 16ms/step - loss: 0.8242 - root_mean_squared_error: 0.9012 - mse: 0.8122 - val_loss: 0.9587 - val_root_mean_squared_error: 0.9730 - val_mse: 0.9468\n",
            "Epoch 106/300\n",
            "810/810 [==============================] - 13s 16ms/step - loss: 0.8231 - root_mean_squared_error: 0.9007 - mse: 0.8112 - val_loss: 0.9591 - val_root_mean_squared_error: 0.9732 - val_mse: 0.9472\n",
            "Epoch 107/300\n",
            "810/810 [==============================] - 13s 16ms/step - loss: 0.8216 - root_mean_squared_error: 0.8998 - mse: 0.8097 - val_loss: 0.9591 - val_root_mean_squared_error: 0.9733 - val_mse: 0.9472\n",
            "Epoch 108/300\n",
            "810/810 [==============================] - 13s 16ms/step - loss: 0.8198 - root_mean_squared_error: 0.8988 - mse: 0.8079 - val_loss: 0.9596 - val_root_mean_squared_error: 0.9735 - val_mse: 0.9478\n",
            "Epoch 109/300\n",
            "810/810 [==============================] - 13s 16ms/step - loss: 0.8191 - root_mean_squared_error: 0.8984 - mse: 0.8072 - val_loss: 0.9587 - val_root_mean_squared_error: 0.9731 - val_mse: 0.9469\n",
            "Epoch 110/300\n",
            "810/810 [==============================] - 13s 16ms/step - loss: 0.8173 - root_mean_squared_error: 0.8975 - mse: 0.8055 - val_loss: 0.9591 - val_root_mean_squared_error: 0.9733 - val_mse: 0.9472\n",
            "Epoch 111/300\n",
            "810/810 [==============================] - 14s 18ms/step - loss: 0.8167 - root_mean_squared_error: 0.8971 - mse: 0.8048 - val_loss: 0.9585 - val_root_mean_squared_error: 0.9730 - val_mse: 0.9467\n",
            "Epoch 112/300\n",
            "810/810 [==============================] - 13s 16ms/step - loss: 0.8161 - root_mean_squared_error: 0.8968 - mse: 0.8042 - val_loss: 0.9592 - val_root_mean_squared_error: 0.9733 - val_mse: 0.9473\n",
            "Epoch 113/300\n",
            "810/810 [==============================] - 13s 16ms/step - loss: 0.8147 - root_mean_squared_error: 0.8960 - mse: 0.8029 - val_loss: 0.9592 - val_root_mean_squared_error: 0.9734 - val_mse: 0.9474\n",
            "Epoch 114/300\n",
            "810/810 [==============================] - 13s 16ms/step - loss: 0.8135 - root_mean_squared_error: 0.8953 - mse: 0.8016 - val_loss: 0.9587 - val_root_mean_squared_error: 0.9731 - val_mse: 0.9469\n",
            "Epoch 115/300\n",
            "810/810 [==============================] - 15s 19ms/step - loss: 0.8121 - root_mean_squared_error: 0.8946 - mse: 0.8002 - val_loss: 0.9589 - val_root_mean_squared_error: 0.9732 - val_mse: 0.9471\n",
            "Epoch 116/300\n",
            "810/810 [==============================] - 13s 16ms/step - loss: 0.8107 - root_mean_squared_error: 0.8938 - mse: 0.7988 - val_loss: 0.9588 - val_root_mean_squared_error: 0.9731 - val_mse: 0.9470\n",
            "Epoch 117/300\n",
            "810/810 [==============================] - 13s 16ms/step - loss: 0.8092 - root_mean_squared_error: 0.8930 - mse: 0.7974 - val_loss: 0.9590 - val_root_mean_squared_error: 0.9732 - val_mse: 0.9472\n",
            "Epoch 118/300\n",
            "810/810 [==============================] - 13s 16ms/step - loss: 0.8081 - root_mean_squared_error: 0.8924 - mse: 0.7963 - val_loss: 0.9590 - val_root_mean_squared_error: 0.9732 - val_mse: 0.9472\n",
            "Epoch 119/300\n",
            "810/810 [==============================] - 13s 16ms/step - loss: 0.8069 - root_mean_squared_error: 0.8917 - mse: 0.7951 - val_loss: 0.9583 - val_root_mean_squared_error: 0.9729 - val_mse: 0.9465\n",
            "Epoch 120/300\n",
            "810/810 [==============================] - 13s 16ms/step - loss: 0.8059 - root_mean_squared_error: 0.8911 - mse: 0.7941 - val_loss: 0.9584 - val_root_mean_squared_error: 0.9730 - val_mse: 0.9466\n",
            "Epoch 121/300\n",
            "810/810 [==============================] - 13s 16ms/step - loss: 0.8048 - root_mean_squared_error: 0.8905 - mse: 0.7931 - val_loss: 0.9582 - val_root_mean_squared_error: 0.9729 - val_mse: 0.9464\n",
            "Epoch 122/300\n",
            "810/810 [==============================] - 13s 16ms/step - loss: 0.8041 - root_mean_squared_error: 0.8901 - mse: 0.7924 - val_loss: 0.9581 - val_root_mean_squared_error: 0.9728 - val_mse: 0.9463\n",
            "Epoch 123/300\n",
            "810/810 [==============================] - 13s 16ms/step - loss: 0.8026 - root_mean_squared_error: 0.8893 - mse: 0.7908 - val_loss: 0.9582 - val_root_mean_squared_error: 0.9729 - val_mse: 0.9465\n",
            "Epoch 124/300\n",
            "810/810 [==============================] - 13s 16ms/step - loss: 0.8014 - root_mean_squared_error: 0.8886 - mse: 0.7896 - val_loss: 0.9579 - val_root_mean_squared_error: 0.9727 - val_mse: 0.9462\n",
            "Epoch 125/300\n",
            "810/810 [==============================] - 13s 16ms/step - loss: 0.8003 - root_mean_squared_error: 0.8880 - mse: 0.7886 - val_loss: 0.9585 - val_root_mean_squared_error: 0.9730 - val_mse: 0.9468\n",
            "Epoch 126/300\n",
            "810/810 [==============================] - 13s 16ms/step - loss: 0.7989 - root_mean_squared_error: 0.8872 - mse: 0.7871 - val_loss: 0.9592 - val_root_mean_squared_error: 0.9734 - val_mse: 0.9475\n",
            "Epoch 127/300\n",
            "810/810 [==============================] - 13s 16ms/step - loss: 0.7977 - root_mean_squared_error: 0.8865 - mse: 0.7860 - val_loss: 0.9580 - val_root_mean_squared_error: 0.9728 - val_mse: 0.9463\n",
            "Epoch 128/300\n",
            "810/810 [==============================] - 13s 16ms/step - loss: 0.7969 - root_mean_squared_error: 0.8861 - mse: 0.7851 - val_loss: 0.9583 - val_root_mean_squared_error: 0.9729 - val_mse: 0.9466\n",
            "Epoch 129/300\n",
            "810/810 [==============================] - 13s 16ms/step - loss: 0.7954 - root_mean_squared_error: 0.8853 - mse: 0.7837 - val_loss: 0.9587 - val_root_mean_squared_error: 0.9731 - val_mse: 0.9470\n",
            "Epoch 130/300\n",
            "810/810 [==============================] - 13s 16ms/step - loss: 0.7947 - root_mean_squared_error: 0.8849 - mse: 0.7830 - val_loss: 0.9587 - val_root_mean_squared_error: 0.9732 - val_mse: 0.9470\n",
            "Epoch 131/300\n",
            "810/810 [==============================] - 13s 16ms/step - loss: 0.7940 - root_mean_squared_error: 0.8845 - mse: 0.7823 - val_loss: 0.9582 - val_root_mean_squared_error: 0.9729 - val_mse: 0.9465\n",
            "Epoch 132/300\n",
            "810/810 [==============================] - 13s 17ms/step - loss: 0.7919 - root_mean_squared_error: 0.8833 - mse: 0.7802 - val_loss: 0.9585 - val_root_mean_squared_error: 0.9731 - val_mse: 0.9469\n",
            "Epoch 133/300\n",
            "810/810 [==============================] - 13s 17ms/step - loss: 0.7915 - root_mean_squared_error: 0.8831 - mse: 0.7798 - val_loss: 0.9587 - val_root_mean_squared_error: 0.9732 - val_mse: 0.9471\n",
            "Epoch 134/300\n",
            "810/810 [==============================] - 15s 18ms/step - loss: 0.7899 - root_mean_squared_error: 0.8822 - mse: 0.7783 - val_loss: 0.9589 - val_root_mean_squared_error: 0.9733 - val_mse: 0.9473\n",
            "Epoch 00134: early stopping\n"
          ],
          "name": "stdout"
        },
        {
          "output_type": "display_data",
          "data": {
            "image/png": "[encoded data removed]",
            "text/plain": [
              "<Figure size 432x288 with 1 Axes>"
            ]
          },
          "metadata": {
            "tags": [],
            "needs_background": "light"
          }
        }
      ]
    },
    {
      "cell_type": "code",
      "metadata": {
        "id": "QsPkiWhaCcQR",
        "outputId": "8d2d1535-cb6d-44e7-e9c4-e80b2b7049dd",
        "colab": {
          "base_uri": "https://localhost:8080/",
          "height": 166
        }
      },
      "source": [
        "list_result.mean"
      ],
      "execution_count": null,
      "outputs": [
        {
          "output_type": "error",
          "ename": "AttributeError",
          "evalue": "ignored",
          "traceback": [
            "\u001b[0;31m---------------------------------------------------------------------------\u001b[0m",
            "\u001b[0;31mAttributeError\u001b[0m                            Traceback (most recent call last)",
            "\u001b[0;32m<ipython-input-21-70210688b5b4>\u001b[0m in \u001b[0;36m<module>\u001b[0;34m()\u001b[0m\n\u001b[0;32m----> 1\u001b[0;31m \u001b[0mlist_result\u001b[0m\u001b[0;34m.\u001b[0m\u001b[0mmean\u001b[0m\u001b[0;34m\u001b[0m\u001b[0;34m\u001b[0m\u001b[0m\n\u001b[0m",
            "\u001b[0;31mAttributeError\u001b[0m: 'list' object has no attribute 'mean'"
          ]
        }
      ]
    },
    {
      "cell_type": "code",
      "metadata": {
        "id": "rTwA6dNk9x13"
      },
      "source": [
        "%tensorboard --logdir logs/fit"
      ],
      "execution_count": null,
      "outputs": []
    },
    {
      "cell_type": "code",
      "metadata": {
        "id": "pKTwNVLXZELj"
      },
      "source": [
        "model.save('.')"
      ],
      "execution_count": null,
      "outputs": []
    },
    {
      "cell_type": "code",
      "metadata": {
        "id": "jp5ccudEL3c7",
        "outputId": "b77d3e19-cdea-4581-fbfe-14738c0a35de",
        "colab": {
          "base_uri": "https://localhost:8080/",
          "height": 34
        }
      },
      "source": [
        "meta_data = vectorise('meta_Musical_Instruments.json.gz')\n",
        "# Nombre total de produit\n",
        "print(len(meta_data))\n",
        "\n",
        "# Un exemple de produit\n",
        "\n"
      ],
      "execution_count": 17,
      "outputs": [
        {
          "output_type": "stream",
          "text": [
            "120310\n"
          ],
          "name": "stdout"
        }
      ]
    },
    {
      "cell_type": "code",
      "metadata": {
        "id": "2YdNBTrkVylT",
        "outputId": "72152320-a7d7-4ad5-953c-672426172f5d",
        "colab": {
          "base_uri": "https://localhost:8080/",
          "height": 187
        }
      },
      "source": [
        "item_df = pd.DataFrame.from_dict(meta_data)\n",
        "print(item_df.columns)\n",
        "item_df.rename(columns = {'asin':'itemID'}, inplace = True)\n",
        "print(\"\\nafter modifications : \\n\",item_df.columns)\n"
      ],
      "execution_count": 18,
      "outputs": [
        {
          "output_type": "stream",
          "text": [
            "Index(['category', 'tech1', 'description', 'fit', 'title', 'also_buy', 'image',\n",
            "       'tech2', 'brand', 'feature', 'rank', 'also_view', 'main_cat',\n",
            "       'similar_item', 'date', 'price', 'asin', 'details'],\n",
            "      dtype='object')\n",
            "\n",
            "after modifications : \n",
            " Index(['category', 'tech1', 'description', 'fit', 'title', 'also_buy', 'image',\n",
            "       'tech2', 'brand', 'feature', 'rank', 'also_view', 'main_cat',\n",
            "       'similar_item', 'date', 'price', 'itemID', 'details'],\n",
            "      dtype='object')\n"
          ],
          "name": "stdout"
        }
      ]
    },
    {
      "cell_type": "code",
      "metadata": {
        "id": "MLfzWXiDVGKO"
      },
      "source": [
        "print(df_rs.info())"
      ],
      "execution_count": null,
      "outputs": []
    },
    {
      "cell_type": "markdown",
      "metadata": {
        "id": "RcmRXih9hZNv"
      },
      "source": [
        "Giving top 10 recommandations article for musical instruments :"
      ]
    },
    {
      "cell_type": "code",
      "metadata": {
        "id": "18Aqr-LHluOK"
      },
      "source": [
        " import urllib.request\n",
        " from PIL import Image"
      ],
      "execution_count": 41,
      "outputs": []
    },
    {
      "cell_type": "code",
      "metadata": {
        "id": "3y0sQ8VXVSNE"
      },
      "source": [
        "def recommandation():\n",
        "  user_id = df_rs.userID.sample(1).iloc[0]\n",
        "  items_reviewed_by_user = df_rs[df_rs.userID == user_id]\n",
        "  items_not_reviewed = item_df[\n",
        "      ~item_df[\"itemID\"].isin(items_reviewed_by_user.itemID.values)\n",
        "  ][\"itemID\"]\n",
        "  items_not_reviewed = list(set(items_not_reviewed).intersection(set(item2item_encoded.keys())))\n",
        "  items_not_reviewed = [[item2item_encoded.get(x)] for x in items_not_reviewed]\n",
        "  user_encoder = user2user_encoded.get(user_id)\n",
        "  user_item_array = np.hstack(\n",
        "    ([[user_encoder]] * len(items_not_reviewed), items_not_reviewed)\n",
        "  )\n",
        "  ratings = model.predict(user_item_array).flatten()\n",
        "  rating_item = list(zip(items_not_reviewed,ratings))\n",
        "  sorted_by_second = sorted(rating_item, key=lambda tup: tup[1])\n",
        "  top_10 = sorted_by_second[-10:-1]\n",
        "  res = [[ i for i, j in top_10 ], \n",
        "       [ j for i, j in top_10 ]] \n",
        "  top_10_indices = res[0]\n",
        "  top_ratings_indices = []\n",
        "  for i in top_10_indices:\n",
        "    top_ratings_indices.append(i[0])\n",
        "  recommended_item_ids = [\n",
        "    item_encoded2item.get(items_not_reviewed[x][0]) for x in top_ratings_indices\n",
        "  ]\n",
        "  print(\"Showing recommendations for user: {}\".format(user_id))\n",
        "  print(\"====\" * 9)\n",
        "  print(\"Articles with high ratings from user\")\n",
        "  print(\"----\" * 8)\n",
        "  top_items_user = (\n",
        "     items_reviewed_by_user.sort_values(by=\"rating\", ascending=False)\n",
        "      .head(5)\n",
        "      .itemID.values\n",
        "  )\n",
        "  item_df_rows = item_df[item_df[\"itemID\"].isin(top_items_user)]\n",
        "  for row in item_df_rows.itertuples():\n",
        "    print(row.title, \":\", row.category)\n",
        "  print(\"----\" * 8)\n",
        "  print(\"Top 10 articles recommendations\")\n",
        "  print(\"----\" * 8)\n",
        "  recommended_items = item_df[item_df[\"itemID\"].isin(recommended_item_ids)]\n",
        "  for row in recommended_items.itertuples():\n",
        "    print(row.title, \":\", row.category)\n",
        "    if \"image\" in row :\n",
        "      picture = Image.open(urllib.request.urlopen(row.image[0]))\n",
        "      plt.figure()\n",
        "      plt.imshow(picture)\n",
        "      plt.title(row['title'])\n"
      ],
      "execution_count": 46,
      "outputs": []
    },
    {
      "cell_type": "code",
      "metadata": {
        "id": "CJV6Las_XUid",
        "outputId": "0b0bf8ce-fde5-4d24-9d66-04dc977328d2",
        "colab": {
          "base_uri": "https://localhost:8080/",
          "height": 462
        }
      },
      "source": [
        "recommandation()\n"
      ],
      "execution_count": 47,
      "outputs": [
        {
          "output_type": "stream",
          "text": [
            "Showing recommendations for user: A19NS4X2JZBSWB\n",
            "====================================\n",
            "Articles with high ratings from user\n",
            "--------------------------------\n",
            "Fender Pickguard Screws : ['Musical Instruments', 'Instrument Accessories', 'Guitar & Bass Accessories', 'Electric Guitar Parts', 'Hardware']\n",
            "Fender Pickguard Screws : ['Musical Instruments', 'Instrument Accessories', 'Guitar & Bass Accessories', 'Electric Guitar Parts', 'Hardware']\n",
            "Behringer VD400 Vintage Analog Delay Effects Pedal : ['Musical Instruments', 'Amplifiers & Effects', 'Guitar Effects', 'Electric Guitar Effects', 'Single Effects', 'Delay & Reverb']\n",
            "YMC Pickguard-Loaded-Strat New Electric Guitar Pickguard Pick Guard 3 Single Coil Shell Loaded Prewired, Black : ['Musical Instruments', 'Instrument Accessories', 'Guitar & Bass Accessories', 'Electric Guitar Parts', 'Pick Guards']\n",
            "International Measurement Standard String Action Ruler Gauge Guitar Luthier Tool (Style 1) : ['Musical Instruments', 'Instrument Accessories', 'Guitar & Bass Accessories']\n",
            "YMC Premium Strap Locks (4 Pair) - 2 Red, 2 Blue, 2 Black, 2 Clear : ['Musical Instruments', 'Instrument Accessories', 'Guitar & Bass Accessories', 'Straps & Strap Locks', 'Strap Locks']\n",
            "--------------------------------\n",
            "Top 10 articles recommendations\n",
            "--------------------------------\n",
            "Audio-Technica PRO 88W-R35 VHF Wireless Lavalier System with ATR35 Mini Omnidirectional Clip-On Microphone : ['Musical Instruments', 'Microphones &amp; Accessories', 'Microphones', 'Wireless Microphones &amp; Systems', 'Wireless Lavalier Microphones']\n",
            "Roland EV-5 Expression Pedal : ['Musical Instruments', 'Instrument Accessories', 'Keyboard Accessories', 'Pedals & Footswitches']\n",
            "American Dj F-Scent Tropical Scent For Water Based Fog Juice : ['Musical Instruments', 'Live Sound & Stage', 'Special Effects', 'Fog Machines']\n",
            "Audio-Technica PRO 88W-R35 VHF Wireless Lavalier System with ATR35 Mini Omnidirectional Clip-On Microphone : ['Musical Instruments', 'Microphones &amp; Accessories', 'Microphones', 'Wireless Microphones &amp; Systems', 'Wireless Lavalier Microphones']\n",
            "Roland EV-5 Expression Pedal : ['Musical Instruments', 'Instrument Accessories', 'Keyboard Accessories', 'Pedals & Footswitches']\n",
            "American Dj F-Scent Tropical Scent For Water Based Fog Juice : ['Musical Instruments', 'Live Sound & Stage', 'Special Effects', 'Fog Machines']\n",
            "On-Stage MS7701B Tripod Microphone Boom Stand : ['Musical Instruments', 'Microphones & Accessories', 'Accessories', 'Stands']\n",
            "Legere TSS200 Bb Tenor Saxophone Studio Cut No. 2 Reed : ['Musical Instruments', 'Instrument Accessories', 'Wind & Woodwind Accessories', 'Reeds', 'Saxophone', 'Tenor Sax']\n",
            "Mackie MR5 MR5 Reference Monitor (Single Speaker) : ['Musical Instruments', 'Studio Recording Equipment', 'Studio Monitors']\n",
            "Gator Cases ATA-Style Fit-All Guitar Case with TSA Latches for Electric Guitars : ['Musical Instruments', 'Instrument Accessories', 'Guitar & Bass Accessories', 'Bags & Cases', 'Electric Guitar Bags & Cases']\n",
            "Fender Strat Mexi Tremolo Bridge Assembly Chrome : ['Musical Instruments', 'Instrument Accessories', 'Guitar & Bass Accessories', 'Electric Guitar Parts', 'Bridges & Bridge Parts']\n",
            "Yamaha YBSP600I Soft Rolling Case for Stagepas600i : ['Musical Instruments', 'Live Sound & Stage', 'Monitors, Speakers & Subwoofers', 'Bags, Cases & Covers']\n"
          ],
          "name": "stdout"
        }
      ]
    },
    {
      "cell_type": "code",
      "metadata": {
        "id": "Np4-g7I0nHIr",
        "outputId": "f5655a2a-1458-4706-d00a-3c0d7cbe775d",
        "colab": {
          "base_uri": "https://localhost:8080/",
          "height": 34
        }
      },
      "source": [
        "import urllib.request\n",
        "from PIL import Image\n",
        "url = 'http://ecx.images-amazon.com/images/I/51fAmVkTbyL._SY300_.jpg'\n",
        "image = Image.open(urllib.request.urlopen(url))\n",
        "width, height = image.size\n",
        "print (width,height)"
      ],
      "execution_count": 49,
      "outputs": [
        {
          "output_type": "stream",
          "text": [
            "300 300\n"
          ],
          "name": "stdout"
        }
      ]
    },
    {
      "cell_type": "code",
      "metadata": {
        "id": "1f0wfPpPaa3k"
      },
      "source": [
        "\n",
        "print(user_item_array)"
      ],
      "execution_count": null,
      "outputs": []
    },
    {
      "cell_type": "code",
      "metadata": {
        "id": "YleTBF_BVSGb"
      },
      "source": [
        "ratings = model.predict(user_item_array).flatten()\n",
        "print(ratings)\n",
        "rating_item = list(zip(items_not_reviewed,ratings))\n",
        "rating_item\n",
        "\n",
        "\n"
      ],
      "execution_count": null,
      "outputs": []
    },
    {
      "cell_type": "code",
      "metadata": {
        "id": "UHsAcKNafdwi"
      },
      "source": [
        ""
      ],
      "execution_count": 25,
      "outputs": []
    },
    {
      "cell_type": "code",
      "metadata": {
        "id": "-mIygIf5kzBY"
      },
      "source": [
        ""
      ],
      "execution_count": 26,
      "outputs": []
    },
    {
      "cell_type": "code",
      "metadata": {
        "id": "3rjWcQ77fEOz",
        "outputId": "5733ab0c-bde0-4a7b-889c-144c74411afe",
        "colab": {
          "base_uri": "https://localhost:8080/",
          "height": 34
        }
      },
      "source": [
        "\n",
        "print(top_10_indices)"
      ],
      "execution_count": 27,
      "outputs": [
        {
          "output_type": "stream",
          "text": [
            "[[2421], [7266], [9626], [8135], [2145], [7105], [1940], [3962], [9437]]\n"
          ],
          "name": "stdout"
        }
      ]
    },
    {
      "cell_type": "code",
      "metadata": {
        "id": "dHbATBhimgkC"
      },
      "source": [
        "\n"
      ],
      "execution_count": 28,
      "outputs": []
    },
    {
      "cell_type": "code",
      "metadata": {
        "id": "J--CfjjubRTI"
      },
      "source": [
        ""
      ],
      "execution_count": 30,
      "outputs": []
    },
    {
      "cell_type": "code",
      "metadata": {
        "id": "nPDJEv06VVV-"
      },
      "source": [
        ""
      ],
      "execution_count": null,
      "outputs": []
    },
    {
      "cell_type": "code",
      "metadata": {
        "id": "T_Qy0-W6arrB"
      },
      "source": [
        ""
      ],
      "execution_count": null,
      "outputs": []
    },
    {
      "cell_type": "code",
      "metadata": {
        "id": "mboH6YzxVBsz"
      },
      "source": [
        ""
      ],
      "execution_count": null,
      "outputs": []
    }
  ]
}