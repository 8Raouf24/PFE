{
  "nbformat": 4,
  "nbformat_minor": 0,
  "metadata": {
    "colab": {
      "name": "RS.ipynb",
      "provenance": [],
      "collapsed_sections": [],
      "authorship_tag": "ABX9TyNP75RxdR8Z1JWbp9+WOIDJ",
      "include_colab_link": true
    },
    "kernelspec": {
      "name": "python3",
      "display_name": "Python 3"
    }
  },
  "cells": [
    {
      "cell_type": "markdown",
      "metadata": {
        "id": "view-in-github",
        "colab_type": "text"
      },
      "source": [
        "<a href=\"https://colab.research.google.com/github/8Raouf24/PFE/blob/master/RS.ipynb\" target=\"_parent\"><img src=\"https://colab.research.google.com/assets/colab-badge.svg\" alt=\"Open In Colab\"/></a>"
      ]
    },
    {
      "cell_type": "code",
      "metadata": {
        "id": "BHKmM3Gqhid0",
        "colab_type": "code",
        "colab": {}
      },
      "source": [
        "import pandas as pd\n",
        "import numpy as np\n",
        "from zipfile import ZipFile\n",
        "import tensorflow as tf\n",
        "from tensorflow import keras\n",
        "from tensorflow.keras import layers\n",
        "from pathlib import Path\n",
        "import gzip\n",
        "import matplotlib.pyplot as plt\n",
        "import json"
      ],
      "execution_count": null,
      "outputs": []
    },
    {
      "cell_type": "code",
      "metadata": {
        "id": "KVWzbaVQiNbP",
        "colab_type": "code",
        "colab": {
          "base_uri": "https://localhost:8080/",
          "height": 204
        },
        "outputId": "4c2a98c4-d7b3-405e-be23-941fcdae3382"
      },
      "source": [
        "!wget http://deepyeti.ucsd.edu/jianmo/amazon/categoryFilesSmall/Video_Games_5.json.gz"
      ],
      "execution_count": null,
      "outputs": [
        {
          "output_type": "stream",
          "text": [
            "--2020-07-16 22:31:43--  http://deepyeti.ucsd.edu/jianmo/amazon/categoryFilesSmall/Video_Games_5.json.gz\n",
            "Resolving deepyeti.ucsd.edu (deepyeti.ucsd.edu)... 169.228.63.50\n",
            "Connecting to deepyeti.ucsd.edu (deepyeti.ucsd.edu)|169.228.63.50|:80... connected.\n",
            "HTTP request sent, awaiting response... 200 OK\n",
            "Length: 154050105 (147M) [application/octet-stream]\n",
            "Saving to: ‘Video_Games_5.json.gz.1’\n",
            "\n",
            "Video_Games_5.json. 100%[===================>] 146.91M  64.5MB/s    in 2.3s    \n",
            "\n",
            "2020-07-16 22:31:46 (64.5 MB/s) - ‘Video_Games_5.json.gz.1’ saved [154050105/154050105]\n",
            "\n"
          ],
          "name": "stdout"
        }
      ]
    },
    {
      "cell_type": "code",
      "metadata": {
        "id": "34jSgxH-iib-",
        "colab_type": "code",
        "colab": {
          "base_uri": "https://localhost:8080/",
          "height": 71
        },
        "outputId": "87a6b0b8-8b87-47ed-9eeb-d7a5629b6e2f"
      },
      "source": [
        "### load the meta data\n",
        "\n",
        "data = []\n",
        "with gzip.open('Video_Games_5.json.gz') as f:\n",
        "    for l in f:\n",
        "        data.append(json.loads(l.strip()))\n",
        "    \n",
        "# total length of list, this number equals total number of products\n",
        "print(len(data))\n",
        "\n",
        "# first row of the list\n",
        "print(data[0])"
      ],
      "execution_count": null,
      "outputs": [
        {
          "output_type": "stream",
          "text": [
            "497577\n",
            "{'overall': 5.0, 'verified': True, 'reviewTime': '10 17, 2015', 'reviewerID': 'A1HP7NVNPFMA4N', 'asin': '0700026657', 'reviewerName': 'Ambrosia075', 'reviewText': \"This game is a bit hard to get the hang of, but when you do it's great.\", 'summary': \"but when you do it's great.\", 'unixReviewTime': 1445040000}\n"
          ],
          "name": "stdout"
        }
      ]
    },
    {
      "cell_type": "code",
      "metadata": {
        "id": "3vn6W1cxir8F",
        "colab_type": "code",
        "colab": {
          "base_uri": "https://localhost:8080/",
          "height": 85
        },
        "outputId": "e1c70b5a-b402-4435-fbdc-3575ebab8d95"
      },
      "source": [
        "df = pd.DataFrame.from_dict(data)\n",
        "data_dict = {'userID':df['reviewerID'],'itemID':df['asin'],'rating':df['overall']}\n",
        "df_rs = pd.DataFrame.from_dict(data_dict)\n",
        "df = df_rs\n",
        "\n",
        "print(df_rs.iloc[0])"
      ],
      "execution_count": null,
      "outputs": [
        {
          "output_type": "stream",
          "text": [
            "userID    A1HP7NVNPFMA4N\n",
            "itemID        0700026657\n",
            "rating                 5\n",
            "Name: 0, dtype: object\n"
          ],
          "name": "stdout"
        }
      ]
    },
    {
      "cell_type": "code",
      "metadata": {
        "id": "gDk_GD3fi2Kl",
        "colab_type": "code",
        "colab": {
          "base_uri": "https://localhost:8080/",
          "height": 34
        },
        "outputId": "122d24c9-5774-458e-8b0a-53b7c272801b"
      },
      "source": [
        "user_ids = df_rs[\"userID\"].unique().tolist()\n",
        "user2user_encoded = {x: i for i, x in enumerate(user_ids)}\n",
        "userencoded2user = {i: x for i, x in enumerate(user_ids)}\n",
        "item_ids = df_rs[\"itemID\"].unique().tolist()\n",
        "item2item_encoded = {x: i for i, x in enumerate(item_ids)}\n",
        "item_encoded2item = {i: x for i, x in enumerate(item_ids)}\n",
        "df_rs[\"user\"] = df_rs[\"userID\"].map(user2user_encoded)\n",
        "df_rs[\"item\"] = df_rs[\"itemID\"].map(item2item_encoded)\n",
        "\n",
        "num_users = len(user2user_encoded)\n",
        "num_items = len(item_encoded2item)\n",
        "df_rs[\"rating\"] = df_rs[\"rating\"].values.astype(np.float32)\n",
        "# min and max ratings will be used to normalize the ratings later\n",
        "min_rating = min(df_rs[\"rating\"])\n",
        "max_rating = max(df_rs[\"rating\"])\n",
        "\n",
        "print(\n",
        "    \"Number of users: {}, Number of Items: {}, Min rating: {}, Max rating: {}\".format(\n",
        "        num_users, num_items, min_rating, max_rating\n",
        "    )\n",
        ")\n"
      ],
      "execution_count": null,
      "outputs": [
        {
          "output_type": "stream",
          "text": [
            "Number of users: 55223, Number of Items: 17408, Min rating: 1.0, Max rating: 5.0\n"
          ],
          "name": "stdout"
        }
      ]
    },
    {
      "cell_type": "code",
      "metadata": {
        "id": "kHc3EeHaj-vz",
        "colab_type": "code",
        "colab": {}
      },
      "source": [
        "df_rs = df_rs.sample(frac=1, random_state=42)\n",
        "x = df_rs[[\"user\", \"item\"]].values\n",
        "# Normalize the targets between 0 and 1. Makes it easy to train.\n",
        "y = df_rs[\"rating\"].apply(lambda x: (x - min_rating) / (max_rating - min_rating)).values\n",
        "# Assuming training on 90% of the data and validating on 10%.\n",
        "train_indices = int(0.8 * df_rs.shape[0])\n",
        "x_train, x_val, y_train, y_val = (\n",
        "    x[:train_indices],\n",
        "    x[train_indices:],\n",
        "    y[:train_indices],\n",
        "    y[train_indices:],\n",
        ")\n"
      ],
      "execution_count": null,
      "outputs": []
    },
    {
      "cell_type": "code",
      "metadata": {
        "id": "iVi6KW0PmHnk",
        "colab_type": "code",
        "colab": {}
      },
      "source": [
        "EMBEDDING_SIZE = 50\n",
        "\n",
        "\n",
        "class RecommenderNet(keras.Model):\n",
        "    def __init__(self, num_users, num_items, embedding_size, **kwargs):\n",
        "        super(RecommenderNet, self).__init__(**kwargs)\n",
        "        self.num_users = num_users\n",
        "        self.num_items = num_items\n",
        "        self.embedding_size = embedding_size\n",
        "        self.user_embedding = layers.Embedding(\n",
        "            num_users,\n",
        "            embedding_size,\n",
        "            embeddings_initializer=\"he_normal\",\n",
        "            embeddings_regularizer=keras.regularizers.l2(1e-6),\n",
        "        )\n",
        "        self.user_bias = layers.Embedding(num_users, 1)\n",
        "        self.item_embedding = layers.Embedding(\n",
        "            num_items,\n",
        "            embedding_size,\n",
        "            embeddings_initializer=\"he_normal\",\n",
        "            embeddings_regularizer=keras.regularizers.l2(1e-6),\n",
        "        )\n",
        "        self.item_bias = layers.Embedding(num_items, 1)\n",
        "\n",
        "    def call(self, inputs):\n",
        "        user_vector = self.user_embedding(inputs[:, 0])\n",
        "        user_bias = self.user_bias(inputs[:, 0])\n",
        "        item_vector = self.item_embedding(inputs[:, 1])\n",
        "        item_bias = self.item_bias(inputs[:, 1])\n",
        "        dot_user_item = tf.tensordot(user_vector, item_vector, 2)\n",
        "        # Add all the components (including bias)\n",
        "        x = dot_user_item + user_bias + item_bias\n",
        "        # The sigmoid activation forces the rating to between 0 and 1\n",
        "        return tf.nn.sigmoid(x)\n",
        "\n",
        "\n",
        "model = RecommenderNet(num_users, num_items, EMBEDDING_SIZE)\n",
        "model.compile(\n",
        "    loss=tf.keras.losses.BinaryCrossentropy(), optimizer=keras.optimizers.Adam(lr=0.0001),\n",
        "    metrics=['mse'])"
      ],
      "execution_count": 48,
      "outputs": []
    },
    {
      "cell_type": "code",
      "metadata": {
        "id": "U3Glu3ZOmmyl",
        "colab_type": "code",
        "colab": {
          "base_uri": "https://localhost:8080/",
          "height": 697
        },
        "outputId": "e1a6643d-e4d2-48ef-cfc9-927a69151fb9"
      },
      "source": [
        "history = model.fit(\n",
        "    x=x_train,\n",
        "    y=y_train,\n",
        "    batch_size=64,\n",
        "    epochs=20,\n",
        "    verbose=1,\n",
        "    validation_data=(x_val, y_val),\n",
        ")\n"
      ],
      "execution_count": 49,
      "outputs": [
        {
          "output_type": "stream",
          "text": [
            "Epoch 1/20\n",
            "6220/6220 [==============================] - 188s 30ms/step - loss: 0.6797 - mse: 0.1740 - val_loss: 0.6567 - val_mse: 0.1632\n",
            "Epoch 2/20\n",
            "6220/6220 [==============================] - 182s 29ms/step - loss: 0.5568 - mse: 0.1149 - val_loss: 0.5068 - val_mse: 0.0931\n",
            "Epoch 3/20\n",
            "6220/6220 [==============================] - 183s 29ms/step - loss: 0.4886 - mse: 0.0859 - val_loss: 0.5007 - val_mse: 0.0907\n",
            "Epoch 4/20\n",
            "6220/6220 [==============================] - 179s 29ms/step - loss: 0.4841 - mse: 0.0845 - val_loss: 0.4967 - val_mse: 0.0891\n",
            "Epoch 5/20\n",
            "6220/6220 [==============================] - 179s 29ms/step - loss: 0.4802 - mse: 0.0832 - val_loss: 0.4936 - val_mse: 0.0879\n",
            "Epoch 6/20\n",
            "6220/6220 [==============================] - 180s 29ms/step - loss: 0.4768 - mse: 0.0821 - val_loss: 0.4900 - val_mse: 0.0865\n",
            "Epoch 7/20\n",
            "6220/6220 [==============================] - 179s 29ms/step - loss: 0.4733 - mse: 0.0809 - val_loss: 0.4878 - val_mse: 0.0857\n",
            "Epoch 8/20\n",
            "6220/6220 [==============================] - 179s 29ms/step - loss: 0.4702 - mse: 0.0799 - val_loss: 0.4849 - val_mse: 0.0846\n",
            "Epoch 9/20\n",
            "6220/6220 [==============================] - 180s 29ms/step - loss: 0.4673 - mse: 0.0789 - val_loss: 0.4826 - val_mse: 0.0837\n",
            "Epoch 10/20\n",
            "6220/6220 [==============================] - 181s 29ms/step - loss: 0.4644 - mse: 0.0779 - val_loss: 0.4796 - val_mse: 0.0826\n",
            "Epoch 11/20\n",
            "6220/6220 [==============================] - 178s 29ms/step - loss: 0.4616 - mse: 0.0770 - val_loss: 0.4773 - val_mse: 0.0818\n",
            "Epoch 12/20\n",
            "6220/6220 [==============================] - 180s 29ms/step - loss: 0.4592 - mse: 0.0762 - val_loss: 0.4753 - val_mse: 0.0811\n",
            "Epoch 13/20\n",
            "6220/6220 [==============================] - 182s 29ms/step - loss: 0.4567 - mse: 0.0753 - val_loss: 0.4730 - val_mse: 0.0803\n",
            "Epoch 14/20\n",
            "6220/6220 [==============================] - 188s 30ms/step - loss: 0.4545 - mse: 0.0746 - val_loss: 0.4713 - val_mse: 0.0797\n",
            "Epoch 15/20\n",
            "6220/6220 [==============================] - 187s 30ms/step - loss: 0.4521 - mse: 0.0738 - val_loss: 0.4690 - val_mse: 0.0789\n",
            "Epoch 16/20\n",
            "6220/6220 [==============================] - 182s 29ms/step - loss: 0.4500 - mse: 0.0731 - val_loss: 0.4672 - val_mse: 0.0783\n",
            "Epoch 17/20\n",
            "6220/6220 [==============================] - 188s 30ms/step - loss: 0.4480 - mse: 0.0724 - val_loss: 0.4658 - val_mse: 0.0778\n",
            "Epoch 18/20\n",
            "6220/6220 [==============================] - 185s 30ms/step - loss: 0.4459 - mse: 0.0717 - val_loss: 0.4636 - val_mse: 0.0771\n",
            "Epoch 19/20\n",
            "6220/6220 [==============================] - 185s 30ms/step - loss: 0.4441 - mse: 0.0711 - val_loss: 0.4623 - val_mse: 0.0766\n",
            "Epoch 20/20\n",
            "6220/6220 [==============================] - 189s 30ms/step - loss: 0.4422 - mse: 0.0705 - val_loss: 0.4611 - val_mse: 0.0762\n"
          ],
          "name": "stdout"
        }
      ]
    },
    {
      "cell_type": "code",
      "metadata": {
        "id": "2hDdqItemyFC",
        "colab_type": "code",
        "colab": {
          "base_uri": "https://localhost:8080/",
          "height": 295
        },
        "outputId": "c9d67cf3-3753-40f3-a431-3a832008b6c0"
      },
      "source": [
        "plt.plot(history.history[\"mse\"])\n",
        "plt.plot(history.history[\"val_mse\"])\n",
        "plt.title(\"model mse\")\n",
        "plt.ylabel(\"mse\")\n",
        "plt.xlabel(\"epoch\")\n",
        "plt.legend([\"train\", \"test\"], loc=\"upper left\")\n",
        "plt.show()"
      ],
      "execution_count": 51,
      "outputs": [
        {
          "output_type": "display_data",
          "data": {
            "image/png": "[encoded data removed]",
            "text/plain": [
              "<Figure size 432x288 with 1 Axes>"
            ]
          },
          "metadata": {
            "tags": [],
            "needs_background": "light"
          }
        }
      ]
    },
    {
      "cell_type": "code",
      "metadata": {
        "id": "LE0CTVQ6q0mz",
        "colab_type": "code",
        "colab": {}
      },
      "source": [
        ""
      ],
      "execution_count": null,
      "outputs": []
    }
  ]
}