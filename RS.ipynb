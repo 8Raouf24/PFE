{
  "nbformat": 4,
  "nbformat_minor": 0,
  "metadata": {
    "colab": {
      "name": "RS.ipynb",
      "provenance": [],
      "collapsed_sections": [],
      "authorship_tag": "ABX9TyNUN/ndi8IhTYwaNuIu9LUx",
      "include_colab_link": true
    },
    "kernelspec": {
      "name": "python3",
      "display_name": "Python 3"
    }
  },
  "cells": [
    {
      "cell_type": "markdown",
      "metadata": {
        "id": "view-in-github",
        "colab_type": "text"
      },
      "source": [
        "<a href=\"https://colab.research.google.com/github/8Raouf24/PFE/blob/master/RS.ipynb\" target=\"_parent\"><img src=\"https://colab.research.google.com/assets/colab-badge.svg\" alt=\"Open In Colab\"/></a>"
      ]
    },
    {
      "cell_type": "markdown",
      "metadata": {
        "id": "EYxZxCGxfR0a",
        "colab_type": "text"
      },
      "source": [
        "Voici le notebook contenant le code du Filtrage collaboratif . On essaye de deviner la note donné par des utilisateurs aux articles d'Amazon qu'ils n'ont pas notés . Voici les étapes qui seront suivis :\n",
        "\n",
        "\n",
        "1.   Charger les données et les transformer en DataFrame\n",
        "2.   Pré-traitement des données pour faciliter le training\n",
        "3.   Création du réseaux de neuronnes \n",
        "4.   Training du réseaux de neuronnes\n",
        "5.   Recommandation\n",
        "\n",
        "\n",
        "\n",
        "\n",
        "\n",
        "\n"
      ]
    },
    {
      "cell_type": "code",
      "metadata": {
        "id": "BHKmM3Gqhid0",
        "colab_type": "code",
        "colab": {}
      },
      "source": [
        "import pandas as pd\n",
        "import numpy as np\n",
        "from zipfile import ZipFile\n",
        "import tensorflow as tf\n",
        "from tensorflow import keras\n",
        "from tensorflow.keras import layers,callbacks\n",
        "from pathlib import Path\n",
        "import gzip\n",
        "import matplotlib.pyplot as plt\n",
        "import json"
      ],
      "execution_count": 1,
      "outputs": []
    },
    {
      "cell_type": "markdown",
      "metadata": {
        "id": "VSs-4_UVMPmM",
        "colab_type": "text"
      },
      "source": [
        "Tout d'abord , nous téléchargons la base de données sur laquelle nous effectuerons nos travaux. Dans le cas échant nous utiliserons \" Musical_Instruments_5\" qui contient des articles d'Amazon appartenant a la catégorie \" Instrument musical \" ayant été noté par au moins 5  utilisateurs."
      ]
    },
    {
      "cell_type": "code",
      "metadata": {
        "id": "KVWzbaVQiNbP",
        "colab_type": "code",
        "colab": {
          "base_uri": "https://localhost:8080/",
          "height": 202
        },
        "outputId": "568a9913-0841-4638-df1c-b735fc394b52"
      },
      "source": [
        "!wget http://deepyeti.ucsd.edu/jianmo/amazon/categoryFilesSmall/Musical_Instruments_5.json.gz"
      ],
      "execution_count": 2,
      "outputs": [
        {
          "output_type": "stream",
          "text": [
            "--2020-08-12 16:46:45--  http://deepyeti.ucsd.edu/jianmo/amazon/categoryFilesSmall/Musical_Instruments_5.json.gz\n",
            "Resolving deepyeti.ucsd.edu (deepyeti.ucsd.edu)... 169.228.63.50\n",
            "Connecting to deepyeti.ucsd.edu (deepyeti.ucsd.edu)|169.228.63.50|:80... connected.\n",
            "HTTP request sent, awaiting response... 200 OK\n",
            "Length: 39356138 (38M) [application/octet-stream]\n",
            "Saving to: ‘Musical_Instruments_5.json.gz’\n",
            "\n",
            "Musical_Instruments 100%[===================>]  37.53M  13.4MB/s    in 2.8s    \n",
            "\n",
            "2020-08-12 16:46:48 (13.4 MB/s) - ‘Musical_Instruments_5.json.gz’ saved [39356138/39356138]\n",
            "\n"
          ],
          "name": "stdout"
        }
      ]
    },
    {
      "cell_type": "markdown",
      "metadata": {
        "id": "WhlgTOzmg4CN",
        "colab_type": "text"
      },
      "source": [
        "Nous chargeons nos données depuis notre fichier json sous le format d'une liste afin de pouvoir faire la conversion vers un DataFrame."
      ]
    },
    {
      "cell_type": "code",
      "metadata": {
        "id": "34jSgxH-iib-",
        "colab_type": "code",
        "colab": {
          "base_uri": "https://localhost:8080/",
          "height": 70
        },
        "outputId": "21a37e08-04c9-4110-8e79-8b1f6523c90f"
      },
      "source": [
        "#Chargement des données sous le format liste\n",
        "data = []\n",
        "with gzip.open('Musical_Instruments_5.json.gz') as f:\n",
        "    for l in f:\n",
        "        data.append(json.loads(l.strip()))\n",
        "    \n",
        "# Nombre total de produit\n",
        "print(len(data))\n",
        "\n",
        "# Un exemple de produit\n",
        "print(data[0])"
      ],
      "execution_count": 3,
      "outputs": [
        {
          "output_type": "stream",
          "text": [
            "231392\n",
            "{'overall': 5.0, 'verified': True, 'reviewTime': '10 30, 2016', 'reviewerID': 'A3FO5AKVTFRCRJ', 'asin': '0739079891', 'reviewerName': 'francisco', 'reviewText': \"It's good for beginners\", 'summary': 'Five Stars', 'unixReviewTime': 1477785600}\n"
          ],
          "name": "stdout"
        }
      ]
    },
    {
      "cell_type": "markdown",
      "metadata": {
        "id": "EXvcBV1AhT0x",
        "colab_type": "text"
      },
      "source": [
        "Une fois notre Dataframe crée , nous le filtrerons afin de récolter les données pertinantes pour notre systéme de recommandation , c'est à dire les utilisateurs , les articles , et les ratings."
      ]
    },
    {
      "cell_type": "code",
      "metadata": {
        "id": "3vn6W1cxir8F",
        "colab_type": "code",
        "colab": {
          "base_uri": "https://localhost:8080/",
          "height": 84
        },
        "outputId": "04a5d970-d83c-4857-ca3f-cdc4703497d1"
      },
      "source": [
        "#Transformation de nos données depuis le format liste vers le format dataframe\n",
        "df = pd.DataFrame.from_dict(data)\n",
        "\n",
        "data_dict = {'userID':df['reviewerID'],'itemID':df['asin'],'rating':df['overall']}\n",
        "df_rs = pd.DataFrame.from_dict(data_dict)\n",
        "df = df_rs\n",
        "\n",
        "#Un exemple de ligne de notre dataframe\n",
        "print(df_rs.iloc[0])"
      ],
      "execution_count": 4,
      "outputs": [
        {
          "output_type": "stream",
          "text": [
            "userID    A3FO5AKVTFRCRJ\n",
            "itemID        0739079891\n",
            "rating                 5\n",
            "Name: 0, dtype: object\n"
          ],
          "name": "stdout"
        }
      ]
    },
    {
      "cell_type": "markdown",
      "metadata": {
        "id": "gXwl2ZgVMnoD",
        "colab_type": "text"
      },
      "source": [
        "Ici , les prétraitements consisteront a transformer nos utilisateurs et nos articles en des indices d'entiers naturels."
      ]
    },
    {
      "cell_type": "code",
      "metadata": {
        "id": "gDk_GD3fi2Kl",
        "colab_type": "code",
        "colab": {
          "base_uri": "https://localhost:8080/",
          "height": 34
        },
        "outputId": "7cf7c385-bbf2-4aae-f6c1-8cda561504c8"
      },
      "source": [
        "#Tout d'abord , nous recuillons les users de facon unique dans une liste\n",
        "user_ids = df_rs[\"userID\"].unique().tolist()\n",
        "#Nous représentons chaque utilisateur de notre liste en un nombre entier et vice versa\n",
        "user2user_encoded = {x: i for i, x in enumerate(user_ids)}\n",
        "userencoded2user = {i: x for i, x in enumerate(user_ids)}\n",
        "\n",
        "#Meme travail pour les articles\n",
        "item_ids = df_rs[\"itemID\"].unique().tolist()\n",
        "item2item_encoded = {x: i for i, x in enumerate(item_ids)}\n",
        "item_encoded2item = {i: x for i, x in enumerate(item_ids)}\n",
        "\n",
        "#Nous remplacons les colonnes de notre DF contenant les ID des utilisateurs et des articles sous format caractères par le format encodé en  nombre entier\n",
        "df_rs[\"user\"] = df_rs[\"userID\"].map(user2user_encoded)\n",
        "df_rs[\"item\"] = df_rs[\"itemID\"].map(item2item_encoded)\n",
        "\n",
        "#Nous récupérons la taille des vecteurs des utilisateurs et articles\n",
        "num_users = len(user2user_encoded)\n",
        "num_items = len(item_encoded2item)\n",
        "\n",
        "#Nous covnertissions les notes du format int au format float\n",
        "df_rs[\"rating\"] = df_rs[\"rating\"].values.astype(np.float32)\n",
        "\n",
        "#Le min et le max seront utilisés pour la normalisation un peu plus tard\n",
        "min_rating = min(df_rs[\"rating\"])\n",
        "max_rating = max(df_rs[\"rating\"])\n",
        "\n",
        "print(\n",
        "    \"Number of users: {}, Number of Items: {}, Min rating: {}, Max rating: {}\".format(\n",
        "        num_users, num_items, min_rating, max_rating\n",
        "    )\n",
        ")\n"
      ],
      "execution_count": 8,
      "outputs": [
        {
          "output_type": "stream",
          "text": [
            "Number of users: 27530, Number of Items: 10620, Min rating: 1.0, Max rating: 5.0\n"
          ],
          "name": "stdout"
        }
      ]
    },
    {
      "cell_type": "markdown",
      "metadata": {
        "id": "pZM1InZxM-Lp",
        "colab_type": "text"
      },
      "source": [
        "Nous préparons notre training et validation set"
      ]
    },
    {
      "cell_type": "code",
      "metadata": {
        "id": "kHc3EeHaj-vz",
        "colab_type": "code",
        "colab": {}
      },
      "source": [
        "#La fonction ci-dessous nous retourne une fraction de notre datafarme sous un ordre aléatoire\n",
        "df_rs = df_rs.sample(frac=1, random_state=42)\n",
        "\n",
        "#Nous définissons notre input ( liste de tuple user item)\n",
        "x = df_rs[[\"user\", \"item\"]].values\n",
        "\n",
        "\n",
        "# On normalise notre target (le rating) pour faciliter le training\n",
        "y = df_rs[\"rating\"].apply(lambda x: (x - min_rating) / (max_rating - min_rating)).values\n",
        "\n",
        "# 70% du dataset sera utilisé pour le training et 30% pour la validation\n",
        "train_indices = int(0.7 * df_rs.shape[0])\n",
        "x_train, x_val, y_train, y_val = (\n",
        "    x[:train_indices],\n",
        "    x[train_indices:],\n",
        "    y[:train_indices],\n",
        "    y[train_indices:],\n",
        ")\n"
      ],
      "execution_count": 11,
      "outputs": []
    },
    {
      "cell_type": "markdown",
      "metadata": {
        "id": "7V1NlQraNOyH",
        "colab_type": "text"
      },
      "source": [
        "\n",
        "\n",
        "Nous créeons notre modèle en vectorisant le vecteur d'un user et le vecteur d'un article en un seul vecteur de dimension 50.\n",
        "Notre modèle calculera alors un score de correspondance  entre le vecteur de l'utilisateur et celui de l'article via un produit scalaire en ajoutant un biais par item et un biais par article . Le résultat sera entre un intervall de 0 et 1 via un sigmoid ( vu que nos ratings sont normalisés sur cette intervall)"
      ]
    },
    {
      "cell_type": "code",
      "metadata": {
        "id": "iVi6KW0PmHnk",
        "colab_type": "code",
        "colab": {}
      },
      "source": [
        "EMBEDDING_SIZE = 50\n",
        "\n",
        "\n",
        "class RecommenderNet(keras.Model):\n",
        "    def __init__(self, num_users, num_items, embedding_size, **kwargs):\n",
        "        super(RecommenderNet, self).__init__(**kwargs)\n",
        "        #Voici les inputs de notre modèle\n",
        "        self.num_users = num_users\n",
        "        self.num_items = num_items\n",
        "        self.embedding_size = embedding_size\n",
        "\n",
        "        \"\"\"Nous utilisons l'API layers de keras pour invoquer la fonction Embedding \n",
        "        permettant de transformer des indices positifs en un vecteur dense de taille fixe (ce sera la premiere couche de notre réseau qui nous servira d'encoder )\"\"\"\n",
        "\n",
        "        #On vectorise les user , Shape (None,27530,50)\n",
        "        self.user_embedding = layers.Embedding(\n",
        "            num_users,\n",
        "            embedding_size,\n",
        "            embeddings_initializer=\"he_normal\",\n",
        "            embeddings_regularizer=keras.regularizers.l2(1e-6),\n",
        "        )\n",
        "\n",
        "        #Shape (None,10620,1)\n",
        "        self.user_bias = layers.Embedding(num_users, 1)\n",
        "\n",
        "        #On vectorise les items , Shape (None,10620,50)\n",
        "        self.item_embedding = layers.Embedding(\n",
        "            num_items,\n",
        "            embedding_size,\n",
        "            embeddings_initializer=\"he_normal\",\n",
        "            embeddings_regularizer=keras.regularizers.l2(1e-6),\n",
        "        )\n",
        "        #Shape (None,10620,1)\n",
        "        self.item_bias = layers.Embedding(num_items, 1)\n",
        "\n",
        "    def call(self, inputs):\n",
        "        user_vector = self.user_embedding(inputs[:, 0])\n",
        "        user_bias = self.user_bias(inputs[:, 0])\n",
        "        item_vector = self.item_embedding(inputs[:, 1])\n",
        "        item_bias = self.item_bias(inputs[:, 1])\n",
        "\n",
        "        #Nous effectuons le produit scalaire entre les vecteurs encodés des articles et des utilisateurs pour fusionner les deux layers\n",
        "        dot_user_item = tf.tensordot(user_vector, item_vector, 2)\n",
        "\n",
        "        # nous ajoutons tout les composantes (y compris le biais)\n",
        "        x = dot_user_item + user_bias + item_bias\n",
        "\n",
        "        # La fonction d'activation sigmoid force le résultat a étre une valeur entre 0 et 1 (pour respecter notre normalisation)\n",
        "        return tf.nn.sigmoid(x)\n",
        "\n",
        "\n",
        "model = RecommenderNet(num_users, num_items, EMBEDDING_SIZE)\n",
        "#Ici nous utilisons l'optimiseur Adam (va variant on Stochastic Gradient Descent) qui altère l'embedding lors du training pour minimiser la perte qui est representé par Binary crossentropy\n",
        "model.compile(\n",
        "    loss=tf.keras.losses.BinaryCrossentropy(), optimizer=keras.optimizers.Adam(lr=0.01),\n",
        "     metrics=[tf.keras.metrics.RootMeanSquaredError(),\"mae\"])\n",
        "es = tf.keras.callbacks.EarlyStopping(monitor='val_root_mean_squared_error', mode='min', verbose=1, patience=10)\n"
      ],
      "execution_count": null,
      "outputs": []
    },
    {
      "cell_type": "markdown",
      "metadata": {
        "id": "OoQurs5yNlrd",
        "colab_type": "text"
      },
      "source": [
        "We train our model on the data split "
      ]
    },
    {
      "cell_type": "code",
      "metadata": {
        "id": "U3Glu3ZOmmyl",
        "colab_type": "code",
        "colab": {
          "base_uri": "https://localhost:8080/",
          "height": 1000
        },
        "outputId": "5d90e5a0-7987-4b71-a176-c7bd5a51ac4a"
      },
      "source": [
        "history = model.fit(\n",
        "    x=x_train,\n",
        "    y=y_train,\n",
        "    batch_size=64,\n",
        "    epochs=200,\n",
        "    verbose=1,\n",
        "    validation_data=(x_val, y_val),\n",
        "    callbacks=[es],\n",
        ")\n"
      ],
      "execution_count": null,
      "outputs": [
        {
          "output_type": "stream",
          "text": [
            "Epoch 1/200\n",
            "2893/2893 [==============================] - 49s 17ms/step - loss: 0.6814 - root_mean_squared_error: 0.4352 - mae: 0.4097 - val_loss: 0.6627 - val_root_mean_squared_error: 0.4244 - val_mae: 0.3997\n",
            "Epoch 2/200\n",
            "2893/2893 [==============================] - 47s 16ms/step - loss: 0.5747 - root_mean_squared_error: 0.3702 - mae: 0.3468 - val_loss: 0.5378 - val_root_mean_squared_error: 0.3458 - val_mae: 0.3220\n",
            "Epoch 3/200\n",
            "2893/2893 [==============================] - 47s 16ms/step - loss: 0.4254 - root_mean_squared_error: 0.2683 - mae: 0.2266 - val_loss: 0.4354 - val_root_mean_squared_error: 0.2755 - val_mae: 0.2370\n",
            "Epoch 4/200\n",
            "2893/2893 [==============================] - 46s 16ms/step - loss: 0.3948 - root_mean_squared_error: 0.2472 - mae: 0.1883 - val_loss: 0.4253 - val_root_mean_squared_error: 0.2682 - val_mae: 0.2280\n",
            "Epoch 5/200\n",
            "2893/2893 [==============================] - 46s 16ms/step - loss: 0.3908 - root_mean_squared_error: 0.2450 - mae: 0.1846 - val_loss: 0.4246 - val_root_mean_squared_error: 0.2674 - val_mae: 0.2281\n",
            "Epoch 6/200\n",
            "2893/2893 [==============================] - 46s 16ms/step - loss: 0.3876 - root_mean_squared_error: 0.2434 - mae: 0.1835 - val_loss: 0.4213 - val_root_mean_squared_error: 0.2649 - val_mae: 0.2255\n",
            "Epoch 7/200\n",
            "2893/2893 [==============================] - 46s 16ms/step - loss: 0.3852 - root_mean_squared_error: 0.2422 - mae: 0.1822 - val_loss: 0.4203 - val_root_mean_squared_error: 0.2641 - val_mae: 0.2250\n",
            "Epoch 8/200\n",
            "2893/2893 [==============================] - 48s 17ms/step - loss: 0.3833 - root_mean_squared_error: 0.2413 - mae: 0.1812 - val_loss: 0.4209 - val_root_mean_squared_error: 0.2644 - val_mae: 0.2259\n",
            "Epoch 9/200\n",
            "2893/2893 [==============================] - 45s 16ms/step - loss: 0.3813 - root_mean_squared_error: 0.2402 - mae: 0.1805 - val_loss: 0.4176 - val_root_mean_squared_error: 0.2621 - val_mae: 0.2231\n",
            "Epoch 10/200\n",
            "2893/2893 [==============================] - 47s 16ms/step - loss: 0.3793 - root_mean_squared_error: 0.2392 - mae: 0.1790 - val_loss: 0.4182 - val_root_mean_squared_error: 0.2625 - val_mae: 0.2239\n",
            "Epoch 11/200\n",
            "2893/2893 [==============================] - 46s 16ms/step - loss: 0.3782 - root_mean_squared_error: 0.2386 - mae: 0.1786 - val_loss: 0.4173 - val_root_mean_squared_error: 0.2618 - val_mae: 0.2233\n",
            "Epoch 12/200\n",
            "2893/2893 [==============================] - 46s 16ms/step - loss: 0.3766 - root_mean_squared_error: 0.2378 - mae: 0.1778 - val_loss: 0.4153 - val_root_mean_squared_error: 0.2605 - val_mae: 0.2216\n",
            "Epoch 13/200\n",
            "2893/2893 [==============================] - 48s 16ms/step - loss: 0.3752 - root_mean_squared_error: 0.2370 - mae: 0.1770 - val_loss: 0.4144 - val_root_mean_squared_error: 0.2599 - val_mae: 0.2211\n",
            "Epoch 14/200\n",
            "2893/2893 [==============================] - 45s 16ms/step - loss: 0.3738 - root_mean_squared_error: 0.2363 - mae: 0.1762 - val_loss: 0.4138 - val_root_mean_squared_error: 0.2595 - val_mae: 0.2208\n",
            "Epoch 15/200\n",
            "2893/2893 [==============================] - 46s 16ms/step - loss: 0.3725 - root_mean_squared_error: 0.2356 - mae: 0.1755 - val_loss: 0.4110 - val_root_mean_squared_error: 0.2577 - val_mae: 0.2184\n",
            "Epoch 16/200\n",
            "2893/2893 [==============================] - 46s 16ms/step - loss: 0.3710 - root_mean_squared_error: 0.2349 - mae: 0.1744 - val_loss: 0.4113 - val_root_mean_squared_error: 0.2579 - val_mae: 0.2190\n",
            "Epoch 17/200\n",
            "2893/2893 [==============================] - 45s 16ms/step - loss: 0.3698 - root_mean_squared_error: 0.2342 - mae: 0.1738 - val_loss: 0.4102 - val_root_mean_squared_error: 0.2571 - val_mae: 0.2182\n",
            "Epoch 18/200\n",
            "2893/2893 [==============================] - 45s 16ms/step - loss: 0.3685 - root_mean_squared_error: 0.2335 - mae: 0.1730 - val_loss: 0.4091 - val_root_mean_squared_error: 0.2565 - val_mae: 0.2175\n",
            "Epoch 19/200\n",
            "2893/2893 [==============================] - 45s 16ms/step - loss: 0.3674 - root_mean_squared_error: 0.2329 - mae: 0.1725 - val_loss: 0.4074 - val_root_mean_squared_error: 0.2554 - val_mae: 0.2161\n",
            "Epoch 20/200\n",
            "2893/2893 [==============================] - 45s 16ms/step - loss: 0.3661 - root_mean_squared_error: 0.2322 - mae: 0.1715 - val_loss: 0.4075 - val_root_mean_squared_error: 0.2555 - val_mae: 0.2165\n",
            "Epoch 21/200\n",
            "2893/2893 [==============================] - 45s 16ms/step - loss: 0.3650 - root_mean_squared_error: 0.2316 - mae: 0.1710 - val_loss: 0.4067 - val_root_mean_squared_error: 0.2549 - val_mae: 0.2159\n",
            "Epoch 22/200\n",
            "2893/2893 [==============================] - 47s 16ms/step - loss: 0.3639 - root_mean_squared_error: 0.2310 - mae: 0.1702 - val_loss: 0.4059 - val_root_mean_squared_error: 0.2545 - val_mae: 0.2154\n",
            "Epoch 23/200\n",
            "2893/2893 [==============================] - 47s 16ms/step - loss: 0.3628 - root_mean_squared_error: 0.2303 - mae: 0.1697 - val_loss: 0.4037 - val_root_mean_squared_error: 0.2531 - val_mae: 0.2134\n",
            "Epoch 24/200\n",
            "2893/2893 [==============================] - 45s 16ms/step - loss: 0.3617 - root_mean_squared_error: 0.2297 - mae: 0.1689 - val_loss: 0.4034 - val_root_mean_squared_error: 0.2530 - val_mae: 0.2134\n",
            "Epoch 25/200\n",
            "2893/2893 [==============================] - 44s 15ms/step - loss: 0.3605 - root_mean_squared_error: 0.2290 - mae: 0.1683 - val_loss: 0.4019 - val_root_mean_squared_error: 0.2520 - val_mae: 0.2122\n",
            "Epoch 26/200\n",
            "2893/2893 [==============================] - 45s 15ms/step - loss: 0.3596 - root_mean_squared_error: 0.2285 - mae: 0.1676 - val_loss: 0.4013 - val_root_mean_squared_error: 0.2517 - val_mae: 0.2118\n",
            "Epoch 27/200\n",
            "2893/2893 [==============================] - 44s 15ms/step - loss: 0.3586 - root_mean_squared_error: 0.2280 - mae: 0.1670 - val_loss: 0.4017 - val_root_mean_squared_error: 0.2520 - val_mae: 0.2124\n",
            "Epoch 28/200\n",
            "2893/2893 [==============================] - 44s 15ms/step - loss: 0.3576 - root_mean_squared_error: 0.2274 - mae: 0.1664 - val_loss: 0.4002 - val_root_mean_squared_error: 0.2510 - val_mae: 0.2111\n",
            "Epoch 29/200\n",
            "2893/2893 [==============================] - 46s 16ms/step - loss: 0.3566 - root_mean_squared_error: 0.2268 - mae: 0.1659 - val_loss: 0.3988 - val_root_mean_squared_error: 0.2501 - val_mae: 0.2099\n",
            "Epoch 30/200\n",
            "2893/2893 [==============================] - 45s 15ms/step - loss: 0.3553 - root_mean_squared_error: 0.2261 - mae: 0.1650 - val_loss: 0.3978 - val_root_mean_squared_error: 0.2496 - val_mae: 0.2091\n",
            "Epoch 31/200\n",
            "2893/2893 [==============================] - 44s 15ms/step - loss: 0.3546 - root_mean_squared_error: 0.2257 - mae: 0.1645 - val_loss: 0.3972 - val_root_mean_squared_error: 0.2492 - val_mae: 0.2087\n",
            "Epoch 32/200\n",
            "2893/2893 [==============================] - 44s 15ms/step - loss: 0.3537 - root_mean_squared_error: 0.2251 - mae: 0.1639 - val_loss: 0.3968 - val_root_mean_squared_error: 0.2490 - val_mae: 0.2085\n",
            "Epoch 33/200\n",
            "2893/2893 [==============================] - 44s 15ms/step - loss: 0.3528 - root_mean_squared_error: 0.2246 - mae: 0.1635 - val_loss: 0.3954 - val_root_mean_squared_error: 0.2482 - val_mae: 0.2073\n",
            "Epoch 34/200\n",
            "2893/2893 [==============================] - 44s 15ms/step - loss: 0.3519 - root_mean_squared_error: 0.2241 - mae: 0.1629 - val_loss: 0.3939 - val_root_mean_squared_error: 0.2473 - val_mae: 0.2059\n",
            "Epoch 35/200\n",
            "2893/2893 [==============================] - 44s 15ms/step - loss: 0.3508 - root_mean_squared_error: 0.2234 - mae: 0.1622 - val_loss: 0.3943 - val_root_mean_squared_error: 0.2476 - val_mae: 0.2064\n",
            "Epoch 36/200\n",
            "2893/2893 [==============================] - 46s 16ms/step - loss: 0.3501 - root_mean_squared_error: 0.2229 - mae: 0.1618 - val_loss: 0.3933 - val_root_mean_squared_error: 0.2470 - val_mae: 0.2056\n",
            "Epoch 37/200\n",
            "2893/2893 [==============================] - 44s 15ms/step - loss: 0.3494 - root_mean_squared_error: 0.2226 - mae: 0.1612 - val_loss: 0.3933 - val_root_mean_squared_error: 0.2470 - val_mae: 0.2058\n",
            "Epoch 38/200\n",
            "2893/2893 [==============================] - 44s 15ms/step - loss: 0.3484 - root_mean_squared_error: 0.2219 - mae: 0.1607 - val_loss: 0.3912 - val_root_mean_squared_error: 0.2458 - val_mae: 0.2038\n",
            "Epoch 39/200\n",
            "2893/2893 [==============================] - 44s 15ms/step - loss: 0.3475 - root_mean_squared_error: 0.2215 - mae: 0.1600 - val_loss: 0.3918 - val_root_mean_squared_error: 0.2462 - val_mae: 0.2045\n",
            "Epoch 40/200\n",
            "2893/2893 [==============================] - 44s 15ms/step - loss: 0.3468 - root_mean_squared_error: 0.2210 - mae: 0.1596 - val_loss: 0.3899 - val_root_mean_squared_error: 0.2450 - val_mae: 0.2027\n",
            "Epoch 41/200\n",
            "2893/2893 [==============================] - 44s 15ms/step - loss: 0.3461 - root_mean_squared_error: 0.2206 - mae: 0.1591 - val_loss: 0.3897 - val_root_mean_squared_error: 0.2450 - val_mae: 0.2026\n",
            "Epoch 42/200\n",
            "2893/2893 [==============================] - 44s 15ms/step - loss: 0.3454 - root_mean_squared_error: 0.2202 - mae: 0.1587 - val_loss: 0.3891 - val_root_mean_squared_error: 0.2447 - val_mae: 0.2022\n",
            "Epoch 43/200\n",
            "2893/2893 [==============================] - 45s 15ms/step - loss: 0.3446 - root_mean_squared_error: 0.2197 - mae: 0.1582 - val_loss: 0.3888 - val_root_mean_squared_error: 0.2445 - val_mae: 0.2019\n",
            "Epoch 44/200\n",
            "2893/2893 [==============================] - 45s 15ms/step - loss: 0.3436 - root_mean_squared_error: 0.2191 - mae: 0.1575 - val_loss: 0.3885 - val_root_mean_squared_error: 0.2444 - val_mae: 0.2017\n",
            "Epoch 45/200\n",
            "2893/2893 [==============================] - 44s 15ms/step - loss: 0.3429 - root_mean_squared_error: 0.2186 - mae: 0.1571 - val_loss: 0.3878 - val_root_mean_squared_error: 0.2440 - val_mae: 0.2011\n",
            "Epoch 46/200\n",
            "2893/2893 [==============================] - 44s 15ms/step - loss: 0.3423 - root_mean_squared_error: 0.2183 - mae: 0.1568 - val_loss: 0.3868 - val_root_mean_squared_error: 0.2434 - val_mae: 0.2001\n",
            "Epoch 47/200\n",
            "2893/2893 [==============================] - 43s 15ms/step - loss: 0.3415 - root_mean_squared_error: 0.2178 - mae: 0.1562 - val_loss: 0.3869 - val_root_mean_squared_error: 0.2435 - val_mae: 0.2003\n",
            "Epoch 48/200\n",
            "2893/2893 [==============================] - 44s 15ms/step - loss: 0.3408 - root_mean_squared_error: 0.2173 - mae: 0.1558 - val_loss: 0.3860 - val_root_mean_squared_error: 0.2431 - val_mae: 0.1995\n",
            "Epoch 49/200\n",
            "2893/2893 [==============================] - 44s 15ms/step - loss: 0.3402 - root_mean_squared_error: 0.2170 - mae: 0.1554 - val_loss: 0.3851 - val_root_mean_squared_error: 0.2425 - val_mae: 0.1986\n",
            "Epoch 50/200\n",
            "2893/2893 [==============================] - 44s 15ms/step - loss: 0.3394 - root_mean_squared_error: 0.2165 - mae: 0.1548 - val_loss: 0.3847 - val_root_mean_squared_error: 0.2424 - val_mae: 0.1983\n",
            "Epoch 51/200\n",
            "2893/2893 [==============================] - 44s 15ms/step - loss: 0.3386 - root_mean_squared_error: 0.2160 - mae: 0.1545 - val_loss: 0.3834 - val_root_mean_squared_error: 0.2416 - val_mae: 0.1971\n",
            "Epoch 52/200\n",
            "2893/2893 [==============================] - 43s 15ms/step - loss: 0.3380 - root_mean_squared_error: 0.2157 - mae: 0.1539 - val_loss: 0.3832 - val_root_mean_squared_error: 0.2415 - val_mae: 0.1969\n",
            "Epoch 53/200\n",
            "2893/2893 [==============================] - 43s 15ms/step - loss: 0.3374 - root_mean_squared_error: 0.2152 - mae: 0.1536 - val_loss: 0.3837 - val_root_mean_squared_error: 0.2419 - val_mae: 0.1975\n",
            "Epoch 54/200\n",
            "2893/2893 [==============================] - 43s 15ms/step - loss: 0.3367 - root_mean_squared_error: 0.2148 - mae: 0.1532 - val_loss: 0.3827 - val_root_mean_squared_error: 0.2414 - val_mae: 0.1965\n",
            "Epoch 55/200\n",
            "2893/2893 [==============================] - 43s 15ms/step - loss: 0.3360 - root_mean_squared_error: 0.2143 - mae: 0.1527 - val_loss: 0.3823 - val_root_mean_squared_error: 0.2412 - val_mae: 0.1962\n",
            "Epoch 56/200\n",
            "2893/2893 [==============================] - 43s 15ms/step - loss: 0.3356 - root_mean_squared_error: 0.2142 - mae: 0.1524 - val_loss: 0.3815 - val_root_mean_squared_error: 0.2407 - val_mae: 0.1954\n",
            "Epoch 57/200\n",
            "2893/2893 [==============================] - 44s 15ms/step - loss: 0.3349 - root_mean_squared_error: 0.2137 - mae: 0.1520 - val_loss: 0.3815 - val_root_mean_squared_error: 0.2408 - val_mae: 0.1955\n",
            "Epoch 58/200\n",
            "2893/2893 [==============================] - 45s 15ms/step - loss: 0.3341 - root_mean_squared_error: 0.2131 - mae: 0.1514 - val_loss: 0.3815 - val_root_mean_squared_error: 0.2409 - val_mae: 0.1956\n",
            "Epoch 59/200\n",
            "2893/2893 [==============================] - 43s 15ms/step - loss: 0.3337 - root_mean_squared_error: 0.2129 - mae: 0.1513 - val_loss: 0.3800 - val_root_mean_squared_error: 0.2400 - val_mae: 0.1940\n",
            "Epoch 60/200\n",
            "2893/2893 [==============================] - 43s 15ms/step - loss: 0.3329 - root_mean_squared_error: 0.2124 - mae: 0.1506 - val_loss: 0.3806 - val_root_mean_squared_error: 0.2404 - val_mae: 0.1947\n",
            "Epoch 61/200\n",
            "2893/2893 [==============================] - 43s 15ms/step - loss: 0.3324 - root_mean_squared_error: 0.2120 - mae: 0.1504 - val_loss: 0.3798 - val_root_mean_squared_error: 0.2400 - val_mae: 0.1939\n",
            "Epoch 62/200\n",
            "2893/2893 [==============================] - 43s 15ms/step - loss: 0.3317 - root_mean_squared_error: 0.2116 - mae: 0.1499 - val_loss: 0.3790 - val_root_mean_squared_error: 0.2396 - val_mae: 0.1930\n",
            "Epoch 63/200\n",
            "2893/2893 [==============================] - 43s 15ms/step - loss: 0.3312 - root_mean_squared_error: 0.2114 - mae: 0.1494 - val_loss: 0.3802 - val_root_mean_squared_error: 0.2404 - val_mae: 0.1944\n",
            "Epoch 64/200\n",
            "2893/2893 [==============================] - 43s 15ms/step - loss: 0.3306 - root_mean_squared_error: 0.2109 - mae: 0.1493 - val_loss: 0.3785 - val_root_mean_squared_error: 0.2394 - val_mae: 0.1927\n",
            "Epoch 65/200\n",
            "2893/2893 [==============================] - 49s 17ms/step - loss: 0.3302 - root_mean_squared_error: 0.2107 - mae: 0.1489 - val_loss: 0.3785 - val_root_mean_squared_error: 0.2395 - val_mae: 0.1927\n",
            "Epoch 66/200\n",
            "2893/2893 [==============================] - 44s 15ms/step - loss: 0.3296 - root_mean_squared_error: 0.2103 - mae: 0.1484 - val_loss: 0.3784 - val_root_mean_squared_error: 0.2394 - val_mae: 0.1926\n",
            "Epoch 67/200\n",
            "2893/2893 [==============================] - 45s 15ms/step - loss: 0.3292 - root_mean_squared_error: 0.2100 - mae: 0.1482 - val_loss: 0.3780 - val_root_mean_squared_error: 0.2392 - val_mae: 0.1922\n",
            "Epoch 68/200\n",
            "2893/2893 [==============================] - 45s 15ms/step - loss: 0.3285 - root_mean_squared_error: 0.2096 - mae: 0.1478 - val_loss: 0.3776 - val_root_mean_squared_error: 0.2390 - val_mae: 0.1917\n",
            "Epoch 69/200\n",
            "2893/2893 [==============================] - 45s 15ms/step - loss: 0.3282 - root_mean_squared_error: 0.2094 - mae: 0.1476 - val_loss: 0.3773 - val_root_mean_squared_error: 0.2389 - val_mae: 0.1915\n",
            "Epoch 70/200\n",
            "2893/2893 [==============================] - 46s 16ms/step - loss: 0.3275 - root_mean_squared_error: 0.2089 - mae: 0.1471 - val_loss: 0.3769 - val_root_mean_squared_error: 0.2387 - val_mae: 0.1910\n",
            "Epoch 71/200\n",
            "2893/2893 [==============================] - 45s 15ms/step - loss: 0.3270 - root_mean_squared_error: 0.2086 - mae: 0.1467 - val_loss: 0.3772 - val_root_mean_squared_error: 0.2390 - val_mae: 0.1914\n",
            "Epoch 72/200\n",
            "2893/2893 [==============================] - 47s 16ms/step - loss: 0.3264 - root_mean_squared_error: 0.2082 - mae: 0.1464 - val_loss: 0.3765 - val_root_mean_squared_error: 0.2386 - val_mae: 0.1906\n",
            "Epoch 73/200\n",
            "2893/2893 [==============================] - 49s 17ms/step - loss: 0.3258 - root_mean_squared_error: 0.2079 - mae: 0.1460 - val_loss: 0.3757 - val_root_mean_squared_error: 0.2382 - val_mae: 0.1898\n",
            "Epoch 74/200\n",
            "2893/2893 [==============================] - 45s 16ms/step - loss: 0.3254 - root_mean_squared_error: 0.2076 - mae: 0.1457 - val_loss: 0.3754 - val_root_mean_squared_error: 0.2381 - val_mae: 0.1895\n",
            "Epoch 75/200\n",
            "2893/2893 [==============================] - 45s 16ms/step - loss: 0.3249 - root_mean_squared_error: 0.2073 - mae: 0.1453 - val_loss: 0.3754 - val_root_mean_squared_error: 0.2381 - val_mae: 0.1895\n",
            "Epoch 76/200\n",
            "2893/2893 [==============================] - 45s 16ms/step - loss: 0.3244 - root_mean_squared_error: 0.2069 - mae: 0.1450 - val_loss: 0.3747 - val_root_mean_squared_error: 0.2377 - val_mae: 0.1887\n",
            "Epoch 77/200\n",
            "2893/2893 [==============================] - 45s 16ms/step - loss: 0.3239 - root_mean_squared_error: 0.2066 - mae: 0.1445 - val_loss: 0.3752 - val_root_mean_squared_error: 0.2381 - val_mae: 0.1893\n",
            "Epoch 78/200\n",
            "2893/2893 [==============================] - 46s 16ms/step - loss: 0.3234 - root_mean_squared_error: 0.2063 - mae: 0.1444 - val_loss: 0.3743 - val_root_mean_squared_error: 0.2376 - val_mae: 0.1882\n",
            "Epoch 79/200\n",
            "2893/2893 [==============================] - 47s 16ms/step - loss: 0.3231 - root_mean_squared_error: 0.2062 - mae: 0.1440 - val_loss: 0.3751 - val_root_mean_squared_error: 0.2382 - val_mae: 0.1891\n",
            "Epoch 80/200\n",
            "2893/2893 [==============================] - 45s 16ms/step - loss: 0.3225 - root_mean_squared_error: 0.2057 - mae: 0.1438 - val_loss: 0.3742 - val_root_mean_squared_error: 0.2377 - val_mae: 0.1881\n",
            "Epoch 81/200\n",
            "2893/2893 [==============================] - 45s 16ms/step - loss: 0.3222 - root_mean_squared_error: 0.2056 - mae: 0.1435 - val_loss: 0.3741 - val_root_mean_squared_error: 0.2377 - val_mae: 0.1880\n",
            "Epoch 82/200\n",
            "2893/2893 [==============================] - 45s 16ms/step - loss: 0.3218 - root_mean_squared_error: 0.2052 - mae: 0.1432 - val_loss: 0.3733 - val_root_mean_squared_error: 0.2372 - val_mae: 0.1871\n",
            "Epoch 83/200\n",
            "2893/2893 [==============================] - 45s 16ms/step - loss: 0.3213 - root_mean_squared_error: 0.2049 - mae: 0.1428 - val_loss: 0.3733 - val_root_mean_squared_error: 0.2373 - val_mae: 0.1870\n",
            "Epoch 84/200\n",
            "2893/2893 [==============================] - 45s 16ms/step - loss: 0.3208 - root_mean_squared_error: 0.2046 - mae: 0.1425 - val_loss: 0.3732 - val_root_mean_squared_error: 0.2373 - val_mae: 0.1869\n",
            "Epoch 85/200\n",
            "2893/2893 [==============================] - 46s 16ms/step - loss: 0.3204 - root_mean_squared_error: 0.2043 - mae: 0.1423 - val_loss: 0.3730 - val_root_mean_squared_error: 0.2372 - val_mae: 0.1867\n",
            "Epoch 86/200\n",
            "2893/2893 [==============================] - 50s 17ms/step - loss: 0.3200 - root_mean_squared_error: 0.2041 - mae: 0.1419 - val_loss: 0.3731 - val_root_mean_squared_error: 0.2374 - val_mae: 0.1867\n",
            "Epoch 87/200\n",
            "2893/2893 [==============================] - 46s 16ms/step - loss: 0.3196 - root_mean_squared_error: 0.2038 - mae: 0.1418 - val_loss: 0.3720 - val_root_mean_squared_error: 0.2367 - val_mae: 0.1855\n",
            "Epoch 88/200\n",
            "2893/2893 [==============================] - 45s 16ms/step - loss: 0.3191 - root_mean_squared_error: 0.2035 - mae: 0.1413 - val_loss: 0.3722 - val_root_mean_squared_error: 0.2369 - val_mae: 0.1857\n",
            "Epoch 89/200\n",
            "2893/2893 [==============================] - 44s 15ms/step - loss: 0.3187 - root_mean_squared_error: 0.2032 - mae: 0.1410 - val_loss: 0.3726 - val_root_mean_squared_error: 0.2372 - val_mae: 0.1861\n",
            "Epoch 90/200\n",
            "2893/2893 [==============================] - 44s 15ms/step - loss: 0.3183 - root_mean_squared_error: 0.2030 - mae: 0.1409 - val_loss: 0.3725 - val_root_mean_squared_error: 0.2372 - val_mae: 0.1859\n",
            "Epoch 91/200\n",
            "2893/2893 [==============================] - 45s 15ms/step - loss: 0.3179 - root_mean_squared_error: 0.2027 - mae: 0.1405 - val_loss: 0.3723 - val_root_mean_squared_error: 0.2372 - val_mae: 0.1857\n",
            "Epoch 92/200\n",
            "2893/2893 [==============================] - 45s 16ms/step - loss: 0.3176 - root_mean_squared_error: 0.2025 - mae: 0.1404 - val_loss: 0.3716 - val_root_mean_squared_error: 0.2368 - val_mae: 0.1848\n",
            "Epoch 93/200\n",
            "2893/2893 [==============================] - 47s 16ms/step - loss: 0.3173 - root_mean_squared_error: 0.2023 - mae: 0.1400 - val_loss: 0.3713 - val_root_mean_squared_error: 0.2367 - val_mae: 0.1845\n",
            "Epoch 94/200\n",
            "2893/2893 [==============================] - 44s 15ms/step - loss: 0.3169 - root_mean_squared_error: 0.2021 - mae: 0.1397 - val_loss: 0.3711 - val_root_mean_squared_error: 0.2366 - val_mae: 0.1842\n",
            "Epoch 95/200\n",
            "2893/2893 [==============================] - 45s 15ms/step - loss: 0.3165 - root_mean_squared_error: 0.2018 - mae: 0.1395 - val_loss: 0.3715 - val_root_mean_squared_error: 0.2369 - val_mae: 0.1847\n",
            "Epoch 96/200\n",
            "2893/2893 [==============================] - 45s 15ms/step - loss: 0.3161 - root_mean_squared_error: 0.2014 - mae: 0.1392 - val_loss: 0.3709 - val_root_mean_squared_error: 0.2366 - val_mae: 0.1840\n",
            "Epoch 97/200\n",
            "2893/2893 [==============================] - 45s 15ms/step - loss: 0.3157 - root_mean_squared_error: 0.2013 - mae: 0.1389 - val_loss: 0.3708 - val_root_mean_squared_error: 0.2366 - val_mae: 0.1838\n",
            "Epoch 98/200\n",
            "2893/2893 [==============================] - 44s 15ms/step - loss: 0.3154 - root_mean_squared_error: 0.2011 - mae: 0.1387 - val_loss: 0.3708 - val_root_mean_squared_error: 0.2367 - val_mae: 0.1838\n",
            "Epoch 99/200\n",
            "2893/2893 [==============================] - 45s 16ms/step - loss: 0.3151 - root_mean_squared_error: 0.2009 - mae: 0.1385 - val_loss: 0.3708 - val_root_mean_squared_error: 0.2367 - val_mae: 0.1837\n",
            "Epoch 100/200\n",
            "2893/2893 [==============================] - 49s 17ms/step - loss: 0.3147 - root_mean_squared_error: 0.2006 - mae: 0.1382 - val_loss: 0.3704 - val_root_mean_squared_error: 0.2365 - val_mae: 0.1831\n",
            "Epoch 101/200\n",
            "2893/2893 [==============================] - 45s 15ms/step - loss: 0.3142 - root_mean_squared_error: 0.2002 - mae: 0.1379 - val_loss: 0.3703 - val_root_mean_squared_error: 0.2365 - val_mae: 0.1830\n",
            "Epoch 102/200\n",
            "2893/2893 [==============================] - 44s 15ms/step - loss: 0.3140 - root_mean_squared_error: 0.2002 - mae: 0.1377 - val_loss: 0.3702 - val_root_mean_squared_error: 0.2365 - val_mae: 0.1829\n",
            "Epoch 103/200\n",
            "2893/2893 [==============================] - 46s 16ms/step - loss: 0.3137 - root_mean_squared_error: 0.1999 - mae: 0.1375 - val_loss: 0.3703 - val_root_mean_squared_error: 0.2366 - val_mae: 0.1830\n",
            "Epoch 104/200\n",
            "2893/2893 [==============================] - 45s 16ms/step - loss: 0.3133 - root_mean_squared_error: 0.1997 - mae: 0.1372 - val_loss: 0.3701 - val_root_mean_squared_error: 0.2365 - val_mae: 0.1827\n",
            "Epoch 105/200\n",
            "2893/2893 [==============================] - 44s 15ms/step - loss: 0.3129 - root_mean_squared_error: 0.1994 - mae: 0.1370 - val_loss: 0.3700 - val_root_mean_squared_error: 0.2365 - val_mae: 0.1825\n",
            "Epoch 106/200\n",
            "2893/2893 [==============================] - 45s 16ms/step - loss: 0.3127 - root_mean_squared_error: 0.1992 - mae: 0.1367 - val_loss: 0.3702 - val_root_mean_squared_error: 0.2367 - val_mae: 0.1826\n",
            "Epoch 107/200\n",
            "2893/2893 [==============================] - 45s 16ms/step - loss: 0.3123 - root_mean_squared_error: 0.1990 - mae: 0.1366 - val_loss: 0.3692 - val_root_mean_squared_error: 0.2360 - val_mae: 0.1815\n",
            "Epoch 108/200\n",
            "2893/2893 [==============================] - 45s 16ms/step - loss: 0.3120 - root_mean_squared_error: 0.1989 - mae: 0.1363 - val_loss: 0.3691 - val_root_mean_squared_error: 0.2361 - val_mae: 0.1814\n",
            "Epoch 109/200\n",
            "2893/2893 [==============================] - 45s 15ms/step - loss: 0.3117 - root_mean_squared_error: 0.1986 - mae: 0.1361 - val_loss: 0.3689 - val_root_mean_squared_error: 0.2360 - val_mae: 0.1811\n",
            "Epoch 110/200\n",
            "2893/2893 [==============================] - 44s 15ms/step - loss: 0.3114 - root_mean_squared_error: 0.1984 - mae: 0.1358 - val_loss: 0.3689 - val_root_mean_squared_error: 0.2361 - val_mae: 0.1810\n",
            "Epoch 111/200\n",
            "2893/2893 [==============================] - 45s 15ms/step - loss: 0.3110 - root_mean_squared_error: 0.1982 - mae: 0.1355 - val_loss: 0.3690 - val_root_mean_squared_error: 0.2362 - val_mae: 0.1811\n",
            "Epoch 112/200\n",
            "2893/2893 [==============================] - 46s 16ms/step - loss: 0.3106 - root_mean_squared_error: 0.1979 - mae: 0.1353 - val_loss: 0.3687 - val_root_mean_squared_error: 0.2360 - val_mae: 0.1806\n",
            "Epoch 113/200\n",
            "2893/2893 [==============================] - 46s 16ms/step - loss: 0.3105 - root_mean_squared_error: 0.1978 - mae: 0.1352 - val_loss: 0.3685 - val_root_mean_squared_error: 0.2360 - val_mae: 0.1804\n",
            "Epoch 114/200\n",
            "2893/2893 [==============================] - 49s 17ms/step - loss: 0.3102 - root_mean_squared_error: 0.1976 - mae: 0.1349 - val_loss: 0.3688 - val_root_mean_squared_error: 0.2362 - val_mae: 0.1806\n",
            "Epoch 115/200\n",
            "2893/2893 [==============================] - 44s 15ms/step - loss: 0.3098 - root_mean_squared_error: 0.1974 - mae: 0.1346 - val_loss: 0.3687 - val_root_mean_squared_error: 0.2362 - val_mae: 0.1804\n",
            "Epoch 116/200\n",
            "2893/2893 [==============================] - 45s 16ms/step - loss: 0.3096 - root_mean_squared_error: 0.1972 - mae: 0.1345 - val_loss: 0.3687 - val_root_mean_squared_error: 0.2363 - val_mae: 0.1804\n",
            "Epoch 117/200\n",
            "2893/2893 [==============================] - 45s 16ms/step - loss: 0.3093 - root_mean_squared_error: 0.1970 - mae: 0.1343 - val_loss: 0.3684 - val_root_mean_squared_error: 0.2361 - val_mae: 0.1800\n",
            "Epoch 118/200\n",
            "2893/2893 [==============================] - 46s 16ms/step - loss: 0.3089 - root_mean_squared_error: 0.1968 - mae: 0.1341 - val_loss: 0.3680 - val_root_mean_squared_error: 0.2359 - val_mae: 0.1795\n",
            "Epoch 119/200\n",
            "2893/2893 [==============================] - 46s 16ms/step - loss: 0.3086 - root_mean_squared_error: 0.1967 - mae: 0.1338 - val_loss: 0.3684 - val_root_mean_squared_error: 0.2363 - val_mae: 0.1799\n",
            "Epoch 120/200\n",
            "2893/2893 [==============================] - 46s 16ms/step - loss: 0.3084 - root_mean_squared_error: 0.1964 - mae: 0.1336 - val_loss: 0.3678 - val_root_mean_squared_error: 0.2359 - val_mae: 0.1791\n",
            "Epoch 121/200\n",
            "2893/2893 [==============================] - 47s 16ms/step - loss: 0.3081 - root_mean_squared_error: 0.1963 - mae: 0.1334 - val_loss: 0.3682 - val_root_mean_squared_error: 0.2362 - val_mae: 0.1794\n",
            "Epoch 122/200\n",
            "2893/2893 [==============================] - 45s 15ms/step - loss: 0.3080 - root_mean_squared_error: 0.1962 - mae: 0.1333 - val_loss: 0.3683 - val_root_mean_squared_error: 0.2363 - val_mae: 0.1794\n",
            "Epoch 123/200\n",
            "2893/2893 [==============================] - 44s 15ms/step - loss: 0.3076 - root_mean_squared_error: 0.1960 - mae: 0.1330 - val_loss: 0.3683 - val_root_mean_squared_error: 0.2364 - val_mae: 0.1794\n",
            "Epoch 124/200\n",
            "2893/2893 [==============================] - 45s 15ms/step - loss: 0.3072 - root_mean_squared_error: 0.1957 - mae: 0.1328 - val_loss: 0.3680 - val_root_mean_squared_error: 0.2363 - val_mae: 0.1790\n",
            "Epoch 125/200\n",
            "2893/2893 [==============================] - 45s 16ms/step - loss: 0.3071 - root_mean_squared_error: 0.1956 - mae: 0.1326 - val_loss: 0.3678 - val_root_mean_squared_error: 0.2361 - val_mae: 0.1786\n",
            "Epoch 126/200\n",
            "2893/2893 [==============================] - 46s 16ms/step - loss: 0.3067 - root_mean_squared_error: 0.1953 - mae: 0.1324 - val_loss: 0.3675 - val_root_mean_squared_error: 0.2360 - val_mae: 0.1781\n",
            "Epoch 127/200\n",
            "2893/2893 [==============================] - 45s 15ms/step - loss: 0.3067 - root_mean_squared_error: 0.1954 - mae: 0.1323 - val_loss: 0.3678 - val_root_mean_squared_error: 0.2362 - val_mae: 0.1784\n",
            "Epoch 128/200\n",
            "2893/2893 [==============================] - 46s 16ms/step - loss: 0.3063 - root_mean_squared_error: 0.1951 - mae: 0.1321 - val_loss: 0.3677 - val_root_mean_squared_error: 0.2362 - val_mae: 0.1782\n",
            "Epoch 129/200\n",
            "2893/2893 [==============================] - 45s 15ms/step - loss: 0.3060 - root_mean_squared_error: 0.1949 - mae: 0.1318 - val_loss: 0.3682 - val_root_mean_squared_error: 0.2366 - val_mae: 0.1787\n",
            "Epoch 130/200\n",
            "2893/2893 [==============================] - 45s 16ms/step - loss: 0.3057 - root_mean_squared_error: 0.1947 - mae: 0.1317 - val_loss: 0.3674 - val_root_mean_squared_error: 0.2361 - val_mae: 0.1777\n",
            "Epoch 131/200\n",
            "2893/2893 [==============================] - 45s 15ms/step - loss: 0.3055 - root_mean_squared_error: 0.1945 - mae: 0.1314 - val_loss: 0.3676 - val_root_mean_squared_error: 0.2363 - val_mae: 0.1779\n",
            "Epoch 132/200\n",
            "2893/2893 [==============================] - 45s 15ms/step - loss: 0.3054 - root_mean_squared_error: 0.1945 - mae: 0.1313 - val_loss: 0.3677 - val_root_mean_squared_error: 0.2364 - val_mae: 0.1779\n",
            "Epoch 133/200\n",
            "2893/2893 [==============================] - 46s 16ms/step - loss: 0.3051 - root_mean_squared_error: 0.1943 - mae: 0.1311 - val_loss: 0.3678 - val_root_mean_squared_error: 0.2365 - val_mae: 0.1779\n",
            "Epoch 134/200\n",
            "2893/2893 [==============================] - 44s 15ms/step - loss: 0.3048 - root_mean_squared_error: 0.1942 - mae: 0.1309 - val_loss: 0.3678 - val_root_mean_squared_error: 0.2366 - val_mae: 0.1778\n",
            "Epoch 135/200\n",
            "2893/2893 [==============================] - 46s 16ms/step - loss: 0.3046 - root_mean_squared_error: 0.1940 - mae: 0.1307 - val_loss: 0.3677 - val_root_mean_squared_error: 0.2366 - val_mae: 0.1776\n",
            "Epoch 136/200\n",
            "2893/2893 [==============================] - 45s 16ms/step - loss: 0.3045 - root_mean_squared_error: 0.1940 - mae: 0.1307 - val_loss: 0.3677 - val_root_mean_squared_error: 0.2366 - val_mae: 0.1775\n",
            "Epoch 137/200\n",
            "2893/2893 [==============================] - 45s 15ms/step - loss: 0.3040 - root_mean_squared_error: 0.1935 - mae: 0.1304 - val_loss: 0.3671 - val_root_mean_squared_error: 0.2362 - val_mae: 0.1768\n",
            "Epoch 138/200\n",
            "2893/2893 [==============================] - 45s 15ms/step - loss: 0.3040 - root_mean_squared_error: 0.1936 - mae: 0.1303 - val_loss: 0.3675 - val_root_mean_squared_error: 0.2366 - val_mae: 0.1771\n",
            "Epoch 139/200\n",
            "2893/2893 [==============================] - 45s 15ms/step - loss: 0.3036 - root_mean_squared_error: 0.1933 - mae: 0.1300 - val_loss: 0.3672 - val_root_mean_squared_error: 0.2364 - val_mae: 0.1768\n",
            "Epoch 140/200\n",
            "2893/2893 [==============================] - 46s 16ms/step - loss: 0.3034 - root_mean_squared_error: 0.1932 - mae: 0.1299 - val_loss: 0.3670 - val_root_mean_squared_error: 0.2363 - val_mae: 0.1764\n",
            "Epoch 141/200\n",
            "2893/2893 [==============================] - 45s 15ms/step - loss: 0.3032 - root_mean_squared_error: 0.1931 - mae: 0.1297 - val_loss: 0.3675 - val_root_mean_squared_error: 0.2367 - val_mae: 0.1768\n",
            "Epoch 142/200\n",
            "2893/2893 [==============================] - 46s 16ms/step - loss: 0.3031 - root_mean_squared_error: 0.1929 - mae: 0.1296 - val_loss: 0.3671 - val_root_mean_squared_error: 0.2365 - val_mae: 0.1763\n",
            "Epoch 143/200\n",
            "2893/2893 [==============================] - 45s 15ms/step - loss: 0.3028 - root_mean_squared_error: 0.1928 - mae: 0.1294 - val_loss: 0.3674 - val_root_mean_squared_error: 0.2367 - val_mae: 0.1764\n",
            "Epoch 144/200\n",
            "2893/2893 [==============================] - 45s 15ms/step - loss: 0.3027 - root_mean_squared_error: 0.1927 - mae: 0.1292 - val_loss: 0.3675 - val_root_mean_squared_error: 0.2368 - val_mae: 0.1766\n",
            "Epoch 145/200\n",
            "2893/2893 [==============================] - 45s 16ms/step - loss: 0.3024 - root_mean_squared_error: 0.1925 - mae: 0.1291 - val_loss: 0.3674 - val_root_mean_squared_error: 0.2367 - val_mae: 0.1762\n",
            "Epoch 146/200\n",
            "2893/2893 [==============================] - 45s 16ms/step - loss: 0.3021 - root_mean_squared_error: 0.1924 - mae: 0.1289 - val_loss: 0.3674 - val_root_mean_squared_error: 0.2368 - val_mae: 0.1762\n",
            "Epoch 147/200\n",
            "2893/2893 [==============================] - 44s 15ms/step - loss: 0.3019 - root_mean_squared_error: 0.1922 - mae: 0.1288 - val_loss: 0.3672 - val_root_mean_squared_error: 0.2367 - val_mae: 0.1758\n",
            "Epoch 148/200\n",
            "2893/2893 [==============================] - 45s 15ms/step - loss: 0.3017 - root_mean_squared_error: 0.1921 - mae: 0.1285 - val_loss: 0.3675 - val_root_mean_squared_error: 0.2369 - val_mae: 0.1760\n",
            "Epoch 149/200\n",
            "2893/2893 [==============================] - 48s 16ms/step - loss: 0.3014 - root_mean_squared_error: 0.1919 - mae: 0.1284 - val_loss: 0.3670 - val_root_mean_squared_error: 0.2366 - val_mae: 0.1753\n",
            "Epoch 150/200\n",
            "2893/2893 [==============================] - 45s 16ms/step - loss: 0.3014 - root_mean_squared_error: 0.1919 - mae: 0.1283 - val_loss: 0.3673 - val_root_mean_squared_error: 0.2368 - val_mae: 0.1756\n",
            "Epoch 151/200\n",
            "2893/2893 [==============================] - 45s 15ms/step - loss: 0.3010 - root_mean_squared_error: 0.1916 - mae: 0.1280 - val_loss: 0.3672 - val_root_mean_squared_error: 0.2368 - val_mae: 0.1754\n",
            "Epoch 152/200\n",
            "2893/2893 [==============================] - 45s 16ms/step - loss: 0.3009 - root_mean_squared_error: 0.1916 - mae: 0.1279 - val_loss: 0.3674 - val_root_mean_squared_error: 0.2370 - val_mae: 0.1755\n",
            "Epoch 153/200\n",
            "2893/2893 [==============================] - 49s 17ms/step - loss: 0.3008 - root_mean_squared_error: 0.1915 - mae: 0.1279 - val_loss: 0.3669 - val_root_mean_squared_error: 0.2367 - val_mae: 0.1749\n",
            "Epoch 154/200\n",
            "2893/2893 [==============================] - 46s 16ms/step - loss: 0.3005 - root_mean_squared_error: 0.1914 - mae: 0.1276 - val_loss: 0.3672 - val_root_mean_squared_error: 0.2370 - val_mae: 0.1751\n",
            "Epoch 155/200\n",
            "2893/2893 [==============================] - 45s 16ms/step - loss: 0.3003 - root_mean_squared_error: 0.1912 - mae: 0.1275 - val_loss: 0.3671 - val_root_mean_squared_error: 0.2369 - val_mae: 0.1748\n",
            "Epoch 156/200\n",
            "2893/2893 [==============================] - 46s 16ms/step - loss: 0.3001 - root_mean_squared_error: 0.1911 - mae: 0.1273 - val_loss: 0.3676 - val_root_mean_squared_error: 0.2373 - val_mae: 0.1753\n",
            "Epoch 157/200\n",
            "2893/2893 [==============================] - 45s 16ms/step - loss: 0.3000 - root_mean_squared_error: 0.1910 - mae: 0.1272 - val_loss: 0.3669 - val_root_mean_squared_error: 0.2368 - val_mae: 0.1744\n",
            "Epoch 158/200\n",
            "2893/2893 [==============================] - 46s 16ms/step - loss: 0.2997 - root_mean_squared_error: 0.1908 - mae: 0.1270 - val_loss: 0.3672 - val_root_mean_squared_error: 0.2371 - val_mae: 0.1747\n",
            "Epoch 159/200\n",
            "2893/2893 [==============================] - 47s 16ms/step - loss: 0.2996 - root_mean_squared_error: 0.1908 - mae: 0.1270 - val_loss: 0.3670 - val_root_mean_squared_error: 0.2369 - val_mae: 0.1742\n",
            "Epoch 160/200\n",
            "2893/2893 [==============================] - 47s 16ms/step - loss: 0.2994 - root_mean_squared_error: 0.1906 - mae: 0.1268 - val_loss: 0.3673 - val_root_mean_squared_error: 0.2372 - val_mae: 0.1745\n",
            "Epoch 161/200\n",
            "2893/2893 [==============================] - 47s 16ms/step - loss: 0.2993 - root_mean_squared_error: 0.1906 - mae: 0.1267 - val_loss: 0.3671 - val_root_mean_squared_error: 0.2371 - val_mae: 0.1742\n",
            "Epoch 162/200\n",
            "2893/2893 [==============================] - 47s 16ms/step - loss: 0.2992 - root_mean_squared_error: 0.1905 - mae: 0.1265 - val_loss: 0.3670 - val_root_mean_squared_error: 0.2370 - val_mae: 0.1740\n",
            "Epoch 163/200\n",
            "2893/2893 [==============================] - 48s 17ms/step - loss: 0.2987 - root_mean_squared_error: 0.1902 - mae: 0.1263 - val_loss: 0.3671 - val_root_mean_squared_error: 0.2371 - val_mae: 0.1739\n",
            "Epoch 164/200\n",
            "2893/2893 [==============================] - 47s 16ms/step - loss: 0.2987 - root_mean_squared_error: 0.1902 - mae: 0.1262 - val_loss: 0.3674 - val_root_mean_squared_error: 0.2374 - val_mae: 0.1742\n",
            "Epoch 165/200\n",
            "2893/2893 [==============================] - 48s 16ms/step - loss: 0.2985 - root_mean_squared_error: 0.1900 - mae: 0.1261 - val_loss: 0.3672 - val_root_mean_squared_error: 0.2373 - val_mae: 0.1739\n",
            "Epoch 166/200\n",
            "2893/2893 [==============================] - 53s 18ms/step - loss: 0.2984 - root_mean_squared_error: 0.1900 - mae: 0.1259 - val_loss: 0.3673 - val_root_mean_squared_error: 0.2373 - val_mae: 0.1738\n",
            "Epoch 167/200\n",
            "2893/2893 [==============================] - 49s 17ms/step - loss: 0.2982 - root_mean_squared_error: 0.1899 - mae: 0.1258 - val_loss: 0.3678 - val_root_mean_squared_error: 0.2378 - val_mae: 0.1743\n",
            "Epoch 168/200\n",
            "2893/2893 [==============================] - 49s 17ms/step - loss: 0.2981 - root_mean_squared_error: 0.1898 - mae: 0.1258 - val_loss: 0.3673 - val_root_mean_squared_error: 0.2374 - val_mae: 0.1735\n",
            "Epoch 169/200\n",
            "2893/2893 [==============================] - 52s 18ms/step - loss: 0.2980 - root_mean_squared_error: 0.1897 - mae: 0.1256 - val_loss: 0.3673 - val_root_mean_squared_error: 0.2374 - val_mae: 0.1735\n",
            "Epoch 170/200\n",
            "2893/2893 [==============================] - 48s 16ms/step - loss: 0.2977 - root_mean_squared_error: 0.1895 - mae: 0.1254 - val_loss: 0.3672 - val_root_mean_squared_error: 0.2373 - val_mae: 0.1732\n",
            "Epoch 171/200\n",
            "2893/2893 [==============================] - 49s 17ms/step - loss: 0.2976 - root_mean_squared_error: 0.1895 - mae: 0.1253 - val_loss: 0.3674 - val_root_mean_squared_error: 0.2376 - val_mae: 0.1734\n",
            "Epoch 172/200\n",
            "2893/2893 [==============================] - 50s 17ms/step - loss: 0.2974 - root_mean_squared_error: 0.1894 - mae: 0.1252 - val_loss: 0.3672 - val_root_mean_squared_error: 0.2374 - val_mae: 0.1730\n",
            "Epoch 173/200\n",
            "2893/2893 [==============================] - 48s 16ms/step - loss: 0.2971 - root_mean_squared_error: 0.1891 - mae: 0.1250 - val_loss: 0.3673 - val_root_mean_squared_error: 0.2375 - val_mae: 0.1729\n",
            "Epoch 174/200\n",
            "2893/2893 [==============================] - 48s 17ms/step - loss: 0.2970 - root_mean_squared_error: 0.1891 - mae: 0.1249 - val_loss: 0.3674 - val_root_mean_squared_error: 0.2376 - val_mae: 0.1730\n",
            "Epoch 175/200\n",
            "2893/2893 [==============================] - 48s 17ms/step - loss: 0.2969 - root_mean_squared_error: 0.1890 - mae: 0.1248 - val_loss: 0.3672 - val_root_mean_squared_error: 0.2375 - val_mae: 0.1727\n",
            "Epoch 176/200\n",
            "2893/2893 [==============================] - 51s 18ms/step - loss: 0.2968 - root_mean_squared_error: 0.1890 - mae: 0.1247 - val_loss: 0.3679 - val_root_mean_squared_error: 0.2380 - val_mae: 0.1733\n",
            "Epoch 177/200\n",
            "2893/2893 [==============================] - 48s 17ms/step - loss: 0.2966 - root_mean_squared_error: 0.1888 - mae: 0.1246 - val_loss: 0.3674 - val_root_mean_squared_error: 0.2377 - val_mae: 0.1726\n",
            "Epoch 178/200\n",
            "2893/2893 [==============================] - 47s 16ms/step - loss: 0.2965 - root_mean_squared_error: 0.1888 - mae: 0.1244 - val_loss: 0.3676 - val_root_mean_squared_error: 0.2379 - val_mae: 0.1727\n",
            "Epoch 179/200\n",
            "2893/2893 [==============================] - 49s 17ms/step - loss: 0.2965 - root_mean_squared_error: 0.1888 - mae: 0.1243 - val_loss: 0.3680 - val_root_mean_squared_error: 0.2382 - val_mae: 0.1730\n",
            "Epoch 180/200\n",
            "2893/2893 [==============================] - 47s 16ms/step - loss: 0.2961 - root_mean_squared_error: 0.1885 - mae: 0.1241 - val_loss: 0.3677 - val_root_mean_squared_error: 0.2379 - val_mae: 0.1725\n",
            "Epoch 181/200\n",
            "2893/2893 [==============================] - 47s 16ms/step - loss: 0.2959 - root_mean_squared_error: 0.1885 - mae: 0.1240 - val_loss: 0.3680 - val_root_mean_squared_error: 0.2382 - val_mae: 0.1727\n",
            "Epoch 182/200\n",
            "2893/2893 [==============================] - 49s 17ms/step - loss: 0.2959 - root_mean_squared_error: 0.1884 - mae: 0.1239 - val_loss: 0.3680 - val_root_mean_squared_error: 0.2382 - val_mae: 0.1726\n",
            "Epoch 183/200\n",
            "2893/2893 [==============================] - 47s 16ms/step - loss: 0.2957 - root_mean_squared_error: 0.1883 - mae: 0.1239 - val_loss: 0.3675 - val_root_mean_squared_error: 0.2378 - val_mae: 0.1718\n",
            "Epoch 184/200\n",
            "2893/2893 [==============================] - 49s 17ms/step - loss: 0.2956 - root_mean_squared_error: 0.1883 - mae: 0.1237 - val_loss: 0.3679 - val_root_mean_squared_error: 0.2382 - val_mae: 0.1722\n",
            "Epoch 185/200\n",
            "2893/2893 [==============================] - 51s 18ms/step - loss: 0.2953 - root_mean_squared_error: 0.1880 - mae: 0.1235 - val_loss: 0.3681 - val_root_mean_squared_error: 0.2383 - val_mae: 0.1723\n",
            "Epoch 186/200\n",
            "2893/2893 [==============================] - 49s 17ms/step - loss: 0.2953 - root_mean_squared_error: 0.1880 - mae: 0.1235 - val_loss: 0.3680 - val_root_mean_squared_error: 0.2382 - val_mae: 0.1720\n",
            "Epoch 187/200\n",
            "2893/2893 [==============================] - 48s 17ms/step - loss: 0.2951 - root_mean_squared_error: 0.1879 - mae: 0.1233 - val_loss: 0.3681 - val_root_mean_squared_error: 0.2383 - val_mae: 0.1719\n",
            "Epoch 188/200\n",
            "2893/2893 [==============================] - 48s 17ms/step - loss: 0.2950 - root_mean_squared_error: 0.1879 - mae: 0.1232 - val_loss: 0.3687 - val_root_mean_squared_error: 0.2389 - val_mae: 0.1726\n",
            "Epoch 189/200\n",
            "2893/2893 [==============================] - 49s 17ms/step - loss: 0.2948 - root_mean_squared_error: 0.1876 - mae: 0.1231 - val_loss: 0.3680 - val_root_mean_squared_error: 0.2383 - val_mae: 0.1716\n",
            "Epoch 190/200\n",
            "2893/2893 [==============================] - 47s 16ms/step - loss: 0.2947 - root_mean_squared_error: 0.1877 - mae: 0.1228 - val_loss: 0.3690 - val_root_mean_squared_error: 0.2392 - val_mae: 0.1727\n",
            "Epoch 191/200\n",
            "2893/2893 [==============================] - 47s 16ms/step - loss: 0.2945 - root_mean_squared_error: 0.1875 - mae: 0.1230 - val_loss: 0.3685 - val_root_mean_squared_error: 0.2388 - val_mae: 0.1720\n",
            "Epoch 192/200\n",
            "2893/2893 [==============================] - 49s 17ms/step - loss: 0.2945 - root_mean_squared_error: 0.1875 - mae: 0.1227 - val_loss: 0.3687 - val_root_mean_squared_error: 0.2390 - val_mae: 0.1721\n",
            "Epoch 193/200\n",
            "2893/2893 [==============================] - 48s 17ms/step - loss: 0.2944 - root_mean_squared_error: 0.1875 - mae: 0.1227 - val_loss: 0.3685 - val_root_mean_squared_error: 0.2388 - val_mae: 0.1717\n",
            "Epoch 194/200\n",
            "2893/2893 [==============================] - 48s 16ms/step - loss: 0.2943 - root_mean_squared_error: 0.1874 - mae: 0.1226 - val_loss: 0.3687 - val_root_mean_squared_error: 0.2390 - val_mae: 0.1718\n",
            "Epoch 195/200\n",
            "2893/2893 [==============================] - 50s 17ms/step - loss: 0.2942 - root_mean_squared_error: 0.1874 - mae: 0.1225 - val_loss: 0.3690 - val_root_mean_squared_error: 0.2392 - val_mae: 0.1720\n",
            "Epoch 196/200\n",
            "2893/2893 [==============================] - 47s 16ms/step - loss: 0.2939 - root_mean_squared_error: 0.1871 - mae: 0.1223 - val_loss: 0.3688 - val_root_mean_squared_error: 0.2390 - val_mae: 0.1716\n",
            "Epoch 197/200\n",
            "2893/2893 [==============================] - 47s 16ms/step - loss: 0.2938 - root_mean_squared_error: 0.1870 - mae: 0.1222 - val_loss: 0.3685 - val_root_mean_squared_error: 0.2388 - val_mae: 0.1712\n",
            "Epoch 198/200\n",
            "2893/2893 [==============================] - 48s 17ms/step - loss: 0.2936 - root_mean_squared_error: 0.1869 - mae: 0.1221 - val_loss: 0.3690 - val_root_mean_squared_error: 0.2392 - val_mae: 0.1716\n",
            "Epoch 199/200\n",
            "2893/2893 [==============================] - 50s 17ms/step - loss: 0.2935 - root_mean_squared_error: 0.1869 - mae: 0.1220 - val_loss: 0.3692 - val_root_mean_squared_error: 0.2394 - val_mae: 0.1717\n",
            "Epoch 200/200\n",
            "2893/2893 [==============================] - 46s 16ms/step - loss: 0.2933 - root_mean_squared_error: 0.1868 - mae: 0.1220 - val_loss: 0.3688 - val_root_mean_squared_error: 0.2390 - val_mae: 0.1710\n"
          ],
          "name": "stdout"
        }
      ]
    },
    {
      "cell_type": "markdown",
      "metadata": {
        "id": "uC2QssXGNs2U",
        "colab_type": "text"
      },
      "source": [
        "PLot training , and validation rmse"
      ]
    },
    {
      "cell_type": "code",
      "metadata": {
        "id": "2hDdqItemyFC",
        "colab_type": "code",
        "colab": {
          "base_uri": "https://localhost:8080/",
          "height": 295
        },
        "outputId": "988e9d62-4096-484b-cfe8-b32e8eacb845"
      },
      "source": [
        "plt.plot(history.history[\"root_mean_squared_error\"])\n",
        "plt.plot(history.history[\"val_root_mean_squared_error\"])\n",
        "plt.title(\"model root_mean_squared_error\")\n",
        "plt.ylabel(\"root_mean_squared_error\")\n",
        "plt.xlabel(\"epoch\")\n",
        "plt.legend([\"train\", \"test\"], loc=\"upper left\")\n",
        "plt.show()"
      ],
      "execution_count": null,
      "outputs": [
        {
          "output_type": "display_data",
          "data": {
            "image/png": "[encoded data removed]",
            "text/plain": [
              "<Figure size 432x288 with 1 Axes>"
            ]
          },
          "metadata": {
            "tags": [],
            "needs_background": "light"
          }
        }
      ]
    },
    {
      "cell_type": "markdown",
      "metadata": {
        "id": "GPFt0eM8ziEt",
        "colab_type": "text"
      },
      "source": [
        "source = \"Building a Recommendation System Using Neural Network Embeddings\" Will Kohersen"
      ]
    },
    {
      "cell_type": "code",
      "metadata": {
        "id": "LE0CTVQ6q0mz",
        "colab_type": "code",
        "colab": {}
      },
      "source": [
        ""
      ],
      "execution_count": null,
      "outputs": []
    }
  ]
}