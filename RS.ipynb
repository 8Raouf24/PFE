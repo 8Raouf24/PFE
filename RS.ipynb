{
  "nbformat": 4,
  "nbformat_minor": 0,
  "metadata": {
    "colab": {
      "name": "RS.ipynb",
      "provenance": [],
      "collapsed_sections": [],
      "authorship_tag": "ABX9TyOdFBFTZZCiQXJhMns1iBSc",
      "include_colab_link": true
    },
    "kernelspec": {
      "name": "python3",
      "display_name": "Python 3"
    }
  },
  "cells": [
    {
      "cell_type": "markdown",
      "metadata": {
        "id": "view-in-github",
        "colab_type": "text"
      },
      "source": [
        "<a href=\"https://colab.research.google.com/github/8Raouf24/PFE/blob/master/RS.ipynb\" target=\"_parent\"><img src=\"https://colab.research.google.com/assets/colab-badge.svg\" alt=\"Open In Colab\"/></a>"
      ]
    },
    {
      "cell_type": "code",
      "metadata": {
        "id": "BHKmM3Gqhid0",
        "colab_type": "code",
        "colab": {}
      },
      "source": [
        "import pandas as pd\n",
        "import numpy as np\n",
        "from zipfile import ZipFile\n",
        "import tensorflow as tf\n",
        "from tensorflow import keras\n",
        "from tensorflow.keras import layers\n",
        "from pathlib import Path\n",
        "import gzip\n",
        "import matplotlib.pyplot as plt\n",
        "import json"
      ],
      "execution_count": null,
      "outputs": []
    },
    {
      "cell_type": "markdown",
      "metadata": {
        "id": "VSs-4_UVMPmM",
        "colab_type": "text"
      },
      "source": [
        "We download our dataset representing items from Amazon belonging to the \"Video Games\" Category"
      ]
    },
    {
      "cell_type": "code",
      "metadata": {
        "id": "KVWzbaVQiNbP",
        "colab_type": "code",
        "colab": {
          "base_uri": "https://localhost:8080/",
          "height": 204
        },
        "outputId": "f602fbb5-86f9-4d07-a2bf-fd7fdee7b3db"
      },
      "source": [
        "!wget http://deepyeti.ucsd.edu/jianmo/amazon/categoryFilesSmall/Video_Games_5.json.gz"
      ],
      "execution_count": null,
      "outputs": [
        {
          "output_type": "stream",
          "text": [
            "--2020-07-17 15:46:53--  http://deepyeti.ucsd.edu/jianmo/amazon/categoryFilesSmall/Video_Games_5.json.gz\n",
            "Resolving deepyeti.ucsd.edu (deepyeti.ucsd.edu)... 169.228.63.50\n",
            "Connecting to deepyeti.ucsd.edu (deepyeti.ucsd.edu)|169.228.63.50|:80... connected.\n",
            "HTTP request sent, awaiting response... 200 OK\n",
            "Length: 154050105 (147M) [application/octet-stream]\n",
            "Saving to: ‘Video_Games_5.json.gz.1’\n",
            "\n",
            "Video_Games_5.json. 100%[===================>] 146.91M  21.5MB/s    in 7.7s    \n",
            "\n",
            "2020-07-17 15:47:01 (19.0 MB/s) - ‘Video_Games_5.json.gz.1’ saved [154050105/154050105]\n",
            "\n"
          ],
          "name": "stdout"
        }
      ]
    },
    {
      "cell_type": "code",
      "metadata": {
        "id": "34jSgxH-iib-",
        "colab_type": "code",
        "colab": {
          "base_uri": "https://localhost:8080/",
          "height": 71
        },
        "outputId": "3fabd285-5eab-4eaf-8891-c13e96f324db"
      },
      "source": [
        "### load the meta data\n",
        "\n",
        "data = []\n",
        "with gzip.open('Video_Games_5.json.gz') as f:\n",
        "    for l in f:\n",
        "        data.append(json.loads(l.strip()))\n",
        "    \n",
        "# total length of list, this number equals total number of products\n",
        "print(len(data))\n",
        "\n",
        "# first row of the list\n",
        "print(data[0])"
      ],
      "execution_count": null,
      "outputs": [
        {
          "output_type": "stream",
          "text": [
            "497577\n",
            "{'overall': 5.0, 'verified': True, 'reviewTime': '10 17, 2015', 'reviewerID': 'A1HP7NVNPFMA4N', 'asin': '0700026657', 'reviewerName': 'Ambrosia075', 'reviewText': \"This game is a bit hard to get the hang of, but when you do it's great.\", 'summary': \"but when you do it's great.\", 'unixReviewTime': 1445040000}\n"
          ],
          "name": "stdout"
        }
      ]
    },
    {
      "cell_type": "code",
      "metadata": {
        "id": "3vn6W1cxir8F",
        "colab_type": "code",
        "colab": {
          "base_uri": "https://localhost:8080/",
          "height": 85
        },
        "outputId": "a87a834a-c978-4ab4-862f-125b9375ea69"
      },
      "source": [
        "df = pd.DataFrame.from_dict(data)\n",
        "data_dict = {'userID':df['reviewerID'],'itemID':df['asin'],'rating':df['overall']}\n",
        "df_rs = pd.DataFrame.from_dict(data_dict)\n",
        "df = df_rs\n",
        "\n",
        "print(df_rs.iloc[0])"
      ],
      "execution_count": null,
      "outputs": [
        {
          "output_type": "stream",
          "text": [
            "userID    A1HP7NVNPFMA4N\n",
            "itemID        0700026657\n",
            "rating                 5\n",
            "Name: 0, dtype: object\n"
          ],
          "name": "stdout"
        }
      ]
    },
    {
      "cell_type": "markdown",
      "metadata": {
        "id": "gXwl2ZgVMnoD",
        "colab_type": "text"
      },
      "source": [
        "We do some preprocessings to encode the users and items as integer indices"
      ]
    },
    {
      "cell_type": "code",
      "metadata": {
        "id": "gDk_GD3fi2Kl",
        "colab_type": "code",
        "colab": {
          "base_uri": "https://localhost:8080/",
          "height": 34
        },
        "outputId": "49e8cb95-4918-427f-f03c-f02367754a44"
      },
      "source": [
        "user_ids = df_rs[\"userID\"].unique().tolist()\n",
        "user2user_encoded = {x: i for i, x in enumerate(user_ids)}\n",
        "userencoded2user = {i: x for i, x in enumerate(user_ids)}\n",
        "item_ids = df_rs[\"itemID\"].unique().tolist()\n",
        "item2item_encoded = {x: i for i, x in enumerate(item_ids)}\n",
        "item_encoded2item = {i: x for i, x in enumerate(item_ids)}\n",
        "df_rs[\"user\"] = df_rs[\"userID\"].map(user2user_encoded)\n",
        "df_rs[\"item\"] = df_rs[\"itemID\"].map(item2item_encoded)\n",
        "\n",
        "num_users = len(user2user_encoded)\n",
        "num_items = len(item_encoded2item)\n",
        "df_rs[\"rating\"] = df_rs[\"rating\"].values.astype(np.float32)\n",
        "# min and max ratings will be used to normalize the ratings later\n",
        "min_rating = min(df_rs[\"rating\"])\n",
        "max_rating = max(df_rs[\"rating\"])\n",
        "\n",
        "print(\n",
        "    \"Number of users: {}, Number of Items: {}, Min rating: {}, Max rating: {}\".format(\n",
        "        num_users, num_items, min_rating, max_rating\n",
        "    )\n",
        ")\n"
      ],
      "execution_count": null,
      "outputs": [
        {
          "output_type": "stream",
          "text": [
            "Number of users: 55223, Number of Items: 17408, Min rating: 1.0, Max rating: 5.0\n"
          ],
          "name": "stdout"
        }
      ]
    },
    {
      "cell_type": "markdown",
      "metadata": {
        "id": "pZM1InZxM-Lp",
        "colab_type": "text"
      },
      "source": [
        "We prepare the training and validation data"
      ]
    },
    {
      "cell_type": "code",
      "metadata": {
        "id": "kHc3EeHaj-vz",
        "colab_type": "code",
        "colab": {}
      },
      "source": [
        "df_rs = df_rs.sample(frac=1, random_state=42)\n",
        "x = df_rs[[\"user\", \"item\"]].values\n",
        "# Normalize the targets between 0 and 1. Makes it easy to train.\n",
        "y = df_rs[\"rating\"].apply(lambda x: (x - min_rating) / (max_rating - min_rating)).values\n",
        "# Assuming training on 90% of the data and validating on 10%.\n",
        "train_indices = int(0.8 * df_rs.shape[0])\n",
        "x_train, x_val, y_train, y_val = (\n",
        "    x[:train_indices],\n",
        "    x[train_indices:],\n",
        "    y[:train_indices],\n",
        "    y[train_indices:],\n",
        ")\n"
      ],
      "execution_count": null,
      "outputs": []
    },
    {
      "cell_type": "markdown",
      "metadata": {
        "id": "7V1NlQraNOyH",
        "colab_type": "text"
      },
      "source": [
        "We create the model by embedding both user's and item's vector into a 50-dimensional vectors.\n",
        "The model computes a match score between user and movie embeddings via a dot product, and adds a per-item and per-user bias. The match score is scaled to the [0, 1] interval via a sigmoid (since our ratings are normalized to this range).  "
      ]
    },
    {
      "cell_type": "code",
      "metadata": {
        "id": "iVi6KW0PmHnk",
        "colab_type": "code",
        "colab": {}
      },
      "source": [
        "EMBEDDING_SIZE = 50\n",
        "\n",
        "\n",
        "class RecommenderNet(keras.Model):\n",
        "    def __init__(self, num_users, num_items, embedding_size, **kwargs):\n",
        "        super(RecommenderNet, self).__init__(**kwargs)\n",
        "        self.num_users = num_users\n",
        "        self.num_items = num_items\n",
        "        self.embedding_size = embedding_size\n",
        "        self.user_embedding = layers.Embedding(\n",
        "            num_users,\n",
        "            embedding_size,\n",
        "            embeddings_initializer=\"he_normal\",\n",
        "            embeddings_regularizer=keras.regularizers.l2(1e-6),\n",
        "        )\n",
        "        self.user_bias = layers.Embedding(num_users, 1)\n",
        "        self.item_embedding = layers.Embedding(\n",
        "            num_items,\n",
        "            embedding_size,\n",
        "            embeddings_initializer=\"he_normal\",\n",
        "            embeddings_regularizer=keras.regularizers.l2(1e-6),\n",
        "        )\n",
        "        self.item_bias = layers.Embedding(num_items, 1)\n",
        "\n",
        "    def call(self, inputs):\n",
        "        user_vector = self.user_embedding(inputs[:, 0])\n",
        "        user_bias = self.user_bias(inputs[:, 0])\n",
        "        item_vector = self.item_embedding(inputs[:, 1])\n",
        "        item_bias = self.item_bias(inputs[:, 1])\n",
        "        dot_user_item = tf.tensordot(user_vector, item_vector, 2)\n",
        "        # Add all the components (including bias)\n",
        "        x = dot_user_item + user_bias + item_bias\n",
        "        # The sigmoid activation forces the rating to between 0 and 1\n",
        "        return tf.nn.sigmoid(x)\n",
        "\n",
        "\n",
        "model = RecommenderNet(num_users, num_items, EMBEDDING_SIZE)\n",
        "model.compile(\n",
        "    loss=tf.keras.losses.BinaryCrossentropy(), optimizer=keras.optimizers.Adam(lr=0.0001),\n",
        "     metrics=[tf.keras.metrics.RootMeanSquaredError()])\n"
      ],
      "execution_count": null,
      "outputs": []
    },
    {
      "cell_type": "markdown",
      "metadata": {
        "id": "OoQurs5yNlrd",
        "colab_type": "text"
      },
      "source": [
        "We train our model on the data split "
      ]
    },
    {
      "cell_type": "code",
      "metadata": {
        "id": "U3Glu3ZOmmyl",
        "colab_type": "code",
        "colab": {
          "base_uri": "https://localhost:8080/",
          "height": 1000
        },
        "outputId": "29a0b315-91d5-49b4-9fce-717490a0a985"
      },
      "source": [
        "history = model.fit(\n",
        "    x=x_train,\n",
        "    y=y_train,\n",
        "    batch_size=64,\n",
        "    epochs=50,\n",
        "    verbose=1,\n",
        "    validation_data=(x_val, y_val),\n",
        ")\n"
      ],
      "execution_count": null,
      "outputs": [
        {
          "output_type": "stream",
          "text": [
            "Epoch 1/50\n",
            "6220/6220 [==============================] - 165s 26ms/step - loss: 0.6783 - root_mean_squared_error: 0.4164 - val_loss: 0.6476 - val_root_mean_squared_error: 0.3977\n",
            "Epoch 2/50\n",
            "6220/6220 [==============================] - 166s 27ms/step - loss: 0.5424 - root_mean_squared_error: 0.3295 - val_loss: 0.4977 - val_root_mean_squared_error: 0.2988\n",
            "Epoch 3/50\n",
            "6220/6220 [==============================] - 165s 27ms/step - loss: 0.4882 - root_mean_squared_error: 0.2931 - val_loss: 0.4965 - val_root_mean_squared_error: 0.2979\n",
            "Epoch 4/50\n",
            "6220/6220 [==============================] - 165s 27ms/step - loss: 0.4838 - root_mean_squared_error: 0.2906 - val_loss: 0.4926 - val_root_mean_squared_error: 0.2954\n",
            "Epoch 5/50\n",
            "6220/6220 [==============================] - 167s 27ms/step - loss: 0.4798 - root_mean_squared_error: 0.2883 - val_loss: 0.4901 - val_root_mean_squared_error: 0.2937\n",
            "Epoch 6/50\n",
            "6220/6220 [==============================] - 166s 27ms/step - loss: 0.4763 - root_mean_squared_error: 0.2863 - val_loss: 0.4867 - val_root_mean_squared_error: 0.2916\n",
            "Epoch 7/50\n",
            "6220/6220 [==============================] - 166s 27ms/step - loss: 0.4732 - root_mean_squared_error: 0.2845 - val_loss: 0.4845 - val_root_mean_squared_error: 0.2902\n",
            "Epoch 8/50\n",
            "6220/6220 [==============================] - 164s 26ms/step - loss: 0.4700 - root_mean_squared_error: 0.2826 - val_loss: 0.4814 - val_root_mean_squared_error: 0.2882\n",
            "Epoch 9/50\n",
            "6220/6220 [==============================] - 165s 27ms/step - loss: 0.4670 - root_mean_squared_error: 0.2809 - val_loss: 0.4792 - val_root_mean_squared_error: 0.2868\n",
            "Epoch 10/50\n",
            "6220/6220 [==============================] - 166s 27ms/step - loss: 0.4642 - root_mean_squared_error: 0.2792 - val_loss: 0.4771 - val_root_mean_squared_error: 0.2854\n",
            "Epoch 11/50\n",
            "6220/6220 [==============================] - 165s 26ms/step - loss: 0.4615 - root_mean_squared_error: 0.2776 - val_loss: 0.4746 - val_root_mean_squared_error: 0.2839\n",
            "Epoch 12/50\n",
            "6220/6220 [==============================] - 165s 26ms/step - loss: 0.4590 - root_mean_squared_error: 0.2761 - val_loss: 0.4726 - val_root_mean_squared_error: 0.2826\n",
            "Epoch 13/50\n",
            "6220/6220 [==============================] - 164s 26ms/step - loss: 0.4566 - root_mean_squared_error: 0.2746 - val_loss: 0.4705 - val_root_mean_squared_error: 0.2813\n",
            "Epoch 14/50\n",
            "6220/6220 [==============================] - 165s 27ms/step - loss: 0.4543 - root_mean_squared_error: 0.2732 - val_loss: 0.4688 - val_root_mean_squared_error: 0.2803\n",
            "Epoch 15/50\n",
            "6220/6220 [==============================] - 166s 27ms/step - loss: 0.4521 - root_mean_squared_error: 0.2718 - val_loss: 0.4674 - val_root_mean_squared_error: 0.2794\n",
            "Epoch 16/50\n",
            "6220/6220 [==============================] - 165s 26ms/step - loss: 0.4499 - root_mean_squared_error: 0.2705 - val_loss: 0.4653 - val_root_mean_squared_error: 0.2782\n",
            "Epoch 17/50\n",
            "6220/6220 [==============================] - 167s 27ms/step - loss: 0.4478 - root_mean_squared_error: 0.2692 - val_loss: 0.4644 - val_root_mean_squared_error: 0.2775\n",
            "Epoch 18/50\n",
            "6220/6220 [==============================] - 167s 27ms/step - loss: 0.4458 - root_mean_squared_error: 0.2679 - val_loss: 0.4623 - val_root_mean_squared_error: 0.2763\n",
            "Epoch 19/50\n",
            "6220/6220 [==============================] - 168s 27ms/step - loss: 0.4438 - root_mean_squared_error: 0.2667 - val_loss: 0.4610 - val_root_mean_squared_error: 0.2755\n",
            "Epoch 20/50\n",
            "6220/6220 [==============================] - 166s 27ms/step - loss: 0.4420 - root_mean_squared_error: 0.2656 - val_loss: 0.4591 - val_root_mean_squared_error: 0.2744\n",
            "Epoch 21/50\n",
            "6220/6220 [==============================] - 166s 27ms/step - loss: 0.4402 - root_mean_squared_error: 0.2644 - val_loss: 0.4575 - val_root_mean_squared_error: 0.2735\n",
            "Epoch 22/50\n",
            "6220/6220 [==============================] - 166s 27ms/step - loss: 0.4385 - root_mean_squared_error: 0.2634 - val_loss: 0.4569 - val_root_mean_squared_error: 0.2730\n",
            "Epoch 23/50\n",
            "6220/6220 [==============================] - 167s 27ms/step - loss: 0.4369 - root_mean_squared_error: 0.2623 - val_loss: 0.4554 - val_root_mean_squared_error: 0.2722\n",
            "Epoch 24/50\n",
            "6220/6220 [==============================] - 168s 27ms/step - loss: 0.4353 - root_mean_squared_error: 0.2614 - val_loss: 0.4543 - val_root_mean_squared_error: 0.2715\n",
            "Epoch 25/50\n",
            "6220/6220 [==============================] - 166s 27ms/step - loss: 0.4337 - root_mean_squared_error: 0.2603 - val_loss: 0.4529 - val_root_mean_squared_error: 0.2707\n",
            "Epoch 26/50\n",
            "6220/6220 [==============================] - 169s 27ms/step - loss: 0.4321 - root_mean_squared_error: 0.2593 - val_loss: 0.4522 - val_root_mean_squared_error: 0.2703\n",
            "Epoch 27/50\n",
            "6220/6220 [==============================] - 166s 27ms/step - loss: 0.4306 - root_mean_squared_error: 0.2583 - val_loss: 0.4509 - val_root_mean_squared_error: 0.2696\n",
            "Epoch 28/50\n",
            "6220/6220 [==============================] - 168s 27ms/step - loss: 0.4293 - root_mean_squared_error: 0.2575 - val_loss: 0.4501 - val_root_mean_squared_error: 0.2691\n",
            "Epoch 29/50\n",
            "6220/6220 [==============================] - 164s 26ms/step - loss: 0.4278 - root_mean_squared_error: 0.2565 - val_loss: 0.4488 - val_root_mean_squared_error: 0.2684\n",
            "Epoch 30/50\n",
            "6220/6220 [==============================] - 164s 26ms/step - loss: 0.4265 - root_mean_squared_error: 0.2557 - val_loss: 0.4481 - val_root_mean_squared_error: 0.2680\n",
            "Epoch 31/50\n",
            "6220/6220 [==============================] - 164s 26ms/step - loss: 0.4252 - root_mean_squared_error: 0.2549 - val_loss: 0.4472 - val_root_mean_squared_error: 0.2674\n",
            "Epoch 32/50\n",
            "6220/6220 [==============================] - 174s 28ms/step - loss: 0.4239 - root_mean_squared_error: 0.2541 - val_loss: 0.4464 - val_root_mean_squared_error: 0.2670\n",
            "Epoch 33/50\n",
            "6220/6220 [==============================] - 175s 28ms/step - loss: 0.4228 - root_mean_squared_error: 0.2533 - val_loss: 0.4459 - val_root_mean_squared_error: 0.2667\n",
            "Epoch 34/50\n",
            "6220/6220 [==============================] - 174s 28ms/step - loss: 0.4215 - root_mean_squared_error: 0.2525 - val_loss: 0.4449 - val_root_mean_squared_error: 0.2661\n",
            "Epoch 35/50\n",
            "6220/6220 [==============================] - 177s 28ms/step - loss: 0.4203 - root_mean_squared_error: 0.2517 - val_loss: 0.4440 - val_root_mean_squared_error: 0.2656\n",
            "Epoch 36/50\n",
            "6220/6220 [==============================] - 175s 28ms/step - loss: 0.4191 - root_mean_squared_error: 0.2510 - val_loss: 0.4436 - val_root_mean_squared_error: 0.2653\n",
            "Epoch 37/50\n",
            "6220/6220 [==============================] - 175s 28ms/step - loss: 0.4181 - root_mean_squared_error: 0.2503 - val_loss: 0.4427 - val_root_mean_squared_error: 0.2649\n",
            "Epoch 38/50\n",
            "6220/6220 [==============================] - 176s 28ms/step - loss: 0.4171 - root_mean_squared_error: 0.2496 - val_loss: 0.4420 - val_root_mean_squared_error: 0.2644\n",
            "Epoch 39/50\n",
            "6220/6220 [==============================] - 178s 29ms/step - loss: 0.4160 - root_mean_squared_error: 0.2489 - val_loss: 0.4417 - val_root_mean_squared_error: 0.2643\n",
            "Epoch 40/50\n",
            "6220/6220 [==============================] - 176s 28ms/step - loss: 0.4149 - root_mean_squared_error: 0.2482 - val_loss: 0.4409 - val_root_mean_squared_error: 0.2639\n",
            "Epoch 41/50\n",
            "6220/6220 [==============================] - 177s 29ms/step - loss: 0.4139 - root_mean_squared_error: 0.2475 - val_loss: 0.4402 - val_root_mean_squared_error: 0.2635\n",
            "Epoch 42/50\n",
            "6220/6220 [==============================] - 181s 29ms/step - loss: 0.4128 - root_mean_squared_error: 0.2469 - val_loss: 0.4393 - val_root_mean_squared_error: 0.2630\n",
            "Epoch 43/50\n",
            "6220/6220 [==============================] - 178s 29ms/step - loss: 0.4119 - root_mean_squared_error: 0.2463 - val_loss: 0.4393 - val_root_mean_squared_error: 0.2629\n",
            "Epoch 44/50\n",
            "6220/6220 [==============================] - 177s 29ms/step - loss: 0.4110 - root_mean_squared_error: 0.2457 - val_loss: 0.4385 - val_root_mean_squared_error: 0.2625\n",
            "Epoch 45/50\n",
            "6220/6220 [==============================] - 178s 29ms/step - loss: 0.4101 - root_mean_squared_error: 0.2451 - val_loss: 0.4377 - val_root_mean_squared_error: 0.2621\n",
            "Epoch 46/50\n",
            "6220/6220 [==============================] - 180s 29ms/step - loss: 0.4091 - root_mean_squared_error: 0.2444 - val_loss: 0.4374 - val_root_mean_squared_error: 0.2619\n",
            "Epoch 47/50\n",
            "6220/6220 [==============================] - 178s 29ms/step - loss: 0.4083 - root_mean_squared_error: 0.2439 - val_loss: 0.4368 - val_root_mean_squared_error: 0.2616\n",
            "Epoch 48/50\n",
            "6220/6220 [==============================] - 179s 29ms/step - loss: 0.4076 - root_mean_squared_error: 0.2434 - val_loss: 0.4361 - val_root_mean_squared_error: 0.2612\n",
            "Epoch 49/50\n",
            "6220/6220 [==============================] - 181s 29ms/step - loss: 0.4065 - root_mean_squared_error: 0.2428 - val_loss: 0.4356 - val_root_mean_squared_error: 0.2610\n",
            "Epoch 50/50\n",
            "6220/6220 [==============================] - 178s 29ms/step - loss: 0.4057 - root_mean_squared_error: 0.2422 - val_loss: 0.4351 - val_root_mean_squared_error: 0.2607\n"
          ],
          "name": "stdout"
        }
      ]
    },
    {
      "cell_type": "markdown",
      "metadata": {
        "id": "uC2QssXGNs2U",
        "colab_type": "text"
      },
      "source": [
        "PLot training , and validation rmse"
      ]
    },
    {
      "cell_type": "code",
      "metadata": {
        "id": "2hDdqItemyFC",
        "colab_type": "code",
        "colab": {
          "base_uri": "https://localhost:8080/",
          "height": 295
        },
        "outputId": "24837954-da31-45a6-de12-780a5b9f2c8a"
      },
      "source": [
        "plt.plot(history.history[\"root_mean_squared_error\"])\n",
        "plt.plot(history.history[\"val_root_mean_squared_error\"])\n",
        "plt.title(\"model root_mean_squared_error\")\n",
        "plt.ylabel(\"root_mean_squared_error\")\n",
        "plt.xlabel(\"epoch\")\n",
        "plt.legend([\"train\", \"test\"], loc=\"upper left\")\n",
        "plt.show()"
      ],
      "execution_count": null,
      "outputs": [
        {
          "output_type": "display_data",
          "data": {
            "image/png": "[encoded data removed]",
            "text/plain": [
              "<Figure size 432x288 with 1 Axes>"
            ]
          },
          "metadata": {
            "tags": [],
            "needs_background": "light"
          }
        }
      ]
    },
    {
      "cell_type": "code",
      "metadata": {
        "id": "LE0CTVQ6q0mz",
        "colab_type": "code",
        "colab": {}
      },
      "source": [
        ""
      ],
      "execution_count": null,
      "outputs": []
    }
  ]
}