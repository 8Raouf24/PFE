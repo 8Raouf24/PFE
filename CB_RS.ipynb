{
  "nbformat": 4,
  "nbformat_minor": 0,
  "metadata": {
    "colab": {
      "name": "CB RS.ipynb",
      "provenance": [],
      "collapsed_sections": [],
      "machine_shape": "hm",
      "authorship_tag": "ABX9TyNTCXxEB1B4pL969Obsng3v",
      "include_colab_link": true
    },
    "kernelspec": {
      "name": "python3",
      "display_name": "Python 3"
    }
  },
  "cells": [
    {
      "cell_type": "markdown",
      "metadata": {
        "id": "view-in-github",
        "colab_type": "text"
      },
      "source": [
        "<a href=\"https://colab.research.google.com/github/8Raouf24/PFE/blob/master/CB_RS.ipynb\" target=\"_parent\"><img src=\"https://colab.research.google.com/assets/colab-badge.svg\" alt=\"Open In Colab\"/></a>"
      ]
    },
    {
      "cell_type": "code",
      "metadata": {
        "id": "8_G6yUYs2zRf",
        "outputId": "0150057d-f867-4d4b-f2d6-0cfb5755e8cb",
        "colab": {
          "base_uri": "https://localhost:8080/",
          "height": 340
        }
      },
      "source": [
        "!pip install fse"
      ],
      "execution_count": null,
      "outputs": [
        {
          "output_type": "stream",
          "text": [
            "Requirement already satisfied: fse in /usr/local/lib/python3.6/dist-packages (0.1.15)\n",
            "Requirement already satisfied: scikit-learn>=0.19.1 in /usr/local/lib/python3.6/dist-packages (from fse) (0.22.2.post1)\n",
            "Requirement already satisfied: wordfreq>=2.2.1 in /usr/local/lib/python3.6/dist-packages (from fse) (2.3.2)\n",
            "Requirement already satisfied: gensim>=3.8.0 in /usr/local/lib/python3.6/dist-packages (from fse) (3.8.3)\n",
            "Requirement already satisfied: smart-open>=1.5.0 in /usr/local/lib/python3.6/dist-packages (from fse) (2.2.0)\n",
            "Requirement already satisfied: numpy>=1.11.3 in /usr/local/lib/python3.6/dist-packages (from fse) (1.18.5)\n",
            "Requirement already satisfied: psutil in /usr/local/lib/python3.6/dist-packages (from fse) (5.4.8)\n",
            "Requirement already satisfied: scipy>=0.18.1 in /usr/local/lib/python3.6/dist-packages (from fse) (1.4.1)\n",
            "Requirement already satisfied: joblib>=0.11 in /usr/local/lib/python3.6/dist-packages (from scikit-learn>=0.19.1->fse) (0.16.0)\n",
            "Requirement already satisfied: msgpack>=1.0 in /usr/local/lib/python3.6/dist-packages (from wordfreq>=2.2.1->fse) (1.0.0)\n",
            "Requirement already satisfied: regex in /usr/local/lib/python3.6/dist-packages (from wordfreq>=2.2.1->fse) (2019.12.20)\n",
            "Requirement already satisfied: langcodes>=2 in /usr/local/lib/python3.6/dist-packages (from wordfreq>=2.2.1->fse) (2.1.0)\n",
            "Requirement already satisfied: six>=1.5.0 in /usr/local/lib/python3.6/dist-packages (from gensim>=3.8.0->fse) (1.15.0)\n",
            "Requirement already satisfied: requests in /usr/local/lib/python3.6/dist-packages (from smart-open>=1.5.0->fse) (2.23.0)\n",
            "Requirement already satisfied: marisa-trie in /usr/local/lib/python3.6/dist-packages (from langcodes>=2->wordfreq>=2.2.1->fse) (0.7.5)\n",
            "Requirement already satisfied: urllib3!=1.25.0,!=1.25.1,<1.26,>=1.21.1 in /usr/local/lib/python3.6/dist-packages (from requests->smart-open>=1.5.0->fse) (1.24.3)\n",
            "Requirement already satisfied: certifi>=2017.4.17 in /usr/local/lib/python3.6/dist-packages (from requests->smart-open>=1.5.0->fse) (2020.6.20)\n",
            "Requirement already satisfied: chardet<4,>=3.0.2 in /usr/local/lib/python3.6/dist-packages (from requests->smart-open>=1.5.0->fse) (3.0.4)\n",
            "Requirement already satisfied: idna<3,>=2.5 in /usr/local/lib/python3.6/dist-packages (from requests->smart-open>=1.5.0->fse) (2.10)\n"
          ],
          "name": "stdout"
        }
      ]
    },
    {
      "cell_type": "code",
      "metadata": {
        "id": "FQEKSAmn88cV"
      },
      "source": [
        "import pandas as pd\n",
        "import numpy as np\n",
        "from zipfile import ZipFile\n",
        "import tensorflow as tf\n",
        "from tensorflow import keras\n",
        "from tensorflow.keras import layers,callbacks\n",
        "from tensorflow.keras.layers import Embedding, LSTM, Dense, Bidirectional, GRUCell, GRU, Dropout\n",
        "from keras.models import Sequential\n",
        "from pathlib import Path\n",
        "from sklearn.metrics import r2_score\n",
        "import re\n",
        "import gzip\n",
        "import matplotlib.pyplot as plt\n",
        "import json\n",
        "import math"
      ],
      "execution_count": null,
      "outputs": []
    },
    {
      "cell_type": "code",
      "metadata": {
        "id": "Dfn8RHwTxbnC"
      },
      "source": [
        "import seaborn as sns\n",
        "import spacy\n",
        "from sklearn.model_selection import train_test_split\n",
        "import nltk\n",
        "from nltk.tokenize import RegexpTokenizer\n",
        "from nltk.stem import WordNetLemmatizer\n",
        "from nltk.corpus import stopwords\n",
        "import string\n",
        "from string import punctuation\n",
        "import collections\n",
        "from collections import Counter\n",
        "from sklearn.feature_extraction.text import CountVectorizer, TfidfVectorizer\n",
        "from sklearn.metrics import accuracy_score\n",
        "from sklearn.naive_bayes import MultinomialNB\n",
        "from sklearn.linear_model import LogisticRegression\n",
        "from sklearn.ensemble import RandomForestClassifier\n",
        "from sklearn.svm import LinearSVC\n",
        "from sklearn.metrics.pairwise import cosine_similarity\n",
        "from sklearn.model_selection import cross_val_score"
      ],
      "execution_count": null,
      "outputs": []
    },
    {
      "cell_type": "code",
      "metadata": {
        "id": "nFhwoivs8svI",
        "outputId": "807a0af1-a3a8-47e8-a784-aae55bc8b724",
        "colab": {
          "base_uri": "https://localhost:8080/",
          "height": 204
        }
      },
      "source": [
        "!wget http://deepyeti.ucsd.edu/jianmo/amazon/categoryFiles/Musical_Instruments.json.gz"
      ],
      "execution_count": null,
      "outputs": [
        {
          "output_type": "stream",
          "text": [
            "--2020-10-06 05:19:13--  http://deepyeti.ucsd.edu/jianmo/amazon/categoryFiles/Musical_Instruments.json.gz\n",
            "Resolving deepyeti.ucsd.edu (deepyeti.ucsd.edu)... 169.228.63.50\n",
            "Connecting to deepyeti.ucsd.edu (deepyeti.ucsd.edu)|169.228.63.50|:80... connected.\n",
            "HTTP request sent, awaiting response... 200 OK\n",
            "Length: 232750177 (222M) [application/octet-stream]\n",
            "Saving to: ‘Musical_Instruments.json.gz’\n",
            "\n",
            "Musical_Instruments 100%[===================>] 221.97M  18.7MB/s    in 13s     \n",
            "\n",
            "2020-10-06 05:19:26 (17.1 MB/s) - ‘Musical_Instruments.json.gz’ saved [232750177/232750177]\n",
            "\n"
          ],
          "name": "stdout"
        }
      ]
    },
    {
      "cell_type": "code",
      "metadata": {
        "id": "HNEERDG385BD",
        "outputId": "039b0c19-543f-4e33-c3d9-db024e4c4a0b",
        "colab": {
          "base_uri": "https://localhost:8080/",
          "height": 204
        }
      },
      "source": [
        "!wget http://deepyeti.ucsd.edu/jianmo/amazon/metaFiles/meta_Musical_Instruments.json.gz\n"
      ],
      "execution_count": null,
      "outputs": [
        {
          "output_type": "stream",
          "text": [
            "--2020-10-06 05:19:28--  http://deepyeti.ucsd.edu/jianmo/amazon/metaFiles/meta_Musical_Instruments.json.gz\n",
            "Resolving deepyeti.ucsd.edu (deepyeti.ucsd.edu)... 169.228.63.50\n",
            "Connecting to deepyeti.ucsd.edu (deepyeti.ucsd.edu)|169.228.63.50|:80... connected.\n",
            "HTTP request sent, awaiting response... 200 OK\n",
            "Length: 170266128 (162M) [application/octet-stream]\n",
            "Saving to: ‘meta_Musical_Instruments.json.gz’\n",
            "\n",
            "meta_Musical_Instru 100%[===================>] 162.38M  18.6MB/s    in 9.7s    \n",
            "\n",
            "2020-10-06 05:19:38 (16.7 MB/s) - ‘meta_Musical_Instruments.json.gz’ saved [170266128/170266128]\n",
            "\n"
          ],
          "name": "stdout"
        }
      ]
    },
    {
      "cell_type": "code",
      "metadata": {
        "id": "tMciyeGM86f_"
      },
      "source": [
        "def parse(path):\n",
        "    g = gzip.open(path, 'r')\n",
        "    for l in g:\n",
        "        d = json.loads(l)\n",
        "        yield d\n",
        "      \n",
        "def getDF(path):\n",
        "  i = 0\n",
        "  df = {}\n",
        "  for d in parse(path):\n",
        "    df[i] = d\n",
        "    i += 1\n",
        "  return pd.DataFrame.from_dict(df, orient='index')"
      ],
      "execution_count": null,
      "outputs": []
    },
    {
      "cell_type": "code",
      "metadata": {
        "id": "jqLy52pu9FGw"
      },
      "source": [
        "reviews = getDF('/content/Musical_Instruments.json.gz')"
      ],
      "execution_count": null,
      "outputs": []
    },
    {
      "cell_type": "code",
      "metadata": {
        "id": "SXpUp1gbnE1b",
        "outputId": "cc444ba4-ba1e-4071-dbd2-de5d81a6d764",
        "colab": {
          "base_uri": "https://localhost:8080/",
          "height": 34
        }
      },
      "source": [
        "len(reviews)"
      ],
      "execution_count": null,
      "outputs": [
        {
          "output_type": "execute_result",
          "data": {
            "text/plain": [
              "1512530"
            ]
          },
          "metadata": {
            "tags": []
          },
          "execution_count": 15
        }
      ]
    },
    {
      "cell_type": "code",
      "metadata": {
        "id": "6PnNGY2Hj6j4"
      },
      "source": [
        "metadata =getDF('/content/meta_Musical_Instruments.json.gz')"
      ],
      "execution_count": null,
      "outputs": []
    },
    {
      "cell_type": "markdown",
      "metadata": {
        "id": "L0SLmwGvxm7Y"
      },
      "source": [
        "Prétraitement description\n"
      ]
    },
    {
      "cell_type": "code",
      "metadata": {
        "id": "f1KdJzBirPbd"
      },
      "source": [
        "metadata['description'].replace('', np.nan, inplace=True)\n",
        "df_data = metadata.dropna()\n",
        "df_data.reset_index(drop=True, inplace=True)\n"
      ],
      "execution_count": null,
      "outputs": []
    },
    {
      "cell_type": "code",
      "metadata": {
        "id": "DGsGFt44qdEa"
      },
      "source": [
        "df_data = df_data[['asin','description','title','price','image']]"
      ],
      "execution_count": null,
      "outputs": []
    },
    {
      "cell_type": "code",
      "metadata": {
        "id": "vy1Bl2nAAtfM"
      },
      "source": [
        "df_data['description'] = df_data['description'].apply(lambda x: ','.join(map(str, x )))"
      ],
      "execution_count": null,
      "outputs": []
    },
    {
      "cell_type": "code",
      "metadata": {
        "id": "r3NuwmGTEEdr"
      },
      "source": [
        "df_data['description'].drop_duplicates(inplace=True)"
      ],
      "execution_count": null,
      "outputs": []
    },
    {
      "cell_type": "code",
      "metadata": {
        "id": "XmiNi05ay4-_",
        "outputId": "b5e0141a-a839-4a27-aef5-783209d9623d",
        "colab": {
          "base_uri": "https://localhost:8080/",
          "height": 102
        }
      },
      "source": [
        "nltk.download('wordnet')\n",
        "nltk.download('stopwords')"
      ],
      "execution_count": null,
      "outputs": [
        {
          "output_type": "stream",
          "text": [
            "[nltk_data] Downloading package wordnet to /root/nltk_data...\n",
            "[nltk_data]   Unzipping corpora/wordnet.zip.\n",
            "[nltk_data] Downloading package stopwords to /root/nltk_data...\n",
            "[nltk_data]   Unzipping corpora/stopwords.zip.\n"
          ],
          "name": "stdout"
        },
        {
          "output_type": "execute_result",
          "data": {
            "text/plain": [
              "True"
            ]
          },
          "metadata": {
            "tags": []
          },
          "execution_count": 22
        }
      ]
    },
    {
      "cell_type": "code",
      "metadata": {
        "id": "Xqd_p4MHypXt"
      },
      "source": [
        "nlp = spacy.load(\"en_core_web_sm\")\n",
        "tokenizer = RegexpTokenizer(r'\\w+')\n",
        "lemmatizer = WordNetLemmatizer()\n",
        "stop = set(stopwords.words('english'))\n",
        "punctuation = list(string.punctuation)\n",
        "stop.update(punctuation)\n",
        "\n",
        "def remove_punctuation(text):\n",
        "    tokenizer = RegexpTokenizer(r'\\w+')\n",
        "    text = tokenizer.tokenize(text)\n",
        "    text = \" \".join(text)\n",
        "    return text\n",
        "\n",
        "def remove_html(text):\n",
        "    html_pattern = re.compile('<.*?>')\n",
        "    return html_pattern.sub(r'', text)\n",
        "\n",
        "def furnished(text):\n",
        "    final_text = []\n",
        "    for i in text.split():\n",
        "        if i.lower() not in stop:\n",
        "            word = lemmatizer.lemmatize(i)\n",
        "            final_text.append(word.lower())\n",
        "    return \" \".join(final_text)\n",
        "\n",
        "df_data.description = df_data.description.apply(remove_html)\n",
        "df_data.description = df_data.description.apply(remove_punctuation)            \n",
        "df_data.description = df_data.description.apply(furnished)"
      ],
      "execution_count": null,
      "outputs": []
    },
    {
      "cell_type": "code",
      "metadata": {
        "id": "MXnWogks44RE"
      },
      "source": [
        "df_data['description'].drop_duplicates(inplace=True)"
      ],
      "execution_count": null,
      "outputs": []
    },
    {
      "cell_type": "code",
      "metadata": {
        "id": "dGVzbDjr97v3"
      },
      "source": [
        "df_data['description_training'] = [i.lower().replace(',', '').split() for i in df_data['description']]"
      ],
      "execution_count": null,
      "outputs": []
    },
    {
      "cell_type": "code",
      "metadata": {
        "id": "fQF0yQuK9hTp"
      },
      "source": [
        "from gensim.models import FastText\n",
        "ft = FastText(df_data['description_training'], min_count=1, size=50)"
      ],
      "execution_count": null,
      "outputs": []
    },
    {
      "cell_type": "code",
      "metadata": {
        "id": "ztoCM6-s9MbG",
        "outputId": "d6402e13-bf34-4ff8-dc8a-b064a4db1e48",
        "colab": {
          "base_uri": "https://localhost:8080/",
          "height": 34
        }
      },
      "source": [
        "from fse.models import Average\n",
        "from fse import IndexedList\n",
        "model = Average(ft)\n",
        "model.train(IndexedList(list(df_data['description_training'])))\n",
        "\n"
      ],
      "execution_count": null,
      "outputs": [
        {
          "output_type": "execute_result",
          "data": {
            "text/plain": [
              "(110113, 6945133)"
            ]
          },
          "metadata": {
            "tags": []
          },
          "execution_count": 27
        }
      ]
    },
    {
      "cell_type": "code",
      "metadata": {
        "id": "-9KWPqK50bHD",
        "outputId": "30eb8c2e-a7c3-44c7-f30a-cef988fab905",
        "colab": {
          "base_uri": "https://localhost:8080/",
          "height": 204
        }
      },
      "source": [
        "model.sv.vectors[11]"
      ],
      "execution_count": null,
      "outputs": [
        {
          "output_type": "execute_result",
          "data": {
            "text/plain": [
              "array([ 2.099985  , -1.9732792 , -0.7152648 , -0.9709917 ,  1.8718619 ,\n",
              "       -1.5139798 ,  0.4719567 , -0.9287318 ,  0.87873423,  0.37333512,\n",
              "       -2.5944443 , -0.7714827 , -0.57486767,  1.8132571 ,  0.13054511,\n",
              "        0.09551872,  1.9552333 , -0.58638555, -0.76551265,  0.65032667,\n",
              "       -0.38505864,  0.49961478, -0.8723547 ,  1.4733427 ,  0.88990015,\n",
              "        1.3013365 , -0.5239546 ,  1.1405053 , -1.568254  , -2.2694836 ,\n",
              "        0.6150302 ,  2.112873  ,  0.27690473, -0.06236373,  0.10289153,\n",
              "        0.7109703 ,  2.2072    ,  2.902244  , -0.9788824 ,  2.8931317 ,\n",
              "        0.65225536,  1.3239552 ,  0.41314304,  0.65193045, -0.31616455,\n",
              "        2.0108328 , -0.85842484,  1.0259336 , -0.23693942, -0.04866204],\n",
              "      dtype=float32)"
            ]
          },
          "metadata": {
            "tags": []
          },
          "execution_count": 28
        }
      ]
    },
    {
      "cell_type": "code",
      "metadata": {
        "id": "OWyqQDTq6iHJ",
        "outputId": "e086134f-b690-4ea7-a463-65d9b842233e",
        "colab": {
          "base_uri": "https://localhost:8080/",
          "height": 34
        }
      },
      "source": [
        "len(model.sv.vectors)"
      ],
      "execution_count": null,
      "outputs": [
        {
          "output_type": "execute_result",
          "data": {
            "text/plain": [
              "120194"
            ]
          },
          "metadata": {
            "tags": []
          },
          "execution_count": 29
        }
      ]
    },
    {
      "cell_type": "code",
      "metadata": {
        "id": "xXdEad-UBRg8"
      },
      "source": [
        "def listToString(s):  \n",
        "    # initialize an empty string \n",
        "    str1 = \" \" \n",
        "    # return string   \n",
        "    return (str1.join(s)) "
      ],
      "execution_count": null,
      "outputs": []
    },
    {
      "cell_type": "code",
      "metadata": {
        "id": "30bKf6_QBMPi",
        "outputId": "59acc5a9-a9a4-402e-8e91-1cac7e6b02cf",
        "colab": {
          "base_uri": "https://localhost:8080/",
          "height": 221
        }
      },
      "source": [
        "df_data['description_training'].apply(lambda x: listToString(x))"
      ],
      "execution_count": null,
      "outputs": [
        {
          "output_type": "execute_result",
          "data": {
            "text/plain": [
              "0         new waterproof aluminum encased rigid led ligh...\n",
              "1         10 greatest including hard say heart hotels le...\n",
              "2         bray highly durable comfortable floral sunflow...\n",
              "3                                                          \n",
              "4                                                          \n",
              "                                ...                        \n",
              "120189    package includes 10 pc 3pdt true bypass switch...\n",
              "120190    package includes 5 pc 3pdt true bypass switch ...\n",
              "120191    high quality clear crystal singing bowl made 9...\n",
              "120192    frog rubbing spine wooden stick motion produci...\n",
              "120193    want sense security dropping guitar middle gig...\n",
              "Name: description_training, Length: 120194, dtype: object"
            ]
          },
          "metadata": {
            "tags": []
          },
          "execution_count": 31
        }
      ]
    },
    {
      "cell_type": "code",
      "metadata": {
        "id": "2uxA8fu-Aa_1"
      },
      "source": [
        "def getIndexes(dfObj, value):\n",
        "    ''' Get index positions of value in dataframe i.e. dfObj.'''\n",
        "    listOfPos = list()\n",
        "    # Get bool dataframe with True at positions where the given value exists\n",
        "    result = dfObj.isin([value])\n",
        "    # Get list of columns that contains the value\n",
        "    seriesObj = result.any()\n",
        "    columnNames = list(seriesObj[seriesObj == True].index)\n",
        "    # Iterate over list of columns and fetch the rows indexes where value exists\n",
        "    for col in columnNames:\n",
        "        rows = list(result[col][result[col] == True].index)\n",
        "        for row in rows:\n",
        "            listOfPos.append((row, col))\n",
        "    # Return a list of tuples indicating the positions of value in the dataframe\n",
        "    return listOfPos[0]"
      ],
      "execution_count": null,
      "outputs": []
    },
    {
      "cell_type": "code",
      "metadata": {
        "id": "OJij_4etiM2z"
      },
      "source": [
        "def recommandation(asin):\n",
        "  idx = df_data[df_data['asin'] == asin].index\n",
        "  list_rec_idx = []\n",
        "  \n",
        "  top_5 = model.sv.most_similar(idx, indexable=sentences)[1:6]\n",
        "  \n",
        "  for i in top_5:\n",
        "    print(df_data['title'][i[1]])"
      ],
      "execution_count": null,
      "outputs": []
    },
    {
      "cell_type": "code",
      "metadata": {
        "id": "SWu7p28g7m4Z"
      },
      "source": [
        "recommandation('9814272183')"
      ],
      "execution_count": null,
      "outputs": []
    },
    {
      "cell_type": "markdown",
      "metadata": {
        "id": "6NUZyP7ywOql"
      },
      "source": [
        "Prétraitement du prix"
      ]
    },
    {
      "cell_type": "code",
      "metadata": {
        "id": "LqL8Vkz5A28x"
      },
      "source": [
        "#On enleve le signe dollars \n",
        "df['price']=df['price'].str.slice(1,-1)"
      ],
      "execution_count": null,
      "outputs": []
    },
    {
      "cell_type": "code",
      "metadata": {
        "id": "1SF8onWytnZi"
      },
      "source": [
        "#A l'aide d'une regex , nous prenons que les valeurs numériques\n",
        "df['price'] = df['price'].str.extract(\"([-+]?\\d*\\.\\d+|[-+]?\\d+)\").astype(float)"
      ],
      "execution_count": null,
      "outputs": []
    },
    {
      "cell_type": "code",
      "metadata": {
        "id": "ZeE4P9qpkshN"
      },
      "source": [
        "#Nous sauvegardons le mix et le max pour la normalisation\n",
        "max_price = df['price'].max()\n",
        "min_price = df['price'].min()"
      ],
      "execution_count": null,
      "outputs": []
    },
    {
      "cell_type": "code",
      "metadata": {
        "id": "Wk2H3rU1lV6d"
      },
      "source": [
        "#Nous effectuons une normalisation sur le prix pour avoir une valeur entre 0 et 1 , 0 voulant dire pas cher du tout et 1 trés cher\n",
        "df['price_normalise'] = df['price'].apply(lambda x: (x - min_price) / (max_price - min_price))"
      ],
      "execution_count": null,
      "outputs": []
    },
    {
      "cell_type": "markdown",
      "metadata": {
        "id": "wA0ni08GDfp1"
      },
      "source": [
        "JKDQFDSQHFQSJKL\n"
      ]
    },
    {
      "cell_type": "code",
      "metadata": {
        "id": "oRTiMdT0m8fP"
      },
      "source": [
        "y = df['overall'].values"
      ],
      "execution_count": null,
      "outputs": []
    },
    {
      "cell_type": "code",
      "metadata": {
        "id": "DqQCCaxdGu-k"
      },
      "source": [
        "type(model.sv.vectors)"
      ],
      "execution_count": null,
      "outputs": []
    },
    {
      "cell_type": "code",
      "metadata": {
        "id": "2Gu0wR-NoxNc"
      },
      "source": [
        "#Tout d'abord , nous recuillons les users de facon unique dans une liste\n",
        "user_ids = df[\"reviewerID\"].unique().tolist()\n",
        "#Nous représentons chaque utilisateur de notre liste en un nombre entier et vice versa\n",
        "user2user_encoded = {x: i for i, x in enumerate(user_ids)}\n",
        "userencoded2user = {i: x for i, x in enumerate(user_ids)}\n",
        "\n",
        "#Nous remplacons les colonnes de notre DF contenant les ID des utilisateurs et des articles sous format caractères par le format encodé en  nombre entier\n",
        "df[\"reviewerID\"] = df[\"reviewerID\"].map(user2user_encoded)\n",
        "#Nous récupérons la taille des vecteurs des utilisateurs et articles\n",
        "num_users = len(user2user_encoded)\n"
      ],
      "execution_count": null,
      "outputs": []
    },
    {
      "cell_type": "code",
      "metadata": {
        "id": "vCuzgXk5pB1b"
      },
      "source": [
        "df.columns"
      ],
      "execution_count": null,
      "outputs": []
    },
    {
      "cell_type": "code",
      "metadata": {
        "id": "sj-m08hmJbbd"
      },
      "source": [
        "df_x=df[['description_embedded','reviewerID','price_normalise']]"
      ],
      "execution_count": null,
      "outputs": []
    },
    {
      "cell_type": "code",
      "metadata": {
        "id": "lsgAYu_pnarY"
      },
      "source": [
        "df_x.dropna(inplace=True)"
      ],
      "execution_count": null,
      "outputs": []
    },
    {
      "cell_type": "code",
      "metadata": {
        "id": "fcksBQEMGTR4"
      },
      "source": [
        "x = df_x.values"
      ],
      "execution_count": null,
      "outputs": []
    },
    {
      "cell_type": "code",
      "metadata": {
        "id": "sWfUiYtBR6n1"
      },
      "source": [
        "train_indices = int(0.7 * df.shape[0])\n",
        "\n",
        "x_train, x_val, y_train, y_val = (\n",
        "    x[:train_indices],\n",
        "    x[train_indices:],\n",
        "    y[:train_indices],\n",
        "    y[train_indices:],\n",
        ")\n"
      ],
      "execution_count": null,
      "outputs": []
    },
    {
      "cell_type": "code",
      "metadata": {
        "id": "_b5ua_qyGnrM"
      },
      "source": [
        "model2 = Sequential()\n",
        "\n",
        "model2.add(Dense(64,activation='relu'))\n",
        "\n",
        "model2.add(Dense(32, activation='relu'))\n",
        "model2.add(Dense(1,activation='linear'))\n",
        "model2.compile(loss=tf.keras.losses.MeanSquaredError(), optimizer=keras.optimizers.Adam(lr=1e-2),metrics=[tf.keras.metrics.RootMeanSquaredError(),\"mae\"])\n",
        "es = tf.keras.callbacks.EarlyStopping(monitor='loss', mode='min', verbose=1, patience=10)\n",
        "\n"
      ],
      "execution_count": null,
      "outputs": []
    },
    {
      "cell_type": "code",
      "metadata": {
        "id": "B_G6tadFm6xQ"
      },
      "source": [
        "model2.compile(loss=tf.keras.losses.MeanSquaredError(), optimizer=keras.optimizers.Adam(lr=1e-2),metrics=[tf.keras.metrics.RootMeanSquaredError(),\"mae\"])"
      ],
      "execution_count": null,
      "outputs": []
    },
    {
      "cell_type": "code",
      "metadata": {
        "id": "BYlH_JIJmPYD"
      },
      "source": [
        "history = model2.fit(\n",
        "    x_train,\n",
        "    y_train,\n",
        "    epochs=200,\n",
        "    validation_data=(x_val,y_val),\n",
        "    callbacks=[es])"
      ],
      "execution_count": null,
      "outputs": []
    },
    {
      "cell_type": "code",
      "metadata": {
        "id": "otb_SpjFJCjW"
      },
      "source": [
        ""
      ],
      "execution_count": null,
      "outputs": []
    },
    {
      "cell_type": "code",
      "metadata": {
        "id": "Jbhq-8Q49JWM"
      },
      "source": [
        "df = reviews.merge(metadata,on='asin',)\n",
        "df.columns"
      ],
      "execution_count": null,
      "outputs": []
    }
  ]
}