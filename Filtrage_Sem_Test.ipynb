{
  "nbformat": 4,
  "nbformat_minor": 0,
  "metadata": {
    "colab": {
      "name": "Filtrage Sem Test.ipynb",
      "provenance": [],
      "collapsed_sections": [],
      "machine_shape": "hm",
      "authorship_tag": "ABX9TyOwgjYplNpIdxYcwc1HXyx1",
      "include_colab_link": true
    },
    "kernelspec": {
      "name": "python3",
      "display_name": "Python 3"
    },
    "accelerator": "GPU"
  },
  "cells": [
    {
      "cell_type": "markdown",
      "metadata": {
        "id": "view-in-github",
        "colab_type": "text"
      },
      "source": [
        "<a href=\"https://colab.research.google.com/github/8Raouf24/PFE/blob/master/Filtrage_Sem_Test.ipynb\" target=\"_parent\"><img src=\"https://colab.research.google.com/assets/colab-badge.svg\" alt=\"Open In Colab\"/></a>"
      ]
    },
    {
      "cell_type": "code",
      "metadata": {
        "id": "8_G6yUYs2zRf",
        "outputId": "d92aab92-1fa1-435b-8089-6dcc60bb198f",
        "colab": {
          "base_uri": "https://localhost:8080/",
          "height": 363
        }
      },
      "source": [
        "!pip install fse"
      ],
      "execution_count": null,
      "outputs": [
        {
          "output_type": "stream",
          "text": [
            "Requirement already satisfied: fse in /usr/local/lib/python3.6/dist-packages (0.1.15)\n",
            "Requirement already satisfied: scikit-learn>=0.19.1 in /usr/local/lib/python3.6/dist-packages (from fse) (0.22.2.post1)\n",
            "Requirement already satisfied: wordfreq>=2.2.1 in /usr/local/lib/python3.6/dist-packages (from fse) (2.3.2)\n",
            "Requirement already satisfied: scipy>=0.18.1 in /usr/local/lib/python3.6/dist-packages (from fse) (1.4.1)\n",
            "Requirement already satisfied: smart-open>=1.5.0 in /usr/local/lib/python3.6/dist-packages (from fse) (2.2.0)\n",
            "Requirement already satisfied: numpy>=1.11.3 in /usr/local/lib/python3.6/dist-packages (from fse) (1.18.5)\n",
            "Requirement already satisfied: psutil in /usr/local/lib/python3.6/dist-packages (from fse) (5.4.8)\n",
            "Requirement already satisfied: gensim>=3.8.0 in /usr/local/lib/python3.6/dist-packages (from fse) (3.8.3)\n",
            "Requirement already satisfied: joblib>=0.11 in /usr/local/lib/python3.6/dist-packages (from scikit-learn>=0.19.1->fse) (0.16.0)\n",
            "Requirement already satisfied: langcodes>=2 in /usr/local/lib/python3.6/dist-packages (from wordfreq>=2.2.1->fse) (2.1.0)\n",
            "Requirement already satisfied: regex in /usr/local/lib/python3.6/dist-packages (from wordfreq>=2.2.1->fse) (2019.12.20)\n",
            "Requirement already satisfied: msgpack>=1.0 in /usr/local/lib/python3.6/dist-packages (from wordfreq>=2.2.1->fse) (1.0.0)\n",
            "Requirement already satisfied: requests in /usr/local/lib/python3.6/dist-packages (from smart-open>=1.5.0->fse) (2.23.0)\n",
            "Requirement already satisfied: six>=1.5.0 in /usr/local/lib/python3.6/dist-packages (from gensim>=3.8.0->fse) (1.15.0)\n",
            "Requirement already satisfied: marisa-trie in /usr/local/lib/python3.6/dist-packages (from langcodes>=2->wordfreq>=2.2.1->fse) (0.7.5)\n",
            "Requirement already satisfied: urllib3!=1.25.0,!=1.25.1,<1.26,>=1.21.1 in /usr/local/lib/python3.6/dist-packages (from requests->smart-open>=1.5.0->fse) (1.24.3)\n",
            "Requirement already satisfied: idna<3,>=2.5 in /usr/local/lib/python3.6/dist-packages (from requests->smart-open>=1.5.0->fse) (2.10)\n",
            "Requirement already satisfied: certifi>=2017.4.17 in /usr/local/lib/python3.6/dist-packages (from requests->smart-open>=1.5.0->fse) (2020.6.20)\n",
            "Requirement already satisfied: chardet<4,>=3.0.2 in /usr/local/lib/python3.6/dist-packages (from requests->smart-open>=1.5.0->fse) (3.0.4)\n"
          ],
          "name": "stdout"
        }
      ]
    },
    {
      "cell_type": "code",
      "metadata": {
        "id": "FQEKSAmn88cV"
      },
      "source": [
        "import pandas as pd\n",
        "import numpy as np\n",
        "from zipfile import ZipFile\n",
        "import tensorflow as tf\n",
        "from tensorflow import keras\n",
        "from tensorflow.keras import layers,callbacks\n",
        "from tensorflow.keras.layers import Embedding, LSTM, Dense, Bidirectional, GRUCell, GRU, Dropout\n",
        "from keras.models import Sequential\n",
        "from pathlib import Path\n",
        "from sklearn.metrics import r2_score\n",
        "import re\n",
        "import gzip\n",
        "import matplotlib.pyplot as plt\n",
        "import json\n",
        "import math"
      ],
      "execution_count": null,
      "outputs": []
    },
    {
      "cell_type": "code",
      "metadata": {
        "id": "Dfn8RHwTxbnC"
      },
      "source": [
        "import seaborn as sns\n",
        "import spacy\n",
        "from sklearn.model_selection import train_test_split\n",
        "import nltk\n",
        "from nltk.tokenize import RegexpTokenizer\n",
        "from nltk.stem import WordNetLemmatizer\n",
        "from nltk.corpus import stopwords\n",
        "import string\n",
        "from string import punctuation\n",
        "import collections\n",
        "from collections import Counter\n",
        "from sklearn.feature_extraction.text import CountVectorizer, TfidfVectorizer\n",
        "from sklearn.metrics import accuracy_score\n",
        "from sklearn.naive_bayes import MultinomialNB\n",
        "from sklearn.linear_model import LogisticRegression\n",
        "from sklearn.ensemble import RandomForestClassifier\n",
        "from sklearn.svm import LinearSVC\n",
        "from sklearn.metrics.pairwise import cosine_similarity\n",
        "from sklearn.model_selection import cross_val_score"
      ],
      "execution_count": null,
      "outputs": []
    },
    {
      "cell_type": "code",
      "metadata": {
        "id": "nFhwoivs8svI",
        "outputId": "4a7457c5-8bf9-43b7-e797-da30270fc4c0",
        "colab": {
          "base_uri": "https://localhost:8080/",
          "height": 217
        }
      },
      "source": [
        "!wget http://deepyeti.ucsd.edu/jianmo/amazon/categoryFiles/Software.json.gz"
      ],
      "execution_count": null,
      "outputs": [
        {
          "output_type": "stream",
          "text": [
            "--2020-10-02 21:14:43--  http://deepyeti.ucsd.edu/jianmo/amazon/categoryFiles/Software.json.gz\n",
            "Resolving deepyeti.ucsd.edu (deepyeti.ucsd.edu)... 169.228.63.50\n",
            "Connecting to deepyeti.ucsd.edu (deepyeti.ucsd.edu)|169.228.63.50|:80... connected.\n",
            "HTTP request sent, awaiting response... 200 OK\n",
            "Length: 98221392 (94M) [application/octet-stream]\n",
            "Saving to: ‘Software.json.gz.2’\n",
            "\n",
            "Software.json.gz.2  100%[===================>]  93.67M  18.7MB/s    in 6.1s    \n",
            "\n",
            "2020-10-02 21:14:50 (15.4 MB/s) - ‘Software.json.gz.2’ saved [98221392/98221392]\n",
            "\n"
          ],
          "name": "stdout"
        }
      ]
    },
    {
      "cell_type": "code",
      "metadata": {
        "id": "HNEERDG385BD",
        "outputId": "93be065c-21c3-4e90-9269-b856a3a8618e",
        "colab": {
          "base_uri": "https://localhost:8080/",
          "height": 217
        }
      },
      "source": [
        "!wget http://deepyeti.ucsd.edu/jianmo/amazon/metaFiles/meta_Software.json.gz\n"
      ],
      "execution_count": null,
      "outputs": [
        {
          "output_type": "stream",
          "text": [
            "--2020-10-02 21:14:50--  http://deepyeti.ucsd.edu/jianmo/amazon/metaFiles/meta_Software.json.gz\n",
            "Resolving deepyeti.ucsd.edu (deepyeti.ucsd.edu)... 169.228.63.50\n",
            "Connecting to deepyeti.ucsd.edu (deepyeti.ucsd.edu)|169.228.63.50|:80... connected.\n",
            "HTTP request sent, awaiting response... 200 OK\n",
            "Length: 15033606 (14M) [application/octet-stream]\n",
            "Saving to: ‘meta_Software.json.gz.2’\n",
            "\n",
            "meta_Software.json. 100%[===================>]  14.34M  8.48MB/s    in 1.7s    \n",
            "\n",
            "2020-10-02 21:14:52 (8.48 MB/s) - ‘meta_Software.json.gz.2’ saved [15033606/15033606]\n",
            "\n"
          ],
          "name": "stdout"
        }
      ]
    },
    {
      "cell_type": "code",
      "metadata": {
        "id": "tMciyeGM86f_"
      },
      "source": [
        "def parse(path):\n",
        "    g = gzip.open(path, 'r')\n",
        "    for l in g:\n",
        "        d = json.loads(l)\n",
        "        yield d\n",
        "      \n",
        "def getDF(path):\n",
        "  i = 0\n",
        "  df = {}\n",
        "  for d in parse(path):\n",
        "    df[i] = d\n",
        "    i += 1\n",
        "  return pd.DataFrame.from_dict(df, orient='index')"
      ],
      "execution_count": null,
      "outputs": []
    },
    {
      "cell_type": "code",
      "metadata": {
        "id": "jqLy52pu9FGw"
      },
      "source": [
        "reviews = getDF('/content/Software.json.gz')"
      ],
      "execution_count": null,
      "outputs": []
    },
    {
      "cell_type": "code",
      "metadata": {
        "id": "SXpUp1gbnE1b",
        "outputId": "8d325557-98b7-487b-f185-8bdc6bf1209d",
        "colab": {
          "base_uri": "https://localhost:8080/",
          "height": 35
        }
      },
      "source": [
        "len(reviews)"
      ],
      "execution_count": null,
      "outputs": [
        {
          "output_type": "execute_result",
          "data": {
            "text/plain": [
              "459436"
            ]
          },
          "metadata": {
            "tags": []
          },
          "execution_count": 8
        }
      ]
    },
    {
      "cell_type": "code",
      "metadata": {
        "id": "6PnNGY2Hj6j4"
      },
      "source": [
        "metadata =getDF('/content/meta_Software.json.gz')"
      ],
      "execution_count": null,
      "outputs": []
    },
    {
      "cell_type": "markdown",
      "metadata": {
        "id": "L0SLmwGvxm7Y"
      },
      "source": [
        "Prétraitement description\n"
      ]
    },
    {
      "cell_type": "code",
      "metadata": {
        "id": "f1KdJzBirPbd"
      },
      "source": [
        "metadata['description'].replace('', np.nan, inplace=True)\n",
        "df_data = metadata.dropna()\n",
        "df_data.reset_index(drop=True, inplace=True)\n"
      ],
      "execution_count": null,
      "outputs": []
    },
    {
      "cell_type": "code",
      "metadata": {
        "id": "DGsGFt44qdEa"
      },
      "source": [
        "df_data = df_data[['asin','description','title','price','image']]"
      ],
      "execution_count": null,
      "outputs": []
    },
    {
      "cell_type": "code",
      "metadata": {
        "id": "vy1Bl2nAAtfM"
      },
      "source": [
        "df_data['description'] = df_data['description'].apply(lambda x: ','.join(map(str, x )))"
      ],
      "execution_count": null,
      "outputs": []
    },
    {
      "cell_type": "code",
      "metadata": {
        "id": "r3NuwmGTEEdr"
      },
      "source": [
        "df_data['description'].drop_duplicates(inplace=True)"
      ],
      "execution_count": null,
      "outputs": []
    },
    {
      "cell_type": "code",
      "metadata": {
        "id": "XmiNi05ay4-_",
        "outputId": "c93c348a-7f83-45c2-f278-0203371046c0",
        "colab": {
          "base_uri": "https://localhost:8080/",
          "height": 108
        }
      },
      "source": [
        "nltk.download('wordnet')\n",
        "nltk.download('stopwords')"
      ],
      "execution_count": null,
      "outputs": [
        {
          "output_type": "stream",
          "text": [
            "[nltk_data] Downloading package wordnet to /root/nltk_data...\n",
            "[nltk_data]   Package wordnet is already up-to-date!\n",
            "[nltk_data] Downloading package stopwords to /root/nltk_data...\n",
            "[nltk_data]   Package stopwords is already up-to-date!\n"
          ],
          "name": "stdout"
        },
        {
          "output_type": "execute_result",
          "data": {
            "text/plain": [
              "True"
            ]
          },
          "metadata": {
            "tags": []
          },
          "execution_count": 21
        }
      ]
    },
    {
      "cell_type": "code",
      "metadata": {
        "id": "Xqd_p4MHypXt"
      },
      "source": [
        "nlp = spacy.load(\"en_core_web_sm\")\n",
        "tokenizer = RegexpTokenizer(r'\\w+')\n",
        "lemmatizer = WordNetLemmatizer()\n",
        "stop = set(stopwords.words('english'))\n",
        "punctuation = list(string.punctuation)\n",
        "stop.update(punctuation)\n",
        "\n",
        "def remove_punctuation(text):\n",
        "    tokenizer = RegexpTokenizer(r'\\w+')\n",
        "    text = tokenizer.tokenize(text)\n",
        "    text = \" \".join(text)\n",
        "    return text\n",
        "\n",
        "def remove_html(text):\n",
        "    html_pattern = re.compile('<.*?>')\n",
        "    return html_pattern.sub(r'', text)\n",
        "\n",
        "def furnished(text):\n",
        "    final_text = []\n",
        "    for i in text.split():\n",
        "        if i.lower() not in stop:\n",
        "            word = lemmatizer.lemmatize(i)\n",
        "            final_text.append(word.lower())\n",
        "    return \" \".join(final_text)\n",
        "\n",
        "df_data.description = df_data.description.apply(remove_html)\n",
        "df_data.description = df_data.description.apply(remove_punctuation)            \n",
        "df_data.description = df_data.description.apply(furnished)"
      ],
      "execution_count": null,
      "outputs": []
    },
    {
      "cell_type": "code",
      "metadata": {
        "id": "MXnWogks44RE"
      },
      "source": [
        "df_data['description'].drop_duplicates(inplace=True)"
      ],
      "execution_count": null,
      "outputs": []
    },
    {
      "cell_type": "code",
      "metadata": {
        "id": "dGVzbDjr97v3"
      },
      "source": [
        "df_data['description_training'] = [i.lower().replace(',', '').split() for i in df_data['description']]"
      ],
      "execution_count": null,
      "outputs": []
    },
    {
      "cell_type": "code",
      "metadata": {
        "id": "fQF0yQuK9hTp"
      },
      "source": [
        "from gensim.models import FastText\n",
        "ft = FastText(df_data['description_training'], min_count=1, size=50)"
      ],
      "execution_count": null,
      "outputs": []
    },
    {
      "cell_type": "code",
      "metadata": {
        "id": "ztoCM6-s9MbG",
        "outputId": "1f5a994e-affc-4bc6-91a3-5ced449bf8bb",
        "colab": {
          "base_uri": "https://localhost:8080/",
          "height": 35
        }
      },
      "source": [
        "from fse.models import Average\n",
        "from fse import IndexedList\n",
        "model = Average(ft)\n",
        "model.train(IndexedList(list(df_data['description_training'])))\n",
        "\n"
      ],
      "execution_count": null,
      "outputs": [
        {
          "output_type": "execute_result",
          "data": {
            "text/plain": [
              "(22516, 3146070)"
            ]
          },
          "metadata": {
            "tags": []
          },
          "execution_count": 31
        }
      ]
    },
    {
      "cell_type": "code",
      "metadata": {
        "id": "-9KWPqK50bHD",
        "outputId": "6ac5722c-ca9a-499a-f624-545d3e913300",
        "colab": {
          "base_uri": "https://localhost:8080/",
          "height": 217
        }
      },
      "source": [
        "model.sv.vectors[11]"
      ],
      "execution_count": null,
      "outputs": [
        {
          "output_type": "execute_result",
          "data": {
            "text/plain": [
              "array([ 0.62046766,  0.8916182 , -0.2029101 ,  1.1848599 ,  0.23217614,\n",
              "       -0.44796148,  0.22203985,  0.18531142, -0.25368935, -0.66326535,\n",
              "       -0.26585743,  0.15896799, -0.6016706 , -1.2442504 ,  0.3012646 ,\n",
              "       -0.00804526, -0.6862992 , -0.14232706, -0.5469989 , -1.0787435 ,\n",
              "       -0.11603503,  0.5713417 , -0.15305674,  0.15944079, -0.6624337 ,\n",
              "       -0.35722753,  0.6458592 ,  0.9310529 , -1.4117945 ,  0.04749518,\n",
              "       -0.4903742 ,  1.1441587 ,  0.5698838 , -0.32505688,  1.1164767 ,\n",
              "       -0.5447184 , -0.6704086 ,  0.20247065, -0.31192294,  0.63108814,\n",
              "        0.18182585, -0.57360315, -0.3982226 ,  0.6256388 ,  0.39240372,\n",
              "        0.46110877,  0.01484032,  0.55483985, -0.4254316 ,  0.10690609],\n",
              "      dtype=float32)"
            ]
          },
          "metadata": {
            "tags": []
          },
          "execution_count": 32
        }
      ]
    },
    {
      "cell_type": "code",
      "metadata": {
        "id": "OWyqQDTq6iHJ",
        "outputId": "877b3bae-04e3-496d-e9d4-c6b97fe6f9b7",
        "colab": {
          "base_uri": "https://localhost:8080/",
          "height": 35
        }
      },
      "source": [
        "len(model.sv.vectors)"
      ],
      "execution_count": null,
      "outputs": [
        {
          "output_type": "execute_result",
          "data": {
            "text/plain": [
              "25938"
            ]
          },
          "metadata": {
            "tags": []
          },
          "execution_count": 33
        }
      ]
    },
    {
      "cell_type": "code",
      "metadata": {
        "id": "xXdEad-UBRg8"
      },
      "source": [
        "def listToString(s):  \n",
        "    # initialize an empty string \n",
        "    str1 = \" \" \n",
        "    # return string   \n",
        "    return (str1.join(s)) "
      ],
      "execution_count": null,
      "outputs": []
    },
    {
      "cell_type": "code",
      "metadata": {
        "id": "30bKf6_QBMPi",
        "outputId": "519e2b78-0ec7-4283-9cb9-defe11ac0a05",
        "colab": {
          "base_uri": "https://localhost:8080/",
          "height": 235
        }
      },
      "source": [
        "df_data['description_training'].apply(lambda x: listToString(x))"
      ],
      "execution_count": null,
      "outputs": [
        {
          "output_type": "execute_result",
          "data": {
            "text/plain": [
              "0        whats included full activation key full downlo...\n",
              "1                                                         \n",
              "2        translation express kingsoft product designed ...\n",
              "3        powerword designed people learning practicing ...\n",
              "4        item come cd sleeve ox manual hence price item...\n",
              "                               ...                        \n",
              "25933    features 1 beautiful fabulously detailed real ...\n",
              "25934    features 1 beautiful fabulously detailed real ...\n",
              "25935    mac internet security x9 contains two best sel...\n",
              "25936    versacheck x9 quickbooks 2016 dna secure 100 c...\n",
              "25937    thank interest volume one warkel graphics cnc ...\n",
              "Name: description_training, Length: 25938, dtype: object"
            ]
          },
          "metadata": {
            "tags": []
          },
          "execution_count": 35
        }
      ]
    },
    {
      "cell_type": "code",
      "metadata": {
        "id": "2uxA8fu-Aa_1"
      },
      "source": [
        "def getIndexes(dfObj, value):\n",
        "    ''' Get index positions of value in dataframe i.e. dfObj.'''\n",
        "    listOfPos = list()\n",
        "    # Get bool dataframe with True at positions where the given value exists\n",
        "    result = dfObj.isin([value])\n",
        "    # Get list of columns that contains the value\n",
        "    seriesObj = result.any()\n",
        "    columnNames = list(seriesObj[seriesObj == True].index)\n",
        "    # Iterate over list of columns and fetch the rows indexes where value exists\n",
        "    for col in columnNames:\n",
        "        rows = list(result[col][result[col] == True].index)\n",
        "        for row in rows:\n",
        "            listOfPos.append((row, col))\n",
        "    # Return a list of tuples indicating the positions of value in the dataframe\n",
        "    return listOfPos[0]"
      ],
      "execution_count": null,
      "outputs": []
    },
    {
      "cell_type": "code",
      "metadata": {
        "id": "OJij_4etiM2z"
      },
      "source": [
        "def recommandation(asin):\n",
        "  idx = df_data[df_data['asin'] == asin].index\n",
        "  list_rec_idx = []\n",
        "  \n",
        "  top_5 = model.sv.most_similar(idx, indexable=sentences)[1:6]\n",
        "  \n",
        "  for i in top_5:\n",
        "    print(df_data['title'][i[1]])\n",
        " \n",
        "\n",
        "\n",
        "\n",
        "  \n",
        "  \n"
      ],
      "execution_count": null,
      "outputs": []
    },
    {
      "cell_type": "code",
      "metadata": {
        "id": "SWu7p28g7m4Z",
        "outputId": "926df1cf-bc49-426b-a234-5ac4f49ccdfe",
        "colab": {
          "base_uri": "https://localhost:8080/",
          "height": 298
        }
      },
      "source": [
        "recommandation('9814272183')"
      ],
      "execution_count": null,
      "outputs": [
        {
          "output_type": "error",
          "ename": "NameError",
          "evalue": "ignored",
          "traceback": [
            "\u001b[0;31m---------------------------------------------------------------------------\u001b[0m",
            "\u001b[0;31mNameError\u001b[0m                                 Traceback (most recent call last)",
            "\u001b[0;32m<ipython-input-38-0d0e0a76276f>\u001b[0m in \u001b[0;36m<module>\u001b[0;34m()\u001b[0m\n\u001b[0;32m----> 1\u001b[0;31m \u001b[0mrecommandation\u001b[0m\u001b[0;34m(\u001b[0m\u001b[0;34m'9814272183'\u001b[0m\u001b[0;34m)\u001b[0m\u001b[0;34m\u001b[0m\u001b[0;34m\u001b[0m\u001b[0m\n\u001b[0m",
            "\u001b[0;32m<ipython-input-37-0b9cd5e8a834>\u001b[0m in \u001b[0;36mrecommandation\u001b[0;34m(asin)\u001b[0m\n\u001b[1;32m      3\u001b[0m   \u001b[0mlist_rec_idx\u001b[0m \u001b[0;34m=\u001b[0m \u001b[0;34m[\u001b[0m\u001b[0;34m]\u001b[0m\u001b[0;34m\u001b[0m\u001b[0;34m\u001b[0m\u001b[0m\n\u001b[1;32m      4\u001b[0m \u001b[0;34m\u001b[0m\u001b[0m\n\u001b[0;32m----> 5\u001b[0;31m   \u001b[0mtop_5\u001b[0m \u001b[0;34m=\u001b[0m \u001b[0mmodel\u001b[0m\u001b[0;34m.\u001b[0m\u001b[0msv\u001b[0m\u001b[0;34m.\u001b[0m\u001b[0mmost_similar\u001b[0m\u001b[0;34m(\u001b[0m\u001b[0midx\u001b[0m\u001b[0;34m,\u001b[0m \u001b[0mindexable\u001b[0m\u001b[0;34m=\u001b[0m\u001b[0msentences\u001b[0m\u001b[0;34m)\u001b[0m\u001b[0;34m[\u001b[0m\u001b[0;36m1\u001b[0m\u001b[0;34m:\u001b[0m\u001b[0;36m6\u001b[0m\u001b[0;34m]\u001b[0m\u001b[0;34m\u001b[0m\u001b[0;34m\u001b[0m\u001b[0m\n\u001b[0m\u001b[1;32m      6\u001b[0m \u001b[0;34m\u001b[0m\u001b[0m\n\u001b[1;32m      7\u001b[0m   \u001b[0;32mfor\u001b[0m \u001b[0mi\u001b[0m \u001b[0;32min\u001b[0m \u001b[0mtop_5\u001b[0m\u001b[0;34m:\u001b[0m\u001b[0;34m\u001b[0m\u001b[0;34m\u001b[0m\u001b[0m\n",
            "\u001b[0;31mNameError\u001b[0m: name 'sentences' is not defined"
          ]
        }
      ]
    },
    {
      "cell_type": "markdown",
      "metadata": {
        "id": "6NUZyP7ywOql"
      },
      "source": [
        "Prétraitement du prix"
      ]
    },
    {
      "cell_type": "code",
      "metadata": {
        "id": "LqL8Vkz5A28x"
      },
      "source": [
        "#On enleve le signe dollars \n",
        "df['price']=df['price'].str.slice(1,-1)"
      ],
      "execution_count": null,
      "outputs": []
    },
    {
      "cell_type": "code",
      "metadata": {
        "id": "1SF8onWytnZi"
      },
      "source": [
        "#A l'aide d'une regex , nous prenons que les valeurs numériques\n",
        "df['price'] = df['price'].str.extract(\"([-+]?\\d*\\.\\d+|[-+]?\\d+)\").astype(float)"
      ],
      "execution_count": null,
      "outputs": []
    },
    {
      "cell_type": "code",
      "metadata": {
        "id": "ZeE4P9qpkshN"
      },
      "source": [
        "#Nous sauvegardons le mix et le max pour la normalisation\n",
        "max_price = df['price'].max()\n",
        "min_price = df['price'].min()"
      ],
      "execution_count": null,
      "outputs": []
    },
    {
      "cell_type": "code",
      "metadata": {
        "id": "Wk2H3rU1lV6d"
      },
      "source": [
        "#Nous effectuons une normalisation sur le prix pour avoir une valeur entre 0 et 1 , 0 voulant dire pas cher du tout et 1 trés cher\n",
        "df['price_normalise'] = df['price'].apply(lambda x: (x - min_price) / (max_price - min_price))"
      ],
      "execution_count": null,
      "outputs": []
    },
    {
      "cell_type": "markdown",
      "metadata": {
        "id": "wA0ni08GDfp1"
      },
      "source": [
        "JKDQFDSQHFQSJKL\n"
      ]
    },
    {
      "cell_type": "code",
      "metadata": {
        "id": "oRTiMdT0m8fP"
      },
      "source": [
        "y = df['overall'].values"
      ],
      "execution_count": null,
      "outputs": []
    },
    {
      "cell_type": "code",
      "metadata": {
        "id": "DqQCCaxdGu-k"
      },
      "source": [
        "type(model.sv.vectors)"
      ],
      "execution_count": null,
      "outputs": []
    },
    {
      "cell_type": "code",
      "metadata": {
        "id": "2Gu0wR-NoxNc"
      },
      "source": [
        "#Tout d'abord , nous recuillons les users de facon unique dans une liste\n",
        "user_ids = df[\"reviewerID\"].unique().tolist()\n",
        "#Nous représentons chaque utilisateur de notre liste en un nombre entier et vice versa\n",
        "user2user_encoded = {x: i for i, x in enumerate(user_ids)}\n",
        "userencoded2user = {i: x for i, x in enumerate(user_ids)}\n",
        "\n",
        "#Nous remplacons les colonnes de notre DF contenant les ID des utilisateurs et des articles sous format caractères par le format encodé en  nombre entier\n",
        "df[\"reviewerID\"] = df[\"reviewerID\"].map(user2user_encoded)\n",
        "#Nous récupérons la taille des vecteurs des utilisateurs et articles\n",
        "num_users = len(user2user_encoded)\n"
      ],
      "execution_count": null,
      "outputs": []
    },
    {
      "cell_type": "code",
      "metadata": {
        "id": "vCuzgXk5pB1b"
      },
      "source": [
        "df.columns"
      ],
      "execution_count": null,
      "outputs": []
    },
    {
      "cell_type": "code",
      "metadata": {
        "id": "sj-m08hmJbbd"
      },
      "source": [
        "df_x=df[['description_embedded','reviewerID','price_normalise']]"
      ],
      "execution_count": null,
      "outputs": []
    },
    {
      "cell_type": "code",
      "metadata": {
        "id": "lsgAYu_pnarY"
      },
      "source": [
        "df_x.dropna(inplace=True)"
      ],
      "execution_count": null,
      "outputs": []
    },
    {
      "cell_type": "code",
      "metadata": {
        "id": "fcksBQEMGTR4"
      },
      "source": [
        "x = df_x.values"
      ],
      "execution_count": null,
      "outputs": []
    },
    {
      "cell_type": "code",
      "metadata": {
        "id": "sWfUiYtBR6n1"
      },
      "source": [
        "train_indices = int(0.7 * df.shape[0])\n",
        "\n",
        "x_train, x_val, y_train, y_val = (\n",
        "    x[:train_indices],\n",
        "    x[train_indices:],\n",
        "    y[:train_indices],\n",
        "    y[train_indices:],\n",
        ")\n"
      ],
      "execution_count": null,
      "outputs": []
    },
    {
      "cell_type": "code",
      "metadata": {
        "id": "_b5ua_qyGnrM"
      },
      "source": [
        "model2 = Sequential()\n",
        "\n",
        "model2.add(Dense(64,activation='relu'))\n",
        "\n",
        "model2.add(Dense(32, activation='relu'))\n",
        "model2.add(Dense(1,activation='linear'))\n",
        "model2.compile(loss=tf.keras.losses.MeanSquaredError(), optimizer=keras.optimizers.Adam(lr=1e-2),metrics=[tf.keras.metrics.RootMeanSquaredError(),\"mae\"])\n",
        "es = tf.keras.callbacks.EarlyStopping(monitor='loss', mode='min', verbose=1, patience=10)\n",
        "\n"
      ],
      "execution_count": null,
      "outputs": []
    },
    {
      "cell_type": "code",
      "metadata": {
        "id": "B_G6tadFm6xQ"
      },
      "source": [
        "model2.compile(loss=tf.keras.losses.MeanSquaredError(), optimizer=keras.optimizers.Adam(lr=1e-2),metrics=[tf.keras.metrics.RootMeanSquaredError(),\"mae\"])"
      ],
      "execution_count": null,
      "outputs": []
    },
    {
      "cell_type": "code",
      "metadata": {
        "id": "BYlH_JIJmPYD"
      },
      "source": [
        "history = model2.fit(\n",
        "    x_train,\n",
        "    y_train,\n",
        "    epochs=200,\n",
        "    validation_data=(x_val,y_val),\n",
        "    callbacks=[es])"
      ],
      "execution_count": null,
      "outputs": []
    },
    {
      "cell_type": "code",
      "metadata": {
        "id": "otb_SpjFJCjW"
      },
      "source": [
        ""
      ],
      "execution_count": null,
      "outputs": []
    },
    {
      "cell_type": "code",
      "metadata": {
        "id": "Jbhq-8Q49JWM",
        "outputId": "b38b1709-9b17-46ca-ed02-362ee96efd87",
        "colab": {
          "base_uri": "https://localhost:8080/",
          "height": 126
        }
      },
      "source": [
        "df = reviews.merge(metadata,on='asin',)\n",
        "df.columns"
      ],
      "execution_count": null,
      "outputs": [
        {
          "output_type": "execute_result",
          "data": {
            "text/plain": [
              "Index(['overall', 'verified', 'reviewTime', 'reviewerID', 'asin', 'style',\n",
              "       'reviewerName', 'reviewText', 'summary', 'unixReviewTime', 'vote',\n",
              "       'image_x', 'category', 'tech1', 'description', 'fit', 'title',\n",
              "       'also_buy', 'image_y', 'tech2', 'brand', 'feature', 'rank', 'also_view',\n",
              "       'main_cat', 'similar_item', 'date', 'price', 'details'],\n",
              "      dtype='object')"
            ]
          },
          "metadata": {
            "tags": []
          },
          "execution_count": 212
        }
      ]
    }
  ]
}